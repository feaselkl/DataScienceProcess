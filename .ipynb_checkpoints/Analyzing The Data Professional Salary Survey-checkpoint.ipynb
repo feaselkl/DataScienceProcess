{
 "cells": [
  {
   "cell_type": "markdown",
   "metadata": {},
   "source": [
    "# The Data Science Process\n",
    "\n",
    "This is intended to be a follow-up script for my talk entitled [Launching a Data Science Project:  Cleaning is Half the Battle](http://www.catallaxyservices.com/presentations/datascience/).  I will repeat some of the presentation in this notebook, but this notebook is not designed to replace the presentation itself.\n",
    "\n",
    "Over the course of this notebook, we will analyze Data Professional salaries based on the [2018 Data Professionals Salary Survey](https://www.brentozar.com/archive/2018/01/2018-data-professionals-salary-survey-results/).  We will use this data as the centerpiece of an implementation of the [Microsoft Team Data Science Process](https://docs.microsoft.com/en-us/azure/machine-learning/team-data-science-process/overview).\n",
    "\n",
    "The Team Data Science Process has five major steps:\n",
    "1. Business Understanding\n",
    "2. Data Processing\n",
    "3. Modeling\n",
    "4. Deployment\n",
    "5. Repeat\n",
    "\n",
    "## Business Understanding\n",
    "\n",
    "Before we begin working, we need to understand the problem.  In our scenario, we work for Data Platform Specialists, a company dedicated to providing DBAs and other data platform professionals with valuable market knowledge. We have come into possession of a survey of data professionals and want to build insights that we can share with our client base.  Our higher-ups want us to analyze this survey and see how we can make good use of it.\n",
    "\n",
    "During initial brainstorming, we might come up with questions like:\n",
    "* How much money does a DBA make?\n",
    "* Which category of DBA (junior, mid-level, senior) does this particular work?\n",
    "* How can we segment the DBAs in our survey?\n",
    "* Is this many hours per week weird?\n",
    "* Which option should I choose as a career path? DBA? Data science? BI?\n",
    "\n",
    "These questions could potentially be interesting, and the specific form of the question will help guide our analysis.  For example, \"how much\" questions typically lead to regression, whereas \"which category\" questions are indicative of a classification problem.  Segmentation questions where we do not know the classes beforehand is a classic example of a clustering problem, and the final two questions are anomaly detection and recommendation, respectively.\n",
    "\n",
    "Narrowing this down with our champion and other stakeholders, we can get to the following question which we will endeavour to answer:\n",
    "\n",
    "**How much money should we expect a data professional will make?**\n",
    "\n",
    "This is a vague question that we will want to focus in on later, but at least it gives us a start.\n",
    "\n",
    "## Data Processing\n",
    "\n",
    "There are three steps to data processing:  data gathering, data cleansing, and data analysis.\n",
    "\n",
    "### Data Gathering\n",
    "\n",
    "In this example, we will stick to just the data professional survey. But if you want to take this further, a few additional data sources could be:\n",
    "\n",
    "* PPP GDP per capita to normalize salaries across countries.\n",
    "* A geocoding data set to visualize results on a map.\n",
    "* Cost of living by ZIP code to normalize salaries within the US.\n",
    "* Census information to build out data by ZIP code.\n",
    "* Data from other surveys to add more to the sample.\n",
    "\n",
    "If you are interested in extending this to include PPP GDP per capita, check out [a blog post I did based on the 2017 survey results](https://36chambers.wordpress.com/2017/01/18/analyzing-dba-salaries/).\n",
    "\n",
    "### Data Cleansing\n",
    "\n",
    "Here is where we begin the real work.  In the next snippet, I am going to load a series of libraries in R.  We will use each of them over the course of this notebook.  The `tidyverse` package is a series of incredibly useful libraries in R, and I can't think of doing a data science project in R without it.  The `XLConnect` package lets me read an Excel workbook easily and grab the salary data without much hassle.  The `caret` library provides some helpful tooling for working with data, including splitting out test versus training data, like we'll do below.  The `recipes` package will be useful for normalizing data later, and we will use `data.table` to get a glimpse at some of our uneven data.  We need the `devtools` package to install `keras` from GitHub.  Keras is a deep learning library which implements several neural network libraries, including TensorFlow, which we are using today.  We need to install TensorFlow on our machine.  Because this is a small data set, and because I want this to run on machines without powerful GPUs, I am using the CPU-based version of TensorFlow.  Performance should still be adequate for our purposes."
   ]
  },
  {
   "cell_type": "code",
   "execution_count": 2,
   "metadata": {},
   "outputs": [],
   "source": [
    "if(!require(tidyverse)) {\n",
    "  install.packages(\"tidyverse\", repos = \"http://cran.us.r-project.org\")\n",
    "  library(tidyverse)\n",
    "}\n",
    "\n",
    "if(!require(XLConnect)) {\n",
    "  install.packages(\"XLConnect\", repos = \"http://cran.us.r-project.org\")\n",
    "  library(XLConnect)\n",
    "}\n",
    "\n",
    "if(!require(caret)) {\n",
    "  install.packages(\"caret\", repos = \"http://cran.us.r-project.org\")\n",
    "  library(caret)\n",
    "}\n",
    "\n",
    "if(!require(recipes)) {\n",
    "  install.packages(\"recipes\", repos = \"http://cran.us.r-project.org\")\n",
    "  library(recipes)\n",
    "}\n",
    "\n",
    "if(!require(data.table)) {\n",
    "  install.packages(\"data.table\", repos = \"http://cran.us.r-project.org\")\n",
    "  library(data.table)\n",
    "}\n",
    "\n",
    "if(!require(devtools)) {\n",
    "  install.packages(\"devtools\", repos = \"http://cran.us.r-project.org\")\n",
    "  library(devtools)\n",
    "}\n",
    "\n",
    "if(!require(keras)) {\n",
    "  devtools::install_github(\"rstudio/keras\")\n",
    "  library(keras)\n",
    "  install_keras(method = \"auto\", conda = \"auto\", tensorflow = \"default\", extra_packages = NULL)\n",
    "}"
   ]
  },
  {
   "cell_type": "markdown",
   "metadata": {},
   "source": [
    "Once we have the required packages loaded, we will then load the Excel workbook.  I have verified the Excel worksheet and data region are correct, so we can grab the survey from the current directory and load it into `salary_data`."
   ]
  },
  {
   "cell_type": "code",
   "execution_count": 3,
   "metadata": {},
   "outputs": [],
   "source": [
    "wb <- XLConnect::loadWorkbook(\"2018_Data_Professional_Salary_Survey_Responses.xlsx\")\n",
    "salary_data <- XLConnect::readWorksheet(wb, sheet = \"Salary Survey\", region = \"A4:Z6015\")"
   ]
  },
  {
   "cell_type": "markdown",
   "metadata": {},
   "source": [
    "We can use the `glimpse` function inside the tidyverse to get a quick idea of what our `salary_data` dataframe looks like.  In total, we have 6011 observations of 26 variables, but this covers two survey years:  2017 and 2018.  Looking at the variable names, we can see that there are some which don't matter very much (like Timestamp, which is when the user filled out the form; and Counter, which is just a 1 for each record."
   ]
  },
  {
   "cell_type": "code",
   "execution_count": 4,
   "metadata": {},
   "outputs": [
    {
     "name": "stdout",
     "output_type": "stream",
     "text": [
      "Observations: 6,011\n",
      "Variables: 26\n",
      "$ Survey.Year                <dbl> 2017, 2017, 2017, 2017, 2017, 2017, 2017...\n",
      "$ Timestamp                  <dttm> 2017-01-05 05:10:20, 2017-01-05 05:26:2...\n",
      "$ SalaryUSD                  <chr> \"200000\", \"61515\", \"95000\", \"56000\", \"35...\n",
      "$ Country                    <chr> \"United States\", \"United Kingdom\", \"Germ...\n",
      "$ PostalCode                 <chr> \"Not Asked\", \"Not Asked\", \"Not Asked\", \"...\n",
      "$ PrimaryDatabase            <chr> \"Microsoft SQL Server\", \"Microsoft SQL S...\n",
      "$ YearsWithThisDatabase      <dbl> 10, 15, 5, 6, 10, 15, 16, 4, 3, 8, 4, 22...\n",
      "$ OtherDatabases             <chr> \"MySQL/MariaDB\", \"Oracle, PostgreSQL\", \"...\n",
      "$ EmploymentStatus           <chr> \"Full time employee\", \"Full time employe...\n",
      "$ JobTitle                   <chr> \"DBA\", \"DBA\", \"Other\", \"DBA\", \"DBA\", \"DB...\n",
      "$ ManageStaff                <chr> \"No\", \"No\", \"Yes\", \"No\", \"No\", \"No\", \"No...\n",
      "$ YearsWithThisTypeOfJob     <dbl> 5, 3, 25, 2, 10, 15, 11, 1, 2, 10, 4, 8,...\n",
      "$ OtherPeopleOnYourTeam      <chr> \"2\", \"1\", \"2\", \"None\", \"None\", \"None\", \"...\n",
      "$ DatabaseServers            <dbl> 350, 40, 100, 500, 30, 101, 20, 25, 3, 5...\n",
      "$ Education                  <chr> \"Masters\", \"None (no degree completed)\",...\n",
      "$ EducationIsComputerRelated <chr> \"No\", \"N/A\", \"Yes\", \"No\", \"Yes\", \"No\", \"...\n",
      "$ Certifications             <chr> \"Yes, and they're currently valid\", \"No,...\n",
      "$ HoursWorkedPerWeek         <dbl> 45, 35, 45, 40, 40, 35, 40, 36, 40, 45, ...\n",
      "$ TelecommuteDaysPerWeek     <chr> \"1\", \"2\", \"None, or less than 1 day per ...\n",
      "$ EmploymentSector           <chr> \"Private business\", \"Private business\", ...\n",
      "$ LookingForAnotherJob       <chr> \"Yes, but only passively (just curious)\"...\n",
      "$ CareerPlansThisYear        <chr> \"Not Asked\", \"Not Asked\", \"Not Asked\", \"...\n",
      "$ Gender                     <chr> \"Not Asked\", \"Not Asked\", \"Not Asked\", \"...\n",
      "$ OtherJobDuties             <chr> \"Not Asked\", \"Not Asked\", \"Not Asked\", \"...\n",
      "$ KindsOfTasksPerformed      <chr> \"Not Asked\", \"Not Asked\", \"Not Asked\", \"...\n",
      "$ Counter                    <dbl> 1, 1, 1, 1, 1, 1, 1, 1, 1, 1, 1, 1, 1, 1...\n"
     ]
    }
   ],
   "source": [
    "glimpse(salary_data)"
   ]
  },
  {
   "cell_type": "markdown",
   "metadata": {},
   "source": [
    "Our first data cleansing activity will be to filter our data to include just 2018 results, which gives us a sample size of 3,113 participants.  There are also results for 2017, but they asked a different set of questions and we don't want to complicate the analysis or strip out the new 2018 questions."
   ]
  },
  {
   "cell_type": "code",
   "execution_count": 5,
   "metadata": {},
   "outputs": [
    {
     "data": {
      "text/html": [
       "3113"
      ],
      "text/latex": [
       "3113"
      ],
      "text/markdown": [
       "3113"
      ],
      "text/plain": [
       "[1] 3113"
      ]
     },
     "metadata": {},
     "output_type": "display_data"
    }
   ],
   "source": [
    "survey_2018 <- filter(salary_data, Survey.Year == 2018)\n",
    "nrow(survey_2018)"
   ]
  },
  {
   "cell_type": "markdown",
   "metadata": {},
   "source": [
    "Looking at the survey, there are some interesting data points that we want:\n",
    "* SalaryUSD (our label, that is, what we are going to try to predict)\n",
    "* Country\n",
    "* YearsWithThisDatabase\n",
    "* EmploymentStatus\n",
    "* JobTitle\n",
    "* ManageStaff\n",
    "* YearsWithThisTypeOfJob\n",
    "* OtherPeopleOnYourTeam\n",
    "* DatabaseServers\n",
    "* Education\n",
    "* EducationIsComputerRelated\n",
    "* Certifications\n",
    "* HoursWorkedPerWeek\n",
    "* TelecommuteDaysPerWeek\n",
    "* EmploymentSector\n",
    "* LookingForAnotherJob\n",
    "* CareerPlansThisYear\n",
    "* Gender\n",
    "\n",
    "For each of these variables, we want to see the range of options and perform any necessary cleanup.  The first thing I'd look at is the cardinality of each variable, followed by a detailed anlaysis of the smaller ones.\n",
    "\n",
    "PrimaryDatabase is another variable which looks interesting, but it skews so heavily toward SQL Server that there's more noise than signal to it.  Because there are so many platforms with 10 or fewer entries and about 92% of entrants selected SQL Server, we'll throw it out."
   ]
  },
  {
   "cell_type": "code",
   "execution_count": 6,
   "metadata": {},
   "outputs": [
    {
     "data": {
      "text/html": [
       "<dl class=dl-horizontal>\n",
       "\t<dt>Survey.Year</dt>\n",
       "\t\t<dd>1</dd>\n",
       "\t<dt>Timestamp</dt>\n",
       "\t\t<dd>3112</dd>\n",
       "\t<dt>SalaryUSD</dt>\n",
       "\t\t<dd>865</dd>\n",
       "\t<dt>Country</dt>\n",
       "\t\t<dd>73</dd>\n",
       "\t<dt>PostalCode</dt>\n",
       "\t\t<dd>1947</dd>\n",
       "\t<dt>PrimaryDatabase</dt>\n",
       "\t\t<dd>14</dd>\n",
       "\t<dt>YearsWithThisDatabase</dt>\n",
       "\t\t<dd>38</dd>\n",
       "\t<dt>OtherDatabases</dt>\n",
       "\t\t<dd>746</dd>\n",
       "\t<dt>EmploymentStatus</dt>\n",
       "\t\t<dd>4</dd>\n",
       "\t<dt>JobTitle</dt>\n",
       "\t\t<dd>12</dd>\n",
       "\t<dt>ManageStaff</dt>\n",
       "\t\t<dd>2</dd>\n",
       "\t<dt>YearsWithThisTypeOfJob</dt>\n",
       "\t\t<dd>39</dd>\n",
       "\t<dt>OtherPeopleOnYourTeam</dt>\n",
       "\t\t<dd>7</dd>\n",
       "\t<dt>DatabaseServers</dt>\n",
       "\t\t<dd>177</dd>\n",
       "\t<dt>Education</dt>\n",
       "\t\t<dd>5</dd>\n",
       "\t<dt>EducationIsComputerRelated</dt>\n",
       "\t\t<dd>3</dd>\n",
       "\t<dt>Certifications</dt>\n",
       "\t\t<dd>3</dd>\n",
       "\t<dt>HoursWorkedPerWeek</dt>\n",
       "\t\t<dd>49</dd>\n",
       "\t<dt>TelecommuteDaysPerWeek</dt>\n",
       "\t\t<dd>6</dd>\n",
       "\t<dt>EmploymentSector</dt>\n",
       "\t\t<dd>7</dd>\n",
       "\t<dt>LookingForAnotherJob</dt>\n",
       "\t\t<dd>3</dd>\n",
       "\t<dt>CareerPlansThisYear</dt>\n",
       "\t\t<dd>5</dd>\n",
       "\t<dt>Gender</dt>\n",
       "\t\t<dd>21</dd>\n",
       "\t<dt>OtherJobDuties</dt>\n",
       "\t\t<dd>484</dd>\n",
       "\t<dt>KindsOfTasksPerformed</dt>\n",
       "\t\t<dd>204</dd>\n",
       "\t<dt>Counter</dt>\n",
       "\t\t<dd>1</dd>\n",
       "</dl>\n"
      ],
      "text/latex": [
       "\\begin{description*}\n",
       "\\item[Survey.Year] 1\n",
       "\\item[Timestamp] 3112\n",
       "\\item[SalaryUSD] 865\n",
       "\\item[Country] 73\n",
       "\\item[PostalCode] 1947\n",
       "\\item[PrimaryDatabase] 14\n",
       "\\item[YearsWithThisDatabase] 38\n",
       "\\item[OtherDatabases] 746\n",
       "\\item[EmploymentStatus] 4\n",
       "\\item[JobTitle] 12\n",
       "\\item[ManageStaff] 2\n",
       "\\item[YearsWithThisTypeOfJob] 39\n",
       "\\item[OtherPeopleOnYourTeam] 7\n",
       "\\item[DatabaseServers] 177\n",
       "\\item[Education] 5\n",
       "\\item[EducationIsComputerRelated] 3\n",
       "\\item[Certifications] 3\n",
       "\\item[HoursWorkedPerWeek] 49\n",
       "\\item[TelecommuteDaysPerWeek] 6\n",
       "\\item[EmploymentSector] 7\n",
       "\\item[LookingForAnotherJob] 3\n",
       "\\item[CareerPlansThisYear] 5\n",
       "\\item[Gender] 21\n",
       "\\item[OtherJobDuties] 484\n",
       "\\item[KindsOfTasksPerformed] 204\n",
       "\\item[Counter] 1\n",
       "\\end{description*}\n"
      ],
      "text/markdown": [
       "Survey.Year\n",
       ":   1Timestamp\n",
       ":   3112SalaryUSD\n",
       ":   865Country\n",
       ":   73PostalCode\n",
       ":   1947PrimaryDatabase\n",
       ":   14YearsWithThisDatabase\n",
       ":   38OtherDatabases\n",
       ":   746EmploymentStatus\n",
       ":   4JobTitle\n",
       ":   12ManageStaff\n",
       ":   2YearsWithThisTypeOfJob\n",
       ":   39OtherPeopleOnYourTeam\n",
       ":   7DatabaseServers\n",
       ":   177Education\n",
       ":   5EducationIsComputerRelated\n",
       ":   3Certifications\n",
       ":   3HoursWorkedPerWeek\n",
       ":   49TelecommuteDaysPerWeek\n",
       ":   6EmploymentSector\n",
       ":   7LookingForAnotherJob\n",
       ":   3CareerPlansThisYear\n",
       ":   5Gender\n",
       ":   21OtherJobDuties\n",
       ":   484KindsOfTasksPerformed\n",
       ":   204Counter\n",
       ":   1\n",
       "\n"
      ],
      "text/plain": [
       "               Survey.Year                  Timestamp \n",
       "                         1                       3112 \n",
       "                 SalaryUSD                    Country \n",
       "                       865                         73 \n",
       "                PostalCode            PrimaryDatabase \n",
       "                      1947                         14 \n",
       "     YearsWithThisDatabase             OtherDatabases \n",
       "                        38                        746 \n",
       "          EmploymentStatus                   JobTitle \n",
       "                         4                         12 \n",
       "               ManageStaff     YearsWithThisTypeOfJob \n",
       "                         2                         39 \n",
       "     OtherPeopleOnYourTeam            DatabaseServers \n",
       "                         7                        177 \n",
       "                 Education EducationIsComputerRelated \n",
       "                         5                          3 \n",
       "            Certifications         HoursWorkedPerWeek \n",
       "                         3                         49 \n",
       "    TelecommuteDaysPerWeek           EmploymentSector \n",
       "                         6                          7 \n",
       "      LookingForAnotherJob        CareerPlansThisYear \n",
       "                         3                          5 \n",
       "                    Gender             OtherJobDuties \n",
       "                        21                        484 \n",
       "     KindsOfTasksPerformed                    Counter \n",
       "                       204                          1 "
      ]
     },
     "metadata": {},
     "output_type": "display_data"
    }
   ],
   "source": [
    "rapply(survey_2018, function(x) { length(unique(x)) })"
   ]
  },
  {
   "cell_type": "code",
   "execution_count": 7,
   "metadata": {},
   "outputs": [
    {
     "data": {
      "text/html": [
       "<ol class=list-inline>\n",
       "\t<li>'United States'</li>\n",
       "\t<li>'Australia'</li>\n",
       "\t<li>'Spain'</li>\n",
       "\t<li>'United Kingdom'</li>\n",
       "\t<li>'Canada'</li>\n",
       "\t<li>'Romania'</li>\n",
       "\t<li>'Brazil'</li>\n",
       "\t<li>'Croatia'</li>\n",
       "\t<li>'Sweden'</li>\n",
       "\t<li>'Belgium'</li>\n",
       "\t<li>'Italy'</li>\n",
       "\t<li>'Netherlands'</li>\n",
       "\t<li>'Denmark'</li>\n",
       "\t<li>'Poland'</li>\n",
       "\t<li>'Germany'</li>\n",
       "\t<li>'Russia'</li>\n",
       "\t<li>'Syria'</li>\n",
       "\t<li>'India'</li>\n",
       "\t<li>'South Africa'</li>\n",
       "\t<li>'Hong Kong'</li>\n",
       "\t<li>'United Arab Emirates'</li>\n",
       "\t<li>'Switzerland'</li>\n",
       "\t<li>'Ireland'</li>\n",
       "\t<li>'France'</li>\n",
       "\t<li>'Jersey'</li>\n",
       "\t<li>'Austria'</li>\n",
       "\t<li>'New Zealand'</li>\n",
       "\t<li>'Norway'</li>\n",
       "\t<li>'Costa Rica'</li>\n",
       "\t<li>'Mexico'</li>\n",
       "\t<li>'Greece'</li>\n",
       "\t<li>'Serbia and Montenegro'</li>\n",
       "\t<li>'Cayman Islands'</li>\n",
       "\t<li>'Philippines'</li>\n",
       "\t<li>'Indonesia'</li>\n",
       "\t<li>'Slovenia'</li>\n",
       "\t<li>'Bulgaria'</li>\n",
       "\t<li>'Guernsey'</li>\n",
       "\t<li>'Iceland'</li>\n",
       "\t<li>'Hungary'</li>\n",
       "\t<li>'Bahrain'</li>\n",
       "\t<li>'Thailand'</li>\n",
       "\t<li>'Turkey'</li>\n",
       "\t<li>'Moldova'</li>\n",
       "\t<li>'Nicaragua'</li>\n",
       "\t<li>'Lithuania'</li>\n",
       "\t<li>'Portugal'</li>\n",
       "\t<li>'Argentina'</li>\n",
       "\t<li>'Finland'</li>\n",
       "\t<li>'Israel'</li>\n",
       "\t<li>'Slovakia'</li>\n",
       "\t<li>'Pakistan'</li>\n",
       "\t<li>'Luxembourg'</li>\n",
       "\t<li>'Jamaica'</li>\n",
       "\t<li>'Ukraine'</li>\n",
       "\t<li>'Malta'</li>\n",
       "\t<li>'Czech Republic'</li>\n",
       "\t<li>'Colombia'</li>\n",
       "\t<li>'Singapore'</li>\n",
       "\t<li>'Jordan'</li>\n",
       "\t<li>'Uganda'</li>\n",
       "\t<li>'Belarus'</li>\n",
       "\t<li>'Estonia'</li>\n",
       "\t<li>'Puerto Rico'</li>\n",
       "\t<li>'Saudi Arabia'</li>\n",
       "\t<li>'Latvia'</li>\n",
       "\t<li>'Malaysia'</li>\n",
       "\t<li>'Nepal'</li>\n",
       "\t<li>'Ghana'</li>\n",
       "\t<li>'Dominican Republic'</li>\n",
       "\t<li>'Uruguay'</li>\n",
       "\t<li>'Guatemala'</li>\n",
       "\t<li>'El Salvador'</li>\n",
       "</ol>\n"
      ],
      "text/latex": [
       "\\begin{enumerate*}\n",
       "\\item 'United States'\n",
       "\\item 'Australia'\n",
       "\\item 'Spain'\n",
       "\\item 'United Kingdom'\n",
       "\\item 'Canada'\n",
       "\\item 'Romania'\n",
       "\\item 'Brazil'\n",
       "\\item 'Croatia'\n",
       "\\item 'Sweden'\n",
       "\\item 'Belgium'\n",
       "\\item 'Italy'\n",
       "\\item 'Netherlands'\n",
       "\\item 'Denmark'\n",
       "\\item 'Poland'\n",
       "\\item 'Germany'\n",
       "\\item 'Russia'\n",
       "\\item 'Syria'\n",
       "\\item 'India'\n",
       "\\item 'South Africa'\n",
       "\\item 'Hong Kong'\n",
       "\\item 'United Arab Emirates'\n",
       "\\item 'Switzerland'\n",
       "\\item 'Ireland'\n",
       "\\item 'France'\n",
       "\\item 'Jersey'\n",
       "\\item 'Austria'\n",
       "\\item 'New Zealand'\n",
       "\\item 'Norway'\n",
       "\\item 'Costa Rica'\n",
       "\\item 'Mexico'\n",
       "\\item 'Greece'\n",
       "\\item 'Serbia and Montenegro'\n",
       "\\item 'Cayman Islands'\n",
       "\\item 'Philippines'\n",
       "\\item 'Indonesia'\n",
       "\\item 'Slovenia'\n",
       "\\item 'Bulgaria'\n",
       "\\item 'Guernsey'\n",
       "\\item 'Iceland'\n",
       "\\item 'Hungary'\n",
       "\\item 'Bahrain'\n",
       "\\item 'Thailand'\n",
       "\\item 'Turkey'\n",
       "\\item 'Moldova'\n",
       "\\item 'Nicaragua'\n",
       "\\item 'Lithuania'\n",
       "\\item 'Portugal'\n",
       "\\item 'Argentina'\n",
       "\\item 'Finland'\n",
       "\\item 'Israel'\n",
       "\\item 'Slovakia'\n",
       "\\item 'Pakistan'\n",
       "\\item 'Luxembourg'\n",
       "\\item 'Jamaica'\n",
       "\\item 'Ukraine'\n",
       "\\item 'Malta'\n",
       "\\item 'Czech Republic'\n",
       "\\item 'Colombia'\n",
       "\\item 'Singapore'\n",
       "\\item 'Jordan'\n",
       "\\item 'Uganda'\n",
       "\\item 'Belarus'\n",
       "\\item 'Estonia'\n",
       "\\item 'Puerto Rico'\n",
       "\\item 'Saudi Arabia'\n",
       "\\item 'Latvia'\n",
       "\\item 'Malaysia'\n",
       "\\item 'Nepal'\n",
       "\\item 'Ghana'\n",
       "\\item 'Dominican Republic'\n",
       "\\item 'Uruguay'\n",
       "\\item 'Guatemala'\n",
       "\\item 'El Salvador'\n",
       "\\end{enumerate*}\n"
      ],
      "text/markdown": [
       "1. 'United States'\n",
       "2. 'Australia'\n",
       "3. 'Spain'\n",
       "4. 'United Kingdom'\n",
       "5. 'Canada'\n",
       "6. 'Romania'\n",
       "7. 'Brazil'\n",
       "8. 'Croatia'\n",
       "9. 'Sweden'\n",
       "10. 'Belgium'\n",
       "11. 'Italy'\n",
       "12. 'Netherlands'\n",
       "13. 'Denmark'\n",
       "14. 'Poland'\n",
       "15. 'Germany'\n",
       "16. 'Russia'\n",
       "17. 'Syria'\n",
       "18. 'India'\n",
       "19. 'South Africa'\n",
       "20. 'Hong Kong'\n",
       "21. 'United Arab Emirates'\n",
       "22. 'Switzerland'\n",
       "23. 'Ireland'\n",
       "24. 'France'\n",
       "25. 'Jersey'\n",
       "26. 'Austria'\n",
       "27. 'New Zealand'\n",
       "28. 'Norway'\n",
       "29. 'Costa Rica'\n",
       "30. 'Mexico'\n",
       "31. 'Greece'\n",
       "32. 'Serbia and Montenegro'\n",
       "33. 'Cayman Islands'\n",
       "34. 'Philippines'\n",
       "35. 'Indonesia'\n",
       "36. 'Slovenia'\n",
       "37. 'Bulgaria'\n",
       "38. 'Guernsey'\n",
       "39. 'Iceland'\n",
       "40. 'Hungary'\n",
       "41. 'Bahrain'\n",
       "42. 'Thailand'\n",
       "43. 'Turkey'\n",
       "44. 'Moldova'\n",
       "45. 'Nicaragua'\n",
       "46. 'Lithuania'\n",
       "47. 'Portugal'\n",
       "48. 'Argentina'\n",
       "49. 'Finland'\n",
       "50. 'Israel'\n",
       "51. 'Slovakia'\n",
       "52. 'Pakistan'\n",
       "53. 'Luxembourg'\n",
       "54. 'Jamaica'\n",
       "55. 'Ukraine'\n",
       "56. 'Malta'\n",
       "57. 'Czech Republic'\n",
       "58. 'Colombia'\n",
       "59. 'Singapore'\n",
       "60. 'Jordan'\n",
       "61. 'Uganda'\n",
       "62. 'Belarus'\n",
       "63. 'Estonia'\n",
       "64. 'Puerto Rico'\n",
       "65. 'Saudi Arabia'\n",
       "66. 'Latvia'\n",
       "67. 'Malaysia'\n",
       "68. 'Nepal'\n",
       "69. 'Ghana'\n",
       "70. 'Dominican Republic'\n",
       "71. 'Uruguay'\n",
       "72. 'Guatemala'\n",
       "73. 'El Salvador'\n",
       "\n",
       "\n"
      ],
      "text/plain": [
       " [1] \"United States\"         \"Australia\"             \"Spain\"                \n",
       " [4] \"United Kingdom\"        \"Canada\"                \"Romania\"              \n",
       " [7] \"Brazil\"                \"Croatia\"               \"Sweden\"               \n",
       "[10] \"Belgium\"               \"Italy\"                 \"Netherlands\"          \n",
       "[13] \"Denmark\"               \"Poland\"                \"Germany\"              \n",
       "[16] \"Russia\"                \"Syria\"                 \"India\"                \n",
       "[19] \"South Africa\"          \"Hong Kong\"             \"United Arab Emirates\" \n",
       "[22] \"Switzerland\"           \"Ireland\"               \"France\"               \n",
       "[25] \"Jersey\"                \"Austria\"               \"New Zealand\"          \n",
       "[28] \"Norway\"                \"Costa Rica\"            \"Mexico\"               \n",
       "[31] \"Greece\"                \"Serbia and Montenegro\" \"Cayman Islands\"       \n",
       "[34] \"Philippines\"           \"Indonesia\"             \"Slovenia\"             \n",
       "[37] \"Bulgaria\"              \"Guernsey\"              \"Iceland\"              \n",
       "[40] \"Hungary\"               \"Bahrain\"               \"Thailand\"             \n",
       "[43] \"Turkey\"                \"Moldova\"               \"Nicaragua\"            \n",
       "[46] \"Lithuania\"             \"Portugal\"              \"Argentina\"            \n",
       "[49] \"Finland\"               \"Israel\"                \"Slovakia\"             \n",
       "[52] \"Pakistan\"              \"Luxembourg\"            \"Jamaica\"              \n",
       "[55] \"Ukraine\"               \"Malta\"                 \"Czech Republic\"       \n",
       "[58] \"Colombia\"              \"Singapore\"             \"Jordan\"               \n",
       "[61] \"Uganda\"                \"Belarus\"               \"Estonia\"              \n",
       "[64] \"Puerto Rico\"           \"Saudi Arabia\"          \"Latvia\"               \n",
       "[67] \"Malaysia\"              \"Nepal\"                 \"Ghana\"                \n",
       "[70] \"Dominican Republic\"    \"Uruguay\"               \"Guatemala\"            \n",
       "[73] \"El Salvador\"          "
      ]
     },
     "metadata": {},
     "output_type": "display_data"
    }
   ],
   "source": [
    "unique(survey_2018$Country)"
   ]
  },
  {
   "cell_type": "code",
   "execution_count": 8,
   "metadata": {},
   "outputs": [
    {
     "data": {
      "text/html": [
       "<ol class=list-inline>\n",
       "\t<li>'Full time employee'</li>\n",
       "\t<li>'Full time employee of a consulting/contracting company'</li>\n",
       "\t<li><span style=white-space:pre-wrap>'Independent consultant, contractor, freelancer,  or company owner'</span></li>\n",
       "\t<li>'Part time'</li>\n",
       "</ol>\n"
      ],
      "text/latex": [
       "\\begin{enumerate*}\n",
       "\\item 'Full time employee'\n",
       "\\item 'Full time employee of a consulting/contracting company'\n",
       "\\item 'Independent consultant, contractor, freelancer,  or company owner'\n",
       "\\item 'Part time'\n",
       "\\end{enumerate*}\n"
      ],
      "text/markdown": [
       "1. 'Full time employee'\n",
       "2. 'Full time employee of a consulting/contracting company'\n",
       "3. <span style=white-space:pre-wrap>'Independent consultant, contractor, freelancer,  or company owner'</span>\n",
       "4. 'Part time'\n",
       "\n",
       "\n"
      ],
      "text/plain": [
       "[1] \"Full time employee\"                                               \n",
       "[2] \"Full time employee of a consulting/contracting company\"           \n",
       "[3] \"Independent consultant, contractor, freelancer,  or company owner\"\n",
       "[4] \"Part time\"                                                        "
      ]
     },
     "metadata": {},
     "output_type": "display_data"
    }
   ],
   "source": [
    "unique(survey_2018$EmploymentStatus)"
   ]
  },
  {
   "cell_type": "markdown",
   "metadata": {},
   "source": [
    "We can use the `setDT` function on `data.table` to see just how many records we have for each level of a particular factor.  For example, we can see the different entries for PrimaryDatabase and EmploymentSector below.  Both of these are troublesome for our modeling because they both have a number of levels with 1-2 entries.  This makes it likely that we will fail to collect a relevant record in our training data set, and that will mess up our model later.  To rectify this, I am going to remove PrimaryDatabase as a feature and remove the two students from our sample."
   ]
  },
  {
   "cell_type": "code",
   "execution_count": 9,
   "metadata": {},
   "outputs": [
    {
     "data": {
      "text/html": [
       "<table>\n",
       "<thead><tr><th scope=col>PrimaryDatabase</th><th scope=col>N</th></tr></thead>\n",
       "<tbody>\n",
       "\t<tr><td>Amazon RDS (any flavor)</td><td>   5                   </td></tr>\n",
       "\t<tr><td>Azure SQL DB           </td><td>  13                   </td></tr>\n",
       "\t<tr><td>Cassandra              </td><td>   1                   </td></tr>\n",
       "\t<tr><td>DB2                    </td><td>   9                   </td></tr>\n",
       "\t<tr><td>Microsoft Access       </td><td>   9                   </td></tr>\n",
       "\t<tr><td>Microsoft SQL Server   </td><td>2914                   </td></tr>\n",
       "\t<tr><td>MongoDB                </td><td>   3                   </td></tr>\n",
       "\t<tr><td>MySQL/MariaDB          </td><td>  15                   </td></tr>\n",
       "\t<tr><td>Oracle                 </td><td> 105                   </td></tr>\n",
       "\t<tr><td>Other                  </td><td>  14                   </td></tr>\n",
       "\t<tr><td>PostgreSQL             </td><td>  17                   </td></tr>\n",
       "\t<tr><td>SAP                    </td><td>   2                   </td></tr>\n",
       "\t<tr><td>SQLite                 </td><td>   3                   </td></tr>\n",
       "\t<tr><td>Teradata               </td><td>   3                   </td></tr>\n",
       "</tbody>\n",
       "</table>\n"
      ],
      "text/latex": [
       "\\begin{tabular}{r|ll}\n",
       " PrimaryDatabase & N\\\\\n",
       "\\hline\n",
       "\t Amazon RDS (any flavor) &    5                   \\\\\n",
       "\t Azure SQL DB            &   13                   \\\\\n",
       "\t Cassandra               &    1                   \\\\\n",
       "\t DB2                     &    9                   \\\\\n",
       "\t Microsoft Access        &    9                   \\\\\n",
       "\t Microsoft SQL Server    & 2914                   \\\\\n",
       "\t MongoDB                 &    3                   \\\\\n",
       "\t MySQL/MariaDB           &   15                   \\\\\n",
       "\t Oracle                  &  105                   \\\\\n",
       "\t Other                   &   14                   \\\\\n",
       "\t PostgreSQL              &   17                   \\\\\n",
       "\t SAP                     &    2                   \\\\\n",
       "\t SQLite                  &    3                   \\\\\n",
       "\t Teradata                &    3                   \\\\\n",
       "\\end{tabular}\n"
      ],
      "text/markdown": [
       "\n",
       "PrimaryDatabase | N | \n",
       "|---|---|---|---|---|---|---|---|---|---|---|---|---|---|\n",
       "| Amazon RDS (any flavor) |    5                    | \n",
       "| Azure SQL DB            |   13                    | \n",
       "| Cassandra               |    1                    | \n",
       "| DB2                     |    9                    | \n",
       "| Microsoft Access        |    9                    | \n",
       "| Microsoft SQL Server    | 2914                    | \n",
       "| MongoDB                 |    3                    | \n",
       "| MySQL/MariaDB           |   15                    | \n",
       "| Oracle                  |  105                    | \n",
       "| Other                   |   14                    | \n",
       "| PostgreSQL              |   17                    | \n",
       "| SAP                     |    2                    | \n",
       "| SQLite                  |    3                    | \n",
       "| Teradata                |    3                    | \n",
       "\n",
       "\n"
      ],
      "text/plain": [
       "   PrimaryDatabase         N   \n",
       "1  Amazon RDS (any flavor)    5\n",
       "2  Azure SQL DB              13\n",
       "3  Cassandra                  1\n",
       "4  DB2                        9\n",
       "5  Microsoft Access           9\n",
       "6  Microsoft SQL Server    2914\n",
       "7  MongoDB                    3\n",
       "8  MySQL/MariaDB             15\n",
       "9  Oracle                   105\n",
       "10 Other                     14\n",
       "11 PostgreSQL                17\n",
       "12 SAP                        2\n",
       "13 SQLite                     3\n",
       "14 Teradata                   3"
      ]
     },
     "metadata": {},
     "output_type": "display_data"
    }
   ],
   "source": [
    "data.table::setDT(survey_2018)[, .N, keyby=PrimaryDatabase]"
   ]
  },
  {
   "cell_type": "code",
   "execution_count": 10,
   "metadata": {},
   "outputs": [
    {
     "data": {
      "text/html": [
       "<table>\n",
       "<thead><tr><th scope=col>EmploymentSector</th><th scope=col>N</th></tr></thead>\n",
       "<tbody>\n",
       "\t<tr><td>Education (K-12, college, university)</td><td> 123                                 </td></tr>\n",
       "\t<tr><td>Federal government                   </td><td>  76                                 </td></tr>\n",
       "\t<tr><td>Local government                     </td><td> 118                                 </td></tr>\n",
       "\t<tr><td>Non-profit                           </td><td> 165                                 </td></tr>\n",
       "\t<tr><td>Private business                     </td><td>2498                                 </td></tr>\n",
       "\t<tr><td>State/province government            </td><td> 131                                 </td></tr>\n",
       "\t<tr><td>Student                              </td><td>   2                                 </td></tr>\n",
       "</tbody>\n",
       "</table>\n"
      ],
      "text/latex": [
       "\\begin{tabular}{r|ll}\n",
       " EmploymentSector & N\\\\\n",
       "\\hline\n",
       "\t Education (K-12, college, university) &  123                                 \\\\\n",
       "\t Federal government                    &   76                                 \\\\\n",
       "\t Local government                      &  118                                 \\\\\n",
       "\t Non-profit                            &  165                                 \\\\\n",
       "\t Private business                      & 2498                                 \\\\\n",
       "\t State/province government             &  131                                 \\\\\n",
       "\t Student                               &    2                                 \\\\\n",
       "\\end{tabular}\n"
      ],
      "text/markdown": [
       "\n",
       "EmploymentSector | N | \n",
       "|---|---|---|---|---|---|---|\n",
       "| Education (K-12, college, university) |  123                                  | \n",
       "| Federal government                    |   76                                  | \n",
       "| Local government                      |  118                                  | \n",
       "| Non-profit                            |  165                                  | \n",
       "| Private business                      | 2498                                  | \n",
       "| State/province government             |  131                                  | \n",
       "| Student                               |    2                                  | \n",
       "\n",
       "\n"
      ],
      "text/plain": [
       "  EmploymentSector                      N   \n",
       "1 Education (K-12, college, university)  123\n",
       "2 Federal government                      76\n",
       "3 Local government                       118\n",
       "4 Non-profit                             165\n",
       "5 Private business                      2498\n",
       "6 State/province government              131\n",
       "7 Student                                  2"
      ]
     },
     "metadata": {},
     "output_type": "display_data"
    }
   ],
   "source": [
    "data.table::setDT(survey_2018)[, .N, keyby=EmploymentSector]"
   ]
  },
  {
   "cell_type": "markdown",
   "metadata": {},
   "source": [
    "Most of these columns came from dropdown lists, so they're already fairly clean.  But there are some exceptions to the rule.  They are:\n",
    "* SalaryUSD\n",
    "* YearsWithThisDatabase\n",
    "* YearsWithThisTypeOfJob\n",
    "* DatabaseServers\n",
    "* HoursWorkedPerWeek\n",
    "* Gender\n",
    "\n",
    "All of these were text fields, and whenever a user gets to enter text, you can assume that something will go wrong.  For example:"
   ]
  },
  {
   "cell_type": "code",
   "execution_count": 11,
   "metadata": {},
   "outputs": [
    {
     "data": {
      "text/html": [
       "<table>\n",
       "<thead><tr><th scope=col>YearsWithThisDatabase</th></tr></thead>\n",
       "<tbody>\n",
       "\t<tr><td>53716</td></tr>\n",
       "\t<tr><td>30331</td></tr>\n",
       "\t<tr><td> 2008</td></tr>\n",
       "\t<tr><td> 2004</td></tr>\n",
       "\t<tr><td> 2003</td></tr>\n",
       "\t<tr><td> 1050</td></tr>\n",
       "\t<tr><td>   32</td></tr>\n",
       "\t<tr><td>   30</td></tr>\n",
       "\t<tr><td>   29</td></tr>\n",
       "\t<tr><td>   28</td></tr>\n",
       "</tbody>\n",
       "</table>\n"
      ],
      "text/latex": [
       "\\begin{tabular}{r|l}\n",
       " YearsWithThisDatabase\\\\\n",
       "\\hline\n",
       "\t 53716\\\\\n",
       "\t 30331\\\\\n",
       "\t  2008\\\\\n",
       "\t  2004\\\\\n",
       "\t  2003\\\\\n",
       "\t  1050\\\\\n",
       "\t    32\\\\\n",
       "\t    30\\\\\n",
       "\t    29\\\\\n",
       "\t    28\\\\\n",
       "\\end{tabular}\n"
      ],
      "text/markdown": [
       "\n",
       "YearsWithThisDatabase | \n",
       "|---|---|---|---|---|---|---|---|---|---|\n",
       "| 53716 | \n",
       "| 30331 | \n",
       "|  2008 | \n",
       "|  2004 | \n",
       "|  2003 | \n",
       "|  1050 | \n",
       "|    32 | \n",
       "|    30 | \n",
       "|    29 | \n",
       "|    28 | \n",
       "\n",
       "\n"
      ],
      "text/plain": [
       "   YearsWithThisDatabase\n",
       "1  53716                \n",
       "2  30331                \n",
       "3   2008                \n",
       "4   2004                \n",
       "5   2003                \n",
       "6   1050                \n",
       "7     32                \n",
       "8     30                \n",
       "9     29                \n",
       "10    28                "
      ]
     },
     "metadata": {},
     "output_type": "display_data"
    }
   ],
   "source": [
    "survey_2018 %>%\n",
    "  distinct(YearsWithThisDatabase) %>%\n",
    "  arrange(desc(YearsWithThisDatabase)) %>%\n",
    "  top_n(10, YearsWithThisDatabase)"
   ]
  },
  {
   "cell_type": "markdown",
   "metadata": {},
   "source": [
    "Someone with 53,716 years working with their primary database of choice?  That's committment!  You can also see a couple of people who clearly put in the year they started rather htan the number of years working with it, and someone who maybe meant 10 years?  But who knows, people type in weird stuff.\n",
    "\n",
    "Anyhow, let's see how much that person with at least 10 thousand years of experience makes:"
   ]
  },
  {
   "cell_type": "code",
   "execution_count": 12,
   "metadata": {},
   "outputs": [
    {
     "data": {
      "text/html": [
       "<table>\n",
       "<thead><tr><th scope=col>Survey.Year</th><th scope=col>Timestamp</th><th scope=col>SalaryUSD</th><th scope=col>Country</th><th scope=col>PostalCode</th><th scope=col>PrimaryDatabase</th><th scope=col>YearsWithThisDatabase</th><th scope=col>OtherDatabases</th><th scope=col>EmploymentStatus</th><th scope=col>JobTitle</th><th scope=col>...</th><th scope=col>Certifications</th><th scope=col>HoursWorkedPerWeek</th><th scope=col>TelecommuteDaysPerWeek</th><th scope=col>EmploymentSector</th><th scope=col>LookingForAnotherJob</th><th scope=col>CareerPlansThisYear</th><th scope=col>Gender</th><th scope=col>OtherJobDuties</th><th scope=col>KindsOfTasksPerformed</th><th scope=col>Counter</th></tr></thead>\n",
       "<tbody>\n",
       "\t<tr><td>2018                                                            </td><td>2017-12-12 19:07:35                                             </td><td>95000                                                           </td><td>United States                                                   </td><td><span style=white-space:pre-wrap>NA   </span>                   </td><td>Microsoft SQL Server                                            </td><td>53716                                                           </td><td>Microsoft SQL Server                                            </td><td>Full time employee of a consulting/contracting company          </td><td><span style=white-space:pre-wrap>Engineer        </span>        </td><td>...                                                             </td><td>Yes, and they're currently valid                                </td><td>45                                                              </td><td>None, or less than 1 day per week                               </td><td>Private business                                                </td><td>Yes, but only passively (just curious)                          </td><td>Stay with the same employer, same role                          </td><td>Female                                                          </td><td>DBA (Production Focus - build &amp; troubleshoot servers, HA/DR)</td><td>Manual tasks, On-call as part of a rotation, Projects           </td><td>1                                                               </td></tr>\n",
       "\t<tr><td>2018                                                                                                 </td><td>2017-12-18 20:41:48                                                                                  </td><td>98,000                                                                                               </td><td>United States                                                                                        </td><td>30071                                                                                                </td><td>Microsoft SQL Server                                                                                 </td><td>30331                                                                                                </td><td>Microsoft SQL Server                                                                                 </td><td><span style=white-space:pre-wrap>Full time employee                                    </span>       </td><td>Developer: T-SQL                                                                                     </td><td>...                                                                                                  </td><td><span style=white-space:pre-wrap>No, I never have                </span>                             </td><td>50                                                                                                   </td><td><span style=white-space:pre-wrap>1                                </span>                            </td><td>Private business                                                                                     </td><td>Yes, but only passively (just curious)                                                               </td><td>Stay with the same employer, same role                                                               </td><td>Female                                                                                               </td><td><span style=white-space:pre-wrap>NA                                                          </span> </td><td><span style=white-space:pre-wrap>Build scripts &amp; automation tools, Projects, R&amp;D      </span></td><td>1                                                                                                    </td></tr>\n",
       "</tbody>\n",
       "</table>\n"
      ],
      "text/latex": [
       "\\begin{tabular}{r|llllllllllllllllllllllllll}\n",
       " Survey.Year & Timestamp & SalaryUSD & Country & PostalCode & PrimaryDatabase & YearsWithThisDatabase & OtherDatabases & EmploymentStatus & JobTitle & ... & Certifications & HoursWorkedPerWeek & TelecommuteDaysPerWeek & EmploymentSector & LookingForAnotherJob & CareerPlansThisYear & Gender & OtherJobDuties & KindsOfTasksPerformed & Counter\\\\\n",
       "\\hline\n",
       "\t 2018                                                           & 2017-12-12 19:07:35                                            & 95000                                                          & United States                                                  & NA                                                             & Microsoft SQL Server                                           & 53716                                                          & Microsoft SQL Server                                           & Full time employee of a consulting/contracting company         & Engineer                                                       & ...                                                            & Yes, and they're currently valid                               & 45                                                             & None, or less than 1 day per week                              & Private business                                               & Yes, but only passively (just curious)                         & Stay with the same employer, same role                         & Female                                                         & DBA (Production Focus - build \\& troubleshoot servers, HA/DR) & Manual tasks, On-call as part of a rotation, Projects          & 1                                                             \\\\\n",
       "\t 2018                                                         & 2017-12-18 20:41:48                                          & 98,000                                                       & United States                                                & 30071                                                        & Microsoft SQL Server                                         & 30331                                                        & Microsoft SQL Server                                         & Full time employee                                           & Developer: T-SQL                                             & ...                                                          & No, I never have                                             & 50                                                           & 1                                                            & Private business                                             & Yes, but only passively (just curious)                       & Stay with the same employer, same role                       & Female                                                       & NA                                                           & Build scripts \\& automation tools, Projects, R\\&D          & 1                                                           \\\\\n",
       "\\end{tabular}\n"
      ],
      "text/markdown": [
       "\n",
       "Survey.Year | Timestamp | SalaryUSD | Country | PostalCode | PrimaryDatabase | YearsWithThisDatabase | OtherDatabases | EmploymentStatus | JobTitle | ... | Certifications | HoursWorkedPerWeek | TelecommuteDaysPerWeek | EmploymentSector | LookingForAnotherJob | CareerPlansThisYear | Gender | OtherJobDuties | KindsOfTasksPerformed | Counter | \n",
       "|---|---|\n",
       "| 2018                                                         | 2017-12-12 19:07:35                                          | 95000                                                        | United States                                                | NA                                                           | Microsoft SQL Server                                         | 53716                                                        | Microsoft SQL Server                                         | Full time employee of a consulting/contracting company       | Engineer                                                     | ...                                                          | Yes, and they're currently valid                             | 45                                                           | None, or less than 1 day per week                            | Private business                                             | Yes, but only passively (just curious)                       | Stay with the same employer, same role                       | Female                                                       | DBA (Production Focus - build & troubleshoot servers, HA/DR) | Manual tasks, On-call as part of a rotation, Projects        | 1                                                            | \n",
       "| 2018                                                         | 2017-12-18 20:41:48                                          | 98,000                                                       | United States                                                | 30071                                                        | Microsoft SQL Server                                         | 30331                                                        | Microsoft SQL Server                                         | Full time employee                                           | Developer: T-SQL                                             | ...                                                          | No, I never have                                             | 50                                                           | 1                                                            | Private business                                             | Yes, but only passively (just curious)                       | Stay with the same employer, same role                       | Female                                                       | NA                                                           | Build scripts & automation tools, Projects, R&D              | 1                                                            | \n",
       "\n",
       "\n"
      ],
      "text/plain": [
       "  Survey.Year Timestamp           SalaryUSD Country       PostalCode\n",
       "1 2018        2017-12-12 19:07:35 95000     United States NA        \n",
       "2 2018        2017-12-18 20:41:48 98,000    United States 30071     \n",
       "  PrimaryDatabase      YearsWithThisDatabase OtherDatabases      \n",
       "1 Microsoft SQL Server 53716                 Microsoft SQL Server\n",
       "2 Microsoft SQL Server 30331                 Microsoft SQL Server\n",
       "  EmploymentStatus                                       JobTitle         ...\n",
       "1 Full time employee of a consulting/contracting company Engineer         ...\n",
       "2 Full time employee                                     Developer: T-SQL ...\n",
       "  Certifications                   HoursWorkedPerWeek\n",
       "1 Yes, and they're currently valid 45                \n",
       "2 No, I never have                 50                \n",
       "  TelecommuteDaysPerWeek            EmploymentSector\n",
       "1 None, or less than 1 day per week Private business\n",
       "2 1                                 Private business\n",
       "  LookingForAnotherJob                   CareerPlansThisYear                   \n",
       "1 Yes, but only passively (just curious) Stay with the same employer, same role\n",
       "2 Yes, but only passively (just curious) Stay with the same employer, same role\n",
       "  Gender OtherJobDuties                                              \n",
       "1 Female DBA (Production Focus - build & troubleshoot servers, HA/DR)\n",
       "2 Female NA                                                          \n",
       "  KindsOfTasksPerformed                                 Counter\n",
       "1 Manual tasks, On-call as part of a rotation, Projects 1      \n",
       "2 Build scripts & automation tools, Projects, R&D       1      "
      ]
     },
     "metadata": {},
     "output_type": "display_data"
    }
   ],
   "source": [
    "survey_2018 %>%\n",
    "  filter(YearsWithThisDatabase > 10000)"
   ]
  },
  {
   "cell_type": "markdown",
   "metadata": {},
   "source": [
    "That's pretty sad, considering their millennia of work experience.  $95-98K isn't even that great a number.\n",
    "\n",
    "Looking at years of experience with their current job roles, people tend to be more reasonable:"
   ]
  },
  {
   "cell_type": "code",
   "execution_count": 13,
   "metadata": {},
   "outputs": [
    {
     "data": {
      "text/html": [
       "<table>\n",
       "<thead><tr><th scope=col>YearsWithThisTypeOfJob</th></tr></thead>\n",
       "<tbody>\n",
       "\t<tr><td>40</td></tr>\n",
       "\t<tr><td>39</td></tr>\n",
       "\t<tr><td>37</td></tr>\n",
       "\t<tr><td>35</td></tr>\n",
       "\t<tr><td>34</td></tr>\n",
       "\t<tr><td>33</td></tr>\n",
       "\t<tr><td>32</td></tr>\n",
       "\t<tr><td>31</td></tr>\n",
       "\t<tr><td>30</td></tr>\n",
       "\t<tr><td>29</td></tr>\n",
       "</tbody>\n",
       "</table>\n"
      ],
      "text/latex": [
       "\\begin{tabular}{r|l}\n",
       " YearsWithThisTypeOfJob\\\\\n",
       "\\hline\n",
       "\t 40\\\\\n",
       "\t 39\\\\\n",
       "\t 37\\\\\n",
       "\t 35\\\\\n",
       "\t 34\\\\\n",
       "\t 33\\\\\n",
       "\t 32\\\\\n",
       "\t 31\\\\\n",
       "\t 30\\\\\n",
       "\t 29\\\\\n",
       "\\end{tabular}\n"
      ],
      "text/markdown": [
       "\n",
       "YearsWithThisTypeOfJob | \n",
       "|---|---|---|---|---|---|---|---|---|---|\n",
       "| 40 | \n",
       "| 39 | \n",
       "| 37 | \n",
       "| 35 | \n",
       "| 34 | \n",
       "| 33 | \n",
       "| 32 | \n",
       "| 31 | \n",
       "| 30 | \n",
       "| 29 | \n",
       "\n",
       "\n"
      ],
      "text/plain": [
       "   YearsWithThisTypeOfJob\n",
       "1  40                    \n",
       "2  39                    \n",
       "3  37                    \n",
       "4  35                    \n",
       "5  34                    \n",
       "6  33                    \n",
       "7  32                    \n",
       "8  31                    \n",
       "9  30                    \n",
       "10 29                    "
      ]
     },
     "metadata": {},
     "output_type": "display_data"
    }
   ],
   "source": [
    "survey_2018 %>%\n",
    "  distinct(YearsWithThisTypeOfJob) %>%\n",
    "  arrange(desc(YearsWithThisTypeOfJob)) %>%\n",
    "  top_n(10, YearsWithThisTypeOfJob)"
   ]
  },
  {
   "cell_type": "markdown",
   "metadata": {},
   "source": [
    "Next up, we want to look at the number of database servers owned.  500,000+ database servers is a bit excessive.  Frankly, I'm suspicious about any numbers greater than 5000, but because I can't prove it otherwise, I'll leave them be."
   ]
  },
  {
   "cell_type": "code",
   "execution_count": 14,
   "metadata": {},
   "outputs": [
    {
     "data": {
      "text/html": [
       "<table>\n",
       "<thead><tr><th scope=col>DatabaseServers</th></tr></thead>\n",
       "<tbody>\n",
       "\t<tr><td>500000</td></tr>\n",
       "\t<tr><td> 20000</td></tr>\n",
       "\t<tr><td> 10000</td></tr>\n",
       "\t<tr><td>  9999</td></tr>\n",
       "\t<tr><td>  7000</td></tr>\n",
       "\t<tr><td>  5300</td></tr>\n",
       "\t<tr><td>  5000</td></tr>\n",
       "\t<tr><td>  4323</td></tr>\n",
       "\t<tr><td>  4000</td></tr>\n",
       "\t<tr><td>  3000</td></tr>\n",
       "</tbody>\n",
       "</table>\n"
      ],
      "text/latex": [
       "\\begin{tabular}{r|l}\n",
       " DatabaseServers\\\\\n",
       "\\hline\n",
       "\t 500000\\\\\n",
       "\t  20000\\\\\n",
       "\t  10000\\\\\n",
       "\t   9999\\\\\n",
       "\t   7000\\\\\n",
       "\t   5300\\\\\n",
       "\t   5000\\\\\n",
       "\t   4323\\\\\n",
       "\t   4000\\\\\n",
       "\t   3000\\\\\n",
       "\\end{tabular}\n"
      ],
      "text/markdown": [
       "\n",
       "DatabaseServers | \n",
       "|---|---|---|---|---|---|---|---|---|---|\n",
       "| 500000 | \n",
       "|  20000 | \n",
       "|  10000 | \n",
       "|   9999 | \n",
       "|   7000 | \n",
       "|   5300 | \n",
       "|   5000 | \n",
       "|   4323 | \n",
       "|   4000 | \n",
       "|   3000 | \n",
       "\n",
       "\n"
      ],
      "text/plain": [
       "   DatabaseServers\n",
       "1  500000         \n",
       "2   20000         \n",
       "3   10000         \n",
       "4    9999         \n",
       "5    7000         \n",
       "6    5300         \n",
       "7    5000         \n",
       "8    4323         \n",
       "9    4000         \n",
       "10   3000         "
      ]
     },
     "metadata": {},
     "output_type": "display_data"
    },
    {
     "data": {
      "text/html": [
       "<table>\n",
       "<thead><tr><th scope=col>Survey.Year</th><th scope=col>Timestamp</th><th scope=col>SalaryUSD</th><th scope=col>Country</th><th scope=col>PostalCode</th><th scope=col>PrimaryDatabase</th><th scope=col>YearsWithThisDatabase</th><th scope=col>OtherDatabases</th><th scope=col>EmploymentStatus</th><th scope=col>JobTitle</th><th scope=col>...</th><th scope=col>Certifications</th><th scope=col>HoursWorkedPerWeek</th><th scope=col>TelecommuteDaysPerWeek</th><th scope=col>EmploymentSector</th><th scope=col>LookingForAnotherJob</th><th scope=col>CareerPlansThisYear</th><th scope=col>Gender</th><th scope=col>OtherJobDuties</th><th scope=col>KindsOfTasksPerformed</th><th scope=col>Counter</th></tr></thead>\n",
       "<tbody>\n",
       "\t<tr><td>2018                                                                                                                                                                                                                  </td><td>2017-12-15 02:33:23                                                                                                                                                                                                   </td><td>650000                                                                                                                                                                                                                </td><td>United States                                                                                                                                                                                                         </td><td>650000                                                                                                                                                                                                                </td><td>Amazon RDS (any flavor)                                                                                                                                                                                               </td><td>10                                                                                                                                                                                                                    </td><td><span style=white-space:pre-wrap>Microsoft SQL Server, Oracle, MySQL/MariaDB, PostgreSQL, Elasticsearch                                                                   </span>                                     </td><td>Full time employee                                                                                                                                                                                                    </td><td><span style=white-space:pre-wrap>Engineer                                                    </span>                                                                                                                  </td><td>...                                                                                                                                                                                                                   </td><td><span style=white-space:pre-wrap>Yes, but they expired           </span>                                                                                                                                              </td><td>50                                                                                                                                                                                                                    </td><td>None, or less than 1 day per week                                                                                                                                                                                     </td><td><span style=white-space:pre-wrap>Private business         </span>                                                                                                                                                     </td><td><span style=white-space:pre-wrap>No                                    </span>                                                                                                                                        </td><td><span style=white-space:pre-wrap>Stay with the same employer, same role        </span>                                                                                                                                </td><td><span style=white-space:pre-wrap>Male  </span>                                                                                                                                                                        </td><td><span style=white-space:pre-wrap>NA                                                                                                                                                                            </span></td><td><span style=white-space:pre-wrap>Build scripts &amp; automation tools, Meetings &amp; management, Projects, R&amp;D                                                 </span>                                           </td><td>1                                                                                                                                                                                                                     </td></tr>\n",
       "\t<tr><td>2018                                                                                                                                                                                  </td><td>2017-12-18 20:11:50                                                                                                                                                                   </td><td><span style=white-space:pre-wrap>20500  </span>                                                                                                                                       </td><td><span style=white-space:pre-wrap>Argentina    </span>                                                                                                                                 </td><td><span style=white-space:pre-wrap>NA    </span>                                                                                                                                        </td><td><span style=white-space:pre-wrap>Microsoft SQL Server   </span>                                                                                                                       </td><td> 6                                                                                                                                                                                    </td><td><span style=white-space:pre-wrap>Microsoft SQL Server, Azure SQL DB, Amazon RDS (any flavor)                                                                              </span>     </td><td>Full time employee                                                                                                                                                                    </td><td>DBA (Production Focus - build &amp; troubleshoot servers, HA/DR)                                                                                                                      </td><td>...                                                                                                                                                                                   </td><td>Yes, and they're currently valid                                                                                                                                                      </td><td>50                                                                                                                                                                                    </td><td><span style=white-space:pre-wrap>3                                </span>                                                                                                             </td><td><span style=white-space:pre-wrap>Private business         </span>                                                                                                                     </td><td><span style=white-space:pre-wrap>No                                    </span>                                                                                                        </td><td><span style=white-space:pre-wrap>Stay with the same employer, same role        </span>                                                                                                </td><td><span style=white-space:pre-wrap>Male  </span>                                                                                                                                        </td><td>DBA (Development Focus - tunes queries, indexes, does deployments), DBA (General - splits time evenly between writing &amp; tuning queries AND building &amp; troubleshooting servers)</td><td>Build scripts &amp; automation tools, Manual tasks, Meetings &amp; management, On-call as part of a rotation, Training/teaching                                                       </td><td>1                                                                                                                                                                                     </td></tr>\n",
       "\t<tr><td>2018                                                                                                                                                                                                                  </td><td>2017-12-19 09:13:49                                                                                                                                                                                                   </td><td>150,000                                                                                                                                                                                                               </td><td>United States                                                                                                                                                                                                         </td><td>77396                                                                                                                                                                                                                 </td><td><span style=white-space:pre-wrap>Microsoft SQL Server   </span>                                                                                                                                                       </td><td>25                                                                                                                                                                                                                    </td><td><span style=white-space:pre-wrap>Microsoft SQL Server, PostgreSQL, Azure SQL DB, Amazon RDS (any flavor)                                                                  </span>                                     </td><td>Full time employee                                                                                                                                                                                                    </td><td>DBA (Production Focus - build &amp; troubleshoot servers, HA/DR)                                                                                                                                                      </td><td>...                                                                                                                                                                                                                   </td><td><span style=white-space:pre-wrap>Yes, but they expired           </span>                                                                                                                                              </td><td>45                                                                                                                                                                                                                    </td><td><span style=white-space:pre-wrap>5 or more                        </span>                                                                                                                                             </td><td><span style=white-space:pre-wrap>Private business         </span>                                                                                                                                                     </td><td><span style=white-space:pre-wrap>No                                    </span>                                                                                                                                        </td><td><span style=white-space:pre-wrap>Stay with the same employer, same role        </span>                                                                                                                                </td><td><span style=white-space:pre-wrap>Male  </span>                                                                                                                                                                        </td><td><span style=white-space:pre-wrap>Architect                                                                                                                                                                     </span></td><td><span style=white-space:pre-wrap>Manual tasks, Meetings &amp; management, On-call 24/7/365                                                                  </span>                                                   </td><td>1                                                                                                                                                                                                                     </td></tr>\n",
       "\t<tr><td>2018                                                                                                                                                                                                                      </td><td>2017-12-23 20:03:26                                                                                                                                                                                                       </td><td>205000                                                                                                                                                                                                                    </td><td>United States                                                                                                                                                                                                             </td><td>98034                                                                                                                                                                                                                     </td><td><span style=white-space:pre-wrap>Microsoft SQL Server   </span>                                                                                                                                                           </td><td>20                                                                                                                                                                                                                        </td><td><span style=white-space:pre-wrap>Microsoft SQL Server, Azure SQL DB                                                                                                       </span>                                         </td><td>Full time employee                                                                                                                                                                                                        </td><td><span style=white-space:pre-wrap>Engineer                                                    </span>                                                                                                                      </td><td>...                                                                                                                                                                                                                       </td><td><span style=white-space:pre-wrap>Yes, but they expired           </span>                                                                                                                                                  </td><td>40                                                                                                                                                                                                                        </td><td><span style=white-space:pre-wrap>1                                </span>                                                                                                                                                 </td><td><span style=white-space:pre-wrap>Private business         </span>                                                                                                                                                         </td><td>Yes, but only passively (just curious)                                                                                                                                                                                    </td><td><span style=white-space:pre-wrap>Stay with the same employer,  but change roles</span>                                                                                                                                    </td><td>Female                                                                                                                                                                                                                    </td><td><span style=white-space:pre-wrap>Analyst, DBA (Production Focus - build &amp; troubleshoot servers, HA/DR), Developer: Business Intelligence (SSRS, PowerBI, etc), Engineer                                        </span></td><td><span style=white-space:pre-wrap>Meetings &amp; management, Projects, R&amp;D, Training/teaching                                                                </span>                                                   </td><td>1                                                                                                                                                                                                                         </td></tr>\n",
       "\t<tr><td>2018                                                                                                                                                                                                                  </td><td>2017-12-19 15:13:10                                                                                                                                                                                                   </td><td><span style=white-space:pre-wrap>60000  </span>                                                                                                                                                                       </td><td><span style=white-space:pre-wrap>India        </span>                                                                                                                                                                 </td><td><span style=white-space:pre-wrap>NA    </span>                                                                                                                                                                        </td><td><span style=white-space:pre-wrap>Microsoft SQL Server   </span>                                                                                                                                                       </td><td>12                                                                                                                                                                                                                    </td><td><span style=white-space:pre-wrap>Microsoft SQL Server                                                                                                                     </span>                                     </td><td>Full time employee                                                                                                                                                                                                    </td><td>DBA (Production Focus - build &amp; troubleshoot servers, HA/DR)                                                                                                                                                      </td><td>...                                                                                                                                                                                                                   </td><td><span style=white-space:pre-wrap>Yes, but they expired           </span>                                                                                                                                              </td><td>56                                                                                                                                                                                                                    </td><td>None, or less than 1 day per week                                                                                                                                                                                     </td><td>State/province government                                                                                                                                                                                             </td><td><span style=white-space:pre-wrap>No                                    </span>                                                                                                                                        </td><td><span style=white-space:pre-wrap>Stay with the same employer,  but change roles</span>                                                                                                                                </td><td><span style=white-space:pre-wrap>Male  </span>                                                                                                                                                                        </td><td><span style=white-space:pre-wrap>NA                                                                                                                                                                            </span></td><td><span style=white-space:pre-wrap>NA                                                                                                                     </span>                                                       </td><td>1                                                                                                                                                                                                                     </td></tr>\n",
       "\t<tr><td>2018                                                                                                                                                                          </td><td>2018-01-02 03:03:12                                                                                                                                                           </td><td>50000                                                                                                                                                                         </td><td>Spain                                                                                                                                                                         </td><td>NA                                                                                                                                                                            </td><td>Oracle                                                                                                                                                                        </td><td>10                                                                                                                                                                            </td><td>Microsoft SQL Server, Oracle, SAP                                                                                                                                             </td><td>Full time employee                                                                                                                                                            </td><td>Analyst                                                                                                                                                                       </td><td>...                                                                                                                                                                           </td><td>Yes, and they're currently valid                                                                                                                                              </td><td>40                                                                                                                                                                            </td><td>2                                                                                                                                                                             </td><td>Private business                                                                                                                                                              </td><td>No                                                                                                                                                                            </td><td>Stay with the same employer, same role                                                                                                                                        </td><td>Female                                                                                                                                                                        </td><td>Analyst, Data Scientist                                                                                                                                                       </td><td>Projects                                                                                                                                                                      </td><td>1                                                                                                                                                                             </td></tr>\n",
       "\t<tr><td>2018                                                                                                                                                                                                                  </td><td>2017-12-19 14:51:01                                                                                                                                                                                                   </td><td>235000                                                                                                                                                                                                                </td><td>United States                                                                                                                                                                                                         </td><td>98059                                                                                                                                                                                                                 </td><td><span style=white-space:pre-wrap>Teradata               </span>                                                                                                                                                       </td><td> 5                                                                                                                                                                                                                    </td><td>Microsoft SQL Server, Oracle, MySQL/MariaDB, PostgreSQL, MongoDB, Cassandra, Redis, Elasticsearch, Teradata, SAP, Hadoop/Hive/HBASE/Kylin                                                                             </td><td>Full time employee                                                                                                                                                                                                    </td><td><span style=white-space:pre-wrap>Architect                                                   </span>                                                                                                                  </td><td>...                                                                                                                                                                                                                   </td><td><span style=white-space:pre-wrap>No, I never have                </span>                                                                                                                                              </td><td>45                                                                                                                                                                                                                    </td><td>None, or less than 1 day per week                                                                                                                                                                                     </td><td><span style=white-space:pre-wrap>Private business         </span>                                                                                                                                                     </td><td><span style=white-space:pre-wrap>No                                    </span>                                                                                                                                        </td><td><span style=white-space:pre-wrap>Stay with the same employer, same role        </span>                                                                                                                                </td><td><span style=white-space:pre-wrap>Male  </span>                                                                                                                                                                        </td><td><span style=white-space:pre-wrap>Manager                                                                                                                                                                       </span></td><td><span style=white-space:pre-wrap>Meetings &amp; management, Projects                                                                                        </span>                                                   </td><td>1                                                                                                                                                                                                                     </td></tr>\n",
       "\t<tr><td>2018                                                                                                                                                                                                                      </td><td>2017-12-20 09:51:15                                                                                                                                                                                                       </td><td>125000                                                                                                                                                                                                                    </td><td>United States                                                                                                                                                                                                             </td><td>55340                                                                                                                                                                                                                     </td><td><span style=white-space:pre-wrap>Microsoft SQL Server   </span>                                                                                                                                                           </td><td>25                                                                                                                                                                                                                        </td><td><span style=white-space:pre-wrap>Microsoft SQL Server, Azure SQL DB                                                                                                       </span>                                         </td><td>Full time employee                                                                                                                                                                                                        </td><td>DBA (Production Focus - build &amp; troubleshoot servers, HA/DR)                                                                                                                                                          </td><td>...                                                                                                                                                                                                                       </td><td><span style=white-space:pre-wrap>No, I never have                </span>                                                                                                                                                  </td><td>45                                                                                                                                                                                                                        </td><td><span style=white-space:pre-wrap>5 or more                        </span>                                                                                                                                                 </td><td><span style=white-space:pre-wrap>Private business         </span>                                                                                                                                                         </td><td>Yes, but only passively (just curious)                                                                                                                                                                                    </td><td><span style=white-space:pre-wrap>Prefer not to say                             </span>                                                                                                                                    </td><td>Female                                                                                                                                                                                                                    </td><td><span style=white-space:pre-wrap>Architect, DBA (Production Focus - build &amp; troubleshoot servers, HA/DR), Manager                                                                                              </span></td><td><span style=white-space:pre-wrap>On-call 24/7/365                                                                                                       </span>                                                           </td><td>1                                                                                                                                                                                                                         </td></tr>\n",
       "\t<tr><td>2018                                                                                                                                                                                                                      </td><td>2017-12-14 11:16:45                                                                                                                                                                                                       </td><td>86,000                                                                                                                                                                                                                    </td><td>United States                                                                                                                                                                                                             </td><td>85041                                                                                                                                                                                                                     </td><td><span style=white-space:pre-wrap>Microsoft SQL Server   </span>                                                                                                                                                           </td><td>16                                                                                                                                                                                                                        </td><td><span style=white-space:pre-wrap>DB2                                                                                                                                      </span>                                         </td><td>Full time employee                                                                                                                                                                                                        </td><td>DBA (Production Focus - build &amp; troubleshoot servers, HA/DR)                                                                                                                                                          </td><td>...                                                                                                                                                                                                                       </td><td><span style=white-space:pre-wrap>No, I never have                </span>                                                                                                                                                  </td><td>44                                                                                                                                                                                                                        </td><td><span style=white-space:pre-wrap>1                                </span>                                                                                                                                                 </td><td><span style=white-space:pre-wrap>Private business         </span>                                                                                                                                                         </td><td><span style=white-space:pre-wrap>No                                    </span>                                                                                                                                            </td><td><span style=white-space:pre-wrap>Stay with the same employer, same role        </span>                                                                                                                                    </td><td>Female                                                                                                                                                                                                                    </td><td><span style=white-space:pre-wrap>Analyst, DBA (Development Focus - tunes queries, indexes, does deployments), DBA (Production Focus - build &amp; troubleshoot servers, HA/DR)                                     </span></td><td><span style=white-space:pre-wrap>Manual tasks, Meetings &amp; management, On-call as part of a rotation, On-call 24/7/365, Projects, Training/teaching      </span>                                                       </td><td>1                                                                                                                                                                                                                         </td></tr>\n",
       "\t<tr><td>2018                                                                                                                                                                                                                  </td><td>2017-12-19 18:26:50                                                                                                                                                                                                   </td><td>180000                                                                                                                                                                                                                </td><td><span style=white-space:pre-wrap>Australia    </span>                                                                                                                                                                 </td><td><span style=white-space:pre-wrap>3000  </span>                                                                                                                                                                        </td><td><span style=white-space:pre-wrap>Oracle                 </span>                                                                                                                                                       </td><td> 4                                                                                                                                                                                                                    </td><td><span style=white-space:pre-wrap>Microsoft SQL Server, Oracle, DB2                                                                                                        </span>                                     </td><td>Full time employee                                                                                                                                                                                                    </td><td><span style=white-space:pre-wrap>Architect                                                   </span>                                                                                                                  </td><td>...                                                                                                                                                                                                                   </td><td>Yes, and they're currently valid                                                                                                                                                                                      </td><td>40                                                                                                                                                                                                                    </td><td><span style=white-space:pre-wrap>2                                </span>                                                                                                                                             </td><td><span style=white-space:pre-wrap>Private business         </span>                                                                                                                                                     </td><td>Yes, but only passively (just curious)                                                                                                                                                                                </td><td><span style=white-space:pre-wrap>Stay with the same employer,  but change roles</span>                                                                                                                                </td><td><span style=white-space:pre-wrap>Male  </span>                                                                                                                                                                        </td><td><span style=white-space:pre-wrap>DBA (Development Focus - tunes queries, indexes, does deployments)                                                                                                            </span></td><td><span style=white-space:pre-wrap>Meetings &amp; management, Projects, R&amp;D                                                                                   </span>                                               </td><td>1                                                                                                                                                                                                                     </td></tr>\n",
       "</tbody>\n",
       "</table>\n"
      ],
      "text/latex": [
       "\\begin{tabular}{r|llllllllllllllllllllllllll}\n",
       " Survey.Year & Timestamp & SalaryUSD & Country & PostalCode & PrimaryDatabase & YearsWithThisDatabase & OtherDatabases & EmploymentStatus & JobTitle & ... & Certifications & HoursWorkedPerWeek & TelecommuteDaysPerWeek & EmploymentSector & LookingForAnotherJob & CareerPlansThisYear & Gender & OtherJobDuties & KindsOfTasksPerformed & Counter\\\\\n",
       "\\hline\n",
       "\t 2018                                                                                                                                                                           & 2017-12-15 02:33:23                                                                                                                                                            & 650000                                                                                                                                                                         & United States                                                                                                                                                                  & 650000                                                                                                                                                                         & Amazon RDS (any flavor)                                                                                                                                                        & 10                                                                                                                                                                             & Microsoft SQL Server, Oracle, MySQL/MariaDB, PostgreSQL, Elasticsearch                                                                                                         & Full time employee                                                                                                                                                             & Engineer                                                                                                                                                                       & ...                                                                                                                                                                            & Yes, but they expired                                                                                                                                                          & 50                                                                                                                                                                             & None, or less than 1 day per week                                                                                                                                              & Private business                                                                                                                                                               & No                                                                                                                                                                             & Stay with the same employer, same role                                                                                                                                         & Male                                                                                                                                                                           & NA                                                                                                                                                                             & Build scripts \\& automation tools, Meetings \\& management, Projects, R\\&D                                                                                                   & 1                                                                                                                                                                             \\\\\n",
       "\t 2018                                                                                                                                                                               & 2017-12-18 20:11:50                                                                                                                                                                & 20500                                                                                                                                                                              & Argentina                                                                                                                                                                          & NA                                                                                                                                                                                 & Microsoft SQL Server                                                                                                                                                               &  6                                                                                                                                                                                 & Microsoft SQL Server, Azure SQL DB, Amazon RDS (any flavor)                                                                                                                        & Full time employee                                                                                                                                                                 & DBA (Production Focus - build \\& troubleshoot servers, HA/DR)                                                                                                                     & ...                                                                                                                                                                                & Yes, and they're currently valid                                                                                                                                                   & 50                                                                                                                                                                                 & 3                                                                                                                                                                                  & Private business                                                                                                                                                                   & No                                                                                                                                                                                 & Stay with the same employer, same role                                                                                                                                             & Male                                                                                                                                                                               & DBA (Development Focus - tunes queries, indexes, does deployments), DBA (General - splits time evenly between writing \\& tuning queries AND building \\& troubleshooting servers) & Build scripts \\& automation tools, Manual tasks, Meetings \\& management, On-call as part of a rotation, Training/teaching                                                        & 1                                                                                                                                                                                 \\\\\n",
       "\t 2018                                                                                                                                                                           & 2017-12-19 09:13:49                                                                                                                                                            & 150,000                                                                                                                                                                        & United States                                                                                                                                                                  & 77396                                                                                                                                                                          & Microsoft SQL Server                                                                                                                                                           & 25                                                                                                                                                                             & Microsoft SQL Server, PostgreSQL, Azure SQL DB, Amazon RDS (any flavor)                                                                                                        & Full time employee                                                                                                                                                             & DBA (Production Focus - build \\& troubleshoot servers, HA/DR)                                                                                                                 & ...                                                                                                                                                                            & Yes, but they expired                                                                                                                                                          & 45                                                                                                                                                                             & 5 or more                                                                                                                                                                      & Private business                                                                                                                                                               & No                                                                                                                                                                             & Stay with the same employer, same role                                                                                                                                         & Male                                                                                                                                                                           & Architect                                                                                                                                                                      & Manual tasks, Meetings \\& management, On-call 24/7/365                                                                                                                        & 1                                                                                                                                                                             \\\\\n",
       "\t 2018                                                                                                                                                                             & 2017-12-23 20:03:26                                                                                                                                                              & 205000                                                                                                                                                                           & United States                                                                                                                                                                    & 98034                                                                                                                                                                            & Microsoft SQL Server                                                                                                                                                             & 20                                                                                                                                                                               & Microsoft SQL Server, Azure SQL DB                                                                                                                                               & Full time employee                                                                                                                                                               & Engineer                                                                                                                                                                         & ...                                                                                                                                                                              & Yes, but they expired                                                                                                                                                            & 40                                                                                                                                                                               & 1                                                                                                                                                                                & Private business                                                                                                                                                                 & Yes, but only passively (just curious)                                                                                                                                           & Stay with the same employer,  but change roles                                                                                                                                   & Female                                                                                                                                                                           & Analyst, DBA (Production Focus - build \\& troubleshoot servers, HA/DR), Developer: Business Intelligence (SSRS, PowerBI, etc), Engineer                                         & Meetings \\& management, Projects, R\\&D, Training/teaching                                                                                                                      & 1                                                                                                                                                                               \\\\\n",
       "\t 2018                                                                                                                                                                           & 2017-12-19 15:13:10                                                                                                                                                            & 60000                                                                                                                                                                          & India                                                                                                                                                                          & NA                                                                                                                                                                             & Microsoft SQL Server                                                                                                                                                           & 12                                                                                                                                                                             & Microsoft SQL Server                                                                                                                                                           & Full time employee                                                                                                                                                             & DBA (Production Focus - build \\& troubleshoot servers, HA/DR)                                                                                                                 & ...                                                                                                                                                                            & Yes, but they expired                                                                                                                                                          & 56                                                                                                                                                                             & None, or less than 1 day per week                                                                                                                                              & State/province government                                                                                                                                                      & No                                                                                                                                                                             & Stay with the same employer,  but change roles                                                                                                                                 & Male                                                                                                                                                                           & NA                                                                                                                                                                             & NA                                                                                                                                                                             & 1                                                                                                                                                                             \\\\\n",
       "\t 2018                                                                                                                                                                           & 2018-01-02 03:03:12                                                                                                                                                            & 50000                                                                                                                                                                          & Spain                                                                                                                                                                          & NA                                                                                                                                                                             & Oracle                                                                                                                                                                         & 10                                                                                                                                                                             & Microsoft SQL Server, Oracle, SAP                                                                                                                                              & Full time employee                                                                                                                                                             & Analyst                                                                                                                                                                        & ...                                                                                                                                                                            & Yes, and they're currently valid                                                                                                                                               & 40                                                                                                                                                                             & 2                                                                                                                                                                              & Private business                                                                                                                                                               & No                                                                                                                                                                             & Stay with the same employer, same role                                                                                                                                         & Female                                                                                                                                                                         & Analyst, Data Scientist                                                                                                                                                        & Projects                                                                                                                                                                       & 1                                                                                                                                                                             \\\\\n",
       "\t 2018                                                                                                                                                                           & 2017-12-19 14:51:01                                                                                                                                                            & 235000                                                                                                                                                                         & United States                                                                                                                                                                  & 98059                                                                                                                                                                          & Teradata                                                                                                                                                                       &  5                                                                                                                                                                             & Microsoft SQL Server, Oracle, MySQL/MariaDB, PostgreSQL, MongoDB, Cassandra, Redis, Elasticsearch, Teradata, SAP, Hadoop/Hive/HBASE/Kylin                                      & Full time employee                                                                                                                                                             & Architect                                                                                                                                                                      & ...                                                                                                                                                                            & No, I never have                                                                                                                                                               & 45                                                                                                                                                                             & None, or less than 1 day per week                                                                                                                                              & Private business                                                                                                                                                               & No                                                                                                                                                                             & Stay with the same employer, same role                                                                                                                                         & Male                                                                                                                                                                           & Manager                                                                                                                                                                        & Meetings \\& management, Projects                                                                                                                                              & 1                                                                                                                                                                             \\\\\n",
       "\t 2018                                                                                                                                                                             & 2017-12-20 09:51:15                                                                                                                                                              & 125000                                                                                                                                                                           & United States                                                                                                                                                                    & 55340                                                                                                                                                                            & Microsoft SQL Server                                                                                                                                                             & 25                                                                                                                                                                               & Microsoft SQL Server, Azure SQL DB                                                                                                                                               & Full time employee                                                                                                                                                               & DBA (Production Focus - build \\& troubleshoot servers, HA/DR)                                                                                                                   & ...                                                                                                                                                                              & No, I never have                                                                                                                                                                 & 45                                                                                                                                                                               & 5 or more                                                                                                                                                                        & Private business                                                                                                                                                                 & Yes, but only passively (just curious)                                                                                                                                           & Prefer not to say                                                                                                                                                                & Female                                                                                                                                                                           & Architect, DBA (Production Focus - build \\& troubleshoot servers, HA/DR), Manager                                                                                               & On-call 24/7/365                                                                                                                                                                 & 1                                                                                                                                                                               \\\\\n",
       "\t 2018                                                                                                                                                                             & 2017-12-14 11:16:45                                                                                                                                                              & 86,000                                                                                                                                                                           & United States                                                                                                                                                                    & 85041                                                                                                                                                                            & Microsoft SQL Server                                                                                                                                                             & 16                                                                                                                                                                               & DB2                                                                                                                                                                              & Full time employee                                                                                                                                                               & DBA (Production Focus - build \\& troubleshoot servers, HA/DR)                                                                                                                   & ...                                                                                                                                                                              & No, I never have                                                                                                                                                                 & 44                                                                                                                                                                               & 1                                                                                                                                                                                & Private business                                                                                                                                                                 & No                                                                                                                                                                               & Stay with the same employer, same role                                                                                                                                           & Female                                                                                                                                                                           & Analyst, DBA (Development Focus - tunes queries, indexes, does deployments), DBA (Production Focus - build \\& troubleshoot servers, HA/DR)                                      & Manual tasks, Meetings \\& management, On-call as part of a rotation, On-call 24/7/365, Projects, Training/teaching                                                              & 1                                                                                                                                                                               \\\\\n",
       "\t 2018                                                                                                                                                                           & 2017-12-19 18:26:50                                                                                                                                                            & 180000                                                                                                                                                                         & Australia                                                                                                                                                                      & 3000                                                                                                                                                                           & Oracle                                                                                                                                                                         &  4                                                                                                                                                                             & Microsoft SQL Server, Oracle, DB2                                                                                                                                              & Full time employee                                                                                                                                                             & Architect                                                                                                                                                                      & ...                                                                                                                                                                            & Yes, and they're currently valid                                                                                                                                               & 40                                                                                                                                                                             & 2                                                                                                                                                                              & Private business                                                                                                                                                               & Yes, but only passively (just curious)                                                                                                                                         & Stay with the same employer,  but change roles                                                                                                                                 & Male                                                                                                                                                                           & DBA (Development Focus - tunes queries, indexes, does deployments)                                                                                                             & Meetings \\& management, Projects, R\\&D                                                                                                                                       & 1                                                                                                                                                                             \\\\\n",
       "\\end{tabular}\n"
      ],
      "text/markdown": [
       "\n",
       "Survey.Year | Timestamp | SalaryUSD | Country | PostalCode | PrimaryDatabase | YearsWithThisDatabase | OtherDatabases | EmploymentStatus | JobTitle | ... | Certifications | HoursWorkedPerWeek | TelecommuteDaysPerWeek | EmploymentSector | LookingForAnotherJob | CareerPlansThisYear | Gender | OtherJobDuties | KindsOfTasksPerformed | Counter | \n",
       "|---|---|---|---|---|---|---|---|---|---|\n",
       "| 2018                                                                                                                                                                           | 2017-12-15 02:33:23                                                                                                                                                            | 650000                                                                                                                                                                         | United States                                                                                                                                                                  | 650000                                                                                                                                                                         | Amazon RDS (any flavor)                                                                                                                                                        | 10                                                                                                                                                                             | Microsoft SQL Server, Oracle, MySQL/MariaDB, PostgreSQL, Elasticsearch                                                                                                         | Full time employee                                                                                                                                                             | Engineer                                                                                                                                                                       | ...                                                                                                                                                                            | Yes, but they expired                                                                                                                                                          | 50                                                                                                                                                                             | None, or less than 1 day per week                                                                                                                                              | Private business                                                                                                                                                               | No                                                                                                                                                                             | Stay with the same employer, same role                                                                                                                                         | Male                                                                                                                                                                           | NA                                                                                                                                                                             | Build scripts & automation tools, Meetings & management, Projects, R&D                                                                                                         | 1                                                                                                                                                                              | \n",
       "| 2018                                                                                                                                                                           | 2017-12-18 20:11:50                                                                                                                                                            | 20500                                                                                                                                                                          | Argentina                                                                                                                                                                      | NA                                                                                                                                                                             | Microsoft SQL Server                                                                                                                                                           |  6                                                                                                                                                                             | Microsoft SQL Server, Azure SQL DB, Amazon RDS (any flavor)                                                                                                                    | Full time employee                                                                                                                                                             | DBA (Production Focus - build & troubleshoot servers, HA/DR)                                                                                                                   | ...                                                                                                                                                                            | Yes, and they're currently valid                                                                                                                                               | 50                                                                                                                                                                             | 3                                                                                                                                                                              | Private business                                                                                                                                                               | No                                                                                                                                                                             | Stay with the same employer, same role                                                                                                                                         | Male                                                                                                                                                                           | DBA (Development Focus - tunes queries, indexes, does deployments), DBA (General - splits time evenly between writing & tuning queries AND building & troubleshooting servers) | Build scripts & automation tools, Manual tasks, Meetings & management, On-call as part of a rotation, Training/teaching                                                        | 1                                                                                                                                                                              | \n",
       "| 2018                                                                                                                                                                           | 2017-12-19 09:13:49                                                                                                                                                            | 150,000                                                                                                                                                                        | United States                                                                                                                                                                  | 77396                                                                                                                                                                          | Microsoft SQL Server                                                                                                                                                           | 25                                                                                                                                                                             | Microsoft SQL Server, PostgreSQL, Azure SQL DB, Amazon RDS (any flavor)                                                                                                        | Full time employee                                                                                                                                                             | DBA (Production Focus - build & troubleshoot servers, HA/DR)                                                                                                                   | ...                                                                                                                                                                            | Yes, but they expired                                                                                                                                                          | 45                                                                                                                                                                             | 5 or more                                                                                                                                                                      | Private business                                                                                                                                                               | No                                                                                                                                                                             | Stay with the same employer, same role                                                                                                                                         | Male                                                                                                                                                                           | Architect                                                                                                                                                                      | Manual tasks, Meetings & management, On-call 24/7/365                                                                                                                          | 1                                                                                                                                                                              | \n",
       "| 2018                                                                                                                                                                           | 2017-12-23 20:03:26                                                                                                                                                            | 205000                                                                                                                                                                         | United States                                                                                                                                                                  | 98034                                                                                                                                                                          | Microsoft SQL Server                                                                                                                                                           | 20                                                                                                                                                                             | Microsoft SQL Server, Azure SQL DB                                                                                                                                             | Full time employee                                                                                                                                                             | Engineer                                                                                                                                                                       | ...                                                                                                                                                                            | Yes, but they expired                                                                                                                                                          | 40                                                                                                                                                                             | 1                                                                                                                                                                              | Private business                                                                                                                                                               | Yes, but only passively (just curious)                                                                                                                                         | Stay with the same employer,  but change roles                                                                                                                                 | Female                                                                                                                                                                         | Analyst, DBA (Production Focus - build & troubleshoot servers, HA/DR), Developer: Business Intelligence (SSRS, PowerBI, etc), Engineer                                         | Meetings & management, Projects, R&D, Training/teaching                                                                                                                        | 1                                                                                                                                                                              | \n",
       "| 2018                                                                                                                                                                           | 2017-12-19 15:13:10                                                                                                                                                            | 60000                                                                                                                                                                          | India                                                                                                                                                                          | NA                                                                                                                                                                             | Microsoft SQL Server                                                                                                                                                           | 12                                                                                                                                                                             | Microsoft SQL Server                                                                                                                                                           | Full time employee                                                                                                                                                             | DBA (Production Focus - build & troubleshoot servers, HA/DR)                                                                                                                   | ...                                                                                                                                                                            | Yes, but they expired                                                                                                                                                          | 56                                                                                                                                                                             | None, or less than 1 day per week                                                                                                                                              | State/province government                                                                                                                                                      | No                                                                                                                                                                             | Stay with the same employer,  but change roles                                                                                                                                 | Male                                                                                                                                                                           | NA                                                                                                                                                                             | NA                                                                                                                                                                             | 1                                                                                                                                                                              | \n",
       "| 2018                                                                                                                                                                           | 2018-01-02 03:03:12                                                                                                                                                            | 50000                                                                                                                                                                          | Spain                                                                                                                                                                          | NA                                                                                                                                                                             | Oracle                                                                                                                                                                         | 10                                                                                                                                                                             | Microsoft SQL Server, Oracle, SAP                                                                                                                                              | Full time employee                                                                                                                                                             | Analyst                                                                                                                                                                        | ...                                                                                                                                                                            | Yes, and they're currently valid                                                                                                                                               | 40                                                                                                                                                                             | 2                                                                                                                                                                              | Private business                                                                                                                                                               | No                                                                                                                                                                             | Stay with the same employer, same role                                                                                                                                         | Female                                                                                                                                                                         | Analyst, Data Scientist                                                                                                                                                        | Projects                                                                                                                                                                       | 1                                                                                                                                                                              | \n",
       "| 2018                                                                                                                                                                           | 2017-12-19 14:51:01                                                                                                                                                            | 235000                                                                                                                                                                         | United States                                                                                                                                                                  | 98059                                                                                                                                                                          | Teradata                                                                                                                                                                       |  5                                                                                                                                                                             | Microsoft SQL Server, Oracle, MySQL/MariaDB, PostgreSQL, MongoDB, Cassandra, Redis, Elasticsearch, Teradata, SAP, Hadoop/Hive/HBASE/Kylin                                      | Full time employee                                                                                                                                                             | Architect                                                                                                                                                                      | ...                                                                                                                                                                            | No, I never have                                                                                                                                                               | 45                                                                                                                                                                             | None, or less than 1 day per week                                                                                                                                              | Private business                                                                                                                                                               | No                                                                                                                                                                             | Stay with the same employer, same role                                                                                                                                         | Male                                                                                                                                                                           | Manager                                                                                                                                                                        | Meetings & management, Projects                                                                                                                                                | 1                                                                                                                                                                              | \n",
       "| 2018                                                                                                                                                                           | 2017-12-20 09:51:15                                                                                                                                                            | 125000                                                                                                                                                                         | United States                                                                                                                                                                  | 55340                                                                                                                                                                          | Microsoft SQL Server                                                                                                                                                           | 25                                                                                                                                                                             | Microsoft SQL Server, Azure SQL DB                                                                                                                                             | Full time employee                                                                                                                                                             | DBA (Production Focus - build & troubleshoot servers, HA/DR)                                                                                                                   | ...                                                                                                                                                                            | No, I never have                                                                                                                                                               | 45                                                                                                                                                                             | 5 or more                                                                                                                                                                      | Private business                                                                                                                                                               | Yes, but only passively (just curious)                                                                                                                                         | Prefer not to say                                                                                                                                                              | Female                                                                                                                                                                         | Architect, DBA (Production Focus - build & troubleshoot servers, HA/DR), Manager                                                                                               | On-call 24/7/365                                                                                                                                                               | 1                                                                                                                                                                              | \n",
       "| 2018                                                                                                                                                                           | 2017-12-14 11:16:45                                                                                                                                                            | 86,000                                                                                                                                                                         | United States                                                                                                                                                                  | 85041                                                                                                                                                                          | Microsoft SQL Server                                                                                                                                                           | 16                                                                                                                                                                             | DB2                                                                                                                                                                            | Full time employee                                                                                                                                                             | DBA (Production Focus - build & troubleshoot servers, HA/DR)                                                                                                                   | ...                                                                                                                                                                            | No, I never have                                                                                                                                                               | 44                                                                                                                                                                             | 1                                                                                                                                                                              | Private business                                                                                                                                                               | No                                                                                                                                                                             | Stay with the same employer, same role                                                                                                                                         | Female                                                                                                                                                                         | Analyst, DBA (Development Focus - tunes queries, indexes, does deployments), DBA (Production Focus - build & troubleshoot servers, HA/DR)                                      | Manual tasks, Meetings & management, On-call as part of a rotation, On-call 24/7/365, Projects, Training/teaching                                                              | 1                                                                                                                                                                              | \n",
       "| 2018                                                                                                                                                                           | 2017-12-19 18:26:50                                                                                                                                                            | 180000                                                                                                                                                                         | Australia                                                                                                                                                                      | 3000                                                                                                                                                                           | Oracle                                                                                                                                                                         |  4                                                                                                                                                                             | Microsoft SQL Server, Oracle, DB2                                                                                                                                              | Full time employee                                                                                                                                                             | Architect                                                                                                                                                                      | ...                                                                                                                                                                            | Yes, and they're currently valid                                                                                                                                               | 40                                                                                                                                                                             | 2                                                                                                                                                                              | Private business                                                                                                                                                               | Yes, but only passively (just curious)                                                                                                                                         | Stay with the same employer,  but change roles                                                                                                                                 | Male                                                                                                                                                                           | DBA (Development Focus - tunes queries, indexes, does deployments)                                                                                                             | Meetings & management, Projects, R&D                                                                                                                                           | 1                                                                                                                                                                              | \n",
       "\n",
       "\n"
      ],
      "text/plain": [
       "   Survey.Year Timestamp           SalaryUSD Country       PostalCode\n",
       "1  2018        2017-12-15 02:33:23 650000    United States 650000    \n",
       "2  2018        2017-12-18 20:11:50 20500     Argentina     NA        \n",
       "3  2018        2017-12-19 09:13:49 150,000   United States 77396     \n",
       "4  2018        2017-12-23 20:03:26 205000    United States 98034     \n",
       "5  2018        2017-12-19 15:13:10 60000     India         NA        \n",
       "6  2018        2018-01-02 03:03:12 50000     Spain         NA        \n",
       "7  2018        2017-12-19 14:51:01 235000    United States 98059     \n",
       "8  2018        2017-12-20 09:51:15 125000    United States 55340     \n",
       "9  2018        2017-12-14 11:16:45 86,000    United States 85041     \n",
       "10 2018        2017-12-19 18:26:50 180000    Australia     3000      \n",
       "   PrimaryDatabase         YearsWithThisDatabase\n",
       "1  Amazon RDS (any flavor) 10                   \n",
       "2  Microsoft SQL Server     6                   \n",
       "3  Microsoft SQL Server    25                   \n",
       "4  Microsoft SQL Server    20                   \n",
       "5  Microsoft SQL Server    12                   \n",
       "6  Oracle                  10                   \n",
       "7  Teradata                 5                   \n",
       "8  Microsoft SQL Server    25                   \n",
       "9  Microsoft SQL Server    16                   \n",
       "10 Oracle                   4                   \n",
       "   OtherDatabases                                                                                                                           \n",
       "1  Microsoft SQL Server, Oracle, MySQL/MariaDB, PostgreSQL, Elasticsearch                                                                   \n",
       "2  Microsoft SQL Server, Azure SQL DB, Amazon RDS (any flavor)                                                                              \n",
       "3  Microsoft SQL Server, PostgreSQL, Azure SQL DB, Amazon RDS (any flavor)                                                                  \n",
       "4  Microsoft SQL Server, Azure SQL DB                                                                                                       \n",
       "5  Microsoft SQL Server                                                                                                                     \n",
       "6  Microsoft SQL Server, Oracle, SAP                                                                                                        \n",
       "7  Microsoft SQL Server, Oracle, MySQL/MariaDB, PostgreSQL, MongoDB, Cassandra, Redis, Elasticsearch, Teradata, SAP, Hadoop/Hive/HBASE/Kylin\n",
       "8  Microsoft SQL Server, Azure SQL DB                                                                                                       \n",
       "9  DB2                                                                                                                                      \n",
       "10 Microsoft SQL Server, Oracle, DB2                                                                                                        \n",
       "   EmploymentStatus  \n",
       "1  Full time employee\n",
       "2  Full time employee\n",
       "3  Full time employee\n",
       "4  Full time employee\n",
       "5  Full time employee\n",
       "6  Full time employee\n",
       "7  Full time employee\n",
       "8  Full time employee\n",
       "9  Full time employee\n",
       "10 Full time employee\n",
       "   JobTitle                                                     ...\n",
       "1  Engineer                                                     ...\n",
       "2  DBA (Production Focus - build & troubleshoot servers, HA/DR) ...\n",
       "3  DBA (Production Focus - build & troubleshoot servers, HA/DR) ...\n",
       "4  Engineer                                                     ...\n",
       "5  DBA (Production Focus - build & troubleshoot servers, HA/DR) ...\n",
       "6  Analyst                                                      ...\n",
       "7  Architect                                                    ...\n",
       "8  DBA (Production Focus - build & troubleshoot servers, HA/DR) ...\n",
       "9  DBA (Production Focus - build & troubleshoot servers, HA/DR) ...\n",
       "10 Architect                                                    ...\n",
       "   Certifications                   HoursWorkedPerWeek\n",
       "1  Yes, but they expired            50                \n",
       "2  Yes, and they're currently valid 50                \n",
       "3  Yes, but they expired            45                \n",
       "4  Yes, but they expired            40                \n",
       "5  Yes, but they expired            56                \n",
       "6  Yes, and they're currently valid 40                \n",
       "7  No, I never have                 45                \n",
       "8  No, I never have                 45                \n",
       "9  No, I never have                 44                \n",
       "10 Yes, and they're currently valid 40                \n",
       "   TelecommuteDaysPerWeek            EmploymentSector         \n",
       "1  None, or less than 1 day per week Private business         \n",
       "2  3                                 Private business         \n",
       "3  5 or more                         Private business         \n",
       "4  1                                 Private business         \n",
       "5  None, or less than 1 day per week State/province government\n",
       "6  2                                 Private business         \n",
       "7  None, or less than 1 day per week Private business         \n",
       "8  5 or more                         Private business         \n",
       "9  1                                 Private business         \n",
       "10 2                                 Private business         \n",
       "   LookingForAnotherJob                  \n",
       "1  No                                    \n",
       "2  No                                    \n",
       "3  No                                    \n",
       "4  Yes, but only passively (just curious)\n",
       "5  No                                    \n",
       "6  No                                    \n",
       "7  No                                    \n",
       "8  Yes, but only passively (just curious)\n",
       "9  No                                    \n",
       "10 Yes, but only passively (just curious)\n",
       "   CareerPlansThisYear                            Gender\n",
       "1  Stay with the same employer, same role         Male  \n",
       "2  Stay with the same employer, same role         Male  \n",
       "3  Stay with the same employer, same role         Male  \n",
       "4  Stay with the same employer,  but change roles Female\n",
       "5  Stay with the same employer,  but change roles Male  \n",
       "6  Stay with the same employer, same role         Female\n",
       "7  Stay with the same employer, same role         Male  \n",
       "8  Prefer not to say                              Female\n",
       "9  Stay with the same employer, same role         Female\n",
       "10 Stay with the same employer,  but change roles Male  \n",
       "   OtherJobDuties                                                                                                                                                                \n",
       "1  NA                                                                                                                                                                            \n",
       "2  DBA (Development Focus - tunes queries, indexes, does deployments), DBA (General - splits time evenly between writing & tuning queries AND building & troubleshooting servers)\n",
       "3  Architect                                                                                                                                                                     \n",
       "4  Analyst, DBA (Production Focus - build & troubleshoot servers, HA/DR), Developer: Business Intelligence (SSRS, PowerBI, etc), Engineer                                        \n",
       "5  NA                                                                                                                                                                            \n",
       "6  Analyst, Data Scientist                                                                                                                                                       \n",
       "7  Manager                                                                                                                                                                       \n",
       "8  Architect, DBA (Production Focus - build & troubleshoot servers, HA/DR), Manager                                                                                              \n",
       "9  Analyst, DBA (Development Focus - tunes queries, indexes, does deployments), DBA (Production Focus - build & troubleshoot servers, HA/DR)                                     \n",
       "10 DBA (Development Focus - tunes queries, indexes, does deployments)                                                                                                            \n",
       "   KindsOfTasksPerformed                                                                                                  \n",
       "1  Build scripts & automation tools, Meetings & management, Projects, R&D                                                 \n",
       "2  Build scripts & automation tools, Manual tasks, Meetings & management, On-call as part of a rotation, Training/teaching\n",
       "3  Manual tasks, Meetings & management, On-call 24/7/365                                                                  \n",
       "4  Meetings & management, Projects, R&D, Training/teaching                                                                \n",
       "5  NA                                                                                                                     \n",
       "6  Projects                                                                                                               \n",
       "7  Meetings & management, Projects                                                                                        \n",
       "8  On-call 24/7/365                                                                                                       \n",
       "9  Manual tasks, Meetings & management, On-call as part of a rotation, On-call 24/7/365, Projects, Training/teaching      \n",
       "10 Meetings & management, Projects, R&D                                                                                   \n",
       "   Counter\n",
       "1  1      \n",
       "2  1      \n",
       "3  1      \n",
       "4  1      \n",
       "5  1      \n",
       "6  1      \n",
       "7  1      \n",
       "8  1      \n",
       "9  1      \n",
       "10 1      "
      ]
     },
     "metadata": {},
     "output_type": "display_data"
    }
   ],
   "source": [
    "survey_2018 %>%\n",
    "  distinct(DatabaseServers) %>%\n",
    "  arrange(desc(DatabaseServers)) %>%\n",
    "  top_n(10, DatabaseServers)\n",
    "\n",
    "survey_2018 %>%\n",
    "  filter(DatabaseServers >= 5000) %>%\n",
    "  arrange(desc(DatabaseServers))"
   ]
  },
  {
   "cell_type": "markdown",
   "metadata": {},
   "source": [
    "The first entry looks like bogus data:  a $650K salary, a matching postal code, and 500K database servers, primarily in RDS?  Nope, I don't buy it.\n",
    "\n",
    "The rest don't really look out of place, except that I think they put in the number of **databases** and not **servers**.  For these entrants, I'll change the number of servers to the median to avoid distorting things.\n",
    "\n",
    "Now let's look at hours per week:"
   ]
  },
  {
   "cell_type": "code",
   "execution_count": 15,
   "metadata": {},
   "outputs": [
    {
     "data": {
      "text/html": [
       "<table>\n",
       "<thead><tr><th scope=col>HoursWorkedPerWeek</th></tr></thead>\n",
       "<tbody>\n",
       "\t<tr><td>200</td></tr>\n",
       "\t<tr><td> 93</td></tr>\n",
       "\t<tr><td> 90</td></tr>\n",
       "\t<tr><td> 85</td></tr>\n",
       "\t<tr><td> 80</td></tr>\n",
       "\t<tr><td> 78</td></tr>\n",
       "\t<tr><td> 76</td></tr>\n",
       "\t<tr><td> 75</td></tr>\n",
       "\t<tr><td> 70</td></tr>\n",
       "\t<tr><td> 68</td></tr>\n",
       "</tbody>\n",
       "</table>\n"
      ],
      "text/latex": [
       "\\begin{tabular}{r|l}\n",
       " HoursWorkedPerWeek\\\\\n",
       "\\hline\n",
       "\t 200\\\\\n",
       "\t  93\\\\\n",
       "\t  90\\\\\n",
       "\t  85\\\\\n",
       "\t  80\\\\\n",
       "\t  78\\\\\n",
       "\t  76\\\\\n",
       "\t  75\\\\\n",
       "\t  70\\\\\n",
       "\t  68\\\\\n",
       "\\end{tabular}\n"
      ],
      "text/markdown": [
       "\n",
       "HoursWorkedPerWeek | \n",
       "|---|---|---|---|---|---|---|---|---|---|\n",
       "| 200 | \n",
       "|  93 | \n",
       "|  90 | \n",
       "|  85 | \n",
       "|  80 | \n",
       "|  78 | \n",
       "|  76 | \n",
       "|  75 | \n",
       "|  70 | \n",
       "|  68 | \n",
       "\n",
       "\n"
      ],
      "text/plain": [
       "   HoursWorkedPerWeek\n",
       "1  200               \n",
       "2   93               \n",
       "3   90               \n",
       "4   85               \n",
       "5   80               \n",
       "6   78               \n",
       "7   76               \n",
       "8   75               \n",
       "9   70               \n",
       "10  68               "
      ]
     },
     "metadata": {},
     "output_type": "display_data"
    }
   ],
   "source": [
    "survey_2018 %>%\n",
    "  distinct(HoursWorkedPerWeek) %>%\n",
    "  arrange(desc(HoursWorkedPerWeek)) %>%\n",
    "  top_n(10, HoursWorkedPerWeek)"
   ]
  },
  {
   "cell_type": "markdown",
   "metadata": {},
   "source": [
    "To the person who works 200 hours per week:  find a new job.  Your ability to pack more than 7\\*24 hours of work into 7 days is too good to waste on a job making just $120K per year."
   ]
  },
  {
   "cell_type": "code",
   "execution_count": 16,
   "metadata": {},
   "outputs": [
    {
     "data": {
      "text/html": [
       "<table>\n",
       "<thead><tr><th scope=col>Survey.Year</th><th scope=col>Timestamp</th><th scope=col>SalaryUSD</th><th scope=col>Country</th><th scope=col>PostalCode</th><th scope=col>PrimaryDatabase</th><th scope=col>YearsWithThisDatabase</th><th scope=col>OtherDatabases</th><th scope=col>EmploymentStatus</th><th scope=col>JobTitle</th><th scope=col>...</th><th scope=col>Certifications</th><th scope=col>HoursWorkedPerWeek</th><th scope=col>TelecommuteDaysPerWeek</th><th scope=col>EmploymentSector</th><th scope=col>LookingForAnotherJob</th><th scope=col>CareerPlansThisYear</th><th scope=col>Gender</th><th scope=col>OtherJobDuties</th><th scope=col>KindsOfTasksPerformed</th><th scope=col>Counter</th></tr></thead>\n",
       "<tbody>\n",
       "\t<tr><td>2018                                                                                                                                                                                                                                                                             </td><td>2018-01-03 10:28:45                                                                                                                                                                                                                                                              </td><td>120,000                                                                                                                                                                                                                                                                          </td><td>Israel                                                                                                                                                                                                                                                                           </td><td>NA                                                                                                                                                                                                                                                                               </td><td>Microsoft SQL Server                                                                                                                                                                                                                                                             </td><td>5                                                                                                                                                                                                                                                                                </td><td>Microsoft SQL Server                                                                                                                                                                                                                                                             </td><td>Full time employee                                                                                                                                                                                                                                                               </td><td>Manager                                                                                                                                                                                                                                                                          </td><td>...                                                                                                                                                                                                                                                                              </td><td>No, I never have                                                                                                                                                                                                                                                                 </td><td>200                                                                                                                                                                                                                                                                              </td><td>None, or less than 1 day per week                                                                                                                                                                                                                                                </td><td>Private business                                                                                                                                                                                                                                                                 </td><td>No                                                                                                                                                                                                                                                                               </td><td>Stay with the same employer, same role                                                                                                                                                                                                                                           </td><td>Male                                                                                                                                                                                                                                                                             </td><td>Architect, DBA (Production Focus - build &amp; troubleshoot servers, HA/DR), DBA (General - splits time evenly between writing &amp; tuning queries AND building &amp; troubleshooting servers), Developer: Business Intelligence (SSRS, PowerBI, etc), Developer: T-SQL, Manager</td><td>Build scripts &amp; automation tools, Meetings &amp; management, On-call 24/7/365, Projects, R&amp;D                                                                                                                                                                             </td><td>1                                                                                                                                                                                                                                                                                </td></tr>\n",
       "</tbody>\n",
       "</table>\n"
      ],
      "text/latex": [
       "\\begin{tabular}{r|llllllllllllllllllllllllll}\n",
       " Survey.Year & Timestamp & SalaryUSD & Country & PostalCode & PrimaryDatabase & YearsWithThisDatabase & OtherDatabases & EmploymentStatus & JobTitle & ... & Certifications & HoursWorkedPerWeek & TelecommuteDaysPerWeek & EmploymentSector & LookingForAnotherJob & CareerPlansThisYear & Gender & OtherJobDuties & KindsOfTasksPerformed & Counter\\\\\n",
       "\\hline\n",
       "\t 2018                                                                                                                                                                                                                                                                        & 2018-01-03 10:28:45                                                                                                                                                                                                                                                         & 120,000                                                                                                                                                                                                                                                                     & Israel                                                                                                                                                                                                                                                                      & NA                                                                                                                                                                                                                                                                          & Microsoft SQL Server                                                                                                                                                                                                                                                        & 5                                                                                                                                                                                                                                                                           & Microsoft SQL Server                                                                                                                                                                                                                                                        & Full time employee                                                                                                                                                                                                                                                          & Manager                                                                                                                                                                                                                                                                     & ...                                                                                                                                                                                                                                                                         & No, I never have                                                                                                                                                                                                                                                            & 200                                                                                                                                                                                                                                                                         & None, or less than 1 day per week                                                                                                                                                                                                                                           & Private business                                                                                                                                                                                                                                                            & No                                                                                                                                                                                                                                                                          & Stay with the same employer, same role                                                                                                                                                                                                                                      & Male                                                                                                                                                                                                                                                                        & Architect, DBA (Production Focus - build \\& troubleshoot servers, HA/DR), DBA (General - splits time evenly between writing \\& tuning queries AND building \\& troubleshooting servers), Developer: Business Intelligence (SSRS, PowerBI, etc), Developer: T-SQL, Manager & Build scripts \\& automation tools, Meetings \\& management, On-call 24/7/365, Projects, R\\&D                                                                                                                                                                              & 1                                                                                                                                                                                                                                                                          \\\\\n",
       "\\end{tabular}\n"
      ],
      "text/markdown": [
       "\n",
       "Survey.Year | Timestamp | SalaryUSD | Country | PostalCode | PrimaryDatabase | YearsWithThisDatabase | OtherDatabases | EmploymentStatus | JobTitle | ... | Certifications | HoursWorkedPerWeek | TelecommuteDaysPerWeek | EmploymentSector | LookingForAnotherJob | CareerPlansThisYear | Gender | OtherJobDuties | KindsOfTasksPerformed | Counter | \n",
       "|---|\n",
       "| 2018                                                                                                                                                                                                                                                                  | 2018-01-03 10:28:45                                                                                                                                                                                                                                                   | 120,000                                                                                                                                                                                                                                                               | Israel                                                                                                                                                                                                                                                                | NA                                                                                                                                                                                                                                                                    | Microsoft SQL Server                                                                                                                                                                                                                                                  | 5                                                                                                                                                                                                                                                                     | Microsoft SQL Server                                                                                                                                                                                                                                                  | Full time employee                                                                                                                                                                                                                                                    | Manager                                                                                                                                                                                                                                                               | ...                                                                                                                                                                                                                                                                   | No, I never have                                                                                                                                                                                                                                                      | 200                                                                                                                                                                                                                                                                   | None, or less than 1 day per week                                                                                                                                                                                                                                     | Private business                                                                                                                                                                                                                                                      | No                                                                                                                                                                                                                                                                    | Stay with the same employer, same role                                                                                                                                                                                                                                | Male                                                                                                                                                                                                                                                                  | Architect, DBA (Production Focus - build & troubleshoot servers, HA/DR), DBA (General - splits time evenly between writing & tuning queries AND building & troubleshooting servers), Developer: Business Intelligence (SSRS, PowerBI, etc), Developer: T-SQL, Manager | Build scripts & automation tools, Meetings & management, On-call 24/7/365, Projects, R&D                                                                                                                                                                              | 1                                                                                                                                                                                                                                                                     | \n",
       "\n",
       "\n"
      ],
      "text/plain": [
       "  Survey.Year Timestamp           SalaryUSD Country PostalCode\n",
       "1 2018        2018-01-03 10:28:45 120,000   Israel  NA        \n",
       "  PrimaryDatabase      YearsWithThisDatabase OtherDatabases      \n",
       "1 Microsoft SQL Server 5                     Microsoft SQL Server\n",
       "  EmploymentStatus   JobTitle ... Certifications   HoursWorkedPerWeek\n",
       "1 Full time employee Manager  ... No, I never have 200               \n",
       "  TelecommuteDaysPerWeek            EmploymentSector LookingForAnotherJob\n",
       "1 None, or less than 1 day per week Private business No                  \n",
       "  CareerPlansThisYear                    Gender\n",
       "1 Stay with the same employer, same role Male  \n",
       "  OtherJobDuties                                                                                                                                                                                                                                                       \n",
       "1 Architect, DBA (Production Focus - build & troubleshoot servers, HA/DR), DBA (General - splits time evenly between writing & tuning queries AND building & troubleshooting servers), Developer: Business Intelligence (SSRS, PowerBI, etc), Developer: T-SQL, Manager\n",
       "  KindsOfTasksPerformed                                                                   \n",
       "1 Build scripts & automation tools, Meetings & management, On-call 24/7/365, Projects, R&D\n",
       "  Counter\n",
       "1 1      "
      ]
     },
     "metadata": {},
     "output_type": "display_data"
    }
   ],
   "source": [
    "survey_2018 %>%\n",
    "  filter(HoursWorkedPerWeek >= 168) %>%\n",
    "  arrange(desc(HoursWorkedPerWeek))"
   ]
  },
  {
   "cell_type": "markdown",
   "metadata": {},
   "source": [
    "As far as Gender goes, there are only three with enough records to be significant:  Male, Female, and Prefer not to say.  We'll take Male and Female and bundle the rest under \"Other\" to get a small but not entirely insignificant set there."
   ]
  },
  {
   "cell_type": "code",
   "execution_count": 17,
   "metadata": {},
   "outputs": [
    {
     "data": {
      "text/html": [
       "<table>\n",
       "<thead><tr><th scope=col>Gender</th><th scope=col>n</th></tr></thead>\n",
       "<tbody>\n",
       "\t<tr><td>Alien                                                                     </td><td>   1                                                                      </td></tr>\n",
       "\t<tr><td>Any human one                                                             </td><td>   1                                                                      </td></tr>\n",
       "\t<tr><td>Attack Helicopter                                                         </td><td>   2                                                                      </td></tr>\n",
       "\t<tr><td>Attack Helicopter (M)                                                     </td><td>   1                                                                      </td></tr>\n",
       "\t<tr><td>Attack Helicopter. (serious dude, gender questions?)                      </td><td>   1                                                                      </td></tr>\n",
       "\t<tr><td>Attackhelicopter with rabbitears and afro-icelandic teeth                 </td><td>   1                                                                      </td></tr>\n",
       "\t<tr><td>confused                                                                  </td><td>   1                                                                      </td></tr>\n",
       "\t<tr><td>Cyborg                                                                    </td><td>   1                                                                      </td></tr>\n",
       "\t<tr><td>Dragon                                                                    </td><td>   1                                                                      </td></tr>\n",
       "\t<tr><td>Female                                                                    </td><td> 324                                                                      </td></tr>\n",
       "\t<tr><td>Grayson Perry                                                             </td><td>   1                                                                      </td></tr>\n",
       "\t<tr><td>Male                                                                      </td><td>2727                                                                      </td></tr>\n",
       "\t<tr><td>Meat Popsicle                                                             </td><td>   1                                                                      </td></tr>\n",
       "\t<tr><td>Muppet                                                                    </td><td>   1                                                                      </td></tr>\n",
       "\t<tr><td>Non-binary/third gender                                                   </td><td>   7                                                                      </td></tr>\n",
       "\t<tr><td>Prefer not to say                                                         </td><td>  37                                                                      </td></tr>\n",
       "\t<tr><td>Reptilian                                                                 </td><td>   1                                                                      </td></tr>\n",
       "\t<tr><td>There are only two genders for people, either male or female. I am a male.</td><td>   1                                                                      </td></tr>\n",
       "\t<tr><td>This question is inappropriate.                                           </td><td>   1                                                                      </td></tr>\n",
       "\t<tr><td>toad frog                                                                 </td><td>   1                                                                      </td></tr>\n",
       "\t<tr><td>Vulcan                                                                    </td><td>   1                                                                      </td></tr>\n",
       "</tbody>\n",
       "</table>\n"
      ],
      "text/latex": [
       "\\begin{tabular}{r|ll}\n",
       " Gender & n\\\\\n",
       "\\hline\n",
       "\t Alien                                                                      &    1                                                                      \\\\\n",
       "\t Any human one                                                              &    1                                                                      \\\\\n",
       "\t Attack Helicopter                                                          &    2                                                                      \\\\\n",
       "\t Attack Helicopter (M)                                                      &    1                                                                      \\\\\n",
       "\t Attack Helicopter. (serious dude, gender questions?)                       &    1                                                                      \\\\\n",
       "\t Attackhelicopter with rabbitears and afro-icelandic teeth                  &    1                                                                      \\\\\n",
       "\t confused                                                                   &    1                                                                      \\\\\n",
       "\t Cyborg                                                                     &    1                                                                      \\\\\n",
       "\t Dragon                                                                     &    1                                                                      \\\\\n",
       "\t Female                                                                     &  324                                                                      \\\\\n",
       "\t Grayson Perry                                                              &    1                                                                      \\\\\n",
       "\t Male                                                                       & 2727                                                                      \\\\\n",
       "\t Meat Popsicle                                                              &    1                                                                      \\\\\n",
       "\t Muppet                                                                     &    1                                                                      \\\\\n",
       "\t Non-binary/third gender                                                    &    7                                                                      \\\\\n",
       "\t Prefer not to say                                                          &   37                                                                      \\\\\n",
       "\t Reptilian                                                                  &    1                                                                      \\\\\n",
       "\t There are only two genders for people, either male or female. I am a male. &    1                                                                      \\\\\n",
       "\t This question is inappropriate.                                            &    1                                                                      \\\\\n",
       "\t toad frog                                                                  &    1                                                                      \\\\\n",
       "\t Vulcan                                                                     &    1                                                                      \\\\\n",
       "\\end{tabular}\n"
      ],
      "text/markdown": [
       "\n",
       "Gender | n | \n",
       "|---|---|---|---|---|---|---|---|---|---|---|---|---|---|---|---|---|---|---|---|---|\n",
       "| Alien                                                                      |    1                                                                       | \n",
       "| Any human one                                                              |    1                                                                       | \n",
       "| Attack Helicopter                                                          |    2                                                                       | \n",
       "| Attack Helicopter (M)                                                      |    1                                                                       | \n",
       "| Attack Helicopter. (serious dude, gender questions?)                       |    1                                                                       | \n",
       "| Attackhelicopter with rabbitears and afro-icelandic teeth                  |    1                                                                       | \n",
       "| confused                                                                   |    1                                                                       | \n",
       "| Cyborg                                                                     |    1                                                                       | \n",
       "| Dragon                                                                     |    1                                                                       | \n",
       "| Female                                                                     |  324                                                                       | \n",
       "| Grayson Perry                                                              |    1                                                                       | \n",
       "| Male                                                                       | 2727                                                                       | \n",
       "| Meat Popsicle                                                              |    1                                                                       | \n",
       "| Muppet                                                                     |    1                                                                       | \n",
       "| Non-binary/third gender                                                    |    7                                                                       | \n",
       "| Prefer not to say                                                          |   37                                                                       | \n",
       "| Reptilian                                                                  |    1                                                                       | \n",
       "| There are only two genders for people, either male or female. I am a male. |    1                                                                       | \n",
       "| This question is inappropriate.                                            |    1                                                                       | \n",
       "| toad frog                                                                  |    1                                                                       | \n",
       "| Vulcan                                                                     |    1                                                                       | \n",
       "\n",
       "\n"
      ],
      "text/plain": [
       "   Gender                                                                    \n",
       "1  Alien                                                                     \n",
       "2  Any human one                                                             \n",
       "3  Attack Helicopter                                                         \n",
       "4  Attack Helicopter (M)                                                     \n",
       "5  Attack Helicopter. (serious dude, gender questions?)                      \n",
       "6  Attackhelicopter with rabbitears and afro-icelandic teeth                 \n",
       "7  confused                                                                  \n",
       "8  Cyborg                                                                    \n",
       "9  Dragon                                                                    \n",
       "10 Female                                                                    \n",
       "11 Grayson Perry                                                             \n",
       "12 Male                                                                      \n",
       "13 Meat Popsicle                                                             \n",
       "14 Muppet                                                                    \n",
       "15 Non-binary/third gender                                                   \n",
       "16 Prefer not to say                                                         \n",
       "17 Reptilian                                                                 \n",
       "18 There are only two genders for people, either male or female. I am a male.\n",
       "19 This question is inappropriate.                                           \n",
       "20 toad frog                                                                 \n",
       "21 Vulcan                                                                    \n",
       "   n   \n",
       "1     1\n",
       "2     1\n",
       "3     2\n",
       "4     1\n",
       "5     1\n",
       "6     1\n",
       "7     1\n",
       "8     1\n",
       "9     1\n",
       "10  324\n",
       "11    1\n",
       "12 2727\n",
       "13    1\n",
       "14    1\n",
       "15    7\n",
       "16   37\n",
       "17    1\n",
       "18    1\n",
       "19    1\n",
       "20    1\n",
       "21    1"
      ]
     },
     "metadata": {},
     "output_type": "display_data"
    }
   ],
   "source": [
    "survey_2018 %>%\n",
    "  group_by(Gender) %>%\n",
    "  summarize(n = n())"
   ]
  },
  {
   "cell_type": "code",
   "execution_count": 18,
   "metadata": {},
   "outputs": [
    {
     "data": {
      "text/html": [
       "<table>\n",
       "<thead><tr><th scope=col>Country</th><th scope=col>n</th></tr></thead>\n",
       "<tbody>\n",
       "\t<tr><td>Australia     </td><td>  91          </td></tr>\n",
       "\t<tr><td>Canada        </td><td> 110          </td></tr>\n",
       "\t<tr><td>Denmark       </td><td>  22          </td></tr>\n",
       "\t<tr><td>France        </td><td>  21          </td></tr>\n",
       "\t<tr><td>Germany       </td><td>  35          </td></tr>\n",
       "\t<tr><td>India         </td><td>  40          </td></tr>\n",
       "\t<tr><td>Netherlands   </td><td>  35          </td></tr>\n",
       "\t<tr><td>New Zealand   </td><td>  23          </td></tr>\n",
       "\t<tr><td>Poland        </td><td>  21          </td></tr>\n",
       "\t<tr><td>Romania       </td><td>  21          </td></tr>\n",
       "\t<tr><td>Russia        </td><td>  23          </td></tr>\n",
       "\t<tr><td>South Africa  </td><td>  25          </td></tr>\n",
       "\t<tr><td>Sweden        </td><td>  47          </td></tr>\n",
       "\t<tr><td>United Kingdom</td><td> 302          </td></tr>\n",
       "\t<tr><td>United States </td><td>2028          </td></tr>\n",
       "</tbody>\n",
       "</table>\n"
      ],
      "text/latex": [
       "\\begin{tabular}{r|ll}\n",
       " Country & n\\\\\n",
       "\\hline\n",
       "\t Australia      &   91          \\\\\n",
       "\t Canada         &  110          \\\\\n",
       "\t Denmark        &   22          \\\\\n",
       "\t France         &   21          \\\\\n",
       "\t Germany        &   35          \\\\\n",
       "\t India          &   40          \\\\\n",
       "\t Netherlands    &   35          \\\\\n",
       "\t New Zealand    &   23          \\\\\n",
       "\t Poland         &   21          \\\\\n",
       "\t Romania        &   21          \\\\\n",
       "\t Russia         &   23          \\\\\n",
       "\t South Africa   &   25          \\\\\n",
       "\t Sweden         &   47          \\\\\n",
       "\t United Kingdom &  302          \\\\\n",
       "\t United States  & 2028          \\\\\n",
       "\\end{tabular}\n"
      ],
      "text/markdown": [
       "\n",
       "Country | n | \n",
       "|---|---|---|---|---|---|---|---|---|---|---|---|---|---|---|\n",
       "| Australia      |   91           | \n",
       "| Canada         |  110           | \n",
       "| Denmark        |   22           | \n",
       "| France         |   21           | \n",
       "| Germany        |   35           | \n",
       "| India          |   40           | \n",
       "| Netherlands    |   35           | \n",
       "| New Zealand    |   23           | \n",
       "| Poland         |   21           | \n",
       "| Romania        |   21           | \n",
       "| Russia         |   23           | \n",
       "| South Africa   |   25           | \n",
       "| Sweden         |   47           | \n",
       "| United Kingdom |  302           | \n",
       "| United States  | 2028           | \n",
       "\n",
       "\n"
      ],
      "text/plain": [
       "   Country        n   \n",
       "1  Australia        91\n",
       "2  Canada          110\n",
       "3  Denmark          22\n",
       "4  France           21\n",
       "5  Germany          35\n",
       "6  India            40\n",
       "7  Netherlands      35\n",
       "8  New Zealand      23\n",
       "9  Poland           21\n",
       "10 Romania          21\n",
       "11 Russia           23\n",
       "12 South Africa     25\n",
       "13 Sweden           47\n",
       "14 United Kingdom  302\n",
       "15 United States  2028"
      ]
     },
     "metadata": {},
     "output_type": "display_data"
    }
   ],
   "source": [
    "survey_2018 %>%\n",
    "  group_by(Country) %>%\n",
    "  summarize(n = n()) %>%\n",
    "  filter(n >= 20)"
   ]
  },
  {
   "cell_type": "markdown",
   "metadata": {},
   "source": [
    "There are only fifteen countries with at least 20 data points and just eight with at least 30.  This means that we won't get a great amount of information from cross-country comparisons outside of the sample.  Frankly, I might want to limit this to just the US, UK, Canada, and Australia, as the rest are marginal, but for this survey analysis, I'll keep the other eleven."
   ]
  },
  {
   "cell_type": "markdown",
   "metadata": {},
   "source": [
    "#### Building Our Cleaned-Up Data Set\n",
    "\n",
    "Now that we've performed some basic analysis, we will clean up the data set.  I'm doing most of the cleanup in a single operation, but I do have some comment notes here, particularly around the oddities with SalaryUSD.  The SalaryUSD column has a few problems:\n",
    "* Some people put in pennies, which aren't really that important at the level we're discussing.  I want to strip them out.\n",
    "* Some people put in delimiters like commas or decimal points (which act as commas in countries like Germany).  I want to strip them out, particularly because the decimal point might interfere with my analysis, turning 100.000 to \\$100 instead of \\$100K.\n",
    "* Some people included the dollar sign, so remove that, as well as any spaces.\n",
    "\n",
    "It's not a perfect regex, but it did seem to fix the problems in this data set at least."
   ]
  },
  {
   "cell_type": "code",
   "execution_count": 22,
   "metadata": {},
   "outputs": [],
   "source": [
    "valid_countries <- survey_2018 %>%\n",
    "                    group_by(Country) %>%\n",
    "                    summarize(n = n()) %>%\n",
    "                    filter(n >= 20)\n",
    "\n",
    "# Data cleanup\n",
    "survey_2018 <- salary_data %>%\n",
    "  filter(Survey.Year == 2018) %>%\n",
    "  filter(HoursWorkedPerWeek < 200) %>%\n",
    "  # There were only two students in the survey, so we will exclude them here.\n",
    "  filter(EmploymentSector != \"Student\") %>%\n",
    "  inner_join(valid_countries, by=\"Country\") %>%\n",
    "  mutate(\n",
    "    SalaryUSD = stringr::str_replace_all(SalaryUSD, \"\\\\$\", \"\") %>%\n",
    "      stringr::str_replace_all(., \",\", \"\") %>%\n",
    "      stringr::str_replace_all(., \" \", \"\") %>%\n",
    "      # Some people put in pennies.  Let's remove anything with a decimal point and then two numbers.\n",
    "      stringr::str_replace_all(., stringr::regex(\"\\\\.[0-9]{2}$\"), \"\") %>%\n",
    "      # Now any decimal points remaining are formatting characters.\n",
    "      stringr::str_replace_all(., \"\\\\.\", \"\") %>%\n",
    "      as.numeric(.),\n",
    "    # Some people have entered bad values here, so set them to the median.\n",
    "    YearsWithThisDatabase = case_when(\n",
    "      (YearsWithThisDatabase > 32) ~ median(YearsWithThisDatabase),\n",
    "      TRUE ~ YearsWithThisDatabase\n",
    "    ),\n",
    "    # Some people apparently entered number of databases rather than number of servers.\n",
    "    DatabaseServers = case_when(\n",
    "      (DatabaseServers >= 5000) ~ median(DatabaseServers),\n",
    "      TRUE ~ DatabaseServers\n",
    "    ),\n",
    "    EmploymentStatus = as.factor(EmploymentStatus),\n",
    "    JobTitle = as.factor(JobTitle),\n",
    "    ManageStaff = as.factor(ManageStaff),\n",
    "    OtherPeopleOnYourTeam = as.factor(OtherPeopleOnYourTeam),\n",
    "    Education = as.factor(Education),\n",
    "    EducationIsComputerRelated = as.factor(EducationIsComputerRelated),\n",
    "    Certifications = as.factor(Certifications),\n",
    "    TelecommuteDaysPerWeek = as.factor(TelecommuteDaysPerWeek),\n",
    "    EmploymentSector = as.factor(EmploymentSector),\n",
    "    LookingForAnotherJob = as.factor(LookingForAnotherJob),\n",
    "    CareerPlansThisYear = as.factor(CareerPlansThisYear),\n",
    "    Gender = as.factor(case_when(\n",
    "      (Gender == \"Male\") ~ \"Male\",\n",
    "      (Gender == \"Female\") ~ \"Female\",\n",
    "      TRUE ~ \"Other\"\n",
    "    ))\n",
    "  ) "
   ]
  },
  {
   "cell_type": "markdown",
   "metadata": {},
   "source": [
    "Now we can pare out variables we don't need.  Some of these, like postal code, are interesting but we just don't have enough data for it to make sense.  Others, like Kinds of Tasks Performed or Other Job Duties, have too many varieties for us to make much sense with a first pass.  They might be interesting in a subsequent analysis, though."
   ]
  },
  {
   "cell_type": "code",
   "execution_count": 23,
   "metadata": {},
   "outputs": [],
   "source": [
    "survey_2018 <- survey_2018 %>%\n",
    "  # One person had a salary of zero.  That's just not right.\n",
    "  filter(SalaryUSD > 0) %>%\n",
    "  select(-Counter, -KindsOfTasksPerformed, -OtherJobDuties, -OtherDatabases, -Timestamp, -Survey.Year, \n",
    "         -PostalCode, -n, -PrimaryDatabase)"
   ]
  },
  {
   "cell_type": "markdown",
   "metadata": {},
   "source": [
    "Now that we have our salary data fixed, we can finally look at outliers.  I'd consider a salary of \\\\$500K a year to be a bit weird for this field.  It's not impossible, but I am a little suspicious.  I am very suspicious of the part-timer making \\\\$1.375 million, the federal employee making \\\\$1 million, or the New Zealander making \\\\$630K at a non-profit.\n",
    "\n",
    "I'm kind of taking a risk by removing these, "
   ]
  },
  {
   "cell_type": "code",
   "execution_count": 24,
   "metadata": {},
   "outputs": [
    {
     "data": {
      "text/html": [
       "<table>\n",
       "<thead><tr><th scope=col>SalaryUSD</th><th scope=col>Country</th><th scope=col>YearsWithThisDatabase</th><th scope=col>EmploymentStatus</th><th scope=col>JobTitle</th><th scope=col>ManageStaff</th><th scope=col>YearsWithThisTypeOfJob</th><th scope=col>OtherPeopleOnYourTeam</th><th scope=col>DatabaseServers</th><th scope=col>Education</th><th scope=col>EducationIsComputerRelated</th><th scope=col>Certifications</th><th scope=col>HoursWorkedPerWeek</th><th scope=col>TelecommuteDaysPerWeek</th><th scope=col>EmploymentSector</th><th scope=col>LookingForAnotherJob</th><th scope=col>CareerPlansThisYear</th><th scope=col>Gender</th></tr></thead>\n",
       "<tbody>\n",
       "\t<tr><td>1450000                                                                                                           </td><td>United States                                                                                                     </td><td>20                                                                                                                </td><td><span style=white-space:pre-wrap>Full time employee                                               </span>         </td><td>DBA (General - splits time evenly between writing &amp; tuning queries AND building &amp; troubleshooting servers)</td><td>Yes                                                                                                               </td><td>10                                                                                                                </td><td>None                                                                                                              </td><td><span style=white-space:pre-wrap>  10</span>                                                                      </td><td><span style=white-space:pre-wrap>Bachelors (4 years)       </span>                                                </td><td>Yes                                                                                                               </td><td><span style=white-space:pre-wrap>Yes, but they expired           </span>                                          </td><td>45                                                                                                                </td><td><span style=white-space:pre-wrap>5 or more                        </span>                                         </td><td><span style=white-space:pre-wrap>Private business  </span>                                                        </td><td>Yes, but only passively (just curious)                                                                            </td><td><span style=white-space:pre-wrap>Stay with the same employer,  but change roles</span>                            </td><td>Male                                                                                                              </td></tr>\n",
       "\t<tr><td>1375000                                                                                                   </td><td>United States                                                                                             </td><td> 8                                                                                                        </td><td>Part time                                                                                                 </td><td>Developer: Business Intelligence (SSRS, PowerBI, etc)                                                     </td><td>Yes                                                                                                       </td><td>18                                                                                                        </td><td>None                                                                                                      </td><td>   1                                                                                                      </td><td>Masters                                                                                                   </td><td>No                                                                                                        </td><td>No, I never have                                                                                          </td><td>32                                                                                                        </td><td>1                                                                                                         </td><td>Private business                                                                                          </td><td>No                                                                                                        </td><td>Stay with the same employer,  but change roles                                                            </td><td>Male                                                                                                      </td></tr>\n",
       "\t<tr><td>1000000                                                                                                                                               </td><td>United States                                                                                                                                         </td><td>10                                                                                                                                                    </td><td><span style=white-space:pre-wrap>Independent consultant, contractor, freelancer,  or company owner</span>                                             </td><td><span style=white-space:pre-wrap>DBA (Production Focus - build &amp; troubleshoot servers, HA/DR)                                              </span></td><td>Yes                                                                                                                                                   </td><td> 3                                                                                                                                                    </td><td>None                                                                                                                                                  </td><td>1000                                                                                                                                                  </td><td><span style=white-space:pre-wrap>Doctorate/PhD             </span>                                                                                    </td><td>Yes                                                                                                                                                   </td><td>Yes, and they're currently valid                                                                                                                      </td><td>80                                                                                                                                                    </td><td><span style=white-space:pre-wrap>5 or more                        </span>                                                                             </td><td>Federal government                                                                                                                                    </td><td><span style=white-space:pre-wrap>No                                    </span>                                                                        </td><td><span style=white-space:pre-wrap>Stay with the same employer, same role        </span>                                                                </td><td>Male                                                                                                                                                  </td></tr>\n",
       "\t<tr><td> 960000                                                                                                           </td><td>United States                                                                                                     </td><td>10                                                                                                                </td><td><span style=white-space:pre-wrap>Full time employee                                               </span>         </td><td>DBA (General - splits time evenly between writing &amp; tuning queries AND building &amp; troubleshooting servers)</td><td>Yes                                                                                                               </td><td> 8                                                                                                                </td><td><span style=white-space:pre-wrap>1   </span>                                                                      </td><td><span style=white-space:pre-wrap>   6</span>                                                                      </td><td><span style=white-space:pre-wrap>Associates (2 years)      </span>                                                </td><td>No                                                                                                                </td><td><span style=white-space:pre-wrap>Yes, but they expired           </span>                                          </td><td>40                                                                                                                </td><td><span style=white-space:pre-wrap>5 or more                        </span>                                         </td><td><span style=white-space:pre-wrap>Private business  </span>                                                        </td><td><span style=white-space:pre-wrap>No                                    </span>                                    </td><td><span style=white-space:pre-wrap>Stay with the same employer, same role        </span>                            </td><td>Male                                                                                                              </td></tr>\n",
       "\t<tr><td> 832031                                                                                                                                               </td><td>United Kingdom                                                                                                                                        </td><td>11                                                                                                                                                    </td><td><span style=white-space:pre-wrap>Full time employee                                               </span>                                             </td><td><span style=white-space:pre-wrap>DBA (Production Focus - build &amp; troubleshoot servers, HA/DR)                                              </span></td><td>No                                                                                                                                                    </td><td> 5                                                                                                                                                    </td><td><span style=white-space:pre-wrap>3   </span>                                                                                                          </td><td><span style=white-space:pre-wrap>  30</span>                                                                                                          </td><td>None (no degree completed)                                                                                                                            </td><td>N/A                                                                                                                                                   </td><td><span style=white-space:pre-wrap>Yes, but they expired           </span>                                                                              </td><td>40                                                                                                                                                    </td><td><span style=white-space:pre-wrap>1                                </span>                                                                             </td><td><span style=white-space:pre-wrap>Private business  </span>                                                                                            </td><td>Yes, but only passively (just curious)                                                                                                                </td><td><span style=white-space:pre-wrap>Prefer not to say                             </span>                                                                </td><td>Male                                                                                                                                                  </td></tr>\n",
       "\t<tr><td> 800000                                                                                                                                               </td><td><span style=white-space:pre-wrap>Germany       </span>                                                                                                </td><td>15                                                                                                                                                    </td><td><span style=white-space:pre-wrap>Full time employee of a consulting/contracting company           </span>                                             </td><td><span style=white-space:pre-wrap>DBA (Production Focus - build &amp; troubleshoot servers, HA/DR)                                              </span></td><td>Yes                                                                                                                                                   </td><td>17                                                                                                                                                    </td><td><span style=white-space:pre-wrap>2   </span>                                                                                                          </td><td><span style=white-space:pre-wrap>  80</span>                                                                                                          </td><td>None (no degree completed)                                                                                                                            </td><td>N/A                                                                                                                                                   </td><td><span style=white-space:pre-wrap>Yes, but they expired           </span>                                                                              </td><td>40                                                                                                                                                    </td><td><span style=white-space:pre-wrap>3                                </span>                                                                             </td><td><span style=white-space:pre-wrap>Private business  </span>                                                                                            </td><td>Yes, but only passively (just curious)                                                                                                                </td><td><span style=white-space:pre-wrap>Stay with the same employer,  but change roles</span>                                                                </td><td>Male                                                                                                                                                  </td></tr>\n",
       "\t<tr><td> 705000                                                                                                   </td><td>United States                                                                                             </td><td> 4                                                                                                        </td><td>Full time employee                                                                                        </td><td>Developer: T-SQL                                                                                          </td><td>No                                                                                                        </td><td> 4                                                                                                        </td><td>1                                                                                                         </td><td>   4                                                                                                      </td><td>Bachelors (4 years)                                                                                       </td><td>No                                                                                                        </td><td>No, I never have                                                                                          </td><td>45                                                                                                        </td><td>None, or less than 1 day per week                                                                         </td><td>Private business                                                                                          </td><td>No                                                                                                        </td><td>Stay with the same employer, same role                                                                    </td><td>Male                                                                                                      </td></tr>\n",
       "\t<tr><td> 684000                                                                                                           </td><td><span style=white-space:pre-wrap>India         </span>                                                            </td><td> 5                                                                                                                </td><td><span style=white-space:pre-wrap>Full time employee                                               </span>         </td><td>DBA (General - splits time evenly between writing &amp; tuning queries AND building &amp; troubleshooting servers)</td><td>No                                                                                                                </td><td> 2                                                                                                                </td><td><span style=white-space:pre-wrap>1   </span>                                                                      </td><td><span style=white-space:pre-wrap>  15</span>                                                                      </td><td><span style=white-space:pre-wrap>Bachelors (4 years)       </span>                                                </td><td>Yes                                                                                                               </td><td>Yes, and they're currently valid                                                                                  </td><td>45                                                                                                                </td><td>None, or less than 1 day per week                                                                                 </td><td><span style=white-space:pre-wrap>Private business  </span>                                                        </td><td>Yes, but only passively (just curious)                                                                            </td><td>Stay with the same role, but change employers                                                                     </td><td>Male                                                                                                              </td></tr>\n",
       "\t<tr><td> 669615                                                                                                   </td><td>United Kingdom                                                                                            </td><td> 6                                                                                                        </td><td>Full time employee                                                                                        </td><td>Manager                                                                                                   </td><td>Yes                                                                                                       </td><td> 6                                                                                                        </td><td>None                                                                                                      </td><td>   1                                                                                                      </td><td>None (no degree completed)                                                                                </td><td>N/A                                                                                                       </td><td>No, I never have                                                                                          </td><td>55                                                                                                        </td><td>4                                                                                                         </td><td>Private business                                                                                          </td><td>No                                                                                                        </td><td>Stay with the same employer, same role                                                                    </td><td>Other                                                                                                     </td></tr>\n",
       "\t<tr><td> 660844                                                                                                   </td><td>Canada                                                                                                    </td><td>13                                                                                                        </td><td>Full time employee                                                                                        </td><td>DBA (Development Focus - tunes queries, indexes, does deployments)                                        </td><td>Yes                                                                                                       </td><td> 8                                                                                                        </td><td>1                                                                                                         </td><td>  10                                                                                                      </td><td>Bachelors (4 years)                                                                                       </td><td>Yes                                                                                                       </td><td>Yes, and they're currently valid                                                                          </td><td>40                                                                                                        </td><td>None, or less than 1 day per week                                                                         </td><td>Private business                                                                                          </td><td>Yes, but only passively (just curious)                                                                    </td><td>Stay with the same employer, same role                                                                    </td><td>Male                                                                                                      </td></tr>\n",
       "\t<tr><td> 650000                                                                                                   </td><td>United States                                                                                             </td><td>10                                                                                                        </td><td>Full time employee                                                                                        </td><td>Engineer                                                                                                  </td><td>No                                                                                                        </td><td> 3                                                                                                        </td><td>None                                                                                                      </td><td>  16                                                                                                      </td><td>Bachelors (4 years)                                                                                       </td><td>No                                                                                                        </td><td>Yes, but they expired                                                                                     </td><td>50                                                                                                        </td><td>None, or less than 1 day per week                                                                         </td><td>Private business                                                                                          </td><td>No                                                                                                        </td><td>Stay with the same employer, same role                                                                    </td><td>Male                                                                                                      </td></tr>\n",
       "\t<tr><td> 628857                                                                                                   </td><td>New Zealand                                                                                               </td><td>12                                                                                                        </td><td>Full time employee                                                                                        </td><td>Manager                                                                                                   </td><td>Yes                                                                                                       </td><td> 5                                                                                                        </td><td>None                                                                                                      </td><td>   6                                                                                                      </td><td>Bachelors (4 years)                                                                                       </td><td>Yes                                                                                                       </td><td>No, I never have                                                                                          </td><td>40                                                                                                        </td><td>None, or less than 1 day per week                                                                         </td><td>Non-profit                                                                                                </td><td>Yes, but only passively (just curious)                                                                    </td><td>Stay with the same employer, same role                                                                    </td><td>Male                                                                                                      </td></tr>\n",
       "</tbody>\n",
       "</table>\n"
      ],
      "text/latex": [
       "\\begin{tabular}{r|llllllllllllllllll}\n",
       " SalaryUSD & Country & YearsWithThisDatabase & EmploymentStatus & JobTitle & ManageStaff & YearsWithThisTypeOfJob & OtherPeopleOnYourTeam & DatabaseServers & Education & EducationIsComputerRelated & Certifications & HoursWorkedPerWeek & TelecommuteDaysPerWeek & EmploymentSector & LookingForAnotherJob & CareerPlansThisYear & Gender\\\\\n",
       "\\hline\n",
       "\t 1450000                                                                                                        & United States                                                                                                  & 20                                                                                                             & Full time employee                                                                                             & DBA (General - splits time evenly between writing \\& tuning queries AND building \\& troubleshooting servers) & Yes                                                                                                            & 10                                                                                                             & None                                                                                                           &   10                                                                                                           & Bachelors (4 years)                                                                                            & Yes                                                                                                            & Yes, but they expired                                                                                          & 45                                                                                                             & 5 or more                                                                                                      & Private business                                                                                               & Yes, but only passively (just curious)                                                                         & Stay with the same employer,  but change roles                                                                 & Male                                                                                                          \\\\\n",
       "\t 1375000                                                                                                    & United States                                                                                              &  8                                                                                                         & Part time                                                                                                  & Developer: Business Intelligence (SSRS, PowerBI, etc)                                                      & Yes                                                                                                        & 18                                                                                                         & None                                                                                                       &    1                                                                                                       & Masters                                                                                                    & No                                                                                                         & No, I never have                                                                                           & 32                                                                                                         & 1                                                                                                          & Private business                                                                                           & No                                                                                                         & Stay with the same employer,  but change roles                                                             & Male                                                                                                      \\\\\n",
       "\t 1000000                                                                                                      & United States                                                                                                & 10                                                                                                           & Independent consultant, contractor, freelancer,  or company owner                                            & DBA (Production Focus - build \\& troubleshoot servers, HA/DR)                                               & Yes                                                                                                          &  3                                                                                                           & None                                                                                                         & 1000                                                                                                         & Doctorate/PhD                                                                                                & Yes                                                                                                          & Yes, and they're currently valid                                                                             & 80                                                                                                           & 5 or more                                                                                                    & Federal government                                                                                           & No                                                                                                           & Stay with the same employer, same role                                                                       & Male                                                                                                        \\\\\n",
       "\t  960000                                                                                                        & United States                                                                                                  & 10                                                                                                             & Full time employee                                                                                             & DBA (General - splits time evenly between writing \\& tuning queries AND building \\& troubleshooting servers) & Yes                                                                                                            &  8                                                                                                             & 1                                                                                                              &    6                                                                                                           & Associates (2 years)                                                                                           & No                                                                                                             & Yes, but they expired                                                                                          & 40                                                                                                             & 5 or more                                                                                                      & Private business                                                                                               & No                                                                                                             & Stay with the same employer, same role                                                                         & Male                                                                                                          \\\\\n",
       "\t  832031                                                                                                      & United Kingdom                                                                                               & 11                                                                                                           & Full time employee                                                                                           & DBA (Production Focus - build \\& troubleshoot servers, HA/DR)                                               & No                                                                                                           &  5                                                                                                           & 3                                                                                                            &   30                                                                                                         & None (no degree completed)                                                                                   & N/A                                                                                                          & Yes, but they expired                                                                                        & 40                                                                                                           & 1                                                                                                            & Private business                                                                                             & Yes, but only passively (just curious)                                                                       & Prefer not to say                                                                                            & Male                                                                                                        \\\\\n",
       "\t  800000                                                                                                      & Germany                                                                                                      & 15                                                                                                           & Full time employee of a consulting/contracting company                                                       & DBA (Production Focus - build \\& troubleshoot servers, HA/DR)                                               & Yes                                                                                                          & 17                                                                                                           & 2                                                                                                            &   80                                                                                                         & None (no degree completed)                                                                                   & N/A                                                                                                          & Yes, but they expired                                                                                        & 40                                                                                                           & 3                                                                                                            & Private business                                                                                             & Yes, but only passively (just curious)                                                                       & Stay with the same employer,  but change roles                                                               & Male                                                                                                        \\\\\n",
       "\t  705000                                                                                                    & United States                                                                                              &  4                                                                                                         & Full time employee                                                                                         & Developer: T-SQL                                                                                           & No                                                                                                         &  4                                                                                                         & 1                                                                                                          &    4                                                                                                       & Bachelors (4 years)                                                                                        & No                                                                                                         & No, I never have                                                                                           & 45                                                                                                         & None, or less than 1 day per week                                                                          & Private business                                                                                           & No                                                                                                         & Stay with the same employer, same role                                                                     & Male                                                                                                      \\\\\n",
       "\t  684000                                                                                                        & India                                                                                                          &  5                                                                                                             & Full time employee                                                                                             & DBA (General - splits time evenly between writing \\& tuning queries AND building \\& troubleshooting servers) & No                                                                                                             &  2                                                                                                             & 1                                                                                                              &   15                                                                                                           & Bachelors (4 years)                                                                                            & Yes                                                                                                            & Yes, and they're currently valid                                                                               & 45                                                                                                             & None, or less than 1 day per week                                                                              & Private business                                                                                               & Yes, but only passively (just curious)                                                                         & Stay with the same role, but change employers                                                                  & Male                                                                                                          \\\\\n",
       "\t  669615                                                                                                    & United Kingdom                                                                                             &  6                                                                                                         & Full time employee                                                                                         & Manager                                                                                                    & Yes                                                                                                        &  6                                                                                                         & None                                                                                                       &    1                                                                                                       & None (no degree completed)                                                                                 & N/A                                                                                                        & No, I never have                                                                                           & 55                                                                                                         & 4                                                                                                          & Private business                                                                                           & No                                                                                                         & Stay with the same employer, same role                                                                     & Other                                                                                                     \\\\\n",
       "\t  660844                                                                                                    & Canada                                                                                                     & 13                                                                                                         & Full time employee                                                                                         & DBA (Development Focus - tunes queries, indexes, does deployments)                                         & Yes                                                                                                        &  8                                                                                                         & 1                                                                                                          &   10                                                                                                       & Bachelors (4 years)                                                                                        & Yes                                                                                                        & Yes, and they're currently valid                                                                           & 40                                                                                                         & None, or less than 1 day per week                                                                          & Private business                                                                                           & Yes, but only passively (just curious)                                                                     & Stay with the same employer, same role                                                                     & Male                                                                                                      \\\\\n",
       "\t  650000                                                                                                    & United States                                                                                              & 10                                                                                                         & Full time employee                                                                                         & Engineer                                                                                                   & No                                                                                                         &  3                                                                                                         & None                                                                                                       &   16                                                                                                       & Bachelors (4 years)                                                                                        & No                                                                                                         & Yes, but they expired                                                                                      & 50                                                                                                         & None, or less than 1 day per week                                                                          & Private business                                                                                           & No                                                                                                         & Stay with the same employer, same role                                                                     & Male                                                                                                      \\\\\n",
       "\t  628857                                                                                                    & New Zealand                                                                                                & 12                                                                                                         & Full time employee                                                                                         & Manager                                                                                                    & Yes                                                                                                        &  5                                                                                                         & None                                                                                                       &    6                                                                                                       & Bachelors (4 years)                                                                                        & Yes                                                                                                        & No, I never have                                                                                           & 40                                                                                                         & None, or less than 1 day per week                                                                          & Non-profit                                                                                                 & Yes, but only passively (just curious)                                                                     & Stay with the same employer, same role                                                                     & Male                                                                                                      \\\\\n",
       "\\end{tabular}\n"
      ],
      "text/markdown": [
       "\n",
       "SalaryUSD | Country | YearsWithThisDatabase | EmploymentStatus | JobTitle | ManageStaff | YearsWithThisTypeOfJob | OtherPeopleOnYourTeam | DatabaseServers | Education | EducationIsComputerRelated | Certifications | HoursWorkedPerWeek | TelecommuteDaysPerWeek | EmploymentSector | LookingForAnotherJob | CareerPlansThisYear | Gender | \n",
       "|---|---|---|---|---|---|---|---|---|---|---|---|\n",
       "| 1450000                                                                                                    | United States                                                                                              | 20                                                                                                         | Full time employee                                                                                         | DBA (General - splits time evenly between writing & tuning queries AND building & troubleshooting servers) | Yes                                                                                                        | 10                                                                                                         | None                                                                                                       |   10                                                                                                       | Bachelors (4 years)                                                                                        | Yes                                                                                                        | Yes, but they expired                                                                                      | 45                                                                                                         | 5 or more                                                                                                  | Private business                                                                                           | Yes, but only passively (just curious)                                                                     | Stay with the same employer,  but change roles                                                             | Male                                                                                                       | \n",
       "| 1375000                                                                                                    | United States                                                                                              |  8                                                                                                         | Part time                                                                                                  | Developer: Business Intelligence (SSRS, PowerBI, etc)                                                      | Yes                                                                                                        | 18                                                                                                         | None                                                                                                       |    1                                                                                                       | Masters                                                                                                    | No                                                                                                         | No, I never have                                                                                           | 32                                                                                                         | 1                                                                                                          | Private business                                                                                           | No                                                                                                         | Stay with the same employer,  but change roles                                                             | Male                                                                                                       | \n",
       "| 1000000                                                                                                    | United States                                                                                              | 10                                                                                                         | Independent consultant, contractor, freelancer,  or company owner                                          | DBA (Production Focus - build & troubleshoot servers, HA/DR)                                               | Yes                                                                                                        |  3                                                                                                         | None                                                                                                       | 1000                                                                                                       | Doctorate/PhD                                                                                              | Yes                                                                                                        | Yes, and they're currently valid                                                                           | 80                                                                                                         | 5 or more                                                                                                  | Federal government                                                                                         | No                                                                                                         | Stay with the same employer, same role                                                                     | Male                                                                                                       | \n",
       "|  960000                                                                                                    | United States                                                                                              | 10                                                                                                         | Full time employee                                                                                         | DBA (General - splits time evenly between writing & tuning queries AND building & troubleshooting servers) | Yes                                                                                                        |  8                                                                                                         | 1                                                                                                          |    6                                                                                                       | Associates (2 years)                                                                                       | No                                                                                                         | Yes, but they expired                                                                                      | 40                                                                                                         | 5 or more                                                                                                  | Private business                                                                                           | No                                                                                                         | Stay with the same employer, same role                                                                     | Male                                                                                                       | \n",
       "|  832031                                                                                                    | United Kingdom                                                                                             | 11                                                                                                         | Full time employee                                                                                         | DBA (Production Focus - build & troubleshoot servers, HA/DR)                                               | No                                                                                                         |  5                                                                                                         | 3                                                                                                          |   30                                                                                                       | None (no degree completed)                                                                                 | N/A                                                                                                        | Yes, but they expired                                                                                      | 40                                                                                                         | 1                                                                                                          | Private business                                                                                           | Yes, but only passively (just curious)                                                                     | Prefer not to say                                                                                          | Male                                                                                                       | \n",
       "|  800000                                                                                                    | Germany                                                                                                    | 15                                                                                                         | Full time employee of a consulting/contracting company                                                     | DBA (Production Focus - build & troubleshoot servers, HA/DR)                                               | Yes                                                                                                        | 17                                                                                                         | 2                                                                                                          |   80                                                                                                       | None (no degree completed)                                                                                 | N/A                                                                                                        | Yes, but they expired                                                                                      | 40                                                                                                         | 3                                                                                                          | Private business                                                                                           | Yes, but only passively (just curious)                                                                     | Stay with the same employer,  but change roles                                                             | Male                                                                                                       | \n",
       "|  705000                                                                                                    | United States                                                                                              |  4                                                                                                         | Full time employee                                                                                         | Developer: T-SQL                                                                                           | No                                                                                                         |  4                                                                                                         | 1                                                                                                          |    4                                                                                                       | Bachelors (4 years)                                                                                        | No                                                                                                         | No, I never have                                                                                           | 45                                                                                                         | None, or less than 1 day per week                                                                          | Private business                                                                                           | No                                                                                                         | Stay with the same employer, same role                                                                     | Male                                                                                                       | \n",
       "|  684000                                                                                                    | India                                                                                                      |  5                                                                                                         | Full time employee                                                                                         | DBA (General - splits time evenly between writing & tuning queries AND building & troubleshooting servers) | No                                                                                                         |  2                                                                                                         | 1                                                                                                          |   15                                                                                                       | Bachelors (4 years)                                                                                        | Yes                                                                                                        | Yes, and they're currently valid                                                                           | 45                                                                                                         | None, or less than 1 day per week                                                                          | Private business                                                                                           | Yes, but only passively (just curious)                                                                     | Stay with the same role, but change employers                                                              | Male                                                                                                       | \n",
       "|  669615                                                                                                    | United Kingdom                                                                                             |  6                                                                                                         | Full time employee                                                                                         | Manager                                                                                                    | Yes                                                                                                        |  6                                                                                                         | None                                                                                                       |    1                                                                                                       | None (no degree completed)                                                                                 | N/A                                                                                                        | No, I never have                                                                                           | 55                                                                                                         | 4                                                                                                          | Private business                                                                                           | No                                                                                                         | Stay with the same employer, same role                                                                     | Other                                                                                                      | \n",
       "|  660844                                                                                                    | Canada                                                                                                     | 13                                                                                                         | Full time employee                                                                                         | DBA (Development Focus - tunes queries, indexes, does deployments)                                         | Yes                                                                                                        |  8                                                                                                         | 1                                                                                                          |   10                                                                                                       | Bachelors (4 years)                                                                                        | Yes                                                                                                        | Yes, and they're currently valid                                                                           | 40                                                                                                         | None, or less than 1 day per week                                                                          | Private business                                                                                           | Yes, but only passively (just curious)                                                                     | Stay with the same employer, same role                                                                     | Male                                                                                                       | \n",
       "|  650000                                                                                                    | United States                                                                                              | 10                                                                                                         | Full time employee                                                                                         | Engineer                                                                                                   | No                                                                                                         |  3                                                                                                         | None                                                                                                       |   16                                                                                                       | Bachelors (4 years)                                                                                        | No                                                                                                         | Yes, but they expired                                                                                      | 50                                                                                                         | None, or less than 1 day per week                                                                          | Private business                                                                                           | No                                                                                                         | Stay with the same employer, same role                                                                     | Male                                                                                                       | \n",
       "|  628857                                                                                                    | New Zealand                                                                                                | 12                                                                                                         | Full time employee                                                                                         | Manager                                                                                                    | Yes                                                                                                        |  5                                                                                                         | None                                                                                                       |    6                                                                                                       | Bachelors (4 years)                                                                                        | Yes                                                                                                        | No, I never have                                                                                           | 40                                                                                                         | None, or less than 1 day per week                                                                          | Non-profit                                                                                                 | Yes, but only passively (just curious)                                                                     | Stay with the same employer, same role                                                                     | Male                                                                                                       | \n",
       "\n",
       "\n"
      ],
      "text/plain": [
       "   SalaryUSD Country        YearsWithThisDatabase\n",
       "1  1450000   United States  20                   \n",
       "2  1375000   United States   8                   \n",
       "3  1000000   United States  10                   \n",
       "4   960000   United States  10                   \n",
       "5   832031   United Kingdom 11                   \n",
       "6   800000   Germany        15                   \n",
       "7   705000   United States   4                   \n",
       "8   684000   India           5                   \n",
       "9   669615   United Kingdom  6                   \n",
       "10  660844   Canada         13                   \n",
       "11  650000   United States  10                   \n",
       "12  628857   New Zealand    12                   \n",
       "   EmploymentStatus                                                 \n",
       "1  Full time employee                                               \n",
       "2  Part time                                                        \n",
       "3  Independent consultant, contractor, freelancer,  or company owner\n",
       "4  Full time employee                                               \n",
       "5  Full time employee                                               \n",
       "6  Full time employee of a consulting/contracting company           \n",
       "7  Full time employee                                               \n",
       "8  Full time employee                                               \n",
       "9  Full time employee                                               \n",
       "10 Full time employee                                               \n",
       "11 Full time employee                                               \n",
       "12 Full time employee                                               \n",
       "   JobTitle                                                                                                  \n",
       "1  DBA (General - splits time evenly between writing & tuning queries AND building & troubleshooting servers)\n",
       "2  Developer: Business Intelligence (SSRS, PowerBI, etc)                                                     \n",
       "3  DBA (Production Focus - build & troubleshoot servers, HA/DR)                                              \n",
       "4  DBA (General - splits time evenly between writing & tuning queries AND building & troubleshooting servers)\n",
       "5  DBA (Production Focus - build & troubleshoot servers, HA/DR)                                              \n",
       "6  DBA (Production Focus - build & troubleshoot servers, HA/DR)                                              \n",
       "7  Developer: T-SQL                                                                                          \n",
       "8  DBA (General - splits time evenly between writing & tuning queries AND building & troubleshooting servers)\n",
       "9  Manager                                                                                                   \n",
       "10 DBA (Development Focus - tunes queries, indexes, does deployments)                                        \n",
       "11 Engineer                                                                                                  \n",
       "12 Manager                                                                                                   \n",
       "   ManageStaff YearsWithThisTypeOfJob OtherPeopleOnYourTeam DatabaseServers\n",
       "1  Yes         10                     None                    10           \n",
       "2  Yes         18                     None                     1           \n",
       "3  Yes          3                     None                  1000           \n",
       "4  Yes          8                     1                        6           \n",
       "5  No           5                     3                       30           \n",
       "6  Yes         17                     2                       80           \n",
       "7  No           4                     1                        4           \n",
       "8  No           2                     1                       15           \n",
       "9  Yes          6                     None                     1           \n",
       "10 Yes          8                     1                       10           \n",
       "11 No           3                     None                    16           \n",
       "12 Yes          5                     None                     6           \n",
       "   Education                  EducationIsComputerRelated\n",
       "1  Bachelors (4 years)        Yes                       \n",
       "2  Masters                    No                        \n",
       "3  Doctorate/PhD              Yes                       \n",
       "4  Associates (2 years)       No                        \n",
       "5  None (no degree completed) N/A                       \n",
       "6  None (no degree completed) N/A                       \n",
       "7  Bachelors (4 years)        No                        \n",
       "8  Bachelors (4 years)        Yes                       \n",
       "9  None (no degree completed) N/A                       \n",
       "10 Bachelors (4 years)        Yes                       \n",
       "11 Bachelors (4 years)        No                        \n",
       "12 Bachelors (4 years)        Yes                       \n",
       "   Certifications                   HoursWorkedPerWeek\n",
       "1  Yes, but they expired            45                \n",
       "2  No, I never have                 32                \n",
       "3  Yes, and they're currently valid 80                \n",
       "4  Yes, but they expired            40                \n",
       "5  Yes, but they expired            40                \n",
       "6  Yes, but they expired            40                \n",
       "7  No, I never have                 45                \n",
       "8  Yes, and they're currently valid 45                \n",
       "9  No, I never have                 55                \n",
       "10 Yes, and they're currently valid 40                \n",
       "11 Yes, but they expired            50                \n",
       "12 No, I never have                 40                \n",
       "   TelecommuteDaysPerWeek            EmploymentSector  \n",
       "1  5 or more                         Private business  \n",
       "2  1                                 Private business  \n",
       "3  5 or more                         Federal government\n",
       "4  5 or more                         Private business  \n",
       "5  1                                 Private business  \n",
       "6  3                                 Private business  \n",
       "7  None, or less than 1 day per week Private business  \n",
       "8  None, or less than 1 day per week Private business  \n",
       "9  4                                 Private business  \n",
       "10 None, or less than 1 day per week Private business  \n",
       "11 None, or less than 1 day per week Private business  \n",
       "12 None, or less than 1 day per week Non-profit        \n",
       "   LookingForAnotherJob                  \n",
       "1  Yes, but only passively (just curious)\n",
       "2  No                                    \n",
       "3  No                                    \n",
       "4  No                                    \n",
       "5  Yes, but only passively (just curious)\n",
       "6  Yes, but only passively (just curious)\n",
       "7  No                                    \n",
       "8  Yes, but only passively (just curious)\n",
       "9  No                                    \n",
       "10 Yes, but only passively (just curious)\n",
       "11 No                                    \n",
       "12 Yes, but only passively (just curious)\n",
       "   CareerPlansThisYear                            Gender\n",
       "1  Stay with the same employer,  but change roles Male  \n",
       "2  Stay with the same employer,  but change roles Male  \n",
       "3  Stay with the same employer, same role         Male  \n",
       "4  Stay with the same employer, same role         Male  \n",
       "5  Prefer not to say                              Male  \n",
       "6  Stay with the same employer,  but change roles Male  \n",
       "7  Stay with the same employer, same role         Male  \n",
       "8  Stay with the same role, but change employers  Male  \n",
       "9  Stay with the same employer, same role         Other \n",
       "10 Stay with the same employer, same role         Male  \n",
       "11 Stay with the same employer, same role         Male  \n",
       "12 Stay with the same employer, same role         Male  "
      ]
     },
     "metadata": {},
     "output_type": "display_data"
    }
   ],
   "source": [
    "survey_2018 %>%\n",
    "  filter(SalaryUSD > 500000) %>%\n",
    "  arrange(desc(SalaryUSD))"
   ]
  },
  {
   "cell_type": "markdown",
   "metadata": {},
   "source": [
    "On the other side, there are 12 people who say they earned less than $5K a year.  Those also seem wrong.  Some of them look like dollars per  hour, and maybe some are monthly salary.  I'm going to strip those out."
   ]
  },
  {
   "cell_type": "code",
   "execution_count": 25,
   "metadata": {},
   "outputs": [
    {
     "data": {
      "text/html": [
       "<table>\n",
       "<thead><tr><th scope=col>SalaryUSD</th><th scope=col>Country</th><th scope=col>YearsWithThisDatabase</th><th scope=col>EmploymentStatus</th><th scope=col>JobTitle</th><th scope=col>ManageStaff</th><th scope=col>YearsWithThisTypeOfJob</th><th scope=col>OtherPeopleOnYourTeam</th><th scope=col>DatabaseServers</th><th scope=col>Education</th><th scope=col>EducationIsComputerRelated</th><th scope=col>Certifications</th><th scope=col>HoursWorkedPerWeek</th><th scope=col>TelecommuteDaysPerWeek</th><th scope=col>EmploymentSector</th><th scope=col>LookingForAnotherJob</th><th scope=col>CareerPlansThisYear</th><th scope=col>Gender</th></tr></thead>\n",
       "<tbody>\n",
       "\t<tr><td>4000                                                                                                      </td><td>South Africa                                                                                              </td><td>21                                                                                                        </td><td>Full time employee                                                                                        </td><td>Developer: T-SQL                                                                                          </td><td>No                                                                                                        </td><td> 3                                                                                                        </td><td>1                                                                                                         </td><td>  4                                                                                                       </td><td>None (no degree completed)                                                                                </td><td>N/A                                                                                                       </td><td>No, I never have                                                                                          </td><td>55                                                                                                        </td><td>5 or more                                                                                                 </td><td>Private business                                                                                          </td><td>Yes, actively looking for something else                                                                  </td><td>Change both employers and roles                                                                           </td><td>Male                                                                                                      </td></tr>\n",
       "\t<tr><td>3580                                                                                                      </td><td>Romania                                                                                                   </td><td> 6                                                                                                        </td><td>Full time employee                                                                                        </td><td>DBA (Development Focus - tunes queries, indexes, does deployments)                                        </td><td>No                                                                                                        </td><td> 2                                                                                                        </td><td>2                                                                                                         </td><td> 50                                                                                                       </td><td>Masters                                                                                                   </td><td>Yes                                                                                                       </td><td>No, I never have                                                                                          </td><td>40                                                                                                        </td><td>None, or less than 1 day per week                                                                         </td><td>Private business                                                                                          </td><td>Yes, but only passively (just curious)                                                                    </td><td>Stay with the same employer, same role                                                                    </td><td>Male                                                                                                      </td></tr>\n",
       "\t<tr><td>2246                                                                                                      </td><td>India                                                                                                     </td><td> 2                                                                                                        </td><td>Full time employee                                                                                        </td><td>Developer: Business Intelligence (SSRS, PowerBI, etc)                                                     </td><td>Yes                                                                                                       </td><td> 2                                                                                                        </td><td>4                                                                                                         </td><td>  2                                                                                                       </td><td>Masters                                                                                                   </td><td>Yes                                                                                                       </td><td>No, I never have                                                                                          </td><td>40                                                                                                        </td><td>None, or less than 1 day per week                                                                         </td><td>Private business                                                                                          </td><td>Yes, actively looking for something else                                                                  </td><td>Stay with the same role, but change employers                                                             </td><td>Male                                                                                                      </td></tr>\n",
       "\t<tr><td>2000                                                                                                              </td><td>South Africa                                                                                                      </td><td>20                                                                                                                </td><td><span style=white-space:pre-wrap>Full time employee                                    </span>                    </td><td>DBA (General - splits time evenly between writing &amp; tuning queries AND building &amp; troubleshooting servers)</td><td>No                                                                                                                </td><td> 4                                                                                                                </td><td><span style=white-space:pre-wrap>None       </span>                                                               </td><td> 50                                                                                                               </td><td><span style=white-space:pre-wrap>Associates (2 years)      </span>                                                </td><td>Yes                                                                                                               </td><td>Yes, and they're currently valid                                                                                  </td><td>50                                                                                                                </td><td><span style=white-space:pre-wrap>2                                </span>                                         </td><td><span style=white-space:pre-wrap>Private business         </span>                                                 </td><td><span style=white-space:pre-wrap>Yes, but only passively (just curious)  </span>                                  </td><td><span style=white-space:pre-wrap>Stay with the same employer, same role        </span>                            </td><td><span style=white-space:pre-wrap>Male  </span>                                                                    </td></tr>\n",
       "\t<tr><td>1100                                                                                                      </td><td>Russia                                                                                                    </td><td> 2                                                                                                        </td><td>Full time employee                                                                                        </td><td>Developer: App code (C#, JS, etc)                                                                         </td><td>No                                                                                                        </td><td> 0                                                                                                        </td><td>1                                                                                                         </td><td>  1                                                                                                       </td><td>Masters                                                                                                   </td><td>Yes                                                                                                       </td><td>No, I never have                                                                                          </td><td>38                                                                                                        </td><td>None, or less than 1 day per week                                                                         </td><td>Federal government                                                                                        </td><td>No                                                                                                        </td><td>Stay with the same employer, same role                                                                    </td><td>Male                                                                                                      </td></tr>\n",
       "\t<tr><td> 300                                                                                                      </td><td>Russia                                                                                                    </td><td>12                                                                                                        </td><td>Part time                                                                                                 </td><td>Developer: App code (C#, JS, etc)                                                                         </td><td>No                                                                                                        </td><td>22                                                                                                        </td><td>4                                                                                                         </td><td>  1                                                                                                       </td><td>Doctorate/PhD                                                                                             </td><td>Yes                                                                                                       </td><td>Yes, and they're currently valid                                                                          </td><td>10                                                                                                        </td><td>2                                                                                                         </td><td>State/province government                                                                                 </td><td>Yes, but only passively (just curious)                                                                    </td><td>Prefer not to say                                                                                         </td><td>Female                                                                                                    </td></tr>\n",
       "\t<tr><td> 130                                                                                                                                                  </td><td>United States                                                                                                                                         </td><td>17                                                                                                                                                    </td><td>Full time employee of a consulting/contracting company                                                                                                </td><td><span style=white-space:pre-wrap>DBA (Production Focus - build &amp; troubleshoot servers, HA/DR)                                              </span></td><td>No                                                                                                                                                    </td><td>17                                                                                                                                                    </td><td>More than 5                                                                                                                                           </td><td>500                                                                                                                                                   </td><td>None (no degree completed)                                                                                                                            </td><td>No                                                                                                                                                    </td><td><span style=white-space:pre-wrap>No, I never have                </span>                                                                              </td><td>50                                                                                                                                                    </td><td><span style=white-space:pre-wrap>3                                </span>                                                                             </td><td><span style=white-space:pre-wrap>Private business         </span>                                                                                     </td><td><span style=white-space:pre-wrap>Yes, but only passively (just curious)  </span>                                                                      </td><td><span style=white-space:pre-wrap>Stay with the same employer, same role        </span>                                                                </td><td>Female                                                                                                                                                </td></tr>\n",
       "\t<tr><td> 112                                                                                                      </td><td>Australia                                                                                                 </td><td>18                                                                                                        </td><td>Full time employee of a consulting/contracting company                                                    </td><td>Developer: App code (C#, JS, etc)                                                                         </td><td>No                                                                                                        </td><td>10                                                                                                        </td><td>None                                                                                                      </td><td> 30                                                                                                       </td><td>Bachelors (4 years)                                                                                       </td><td>Yes                                                                                                       </td><td>Yes, and they're currently valid                                                                          </td><td>40                                                                                                        </td><td>5 or more                                                                                                 </td><td>Private business                                                                                          </td><td>No                                                                                                        </td><td>Prefer not to say                                                                                         </td><td>Male                                                                                                      </td></tr>\n",
       "\t<tr><td>  92                                                                                                      </td><td>United States                                                                                             </td><td>16                                                                                                        </td><td>Full time employee                                                                                        </td><td>Developer: Business Intelligence (SSRS, PowerBI, etc)                                                     </td><td>Yes                                                                                                       </td><td>16                                                                                                        </td><td>None                                                                                                      </td><td> 20                                                                                                       </td><td>Masters                                                                                                   </td><td>Yes                                                                                                       </td><td>Yes, but they expired                                                                                     </td><td>40                                                                                                        </td><td>None, or less than 1 day per week                                                                         </td><td>Private business                                                                                          </td><td>No                                                                                                        </td><td>Stay with the same employer,  but change roles                                                            </td><td>Male                                                                                                      </td></tr>\n",
       "\t<tr><td>  87                                                                                                      </td><td>Denmark                                                                                                   </td><td> 3                                                                                                        </td><td>Full time employee of a consulting/contracting company                                                    </td><td>Developer: Business Intelligence (SSRS, PowerBI, etc)                                                     </td><td>No                                                                                                        </td><td> 3                                                                                                        </td><td>More than 5                                                                                               </td><td>  5                                                                                                       </td><td>Masters                                                                                                   </td><td>No                                                                                                        </td><td>No, I never have                                                                                          </td><td>40                                                                                                        </td><td>3                                                                                                         </td><td>Private business                                                                                          </td><td>Yes, but only passively (just curious)                                                                    </td><td>Stay with the same employer, same role                                                                    </td><td>Male                                                                                                      </td></tr>\n",
       "\t<tr><td><span style=white-space:pre-wrap>  81</span>                                                                      </td><td><span style=white-space:pre-wrap>Canada       </span>                                                             </td><td>13                                                                                                                </td><td><span style=white-space:pre-wrap>Full time employee                                    </span>                    </td><td>DBA (General - splits time evenly between writing &amp; tuning queries AND building &amp; troubleshooting servers)</td><td>Yes                                                                                                               </td><td>13                                                                                                                </td><td><span style=white-space:pre-wrap>5          </span>                                                               </td><td>100                                                                                                               </td><td>None (no degree completed)                                                                                        </td><td>N/A                                                                                                               </td><td>Yes, and they're currently valid                                                                                  </td><td>40                                                                                                                </td><td>None, or less than 1 day per week                                                                                 </td><td><span style=white-space:pre-wrap>Local government         </span>                                                 </td><td><span style=white-space:pre-wrap>Yes, but only passively (just curious)  </span>                                  </td><td><span style=white-space:pre-wrap>Prefer not to say                             </span>                            </td><td><span style=white-space:pre-wrap>Male  </span>                                                                    </td></tr>\n",
       "\t<tr><td>  58                                                                                                      </td><td>Netherlands                                                                                               </td><td>20                                                                                                        </td><td>Full time employee                                                                                        </td><td>Architect                                                                                                 </td><td>Yes                                                                                                       </td><td>20                                                                                                        </td><td>None                                                                                                      </td><td>  4                                                                                                       </td><td>Bachelors (4 years)                                                                                       </td><td>N/A                                                                                                       </td><td>Yes, but they expired                                                                                     </td><td>40                                                                                                        </td><td>None, or less than 1 day per week                                                                         </td><td>Private business                                                                                          </td><td>Yes, but only passively (just curious)                                                                    </td><td>Stay with the same employer,  but change roles                                                            </td><td>Male                                                                                                      </td></tr>\n",
       "</tbody>\n",
       "</table>\n"
      ],
      "text/latex": [
       "\\begin{tabular}{r|llllllllllllllllll}\n",
       " SalaryUSD & Country & YearsWithThisDatabase & EmploymentStatus & JobTitle & ManageStaff & YearsWithThisTypeOfJob & OtherPeopleOnYourTeam & DatabaseServers & Education & EducationIsComputerRelated & Certifications & HoursWorkedPerWeek & TelecommuteDaysPerWeek & EmploymentSector & LookingForAnotherJob & CareerPlansThisYear & Gender\\\\\n",
       "\\hline\n",
       "\t 4000                                                                                                       & South Africa                                                                                               & 21                                                                                                         & Full time employee                                                                                         & Developer: T-SQL                                                                                           & No                                                                                                         &  3                                                                                                         & 1                                                                                                          &   4                                                                                                        & None (no degree completed)                                                                                 & N/A                                                                                                        & No, I never have                                                                                           & 55                                                                                                         & 5 or more                                                                                                  & Private business                                                                                           & Yes, actively looking for something else                                                                   & Change both employers and roles                                                                            & Male                                                                                                      \\\\\n",
       "\t 3580                                                                                                       & Romania                                                                                                    &  6                                                                                                         & Full time employee                                                                                         & DBA (Development Focus - tunes queries, indexes, does deployments)                                         & No                                                                                                         &  2                                                                                                         & 2                                                                                                          &  50                                                                                                        & Masters                                                                                                    & Yes                                                                                                        & No, I never have                                                                                           & 40                                                                                                         & None, or less than 1 day per week                                                                          & Private business                                                                                           & Yes, but only passively (just curious)                                                                     & Stay with the same employer, same role                                                                     & Male                                                                                                      \\\\\n",
       "\t 2246                                                                                                       & India                                                                                                      &  2                                                                                                         & Full time employee                                                                                         & Developer: Business Intelligence (SSRS, PowerBI, etc)                                                      & Yes                                                                                                        &  2                                                                                                         & 4                                                                                                          &   2                                                                                                        & Masters                                                                                                    & Yes                                                                                                        & No, I never have                                                                                           & 40                                                                                                         & None, or less than 1 day per week                                                                          & Private business                                                                                           & Yes, actively looking for something else                                                                   & Stay with the same role, but change employers                                                              & Male                                                                                                      \\\\\n",
       "\t 2000                                                                                                           & South Africa                                                                                                   & 20                                                                                                             & Full time employee                                                                                             & DBA (General - splits time evenly between writing \\& tuning queries AND building \\& troubleshooting servers) & No                                                                                                             &  4                                                                                                             & None                                                                                                           &  50                                                                                                            & Associates (2 years)                                                                                           & Yes                                                                                                            & Yes, and they're currently valid                                                                               & 50                                                                                                             & 2                                                                                                              & Private business                                                                                               & Yes, but only passively (just curious)                                                                         & Stay with the same employer, same role                                                                         & Male                                                                                                          \\\\\n",
       "\t 1100                                                                                                         & Russia                                                                                                       &  2                                                                                                           & Full time employee                                                                                           & Developer: App code (C\\#, JS, etc)                                                                          & No                                                                                                           &  0                                                                                                           & 1                                                                                                            &   1                                                                                                          & Masters                                                                                                      & Yes                                                                                                          & No, I never have                                                                                             & 38                                                                                                           & None, or less than 1 day per week                                                                            & Federal government                                                                                           & No                                                                                                           & Stay with the same employer, same role                                                                       & Male                                                                                                        \\\\\n",
       "\t  300                                                                                                         & Russia                                                                                                       & 12                                                                                                           & Part time                                                                                                    & Developer: App code (C\\#, JS, etc)                                                                          & No                                                                                                           & 22                                                                                                           & 4                                                                                                            &   1                                                                                                          & Doctorate/PhD                                                                                                & Yes                                                                                                          & Yes, and they're currently valid                                                                             & 10                                                                                                           & 2                                                                                                            & State/province government                                                                                    & Yes, but only passively (just curious)                                                                       & Prefer not to say                                                                                            & Female                                                                                                      \\\\\n",
       "\t  130                                                                                                         & United States                                                                                                & 17                                                                                                           & Full time employee of a consulting/contracting company                                                       & DBA (Production Focus - build \\& troubleshoot servers, HA/DR)                                               & No                                                                                                           & 17                                                                                                           & More than 5                                                                                                  & 500                                                                                                          & None (no degree completed)                                                                                   & No                                                                                                           & No, I never have                                                                                             & 50                                                                                                           & 3                                                                                                            & Private business                                                                                             & Yes, but only passively (just curious)                                                                       & Stay with the same employer, same role                                                                       & Female                                                                                                      \\\\\n",
       "\t  112                                                                                                         & Australia                                                                                                    & 18                                                                                                           & Full time employee of a consulting/contracting company                                                       & Developer: App code (C\\#, JS, etc)                                                                          & No                                                                                                           & 10                                                                                                           & None                                                                                                         &  30                                                                                                          & Bachelors (4 years)                                                                                          & Yes                                                                                                          & Yes, and they're currently valid                                                                             & 40                                                                                                           & 5 or more                                                                                                    & Private business                                                                                             & No                                                                                                           & Prefer not to say                                                                                            & Male                                                                                                        \\\\\n",
       "\t   92                                                                                                       & United States                                                                                              & 16                                                                                                         & Full time employee                                                                                         & Developer: Business Intelligence (SSRS, PowerBI, etc)                                                      & Yes                                                                                                        & 16                                                                                                         & None                                                                                                       &  20                                                                                                        & Masters                                                                                                    & Yes                                                                                                        & Yes, but they expired                                                                                      & 40                                                                                                         & None, or less than 1 day per week                                                                          & Private business                                                                                           & No                                                                                                         & Stay with the same employer,  but change roles                                                             & Male                                                                                                      \\\\\n",
       "\t   87                                                                                                       & Denmark                                                                                                    &  3                                                                                                         & Full time employee of a consulting/contracting company                                                     & Developer: Business Intelligence (SSRS, PowerBI, etc)                                                      & No                                                                                                         &  3                                                                                                         & More than 5                                                                                                &   5                                                                                                        & Masters                                                                                                    & No                                                                                                         & No, I never have                                                                                           & 40                                                                                                         & 3                                                                                                          & Private business                                                                                           & Yes, but only passively (just curious)                                                                     & Stay with the same employer, same role                                                                     & Male                                                                                                      \\\\\n",
       "\t   81                                                                                                           & Canada                                                                                                         & 13                                                                                                             & Full time employee                                                                                             & DBA (General - splits time evenly between writing \\& tuning queries AND building \\& troubleshooting servers) & Yes                                                                                                            & 13                                                                                                             & 5                                                                                                              & 100                                                                                                            & None (no degree completed)                                                                                     & N/A                                                                                                            & Yes, and they're currently valid                                                                               & 40                                                                                                             & None, or less than 1 day per week                                                                              & Local government                                                                                               & Yes, but only passively (just curious)                                                                         & Prefer not to say                                                                                              & Male                                                                                                          \\\\\n",
       "\t   58                                                                                                       & Netherlands                                                                                                & 20                                                                                                         & Full time employee                                                                                         & Architect                                                                                                  & Yes                                                                                                        & 20                                                                                                         & None                                                                                                       &   4                                                                                                        & Bachelors (4 years)                                                                                        & N/A                                                                                                        & Yes, but they expired                                                                                      & 40                                                                                                         & None, or less than 1 day per week                                                                          & Private business                                                                                           & Yes, but only passively (just curious)                                                                     & Stay with the same employer,  but change roles                                                             & Male                                                                                                      \\\\\n",
       "\\end{tabular}\n"
      ],
      "text/markdown": [
       "\n",
       "SalaryUSD | Country | YearsWithThisDatabase | EmploymentStatus | JobTitle | ManageStaff | YearsWithThisTypeOfJob | OtherPeopleOnYourTeam | DatabaseServers | Education | EducationIsComputerRelated | Certifications | HoursWorkedPerWeek | TelecommuteDaysPerWeek | EmploymentSector | LookingForAnotherJob | CareerPlansThisYear | Gender | \n",
       "|---|---|---|---|---|---|---|---|---|---|---|---|\n",
       "| 4000                                                                                                       | South Africa                                                                                               | 21                                                                                                         | Full time employee                                                                                         | Developer: T-SQL                                                                                           | No                                                                                                         |  3                                                                                                         | 1                                                                                                          |   4                                                                                                        | None (no degree completed)                                                                                 | N/A                                                                                                        | No, I never have                                                                                           | 55                                                                                                         | 5 or more                                                                                                  | Private business                                                                                           | Yes, actively looking for something else                                                                   | Change both employers and roles                                                                            | Male                                                                                                       | \n",
       "| 3580                                                                                                       | Romania                                                                                                    |  6                                                                                                         | Full time employee                                                                                         | DBA (Development Focus - tunes queries, indexes, does deployments)                                         | No                                                                                                         |  2                                                                                                         | 2                                                                                                          |  50                                                                                                        | Masters                                                                                                    | Yes                                                                                                        | No, I never have                                                                                           | 40                                                                                                         | None, or less than 1 day per week                                                                          | Private business                                                                                           | Yes, but only passively (just curious)                                                                     | Stay with the same employer, same role                                                                     | Male                                                                                                       | \n",
       "| 2246                                                                                                       | India                                                                                                      |  2                                                                                                         | Full time employee                                                                                         | Developer: Business Intelligence (SSRS, PowerBI, etc)                                                      | Yes                                                                                                        |  2                                                                                                         | 4                                                                                                          |   2                                                                                                        | Masters                                                                                                    | Yes                                                                                                        | No, I never have                                                                                           | 40                                                                                                         | None, or less than 1 day per week                                                                          | Private business                                                                                           | Yes, actively looking for something else                                                                   | Stay with the same role, but change employers                                                              | Male                                                                                                       | \n",
       "| 2000                                                                                                       | South Africa                                                                                               | 20                                                                                                         | Full time employee                                                                                         | DBA (General - splits time evenly between writing & tuning queries AND building & troubleshooting servers) | No                                                                                                         |  4                                                                                                         | None                                                                                                       |  50                                                                                                        | Associates (2 years)                                                                                       | Yes                                                                                                        | Yes, and they're currently valid                                                                           | 50                                                                                                         | 2                                                                                                          | Private business                                                                                           | Yes, but only passively (just curious)                                                                     | Stay with the same employer, same role                                                                     | Male                                                                                                       | \n",
       "| 1100                                                                                                       | Russia                                                                                                     |  2                                                                                                         | Full time employee                                                                                         | Developer: App code (C#, JS, etc)                                                                          | No                                                                                                         |  0                                                                                                         | 1                                                                                                          |   1                                                                                                        | Masters                                                                                                    | Yes                                                                                                        | No, I never have                                                                                           | 38                                                                                                         | None, or less than 1 day per week                                                                          | Federal government                                                                                         | No                                                                                                         | Stay with the same employer, same role                                                                     | Male                                                                                                       | \n",
       "|  300                                                                                                       | Russia                                                                                                     | 12                                                                                                         | Part time                                                                                                  | Developer: App code (C#, JS, etc)                                                                          | No                                                                                                         | 22                                                                                                         | 4                                                                                                          |   1                                                                                                        | Doctorate/PhD                                                                                              | Yes                                                                                                        | Yes, and they're currently valid                                                                           | 10                                                                                                         | 2                                                                                                          | State/province government                                                                                  | Yes, but only passively (just curious)                                                                     | Prefer not to say                                                                                          | Female                                                                                                     | \n",
       "|  130                                                                                                       | United States                                                                                              | 17                                                                                                         | Full time employee of a consulting/contracting company                                                     | DBA (Production Focus - build & troubleshoot servers, HA/DR)                                               | No                                                                                                         | 17                                                                                                         | More than 5                                                                                                | 500                                                                                                        | None (no degree completed)                                                                                 | No                                                                                                         | No, I never have                                                                                           | 50                                                                                                         | 3                                                                                                          | Private business                                                                                           | Yes, but only passively (just curious)                                                                     | Stay with the same employer, same role                                                                     | Female                                                                                                     | \n",
       "|  112                                                                                                       | Australia                                                                                                  | 18                                                                                                         | Full time employee of a consulting/contracting company                                                     | Developer: App code (C#, JS, etc)                                                                          | No                                                                                                         | 10                                                                                                         | None                                                                                                       |  30                                                                                                        | Bachelors (4 years)                                                                                        | Yes                                                                                                        | Yes, and they're currently valid                                                                           | 40                                                                                                         | 5 or more                                                                                                  | Private business                                                                                           | No                                                                                                         | Prefer not to say                                                                                          | Male                                                                                                       | \n",
       "|   92                                                                                                       | United States                                                                                              | 16                                                                                                         | Full time employee                                                                                         | Developer: Business Intelligence (SSRS, PowerBI, etc)                                                      | Yes                                                                                                        | 16                                                                                                         | None                                                                                                       |  20                                                                                                        | Masters                                                                                                    | Yes                                                                                                        | Yes, but they expired                                                                                      | 40                                                                                                         | None, or less than 1 day per week                                                                          | Private business                                                                                           | No                                                                                                         | Stay with the same employer,  but change roles                                                             | Male                                                                                                       | \n",
       "|   87                                                                                                       | Denmark                                                                                                    |  3                                                                                                         | Full time employee of a consulting/contracting company                                                     | Developer: Business Intelligence (SSRS, PowerBI, etc)                                                      | No                                                                                                         |  3                                                                                                         | More than 5                                                                                                |   5                                                                                                        | Masters                                                                                                    | No                                                                                                         | No, I never have                                                                                           | 40                                                                                                         | 3                                                                                                          | Private business                                                                                           | Yes, but only passively (just curious)                                                                     | Stay with the same employer, same role                                                                     | Male                                                                                                       | \n",
       "|   81                                                                                                       | Canada                                                                                                     | 13                                                                                                         | Full time employee                                                                                         | DBA (General - splits time evenly between writing & tuning queries AND building & troubleshooting servers) | Yes                                                                                                        | 13                                                                                                         | 5                                                                                                          | 100                                                                                                        | None (no degree completed)                                                                                 | N/A                                                                                                        | Yes, and they're currently valid                                                                           | 40                                                                                                         | None, or less than 1 day per week                                                                          | Local government                                                                                           | Yes, but only passively (just curious)                                                                     | Prefer not to say                                                                                          | Male                                                                                                       | \n",
       "|   58                                                                                                       | Netherlands                                                                                                | 20                                                                                                         | Full time employee                                                                                         | Architect                                                                                                  | Yes                                                                                                        | 20                                                                                                         | None                                                                                                       |   4                                                                                                        | Bachelors (4 years)                                                                                        | N/A                                                                                                        | Yes, but they expired                                                                                      | 40                                                                                                         | None, or less than 1 day per week                                                                          | Private business                                                                                           | Yes, but only passively (just curious)                                                                     | Stay with the same employer,  but change roles                                                             | Male                                                                                                       | \n",
       "\n",
       "\n"
      ],
      "text/plain": [
       "   SalaryUSD Country       YearsWithThisDatabase\n",
       "1  4000      South Africa  21                   \n",
       "2  3580      Romania        6                   \n",
       "3  2246      India          2                   \n",
       "4  2000      South Africa  20                   \n",
       "5  1100      Russia         2                   \n",
       "6   300      Russia        12                   \n",
       "7   130      United States 17                   \n",
       "8   112      Australia     18                   \n",
       "9    92      United States 16                   \n",
       "10   87      Denmark        3                   \n",
       "11   81      Canada        13                   \n",
       "12   58      Netherlands   20                   \n",
       "   EmploymentStatus                                      \n",
       "1  Full time employee                                    \n",
       "2  Full time employee                                    \n",
       "3  Full time employee                                    \n",
       "4  Full time employee                                    \n",
       "5  Full time employee                                    \n",
       "6  Part time                                             \n",
       "7  Full time employee of a consulting/contracting company\n",
       "8  Full time employee of a consulting/contracting company\n",
       "9  Full time employee                                    \n",
       "10 Full time employee of a consulting/contracting company\n",
       "11 Full time employee                                    \n",
       "12 Full time employee                                    \n",
       "   JobTitle                                                                                                  \n",
       "1  Developer: T-SQL                                                                                          \n",
       "2  DBA (Development Focus - tunes queries, indexes, does deployments)                                        \n",
       "3  Developer: Business Intelligence (SSRS, PowerBI, etc)                                                     \n",
       "4  DBA (General - splits time evenly between writing & tuning queries AND building & troubleshooting servers)\n",
       "5  Developer: App code (C#, JS, etc)                                                                         \n",
       "6  Developer: App code (C#, JS, etc)                                                                         \n",
       "7  DBA (Production Focus - build & troubleshoot servers, HA/DR)                                              \n",
       "8  Developer: App code (C#, JS, etc)                                                                         \n",
       "9  Developer: Business Intelligence (SSRS, PowerBI, etc)                                                     \n",
       "10 Developer: Business Intelligence (SSRS, PowerBI, etc)                                                     \n",
       "11 DBA (General - splits time evenly between writing & tuning queries AND building & troubleshooting servers)\n",
       "12 Architect                                                                                                 \n",
       "   ManageStaff YearsWithThisTypeOfJob OtherPeopleOnYourTeam DatabaseServers\n",
       "1  No           3                     1                       4            \n",
       "2  No           2                     2                      50            \n",
       "3  Yes          2                     4                       2            \n",
       "4  No           4                     None                   50            \n",
       "5  No           0                     1                       1            \n",
       "6  No          22                     4                       1            \n",
       "7  No          17                     More than 5           500            \n",
       "8  No          10                     None                   30            \n",
       "9  Yes         16                     None                   20            \n",
       "10 No           3                     More than 5             5            \n",
       "11 Yes         13                     5                     100            \n",
       "12 Yes         20                     None                    4            \n",
       "   Education                  EducationIsComputerRelated\n",
       "1  None (no degree completed) N/A                       \n",
       "2  Masters                    Yes                       \n",
       "3  Masters                    Yes                       \n",
       "4  Associates (2 years)       Yes                       \n",
       "5  Masters                    Yes                       \n",
       "6  Doctorate/PhD              Yes                       \n",
       "7  None (no degree completed) No                        \n",
       "8  Bachelors (4 years)        Yes                       \n",
       "9  Masters                    Yes                       \n",
       "10 Masters                    No                        \n",
       "11 None (no degree completed) N/A                       \n",
       "12 Bachelors (4 years)        N/A                       \n",
       "   Certifications                   HoursWorkedPerWeek\n",
       "1  No, I never have                 55                \n",
       "2  No, I never have                 40                \n",
       "3  No, I never have                 40                \n",
       "4  Yes, and they're currently valid 50                \n",
       "5  No, I never have                 38                \n",
       "6  Yes, and they're currently valid 10                \n",
       "7  No, I never have                 50                \n",
       "8  Yes, and they're currently valid 40                \n",
       "9  Yes, but they expired            40                \n",
       "10 No, I never have                 40                \n",
       "11 Yes, and they're currently valid 40                \n",
       "12 Yes, but they expired            40                \n",
       "   TelecommuteDaysPerWeek            EmploymentSector         \n",
       "1  5 or more                         Private business         \n",
       "2  None, or less than 1 day per week Private business         \n",
       "3  None, or less than 1 day per week Private business         \n",
       "4  2                                 Private business         \n",
       "5  None, or less than 1 day per week Federal government       \n",
       "6  2                                 State/province government\n",
       "7  3                                 Private business         \n",
       "8  5 or more                         Private business         \n",
       "9  None, or less than 1 day per week Private business         \n",
       "10 3                                 Private business         \n",
       "11 None, or less than 1 day per week Local government         \n",
       "12 None, or less than 1 day per week Private business         \n",
       "   LookingForAnotherJob                    \n",
       "1  Yes, actively looking for something else\n",
       "2  Yes, but only passively (just curious)  \n",
       "3  Yes, actively looking for something else\n",
       "4  Yes, but only passively (just curious)  \n",
       "5  No                                      \n",
       "6  Yes, but only passively (just curious)  \n",
       "7  Yes, but only passively (just curious)  \n",
       "8  No                                      \n",
       "9  No                                      \n",
       "10 Yes, but only passively (just curious)  \n",
       "11 Yes, but only passively (just curious)  \n",
       "12 Yes, but only passively (just curious)  \n",
       "   CareerPlansThisYear                            Gender\n",
       "1  Change both employers and roles                Male  \n",
       "2  Stay with the same employer, same role         Male  \n",
       "3  Stay with the same role, but change employers  Male  \n",
       "4  Stay with the same employer, same role         Male  \n",
       "5  Stay with the same employer, same role         Male  \n",
       "6  Prefer not to say                              Female\n",
       "7  Stay with the same employer, same role         Female\n",
       "8  Prefer not to say                              Male  \n",
       "9  Stay with the same employer,  but change roles Male  \n",
       "10 Stay with the same employer, same role         Male  \n",
       "11 Prefer not to say                              Male  \n",
       "12 Stay with the same employer,  but change roles Male  "
      ]
     },
     "metadata": {},
     "output_type": "display_data"
    }
   ],
   "source": [
    "survey_2018 %>%\n",
    "  filter(SalaryUSD < 5000) %>%\n",
    "  arrange(desc(SalaryUSD))"
   ]
  },
  {
   "cell_type": "code",
   "execution_count": 26,
   "metadata": {},
   "outputs": [],
   "source": [
    "survey_2018 <- filter(survey_2018, SalaryUSD >= 5000 & SalaryUSD <= 500000)"
   ]
  },
  {
   "cell_type": "markdown",
   "metadata": {},
   "source": [
    "### Data Analysis\n",
    "\n",
    "We did some of the data analysis up above.  We can do additional visualization and correlation studies.  For example, let's look at a quick distribution of salaries after our cleanup work:"
   ]
  },
  {
   "cell_type": "code",
   "execution_count": 27,
   "metadata": {},
   "outputs": [
    {
     "data": {
      "text/plain": [
       "   Min. 1st Qu.  Median    Mean 3rd Qu.    Max. \n",
       "   5000   70000   92000   95186  115000  486000 "
      ]
     },
     "metadata": {},
     "output_type": "display_data"
    }
   ],
   "source": [
    "summary(survey_2018$SalaryUSD)"
   ]
  },
  {
   "cell_type": "markdown",
   "metadata": {},
   "source": [
    "We can also build a histogram pretty easily using the `ggplot2` library.  This shows the big clump of database professionals earning beween \\$70K and \\$115K per year.  This salary distribution does skew right a bit, as you can see."
   ]
  },
  {
   "cell_type": "code",
   "execution_count": 41,
   "metadata": {},
   "outputs": [
    {
     "name": "stderr",
     "output_type": "stream",
     "text": [
      "`stat_bin()` using `bins = 30`. Pick better value with `binwidth`.\n"
     ]
    },
    {
     "data": {},
     "metadata": {},
     "output_type": "display_data"
    },
    {
     "data": {
      "image/png": "[encoded data removed]",
      "text/plain": [
       "plot without title"
      ]
     },
     "metadata": {},
     "output_type": "display_data"
    }
   ],
   "source": [
    "options(repr.plot.width=6, repr.plot.height=4)\n",
    "ggplot(data = survey_2018, mapping = aes(x = SalaryUSD)) +\n",
    "  geom_histogram() +\n",
    "  theme_minimal() +\n",
    "  scale_x_log10(label = scales::dollar)"
   ]
  },
  {
   "cell_type": "markdown",
   "metadata": {},
   "source": [
    "We can also break this down to look by primary job title, though I'll limit to a couple of summaries instead of showing a full picture."
   ]
  },
  {
   "cell_type": "code",
   "execution_count": 29,
   "metadata": {},
   "outputs": [
    {
     "data": {
      "text/plain": [
       "   SalaryUSD     \n",
       " Min.   : 45000  \n",
       " 1st Qu.: 76250  \n",
       " Median :111000  \n",
       " Mean   :102000  \n",
       " 3rd Qu.:122000  \n",
       " Max.   :160000  "
      ]
     },
     "metadata": {},
     "output_type": "display_data"
    }
   ],
   "source": [
    "survey_2018 %>% filter(JobTitle == \"Data Scientist\") %>% select(SalaryUSD) %>% summary(.)"
   ]
  },
  {
   "cell_type": "code",
   "execution_count": 30,
   "metadata": {},
   "outputs": [
    {
     "data": {
      "text/plain": [
       "   SalaryUSD     \n",
       " Min.   : 22000  \n",
       " 1st Qu.: 60000  \n",
       " Median : 84000  \n",
       " Mean   : 84341  \n",
       " 3rd Qu.:105000  \n",
       " Max.   :194000  "
      ]
     },
     "metadata": {},
     "output_type": "display_data"
    }
   ],
   "source": [
    "survey_2018 %>% filter(JobTitle == \"Developer: App code (C#, JS, etc)\") %>% select(SalaryUSD) %>% summary(.)"
   ]
  },
  {
   "cell_type": "code",
   "execution_count": 31,
   "metadata": {},
   "outputs": [
    {
     "data": {
      "text/plain": [
       "   SalaryUSD     \n",
       " Min.   : 12000  \n",
       " 1st Qu.: 66000  \n",
       " Median : 87000  \n",
       " Mean   : 88026  \n",
       " 3rd Qu.:110000  \n",
       " Max.   :300000  "
      ]
     },
     "metadata": {},
     "output_type": "display_data"
    }
   ],
   "source": [
    "survey_2018 %>% filter(JobTitle == \"Developer: T-SQL\") %>% select(SalaryUSD) %>% summary(.)"
   ]
  },
  {
   "cell_type": "markdown",
   "metadata": {},
   "source": [
    "This fit pretty well to my biases, although the max Data Scientist salary seems rather low."
   ]
  },
  {
   "cell_type": "markdown",
   "metadata": {},
   "source": [
    "## Modeling\n",
    "\n",
    "Because our question is a \"how much?\" question, we want to use regression to solve the problem.  The most common form of regression that you'll see in demonstrations is linear regression, because it is easy to teach and easy to understand.  In today's demo, however, we're going to build a neural network with Keras.  Although our demo is in R, Keras actually uses Python on the back end to run TensorFlow.  There are other libraries out there which can run neural networks strictly within R (for example, Microsoft Machine Learning's R implemenation has the `RxNeuralNet()` function), but we will use Keras in this demo because it is a popular library.\n",
    "\n",
    "Now that we have an algorithm and implementation in mind, let's split the data out into training and test subsets.  I want to use Country as the partition variable because I want to ensure that we retain some data from each country in the test set.  To make this split, I am using the `createDataPartition()` function in `caret`.  I'll then split out the data into training and test data."
   ]
  },
  {
   "cell_type": "code",
   "execution_count": 32,
   "metadata": {},
   "outputs": [
    {
     "data": {
      "text/html": [
       "1976"
      ],
      "text/latex": [
       "1976"
      ],
      "text/markdown": [
       "1976"
      ],
      "text/plain": [
       "[1] 1976"
      ]
     },
     "metadata": {},
     "output_type": "display_data"
    },
    {
     "data": {
      "text/html": [
       "841"
      ],
      "text/latex": [
       "841"
      ],
      "text/markdown": [
       "841"
      ],
      "text/plain": [
       "[1] 841"
      ]
     },
     "metadata": {},
     "output_type": "display_data"
    }
   ],
   "source": [
    "trainIndex <- caret::createDataPartition(survey_2018$Country, p = 0.7, list = FALSE, times = 1)\n",
    "train_data <- survey_2018[trainIndex,]\n",
    "test_data <- survey_2018[-trainIndex,]\n",
    "nrow(train_data)\n",
    "nrow(test_data)"
   ]
  },
  {
   "cell_type": "markdown",
   "metadata": {},
   "source": [
    "Once I have this data split, I want to perform some operations on the training data.  Specifically, I want to do the following:\n",
    "* One-Hot Encode the categorical data\n",
    "* Mean-center the data, so that the mean of each numeric value is 0\n",
    "* Scale the data, so that the standard deviation of each value is 1\n",
    "\n",
    "The bottom two are called **normalizing** the data.  This is a valuable technique when dealing with many algorithms, including neural networks, as it helps with optimizing gradient descent problems.\n",
    "\n",
    "In order to perform all of these operations, I will create a `recipe`, using the `recipes` package.\n",
    "\n",
    "**NOTE:**  It turns out that normalizing the features results in a slightly worse outcome in this case, so I'm actually going to avoid that.  You can uncomment the two sections and run it yourself if you want to try.  In some problems, normalization is the right answer; in others, it's better without normalization."
   ]
  },
  {
   "cell_type": "code",
   "execution_count": 33,
   "metadata": {},
   "outputs": [
    {
     "data": {
      "text/plain": [
       "Data Recipe\n",
       "\n",
       "Inputs:\n",
       "\n",
       "      role #variables\n",
       "   outcome          1\n",
       " predictor         17\n",
       "\n",
       "Training data contained 1976 data points and no missing data.\n",
       "\n",
       "Operations:\n",
       "\n",
       "Dummy variables from Country, EmploymentStatus, JobTitle, ... [trained]"
      ]
     },
     "metadata": {},
     "output_type": "display_data"
    }
   ],
   "source": [
    "rec_obj <- recipes::recipe(SalaryUSD ~ ., data = train_data) %>%       # Build out a set of rules we want to follow (a recipe)\n",
    "  step_dummy(all_nominal(), -all_outcomes()) %>%              # One-hot encode categorical data\n",
    "  #step_center(all_predictors(), -all_outcomes()) %>%          # Mean-center the data\n",
    "  #step_scale(all_predictors(), -all_outcomes()) %>%           # Scale the data\n",
    "  prep(data = train_data)\n",
    "\n",
    "rec_obj"
   ]
  },
  {
   "cell_type": "markdown",
   "metadata": {},
   "source": [
    "Now we can `bake` our data based on the recipe above.  Note that I performed all of these operations only on the **training** data.  If we normalize the training + test data, our optimization function can get a sneak peek at the distribution of the test data based on what is in the training set, and that will bias our result.\n",
    "\n",
    "After building up the `x_` series of data sets, I'll build vectors which contain the salaries for the training and test data.  I need to make sure to remove the SalaryUSD variable; we don't want to make that available to the trainer as an independent variable!"
   ]
  },
  {
   "cell_type": "code",
   "execution_count": 34,
   "metadata": {},
   "outputs": [],
   "source": [
    "x_train_data <- recipes::bake(rec_obj, new_data = train_data)\n",
    "x_test_data <- recipes::bake(rec_obj, new_data = test_data)\n",
    "y_train_vec <- pull(x_train_data, SalaryUSD)\n",
    "y_test_vec  <- pull(x_test_data, SalaryUSD)\n",
    "# Remove the SalaryUSD variable.\n",
    "x_train_data <- x_train_data[,-1]\n",
    "x_test_data <- x_test_data[,-1]"
   ]
  },
  {
   "cell_type": "markdown",
   "metadata": {},
   "source": [
    "At this point, I want to build the Keras model.  I'm creating a `build_model` function in case I want to run this over and over. In a real-life scenario, I would perform various optimizations, do cross-validation, etc.  In this scenario, however, I am just going to run one time against the full training data set, and then evaluate it against the test data set.\n",
    "\n",
    "Inside the function, we start by declaring a Keras model.  Then, I add three layers to the model.  The first layer is a dense (fully-connected) layer which accepts the training data as inputs and uses the Rectified Linear Unit (ReLU) activation mechanism.  This is a decent first guess for activation mechanisms.  We then have a dropout layer, which reduces the risk of overfitting on the training data.  Finally, I have a dense layer for my output, which will give me the salary.\n",
    "\n",
    "I compile the model using the `RMSProp` optimizer.  This is a good default optimizer for neural networks, although you might try `Adagrad`, `Adam`, or `AdaMax` as well.  Our loss function is Mean Squared Error, which is good for dealing with finding the error in a regression.  Finally, I'm interested in the Mean Absolute Error--that is, the dollar amount difference between our function's prediction and the actual salary.  The closer to \\$0 this is, the better."
   ]
  },
  {
   "cell_type": "code",
   "execution_count": 35,
   "metadata": {},
   "outputs": [],
   "source": [
    "build_model <- function() {\n",
    "  model <- keras_model_sequential() %>%\n",
    "    layer_dense(units = 256, input_shape = c(ncol(x_train_data)), activation = \"relu\") %>%\n",
    "    layer_dropout(rate = 0.2) %>%\n",
    "    layer_dense(units = 512, activation = \"relu\") %>%\n",
    "    layer_dropout(rate = 0.2) %>%\n",
    "    layer_dense(units = 1, activation = \"linear\") # No activation --> linear layer\n",
    "\n",
    "  # RMSProp is a nice default optimizer for a neural network.\n",
    "  # Mean Squared Error is a classic loss function for dealing with regression-style problems, whether with a neural network or otherwise.\n",
    "  # Mean Average Error gives us a metric which directly translates to the number of dollars we are off with our predictions.\n",
    "  model %>% compile(\n",
    "    optimizer = \"rmsprop\",\n",
    "    loss = \"mse\",\n",
    "    metrics = c(\"mae\")\n",
    "  )\n",
    "}"
   ]
  },
  {
   "cell_type": "markdown",
   "metadata": {},
   "source": [
    "Building out this model can take some time, so be patient."
   ]
  },
  {
   "cell_type": "code",
   "execution_count": 36,
   "metadata": {},
   "outputs": [
    {
     "data": {
      "text/html": [
       "<dl>\n",
       "\t<dt>$loss</dt>\n",
       "\t\t<dd>798685963.224733</dd>\n",
       "\t<dt>$mean_absolute_error</dt>\n",
       "\t\t<dd>18954.296754236</dd>\n",
       "</dl>\n"
      ],
      "text/latex": [
       "\\begin{description}\n",
       "\\item[\\$loss] 798685963.224733\n",
       "\\item[\\$mean\\_absolute\\_error] 18954.296754236\n",
       "\\end{description}\n"
      ],
      "text/markdown": [
       "$loss\n",
       ":   798685963.224733\n",
       "$mean_absolute_error\n",
       ":   18954.296754236\n",
       "\n",
       "\n"
      ],
      "text/plain": [
       "$loss\n",
       "[1] 798685963\n",
       "\n",
       "$mean_absolute_error\n",
       "[1] 18954.3\n"
      ]
     },
     "metadata": {},
     "output_type": "display_data"
    }
   ],
   "source": [
    "model <- build_model()\n",
    "model %>% fit(as.matrix(x_train_data), y_train_vec, epochs = 100, batch_size = 16, verbose = 0)\n",
    "result <- model %>% evaluate(as.matrix(x_test_data), y_test_vec)\n",
    "result"
   ]
  },
  {
   "cell_type": "markdown",
   "metadata": {},
   "source": [
    "What this tells us is that, after generating our model, we are an average of \\\\$mean_absolute_error dollars off from reality.  In my case, that was just under \\\\$20K.  That's not an awful amount off.  In fact, it's an alright start, though I wouldn't trust this model as-is for for my negotiations.  With a few other enhancements, we might see that number drop a bit and start getting into the trustworthy territory.\n",
    "\n",
    "With a real data science project, I would dig further, seeing if there were better algorithms available, cross-validating the training set, etc.  As-is, this result isn't good enough for a production scenario, but we can pretend that it is.\n",
    "\n",
    "## Quick Validation And Testing\n",
    "\n",
    "Now let's test a couple of scenarios.  First up, my salaries over time, as well as a case where I moved to Canada last year."
   ]
  },
  {
   "cell_type": "code",
   "execution_count": 37,
   "metadata": {},
   "outputs": [],
   "source": [
    "test_cases <- test_data[1:4, ]\n",
    "\n",
    "test_cases$SalaryUSD = c(1,2,3,4)\n",
    "test_cases$Country = c(\"United States\", \"United States\", \"United States\", \"Canada\")\n",
    "test_cases$YearsWithThisDatabase = c(0, 5, 11, 11)\n",
    "test_cases$EmploymentStatus = c(\"Full time employee\", \"Full time employee\", \"Full time employee\", \"Full time employee\")\n",
    "test_cases$JobTitle = c(\"Developer: App code (C#, JS, etc)\", \"DBA (General - splits time evenly between writing & tuning queries AND building & troubleshooting servers)\", \"Manager\", \"Manager\")\n",
    "test_cases$ManageStaff = c(\"No\", \"No\", \"Yes\", \"Yes\")\n",
    "test_cases$YearsWithThisTypeOfJob = c(0, 5, 0, 0)\n",
    "test_cases$OtherPeopleOnYourTeam = c(5, 0, 2, 2)\n",
    "test_cases$DatabaseServers = c(8, 12, 150, 150)\n",
    "test_cases$Education = c(\"Bachelors (4 years)\", \"Masters\", \"Masters\", \"Masters\")\n",
    "test_cases$EducationIsComputerRelated = c(\"Yes\", \"Yes\", \"Yes\", \"Yes\")\n",
    "test_cases$Certifications = c(\"No, I never have\", \"Yes, and they're currently valid\", \"Yes, but they expired\", \"Yes, but they expired\")\n",
    "test_cases$HoursWorkedPerWeek = c(40, 40, 40, 40)\n",
    "test_cases$TelecommuteDaysPerWeek = c(\"None, or less than 1 day per week\", \"None, or less than 1 day per week\", \"None, or less than 1 day per week\", \"None, or less than 1 day per week\")\n",
    "test_cases$EmploymentSector = c(\"State/province government\", \"State/province government\", \"Private business\", \"Private business\")\n",
    "test_cases$LookingForAnotherJob = c(\"No\", \"Yes\", \"No\", \"No\")\n",
    "test_cases$CareerPlansThisYear = c(\"Stay with the same employer, same role\", \"Stay with the same role, but change employers\", \"Stay with the same employer, same role\", \"Stay with the same employer, same role\")\n",
    "test_cases$Gender = c(\"Male\", \"Male\", \"Male\", \"Male\")"
   ]
  },
  {
   "cell_type": "code",
   "execution_count": 38,
   "metadata": {},
   "outputs": [
    {
     "name": "stderr",
     "output_type": "stream",
     "text": [
      "Warning message:\n",
      "\" There were 12 columns that were factors when the recipe was prepped:\n",
      " 'EmploymentStatus', 'JobTitle', 'ManageStaff', 'OtherPeopleOnYourTeam', 'Education', 'EducationIsComputerRelated', 'Certifications', 'TelecommuteDaysPerWeek', 'EmploymentSector', 'LookingForAnotherJob', 'CareerPlansThisYear', 'Gender'.\n",
      " This may cause errors when processing new data.\"Warning message:\n",
      "\"There are new levels in a factor: 0\"Warning message:\n",
      "\"There are new levels in a factor: Yes\"Warning message:\n",
      "\" There were 12 columns that were factors when the recipe was prepped:\n",
      " 'EmploymentStatus', 'JobTitle', 'ManageStaff', 'OtherPeopleOnYourTeam', 'Education', 'EducationIsComputerRelated', 'Certifications', 'TelecommuteDaysPerWeek', 'EmploymentSector', 'LookingForAnotherJob', 'CareerPlansThisYear', 'Gender'.\n",
      " This may cause errors when processing new data.\""
     ]
    }
   ],
   "source": [
    "# Why is this only letting me fit two objects at a time?\n",
    "# With head(test_cases, 3) --> Error in data.frame(..., check.names = FALSE): arguments imply differing number of rows: 3, 2\n",
    "# With head(test_cases, 4) --> Error in data.frame(..., check.names = FALSE): arguments imply differing number of rows: 4, 3\n",
    "x_test_cases_1 <- recipes::bake(rec_obj, new_data = head(test_cases,2))\n",
    "x_test_cases_2 <- recipes::bake(rec_obj, new_data = tail(test_cases,2))\n",
    "x_test_cases <- rbind(x_test_cases_1, x_test_cases_2)\n",
    "x_test_cases <- x_test_cases %>% select(-SalaryUSD)"
   ]
  },
  {
   "cell_type": "code",
   "execution_count": 39,
   "metadata": {},
   "outputs": [
    {
     "data": {
      "text/html": [
       "<table>\n",
       "<tbody>\n",
       "\t<tr><td> 63790.52</td></tr>\n",
       "\t<tr><td>      NaN</td></tr>\n",
       "\t<tr><td>116774.60</td></tr>\n",
       "\t<tr><td> 82436.39</td></tr>\n",
       "</tbody>\n",
       "</table>\n"
      ],
      "text/latex": [
       "\\begin{tabular}{l}\n",
       "\t  63790.52\\\\\n",
       "\t       NaN\\\\\n",
       "\t 116774.60\\\\\n",
       "\t  82436.39\\\\\n",
       "\\end{tabular}\n"
      ],
      "text/markdown": [
       "\n",
       "|  63790.52 | \n",
       "|       NaN | \n",
       "| 116774.60 | \n",
       "|  82436.39 | \n",
       "\n",
       "\n"
      ],
      "text/plain": [
       "     [,1]     \n",
       "[1,]  63790.52\n",
       "[2,]       NaN\n",
       "[3,] 116774.60\n",
       "[4,]  82436.39"
      ]
     },
     "metadata": {},
     "output_type": "display_data"
    }
   ],
   "source": [
    "model %>% predict(as.matrix(x_test_cases))"
   ]
  },
  {
   "cell_type": "markdown",
   "metadata": {},
   "source": [
    "The first three predictions were somewhere in the ballpark, though none was spot on.  The Canadian rate is interesting considering the exchange rate for this time was about 75-78 US cents per Canadian dollar, and the Canadian rate is about 72%.\n",
    "\n",
    "Next, what happens if we change me from Male to Female in these examples?"
   ]
  },
  {
   "cell_type": "code",
   "execution_count": 40,
   "metadata": {},
   "outputs": [
    {
     "name": "stderr",
     "output_type": "stream",
     "text": [
      "Warning message:\n",
      "\" There were 12 columns that were factors when the recipe was prepped:\n",
      " 'EmploymentStatus', 'JobTitle', 'ManageStaff', 'OtherPeopleOnYourTeam', 'Education', 'EducationIsComputerRelated', 'Certifications', 'TelecommuteDaysPerWeek', 'EmploymentSector', 'LookingForAnotherJob', 'CareerPlansThisYear', 'Gender'.\n",
      " This may cause errors when processing new data.\"Warning message:\n",
      "\"There are new levels in a factor: 0\"Warning message:\n",
      "\"There are new levels in a factor: Yes\"Warning message:\n",
      "\" There were 12 columns that were factors when the recipe was prepped:\n",
      " 'EmploymentStatus', 'JobTitle', 'ManageStaff', 'OtherPeopleOnYourTeam', 'Education', 'EducationIsComputerRelated', 'Certifications', 'TelecommuteDaysPerWeek', 'EmploymentSector', 'LookingForAnotherJob', 'CareerPlansThisYear', 'Gender'.\n",
      " This may cause errors when processing new data.\""
     ]
    },
    {
     "data": {
      "text/html": [
       "<table>\n",
       "<tbody>\n",
       "\t<tr><td> 55947.81</td></tr>\n",
       "\t<tr><td>      NaN</td></tr>\n",
       "\t<tr><td>108210.90</td></tr>\n",
       "\t<tr><td> 74346.09</td></tr>\n",
       "</tbody>\n",
       "</table>\n"
      ],
      "text/latex": [
       "\\begin{tabular}{l}\n",
       "\t  55947.81\\\\\n",
       "\t       NaN\\\\\n",
       "\t 108210.90\\\\\n",
       "\t  74346.09\\\\\n",
       "\\end{tabular}\n"
      ],
      "text/markdown": [
       "\n",
       "|  55947.81 | \n",
       "|       NaN | \n",
       "| 108210.90 | \n",
       "|  74346.09 | \n",
       "\n",
       "\n"
      ],
      "text/plain": [
       "     [,1]     \n",
       "[1,]  55947.81\n",
       "[2,]       NaN\n",
       "[3,] 108210.90\n",
       "[4,]  74346.09"
      ]
     },
     "metadata": {},
     "output_type": "display_data"
    }
   ],
   "source": [
    "test_cases$Gender = c(\"Female\", \"Female\", \"Female\", \"Female\")\n",
    "# Why is this only letting me fit two objects at a time?\n",
    "x_test_cases_1 <- recipes::bake(rec_obj, new_data = head(test_cases,2))\n",
    "x_test_cases_2 <- recipes::bake(rec_obj, new_data = tail(test_cases,2))\n",
    "x_test_cases <- rbind(x_test_cases_1, x_test_cases_2)\n",
    "x_test_cases <- x_test_cases %>% select(-SalaryUSD)\n",
    "\n",
    "model %>% predict(as.matrix(x_test_cases))"
   ]
  },
  {
   "cell_type": "markdown",
   "metadata": {},
   "source": [
    "In my scenario, there is a difference of anywhere from \\\\$5K to \\\\$7K between male and female salaries; that number may differ based on your sample and random number seed, so you may see a bigger or smaller difference.  There is no causal explanation here, but based on the survey, men earn more than women.\n",
    "\n",
    "## Deployment\n",
    "\n",
    "During the deployment phase, we will need to take our web service's inputs and transform them into the same shape as our training and test data.  We would then run the set and output our SalaryUSD prediction as the result.\n",
    "\n",
    "I'm leaving the details of that as an exercise (because there are so many variables around deployment, including how you will fit it into your normal infrastructure), but a few thoughts:\n",
    "\n",
    "1. As mentioned in the scenario, we're going to run a lot of one-off predictions rather than taking a batch of inputs, we want to optimize this for speed.  We could probably make this an asynchronous call so that when one of our users changes a detail like number of years working at the job, we can update our salary estimate.\n",
    "2. This would probably be a good use case for SQL Server Machine Learning Services:  if we save all of the profile data in the database, we can pass those results straight to ML Services and perform the transformation and prediction in R.  If we go this route, we'd return the results as a SQL Server result set, which is easy for most developers to handle.\n",
    "3. Another option would be to rewrite this in Python, as we're using Python under the covers anyhow.  Then we could use a web service framework like Flask to build a simple API.  If you go that route, you might want to stand up a production-grade service like Gunicorn and use Nginx as the front door to handle traffic and load balancing.\n",
    "\n",
    "## Repeat The Process\n",
    "\n",
    "From here, we would collect data on actual predictions.  We saw the test set's Mean Absolute Error, but an even more valuable measure is the Mean Absolute Error of actual data.  We'd need to ask people what their actual salaries are to know for sure, but we could feed these back into the training data and keep training our model.  One of the nice things about using a neural network like this is that we can continuously train the model based on our newly-gathered data.\n",
    "\n",
    "Next, we would want to follow up with our stakeholders.  If they're happy with this result, we could probably look at other uses for the data source, such as cleaning up postal code and integrating with a service to get more granular information on salary in certain parts of larger countries like the US and Canada."
   ]
  },
  {
   "cell_type": "code",
   "execution_count": null,
   "metadata": {},
   "outputs": [],
   "source": []
  }
 ],
 "metadata": {
  "kernelspec": {
   "display_name": "R",
   "language": "R",
   "name": "ir"
  },
  "language_info": {
   "codemirror_mode": "r",
   "file_extension": ".r",
   "mimetype": "text/x-r-source",
   "name": "R",
   "pygments_lexer": "r",
   "version": "3.5.1"
  }
 },
 "nbformat": 4,
 "nbformat_minor": 2
}
