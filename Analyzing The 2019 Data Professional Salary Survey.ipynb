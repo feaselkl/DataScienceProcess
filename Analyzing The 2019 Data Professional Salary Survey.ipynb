{
 "cells": [
  {
   "cell_type": "markdown",
   "metadata": {},
   "source": [
    "# The Data Science Process\n",
    "\n",
    "This is intended to be a follow-up script for my talk entitled [Launching a Data Science Project:  Cleaning is Half the Battle](http://www.catallaxyservices.com/presentations/datascience/).  I will repeat some of the presentation in this notebook, but this notebook is not designed to replace the presentation itself.\n",
    "\n",
    "Over the course of this notebook, we will analyze Data Professional salaries based on the [2019 Data Professionals Salary Survey](https://www.brentozar.com/archive/2019/01/the-2019-data-professional-salary-survey-results/).  We will use this data as the centerpiece of an implementation of the [Microsoft Team Data Science Process](https://docs.microsoft.com/en-us/azure/machine-learning/team-data-science-process/overview).\n",
    "\n",
    "The Team Data Science Process has five major steps:\n",
    "1. Business Understanding\n",
    "2. Data Processing\n",
    "3. Modeling\n",
    "4. Deployment\n",
    "5. Repeat\n",
    "\n",
    "## Business Understanding\n",
    "\n",
    "Before we begin working, we need to understand the problem.  In our scenario, we work for Data Platform Specialists, a company dedicated to providing DBAs and other data platform professionals with valuable market knowledge. We have come into possession of a survey of data professionals and want to build insights that we can share with our client base.  Our higher-ups want us to analyze this survey and see how we can make good use of it.\n",
    "\n",
    "During initial brainstorming, we might come up with questions like:\n",
    "* How much money does a DBA make?\n",
    "* Which category of DBA (junior, mid-level, senior) does this particular work?\n",
    "* How can we segment the DBAs in our survey?\n",
    "* Is this many hours per week weird?\n",
    "* Which option should I choose as a career path? DBA? Data science? BI?\n",
    "\n",
    "These questions could potentially be interesting, and the specific form of the question will help guide our analysis.  For example, \"how much\" questions typically lead to regression, whereas \"which category\" questions are indicative of a classification problem.  Segmentation questions where we do not know the classes beforehand is a classic example of a clustering problem, and the final two questions are anomaly detection and recommendation, respectively.\n",
    "\n",
    "Narrowing this down with our champion and other stakeholders, we can get to the following question which we will endeavour to answer:\n",
    "\n",
    "**How much money should we expect a data professional will make?**\n",
    "\n",
    "This is a vague question that we will want to focus in on later, but at least it gives us a start.\n",
    "\n",
    "## Data Processing\n",
    "\n",
    "There are three steps to data processing:  data gathering, data cleansing, and data analysis.\n",
    "\n",
    "### Data Gathering\n",
    "\n",
    "In this example, we will stick to just the data professional survey. But if you want to take this further, a few additional data sources could be:\n",
    "\n",
    "* PPP GDP per capita to normalize salaries across countries.\n",
    "* A geocoding data set to visualize results on a map.\n",
    "* Cost of living by ZIP code to normalize salaries within the US.\n",
    "* Census information to build out data by ZIP code.\n",
    "* Data from other surveys to add more to the sample.\n",
    "\n",
    "If you are interested in extending this to include PPP GDP per capita, check out [a blog post I did based on the 2017 survey results](https://36chambers.wordpress.com/2017/01/18/analyzing-dba-salaries/).\n",
    "\n",
    "### Data Cleansing\n",
    "\n",
    "Here is where we begin the real work.  In the next snippet, I am going to load a series of libraries in R.  We will use each of them over the course of this notebook.  The `tidyverse` package is a series of incredibly useful libraries in R, and I can't think of doing a data science project in R without it.  The `XLConnect` package lets me read an Excel workbook easily and grab the salary data without much hassle.  The `caret` library provides some helpful tooling for working with data, including splitting out test versus training data, like we'll do below.  The `recipes` package will be useful for normalizing data later, and we will use `data.table` to get a glimpse at some of our uneven data.  We need the `devtools` package to install `keras` from GitHub.  Keras is a deep learning library which implements several neural network libraries, including TensorFlow, which we are using today.  We need to install TensorFlow on our machine.  Because this is a small data set, and because I want this to run on machines without powerful GPUs, I am using the CPU-based version of TensorFlow.  Performance should still be adequate for our purposes."
   ]
  },
  {
   "cell_type": "code",
   "execution_count": 1,
   "metadata": {},
   "outputs": [
    {
     "name": "stderr",
     "output_type": "stream",
     "text": [
      "Loading required package: tidyverse\n",
      "Warning message:\n",
      "\"package 'tidyverse' was built under R version 3.5.3\"-- Attaching packages --------------------------------------- tidyverse 1.2.1 --\n",
      "v ggplot2 3.1.0     v purrr   0.2.5\n",
      "v tibble  1.4.2     v dplyr   0.7.6\n",
      "v tidyr   0.8.1     v stringr 1.3.1\n",
      "v readr   1.1.1     v forcats 0.3.0\n",
      "Warning message:\n",
      "\"package 'ggplot2' was built under R version 3.5.2\"-- Conflicts ------------------------------------------ tidyverse_conflicts() --\n",
      "x dplyr::filter() masks stats::filter()\n",
      "x dplyr::lag()    masks stats::lag()\n",
      "Loading required package: XLConnect\n",
      "Loading required package: XLConnectJars\n",
      "XLConnect 0.2-15 by Mirai Solutions GmbH [aut],\n",
      "  Martin Studer [cre],\n",
      "  The Apache Software Foundation [ctb, cph] (Apache POI),\n",
      "  Graph Builder [ctb, cph] (Curvesapi Java library)\n",
      "http://www.mirai-solutions.com\n",
      "https://github.com/miraisolutions/xlconnect\n",
      "Loading required package: caret\n",
      "Warning message:\n",
      "\"package 'caret' was built under R version 3.5.2\"Loading required package: lattice\n",
      "\n",
      "Attaching package: 'caret'\n",
      "\n",
      "The following object is masked from 'package:purrr':\n",
      "\n",
      "    lift\n",
      "\n",
      "Loading required package: recipes\n",
      "Warning message:\n",
      "\"package 'recipes' was built under R version 3.5.2\"\n",
      "Attaching package: 'recipes'\n",
      "\n",
      "The following object is masked from 'package:stringr':\n",
      "\n",
      "    fixed\n",
      "\n",
      "The following object is masked from 'package:stats':\n",
      "\n",
      "    step\n",
      "\n",
      "Loading required package: data.table\n",
      "\n",
      "Attaching package: 'data.table'\n",
      "\n",
      "The following objects are masked from 'package:dplyr':\n",
      "\n",
      "    between, first, last\n",
      "\n",
      "The following object is masked from 'package:purrr':\n",
      "\n",
      "    transpose\n",
      "\n",
      "Loading required package: devtools\n",
      "\n",
      "Attaching package: 'devtools'\n",
      "\n",
      "The following object is masked from 'package:recipes':\n",
      "\n",
      "    check\n",
      "\n",
      "Loading required package: keras\n"
     ]
    }
   ],
   "source": [
    "if(!require(tidyverse)) {\n",
    "  install.packages(\"tidyverse\", repos = \"http://cran.us.r-project.org\")\n",
    "  library(tidyverse)\n",
    "}\n",
    "\n",
    "if(!require(XLConnect)) {\n",
    "  install.packages(\"XLConnect\", repos = \"http://cran.us.r-project.org\")\n",
    "  library(XLConnect)\n",
    "}\n",
    "\n",
    "if(!require(caret)) {\n",
    "  install.packages(\"caret\", repos = \"http://cran.us.r-project.org\")\n",
    "  library(caret)\n",
    "}\n",
    "\n",
    "if(!require(recipes)) {\n",
    "  install.packages(\"recipes\", repos = \"http://cran.us.r-project.org\")\n",
    "  library(recipes)\n",
    "}\n",
    "\n",
    "if(!require(data.table)) {\n",
    "  install.packages(\"data.table\", repos = \"http://cran.us.r-project.org\")\n",
    "  library(data.table)\n",
    "}\n",
    "\n",
    "if(!require(devtools)) {\n",
    "  install.packages(\"devtools\", repos = \"http://cran.us.r-project.org\")\n",
    "  library(devtools)\n",
    "}\n",
    "\n",
    "if(!require(keras)) {\n",
    "  devtools::install_github(\"rstudio/keras\")\n",
    "  library(keras)\n",
    "  install_keras(method = \"auto\", conda = \"auto\", tensorflow = \"default\", extra_packages = NULL)\n",
    "}"
   ]
  },
  {
   "cell_type": "markdown",
   "metadata": {},
   "source": [
    "Once we have the required packages loaded, we will then load the Excel workbook.  I have verified the Excel worksheet and data region are correct, so we can grab the survey from the current directory and load it into `salary_data`.\n",
    "\n",
    "As a quick note, I fixed one data point where DatabaseServers was \"022\" and was causing that variable to be imported as a string.  If you grab the data set yourself and don't use the copy in my Git repo, you might want to check that before walking through this notebook."
   ]
  },
  {
   "cell_type": "code",
   "execution_count": 2,
   "metadata": {},
   "outputs": [],
   "source": [
    "wb <- XLConnect::loadWorkbook(\"2019_Data_Professional_Salary_Survey_Responses.xlsx\")\n",
    "salary_data <- XLConnect::readWorksheet(wb, sheet = \"Salary Survey\", region = \"A4:AC6897\")"
   ]
  },
  {
   "cell_type": "markdown",
   "metadata": {},
   "source": [
    "We can use the `glimpse` function inside the tidyverse to get a quick idea of what our `salary_data` dataframe looks like.  In total, we have 6893 observations of 29 variables, but this covers three survey years:  2017 through 2019.  Looking at the variable names, we can see that there are some which don't matter very much (like Timestamp, which is when the user filled out the form; and Counter, which is just a 1 for each record."
   ]
  },
  {
   "cell_type": "code",
   "execution_count": 3,
   "metadata": {},
   "outputs": [
    {
     "name": "stdout",
     "output_type": "stream",
     "text": [
      "Observations: 6,893\n",
      "Variables: 29\n",
      "$ Survey.Year                          <dbl> 2017, 2017, 2017, 2017, 2017, ...\n",
      "$ Timestamp                            <dttm> 2017-01-05 05:10:20, 2017-01-...\n",
      "$ SalaryUSD                            <chr> \"200000\", \"61515\", \"95000\", \"5...\n",
      "$ Country                              <chr> \"United States\", \"United Kingd...\n",
      "$ PostalCode                           <chr> \"Not Asked\", \"Not Asked\", \"Not...\n",
      "$ PrimaryDatabase                      <chr> \"Microsoft SQL Server\", \"Micro...\n",
      "$ YearsWithThisDatabase                <dbl> 10, 15, 5, 6, 10, 15, 16, 4, 3...\n",
      "$ OtherDatabases                       <chr> \"MySQL/MariaDB\", \"Oracle, Post...\n",
      "$ EmploymentStatus                     <chr> \"Full time employee\", \"Full ti...\n",
      "$ JobTitle                             <chr> \"DBA\", \"DBA\", \"Other\", \"DBA\", ...\n",
      "$ ManageStaff                          <chr> \"No\", \"No\", \"Yes\", \"No\", \"No\",...\n",
      "$ YearsWithThisTypeOfJob               <dbl> 5, 3, 25, 2, 10, 15, 11, 1, 2,...\n",
      "$ HowManyCompanies                     <chr> \"Not Asked\", \"Not Asked\", \"Not...\n",
      "$ OtherPeopleOnYourTeam                <chr> \"2\", \"1\", \"2\", \"None\", \"None\",...\n",
      "$ CompanyEmployeesOverall              <chr> \"Not Asked\", \"Not Asked\", \"Not...\n",
      "$ DatabaseServers                      <dbl> 350, 40, 100, 500, 30, 101, 20...\n",
      "$ Education                            <chr> \"Masters\", \"None (no degree co...\n",
      "$ EducationIsComputerRelated           <chr> \"No\", \"N/A\", \"Yes\", \"No\", \"Yes...\n",
      "$ Certifications                       <chr> \"Yes, and they're currently va...\n",
      "$ HoursWorkedPerWeek                   <dbl> 45, 35, 45, 40, 40, 35, 40, 36...\n",
      "$ TelecommuteDaysPerWeek               <chr> \"1\", \"2\", \"None, or less than ...\n",
      "$ PopulationOfLargestCityWithin20Miles <chr> \"Not Asked\", \"Not Asked\", \"Not...\n",
      "$ EmploymentSector                     <chr> \"Private business\", \"Private b...\n",
      "$ LookingForAnotherJob                 <chr> \"Yes, but only passively (just...\n",
      "$ CareerPlansThisYear                  <chr> \"Not Asked\", \"Not Asked\", \"Not...\n",
      "$ Gender                               <chr> \"Not Asked\", \"Not Asked\", \"Not...\n",
      "$ OtherJobDuties                       <chr> \"Not Asked\", \"Not Asked\", \"Not...\n",
      "$ KindsOfTasksPerformed                <chr> \"Not Asked\", \"Not Asked\", \"Not...\n",
      "$ Counter                              <dbl> 1, 1, 1, 1, 1, 1, 1, 1, 1, 1, ...\n"
     ]
    }
   ],
   "source": [
    "glimpse(salary_data)"
   ]
  },
  {
   "cell_type": "markdown",
   "metadata": {},
   "source": [
    "Our first data cleansing decision point is whether to remove certain years of data.  There are new questions in each year of the data, so we have a choice:  either ignore the questions which were asked later or remove the years of data which did not ask the relevant questions.\n",
    "\n",
    "The most important question in 2018 was Gender, which had a noticeable impact on salaries, as you can see from the notebook which covers the 2018 salary survey.  In this survey, I will choose to keep all three years and will drop the new questions.  This lets me use all 6893 responses over the past three years.\n",
    "\n",
    "Note that I do not need to create a new variable here, but it is usually a good idea to do so if you can afford the memory utilization, as that means you can retain an original view of the data just in case things go sideways during cleansing and analysis."
   ]
  },
  {
   "cell_type": "code",
   "execution_count": 4,
   "metadata": {},
   "outputs": [
    {
     "data": {
      "text/html": [
       "6893"
      ],
      "text/latex": [
       "6893"
      ],
      "text/markdown": [
       "6893"
      ],
      "text/plain": [
       "[1] 6893"
      ]
     },
     "metadata": {},
     "output_type": "display_data"
    }
   ],
   "source": [
    "survey_data <- salary_data\n",
    "nrow(survey_data)"
   ]
  },
  {
   "cell_type": "markdown",
   "metadata": {},
   "source": [
    "Looking at the survey, there are some interesting data points that we want:\n",
    "* SalaryUSD (our label, that is, what we are going to try to predict)\n",
    "* Country\n",
    "* PrimaryDatabase\n",
    "* YearsWithThisDatabase\n",
    "* EmploymentStatus\n",
    "* JobTitle\n",
    "* ManageStaff\n",
    "* YearsWithThisTypeOfJob\n",
    "* OtherPeopleOnYourTeam\n",
    "* DatabaseServers\n",
    "* Education\n",
    "* EducationIsComputerRelated\n",
    "* Certifications\n",
    "* HoursWorkedPerWeek\n",
    "* TelecommuteDaysPerWeek\n",
    "* EmploymentSector\n",
    "* LookingForAnotherJob\n",
    "\n",
    "For each of these variables, we want to see the range of options and perform any necessary cleanup.  The first thing I'd look at is the cardinality of each variable, followed by a detailed anlaysis of the smaller ones."
   ]
  },
  {
   "cell_type": "code",
   "execution_count": 5,
   "metadata": {},
   "outputs": [
    {
     "data": {
      "text/html": [
       "<dl class=dl-horizontal>\n",
       "\t<dt>Survey.Year</dt>\n",
       "\t\t<dd>3</dd>\n",
       "\t<dt>Timestamp</dt>\n",
       "\t\t<dd>6891</dd>\n",
       "\t<dt>SalaryUSD</dt>\n",
       "\t\t<dd>1391</dd>\n",
       "\t<dt>Country</dt>\n",
       "\t\t<dd>85</dd>\n",
       "\t<dt>PostalCode</dt>\n",
       "\t\t<dd>2305</dd>\n",
       "\t<dt>PrimaryDatabase</dt>\n",
       "\t\t<dd>15</dd>\n",
       "\t<dt>YearsWithThisDatabase</dt>\n",
       "\t\t<dd>42</dd>\n",
       "\t<dt>OtherDatabases</dt>\n",
       "\t\t<dd>1340</dd>\n",
       "\t<dt>EmploymentStatus</dt>\n",
       "\t\t<dd>5</dd>\n",
       "\t<dt>JobTitle</dt>\n",
       "\t\t<dd>23</dd>\n",
       "\t<dt>ManageStaff</dt>\n",
       "\t\t<dd>2</dd>\n",
       "\t<dt>YearsWithThisTypeOfJob</dt>\n",
       "\t\t<dd>41</dd>\n",
       "\t<dt>HowManyCompanies</dt>\n",
       "\t\t<dd>7</dd>\n",
       "\t<dt>OtherPeopleOnYourTeam</dt>\n",
       "\t\t<dd>7</dd>\n",
       "\t<dt>CompanyEmployeesOverall</dt>\n",
       "\t\t<dd>7</dd>\n",
       "\t<dt>DatabaseServers</dt>\n",
       "\t\t<dd>250</dd>\n",
       "\t<dt>Education</dt>\n",
       "\t\t<dd>5</dd>\n",
       "\t<dt>EducationIsComputerRelated</dt>\n",
       "\t\t<dd>3</dd>\n",
       "\t<dt>Certifications</dt>\n",
       "\t\t<dd>3</dd>\n",
       "\t<dt>HoursWorkedPerWeek</dt>\n",
       "\t\t<dd>57</dd>\n",
       "\t<dt>TelecommuteDaysPerWeek</dt>\n",
       "\t\t<dd>6</dd>\n",
       "\t<dt>PopulationOfLargestCityWithin20Miles</dt>\n",
       "\t\t<dd>6</dd>\n",
       "\t<dt>EmploymentSector</dt>\n",
       "\t\t<dd>7</dd>\n",
       "\t<dt>LookingForAnotherJob</dt>\n",
       "\t\t<dd>3</dd>\n",
       "\t<dt>CareerPlansThisYear</dt>\n",
       "\t\t<dd>6</dd>\n",
       "\t<dt>Gender</dt>\n",
       "\t\t<dd>24</dd>\n",
       "\t<dt>OtherJobDuties</dt>\n",
       "\t\t<dd>556</dd>\n",
       "\t<dt>KindsOfTasksPerformed</dt>\n",
       "\t\t<dd>212</dd>\n",
       "\t<dt>Counter</dt>\n",
       "\t\t<dd>1</dd>\n",
       "</dl>\n"
      ],
      "text/latex": [
       "\\begin{description*}\n",
       "\\item[Survey.Year] 3\n",
       "\\item[Timestamp] 6891\n",
       "\\item[SalaryUSD] 1391\n",
       "\\item[Country] 85\n",
       "\\item[PostalCode] 2305\n",
       "\\item[PrimaryDatabase] 15\n",
       "\\item[YearsWithThisDatabase] 42\n",
       "\\item[OtherDatabases] 1340\n",
       "\\item[EmploymentStatus] 5\n",
       "\\item[JobTitle] 23\n",
       "\\item[ManageStaff] 2\n",
       "\\item[YearsWithThisTypeOfJob] 41\n",
       "\\item[HowManyCompanies] 7\n",
       "\\item[OtherPeopleOnYourTeam] 7\n",
       "\\item[CompanyEmployeesOverall] 7\n",
       "\\item[DatabaseServers] 250\n",
       "\\item[Education] 5\n",
       "\\item[EducationIsComputerRelated] 3\n",
       "\\item[Certifications] 3\n",
       "\\item[HoursWorkedPerWeek] 57\n",
       "\\item[TelecommuteDaysPerWeek] 6\n",
       "\\item[PopulationOfLargestCityWithin20Miles] 6\n",
       "\\item[EmploymentSector] 7\n",
       "\\item[LookingForAnotherJob] 3\n",
       "\\item[CareerPlansThisYear] 6\n",
       "\\item[Gender] 24\n",
       "\\item[OtherJobDuties] 556\n",
       "\\item[KindsOfTasksPerformed] 212\n",
       "\\item[Counter] 1\n",
       "\\end{description*}\n"
      ],
      "text/markdown": [
       "Survey.Year\n",
       ":   3Timestamp\n",
       ":   6891SalaryUSD\n",
       ":   1391Country\n",
       ":   85PostalCode\n",
       ":   2305PrimaryDatabase\n",
       ":   15YearsWithThisDatabase\n",
       ":   42OtherDatabases\n",
       ":   1340EmploymentStatus\n",
       ":   5JobTitle\n",
       ":   23ManageStaff\n",
       ":   2YearsWithThisTypeOfJob\n",
       ":   41HowManyCompanies\n",
       ":   7OtherPeopleOnYourTeam\n",
       ":   7CompanyEmployeesOverall\n",
       ":   7DatabaseServers\n",
       ":   250Education\n",
       ":   5EducationIsComputerRelated\n",
       ":   3Certifications\n",
       ":   3HoursWorkedPerWeek\n",
       ":   57TelecommuteDaysPerWeek\n",
       ":   6PopulationOfLargestCityWithin20Miles\n",
       ":   6EmploymentSector\n",
       ":   7LookingForAnotherJob\n",
       ":   3CareerPlansThisYear\n",
       ":   6Gender\n",
       ":   24OtherJobDuties\n",
       ":   556KindsOfTasksPerformed\n",
       ":   212Counter\n",
       ":   1\n",
       "\n"
      ],
      "text/plain": [
       "                         Survey.Year                            Timestamp \n",
       "                                   3                                 6891 \n",
       "                           SalaryUSD                              Country \n",
       "                                1391                                   85 \n",
       "                          PostalCode                      PrimaryDatabase \n",
       "                                2305                                   15 \n",
       "               YearsWithThisDatabase                       OtherDatabases \n",
       "                                  42                                 1340 \n",
       "                    EmploymentStatus                             JobTitle \n",
       "                                   5                                   23 \n",
       "                         ManageStaff               YearsWithThisTypeOfJob \n",
       "                                   2                                   41 \n",
       "                    HowManyCompanies                OtherPeopleOnYourTeam \n",
       "                                   7                                    7 \n",
       "             CompanyEmployeesOverall                      DatabaseServers \n",
       "                                   7                                  250 \n",
       "                           Education           EducationIsComputerRelated \n",
       "                                   5                                    3 \n",
       "                      Certifications                   HoursWorkedPerWeek \n",
       "                                   3                                   57 \n",
       "              TelecommuteDaysPerWeek PopulationOfLargestCityWithin20Miles \n",
       "                                   6                                    6 \n",
       "                    EmploymentSector                 LookingForAnotherJob \n",
       "                                   7                                    3 \n",
       "                 CareerPlansThisYear                               Gender \n",
       "                                   6                                   24 \n",
       "                      OtherJobDuties                KindsOfTasksPerformed \n",
       "                                 556                                  212 \n",
       "                             Counter \n",
       "                                   1 "
      ]
     },
     "metadata": {},
     "output_type": "display_data"
    }
   ],
   "source": [
    "rapply(survey_data, function(x) { length(unique(x)) })"
   ]
  },
  {
   "cell_type": "code",
   "execution_count": 6,
   "metadata": {},
   "outputs": [
    {
     "data": {
      "text/html": [
       "<ol class=list-inline>\n",
       "\t<li>'United States'</li>\n",
       "\t<li>'United Kingdom'</li>\n",
       "\t<li>'Germany'</li>\n",
       "\t<li>'France'</li>\n",
       "\t<li>'Netherlands'</li>\n",
       "\t<li>'Belgium'</li>\n",
       "\t<li>'Canada'</li>\n",
       "\t<li>'Poland'</li>\n",
       "\t<li>'Ukraine'</li>\n",
       "\t<li>'Australia'</li>\n",
       "\t<li>'India'</li>\n",
       "\t<li>'Portugal'</li>\n",
       "\t<li>'South Africa'</li>\n",
       "\t<li>'Greece'</li>\n",
       "\t<li>'Israel'</li>\n",
       "\t<li>'Sweden'</li>\n",
       "\t<li>'Spain'</li>\n",
       "\t<li>'Norway'</li>\n",
       "\t<li>'Jersey'</li>\n",
       "\t<li>'Argentina'</li>\n",
       "\t<li>'Russia'</li>\n",
       "\t<li>'Switzerland'</li>\n",
       "\t<li>'Denmark'</li>\n",
       "\t<li>'Ireland'</li>\n",
       "\t<li>'Italy'</li>\n",
       "\t<li>'Mexico'</li>\n",
       "\t<li>'Albania'</li>\n",
       "\t<li>'Brazil'</li>\n",
       "\t<li>'Romania'</li>\n",
       "\t<li>'Uganda'</li>\n",
       "\t<li>'Slovenia'</li>\n",
       "\t<li>'Bulgaria'</li>\n",
       "\t<li>'Turkey'</li>\n",
       "\t<li>'Lithuania'</li>\n",
       "\t<li>'New Zealand'</li>\n",
       "\t<li>'Czech Republic'</li>\n",
       "\t<li>'Croatia'</li>\n",
       "\t<li>'Finland'</li>\n",
       "\t<li>'Austria'</li>\n",
       "\t<li>'Hungary'</li>\n",
       "\t<li>'El Salvador'</li>\n",
       "\t<li>'Bolivia'</li>\n",
       "\t<li>'Vietnam'</li>\n",
       "\t<li>'China'</li>\n",
       "\t<li>'Luxembourg'</li>\n",
       "\t<li>'Iceland'</li>\n",
       "\t<li>'Serbia and Montenegro'</li>\n",
       "\t<li>'Jamaica'</li>\n",
       "\t<li>'Moldova'</li>\n",
       "\t<li>'Saudi Arabia'</li>\n",
       "\t<li>'Paraguay'</li>\n",
       "\t<li>'Guernsey'</li>\n",
       "\t<li>'Hong Kong'</li>\n",
       "\t<li>'Venezuela'</li>\n",
       "\t<li>'Philippines'</li>\n",
       "\t<li>'Malaysia'</li>\n",
       "\t<li>'Macedonia'</li>\n",
       "\t<li>'Bermuda'</li>\n",
       "\t<li>'Ecuador'</li>\n",
       "\t<li>'Nicaragua'</li>\n",
       "\t<li>'Puerto Rico'</li>\n",
       "\t<li>'Peru'</li>\n",
       "\t<li>'Singapore'</li>\n",
       "\t<li>'Kenya'</li>\n",
       "\t<li>'Syria'</li>\n",
       "\t<li>'Colombia'</li>\n",
       "\t<li>'United Arab Emirates'</li>\n",
       "\t<li>'Costa Rica'</li>\n",
       "\t<li>'Cayman Islands'</li>\n",
       "\t<li>'Indonesia'</li>\n",
       "\t<li>'Bahrain'</li>\n",
       "\t<li>'Thailand'</li>\n",
       "\t<li>'Slovakia'</li>\n",
       "\t<li>'Pakistan'</li>\n",
       "\t<li>'Malta'</li>\n",
       "\t<li>'Jordan'</li>\n",
       "\t<li>'Belarus'</li>\n",
       "\t<li>'Estonia'</li>\n",
       "\t<li>'Latvia'</li>\n",
       "\t<li>'Nepal'</li>\n",
       "\t<li>'Ghana'</li>\n",
       "\t<li>'Dominican Republic'</li>\n",
       "\t<li>'Uruguay'</li>\n",
       "\t<li>'Guatemala'</li>\n",
       "\t<li>'Taiwan'</li>\n",
       "</ol>\n"
      ],
      "text/latex": [
       "\\begin{enumerate*}\n",
       "\\item 'United States'\n",
       "\\item 'United Kingdom'\n",
       "\\item 'Germany'\n",
       "\\item 'France'\n",
       "\\item 'Netherlands'\n",
       "\\item 'Belgium'\n",
       "\\item 'Canada'\n",
       "\\item 'Poland'\n",
       "\\item 'Ukraine'\n",
       "\\item 'Australia'\n",
       "\\item 'India'\n",
       "\\item 'Portugal'\n",
       "\\item 'South Africa'\n",
       "\\item 'Greece'\n",
       "\\item 'Israel'\n",
       "\\item 'Sweden'\n",
       "\\item 'Spain'\n",
       "\\item 'Norway'\n",
       "\\item 'Jersey'\n",
       "\\item 'Argentina'\n",
       "\\item 'Russia'\n",
       "\\item 'Switzerland'\n",
       "\\item 'Denmark'\n",
       "\\item 'Ireland'\n",
       "\\item 'Italy'\n",
       "\\item 'Mexico'\n",
       "\\item 'Albania'\n",
       "\\item 'Brazil'\n",
       "\\item 'Romania'\n",
       "\\item 'Uganda'\n",
       "\\item 'Slovenia'\n",
       "\\item 'Bulgaria'\n",
       "\\item 'Turkey'\n",
       "\\item 'Lithuania'\n",
       "\\item 'New Zealand'\n",
       "\\item 'Czech Republic'\n",
       "\\item 'Croatia'\n",
       "\\item 'Finland'\n",
       "\\item 'Austria'\n",
       "\\item 'Hungary'\n",
       "\\item 'El Salvador'\n",
       "\\item 'Bolivia'\n",
       "\\item 'Vietnam'\n",
       "\\item 'China'\n",
       "\\item 'Luxembourg'\n",
       "\\item 'Iceland'\n",
       "\\item 'Serbia and Montenegro'\n",
       "\\item 'Jamaica'\n",
       "\\item 'Moldova'\n",
       "\\item 'Saudi Arabia'\n",
       "\\item 'Paraguay'\n",
       "\\item 'Guernsey'\n",
       "\\item 'Hong Kong'\n",
       "\\item 'Venezuela'\n",
       "\\item 'Philippines'\n",
       "\\item 'Malaysia'\n",
       "\\item 'Macedonia'\n",
       "\\item 'Bermuda'\n",
       "\\item 'Ecuador'\n",
       "\\item 'Nicaragua'\n",
       "\\item 'Puerto Rico'\n",
       "\\item 'Peru'\n",
       "\\item 'Singapore'\n",
       "\\item 'Kenya'\n",
       "\\item 'Syria'\n",
       "\\item 'Colombia'\n",
       "\\item 'United Arab Emirates'\n",
       "\\item 'Costa Rica'\n",
       "\\item 'Cayman Islands'\n",
       "\\item 'Indonesia'\n",
       "\\item 'Bahrain'\n",
       "\\item 'Thailand'\n",
       "\\item 'Slovakia'\n",
       "\\item 'Pakistan'\n",
       "\\item 'Malta'\n",
       "\\item 'Jordan'\n",
       "\\item 'Belarus'\n",
       "\\item 'Estonia'\n",
       "\\item 'Latvia'\n",
       "\\item 'Nepal'\n",
       "\\item 'Ghana'\n",
       "\\item 'Dominican Republic'\n",
       "\\item 'Uruguay'\n",
       "\\item 'Guatemala'\n",
       "\\item 'Taiwan'\n",
       "\\end{enumerate*}\n"
      ],
      "text/markdown": [
       "1. 'United States'\n",
       "2. 'United Kingdom'\n",
       "3. 'Germany'\n",
       "4. 'France'\n",
       "5. 'Netherlands'\n",
       "6. 'Belgium'\n",
       "7. 'Canada'\n",
       "8. 'Poland'\n",
       "9. 'Ukraine'\n",
       "10. 'Australia'\n",
       "11. 'India'\n",
       "12. 'Portugal'\n",
       "13. 'South Africa'\n",
       "14. 'Greece'\n",
       "15. 'Israel'\n",
       "16. 'Sweden'\n",
       "17. 'Spain'\n",
       "18. 'Norway'\n",
       "19. 'Jersey'\n",
       "20. 'Argentina'\n",
       "21. 'Russia'\n",
       "22. 'Switzerland'\n",
       "23. 'Denmark'\n",
       "24. 'Ireland'\n",
       "25. 'Italy'\n",
       "26. 'Mexico'\n",
       "27. 'Albania'\n",
       "28. 'Brazil'\n",
       "29. 'Romania'\n",
       "30. 'Uganda'\n",
       "31. 'Slovenia'\n",
       "32. 'Bulgaria'\n",
       "33. 'Turkey'\n",
       "34. 'Lithuania'\n",
       "35. 'New Zealand'\n",
       "36. 'Czech Republic'\n",
       "37. 'Croatia'\n",
       "38. 'Finland'\n",
       "39. 'Austria'\n",
       "40. 'Hungary'\n",
       "41. 'El Salvador'\n",
       "42. 'Bolivia'\n",
       "43. 'Vietnam'\n",
       "44. 'China'\n",
       "45. 'Luxembourg'\n",
       "46. 'Iceland'\n",
       "47. 'Serbia and Montenegro'\n",
       "48. 'Jamaica'\n",
       "49. 'Moldova'\n",
       "50. 'Saudi Arabia'\n",
       "51. 'Paraguay'\n",
       "52. 'Guernsey'\n",
       "53. 'Hong Kong'\n",
       "54. 'Venezuela'\n",
       "55. 'Philippines'\n",
       "56. 'Malaysia'\n",
       "57. 'Macedonia'\n",
       "58. 'Bermuda'\n",
       "59. 'Ecuador'\n",
       "60. 'Nicaragua'\n",
       "61. 'Puerto Rico'\n",
       "62. 'Peru'\n",
       "63. 'Singapore'\n",
       "64. 'Kenya'\n",
       "65. 'Syria'\n",
       "66. 'Colombia'\n",
       "67. 'United Arab Emirates'\n",
       "68. 'Costa Rica'\n",
       "69. 'Cayman Islands'\n",
       "70. 'Indonesia'\n",
       "71. 'Bahrain'\n",
       "72. 'Thailand'\n",
       "73. 'Slovakia'\n",
       "74. 'Pakistan'\n",
       "75. 'Malta'\n",
       "76. 'Jordan'\n",
       "77. 'Belarus'\n",
       "78. 'Estonia'\n",
       "79. 'Latvia'\n",
       "80. 'Nepal'\n",
       "81. 'Ghana'\n",
       "82. 'Dominican Republic'\n",
       "83. 'Uruguay'\n",
       "84. 'Guatemala'\n",
       "85. 'Taiwan'\n",
       "\n",
       "\n"
      ],
      "text/plain": [
       " [1] \"United States\"         \"United Kingdom\"        \"Germany\"              \n",
       " [4] \"France\"                \"Netherlands\"           \"Belgium\"              \n",
       " [7] \"Canada\"                \"Poland\"                \"Ukraine\"              \n",
       "[10] \"Australia\"             \"India\"                 \"Portugal\"             \n",
       "[13] \"South Africa\"          \"Greece\"                \"Israel\"               \n",
       "[16] \"Sweden\"                \"Spain\"                 \"Norway\"               \n",
       "[19] \"Jersey\"                \"Argentina\"             \"Russia\"               \n",
       "[22] \"Switzerland\"           \"Denmark\"               \"Ireland\"              \n",
       "[25] \"Italy\"                 \"Mexico\"                \"Albania\"              \n",
       "[28] \"Brazil\"                \"Romania\"               \"Uganda\"               \n",
       "[31] \"Slovenia\"              \"Bulgaria\"              \"Turkey\"               \n",
       "[34] \"Lithuania\"             \"New Zealand\"           \"Czech Republic\"       \n",
       "[37] \"Croatia\"               \"Finland\"               \"Austria\"              \n",
       "[40] \"Hungary\"               \"El Salvador\"           \"Bolivia\"              \n",
       "[43] \"Vietnam\"               \"China\"                 \"Luxembourg\"           \n",
       "[46] \"Iceland\"               \"Serbia and Montenegro\" \"Jamaica\"              \n",
       "[49] \"Moldova\"               \"Saudi Arabia\"          \"Paraguay\"             \n",
       "[52] \"Guernsey\"              \"Hong Kong\"             \"Venezuela\"            \n",
       "[55] \"Philippines\"           \"Malaysia\"              \"Macedonia\"            \n",
       "[58] \"Bermuda\"               \"Ecuador\"               \"Nicaragua\"            \n",
       "[61] \"Puerto Rico\"           \"Peru\"                  \"Singapore\"            \n",
       "[64] \"Kenya\"                 \"Syria\"                 \"Colombia\"             \n",
       "[67] \"United Arab Emirates\"  \"Costa Rica\"            \"Cayman Islands\"       \n",
       "[70] \"Indonesia\"             \"Bahrain\"               \"Thailand\"             \n",
       "[73] \"Slovakia\"              \"Pakistan\"              \"Malta\"                \n",
       "[76] \"Jordan\"                \"Belarus\"               \"Estonia\"              \n",
       "[79] \"Latvia\"                \"Nepal\"                 \"Ghana\"                \n",
       "[82] \"Dominican Republic\"    \"Uruguay\"               \"Guatemala\"            \n",
       "[85] \"Taiwan\"               "
      ]
     },
     "metadata": {},
     "output_type": "display_data"
    }
   ],
   "source": [
    "unique(survey_data$Country)"
   ]
  },
  {
   "cell_type": "code",
   "execution_count": 7,
   "metadata": {},
   "outputs": [
    {
     "data": {
      "text/html": [
       "<ol class=list-inline>\n",
       "\t<li>'Full time employee'</li>\n",
       "\t<li>'Full time employee of a consulting/contracting company'</li>\n",
       "\t<li>'Independent or freelancer or company owner'</li>\n",
       "\t<li><span style=white-space:pre-wrap>'Independent consultant, contractor, freelancer,  or company owner'</span></li>\n",
       "\t<li>'Part time'</li>\n",
       "</ol>\n"
      ],
      "text/latex": [
       "\\begin{enumerate*}\n",
       "\\item 'Full time employee'\n",
       "\\item 'Full time employee of a consulting/contracting company'\n",
       "\\item 'Independent or freelancer or company owner'\n",
       "\\item 'Independent consultant, contractor, freelancer,  or company owner'\n",
       "\\item 'Part time'\n",
       "\\end{enumerate*}\n"
      ],
      "text/markdown": [
       "1. 'Full time employee'\n",
       "2. 'Full time employee of a consulting/contracting company'\n",
       "3. 'Independent or freelancer or company owner'\n",
       "4. <span style=white-space:pre-wrap>'Independent consultant, contractor, freelancer,  or company owner'</span>\n",
       "5. 'Part time'\n",
       "\n",
       "\n"
      ],
      "text/plain": [
       "[1] \"Full time employee\"                                               \n",
       "[2] \"Full time employee of a consulting/contracting company\"           \n",
       "[3] \"Independent or freelancer or company owner\"                       \n",
       "[4] \"Independent consultant, contractor, freelancer,  or company owner\"\n",
       "[5] \"Part time\"                                                        "
      ]
     },
     "metadata": {},
     "output_type": "display_data"
    }
   ],
   "source": [
    "unique(survey_data$EmploymentStatus)"
   ]
  },
  {
   "cell_type": "markdown",
   "metadata": {},
   "source": [
    "We can use the `setDT` function on `data.table` to see just how many records we have for each level of a particular factor.  For example, we can see the different entries for PrimaryDatabase and EmploymentSector below.  Both of these are troublesome for our modeling because they both have a number of levels with 1-2 entries.  This makes it likely that we will fail to collect a relevant record in our training data set, and that will mess up our model later.  \n",
    "\n",
    "PrimaryDatabase is also troublesome because it skews so heavily toward SQL Server that there's more noise than signal to it.  Because there are so many platforms with 10 or fewer entries and about 94% of entrants selected SQL Server, we'll throw it out."
   ]
  },
  {
   "cell_type": "code",
   "execution_count": 8,
   "metadata": {},
   "outputs": [
    {
     "data": {
      "text/html": [
       "<table>\n",
       "<thead><tr><th scope=col>PrimaryDatabase</th><th scope=col>N</th></tr></thead>\n",
       "<tbody>\n",
       "\t<tr><td>Amazon RDS (any flavor)</td><td>  13                   </td></tr>\n",
       "\t<tr><td>Azure SQL DB           </td><td>  24                   </td></tr>\n",
       "\t<tr><td>Cassandra              </td><td>   2                   </td></tr>\n",
       "\t<tr><td>DB2                    </td><td>  16                   </td></tr>\n",
       "\t<tr><td>Elasticsearch          </td><td>   2                   </td></tr>\n",
       "\t<tr><td>Microsoft Access       </td><td>  15                   </td></tr>\n",
       "\t<tr><td>Microsoft SQL Server   </td><td>6461                   </td></tr>\n",
       "\t<tr><td>MongoDB                </td><td>   6                   </td></tr>\n",
       "\t<tr><td>MySQL/MariaDB          </td><td>  29                   </td></tr>\n",
       "\t<tr><td>Oracle                 </td><td> 215                   </td></tr>\n",
       "\t<tr><td>Other                  </td><td>  38                   </td></tr>\n",
       "\t<tr><td>PostgreSQL             </td><td>  46                   </td></tr>\n",
       "\t<tr><td>SAP                    </td><td>  11                   </td></tr>\n",
       "\t<tr><td>SQLite                 </td><td>   4                   </td></tr>\n",
       "\t<tr><td>Teradata               </td><td>  11                   </td></tr>\n",
       "</tbody>\n",
       "</table>\n"
      ],
      "text/latex": [
       "\\begin{tabular}{r|ll}\n",
       " PrimaryDatabase & N\\\\\n",
       "\\hline\n",
       "\t Amazon RDS (any flavor) &   13                   \\\\\n",
       "\t Azure SQL DB            &   24                   \\\\\n",
       "\t Cassandra               &    2                   \\\\\n",
       "\t DB2                     &   16                   \\\\\n",
       "\t Elasticsearch           &    2                   \\\\\n",
       "\t Microsoft Access        &   15                   \\\\\n",
       "\t Microsoft SQL Server    & 6461                   \\\\\n",
       "\t MongoDB                 &    6                   \\\\\n",
       "\t MySQL/MariaDB           &   29                   \\\\\n",
       "\t Oracle                  &  215                   \\\\\n",
       "\t Other                   &   38                   \\\\\n",
       "\t PostgreSQL              &   46                   \\\\\n",
       "\t SAP                     &   11                   \\\\\n",
       "\t SQLite                  &    4                   \\\\\n",
       "\t Teradata                &   11                   \\\\\n",
       "\\end{tabular}\n"
      ],
      "text/markdown": [
       "\n",
       "PrimaryDatabase | N | \n",
       "|---|---|---|---|---|---|---|---|---|---|---|---|---|---|---|\n",
       "| Amazon RDS (any flavor) |   13                    | \n",
       "| Azure SQL DB            |   24                    | \n",
       "| Cassandra               |    2                    | \n",
       "| DB2                     |   16                    | \n",
       "| Elasticsearch           |    2                    | \n",
       "| Microsoft Access        |   15                    | \n",
       "| Microsoft SQL Server    | 6461                    | \n",
       "| MongoDB                 |    6                    | \n",
       "| MySQL/MariaDB           |   29                    | \n",
       "| Oracle                  |  215                    | \n",
       "| Other                   |   38                    | \n",
       "| PostgreSQL              |   46                    | \n",
       "| SAP                     |   11                    | \n",
       "| SQLite                  |    4                    | \n",
       "| Teradata                |   11                    | \n",
       "\n",
       "\n"
      ],
      "text/plain": [
       "   PrimaryDatabase         N   \n",
       "1  Amazon RDS (any flavor)   13\n",
       "2  Azure SQL DB              24\n",
       "3  Cassandra                  2\n",
       "4  DB2                       16\n",
       "5  Elasticsearch              2\n",
       "6  Microsoft Access          15\n",
       "7  Microsoft SQL Server    6461\n",
       "8  MongoDB                    6\n",
       "9  MySQL/MariaDB             29\n",
       "10 Oracle                   215\n",
       "11 Other                     38\n",
       "12 PostgreSQL                46\n",
       "13 SAP                       11\n",
       "14 SQLite                     4\n",
       "15 Teradata                  11"
      ]
     },
     "metadata": {},
     "output_type": "display_data"
    }
   ],
   "source": [
    "data.table::setDT(survey_data)[, .N, keyby=PrimaryDatabase]"
   ]
  },
  {
   "cell_type": "markdown",
   "metadata": {},
   "source": [
    "There are only nine students in this survey.  That's not enough data points to draw a meaningful conclusion, so I will throw those nine out."
   ]
  },
  {
   "cell_type": "code",
   "execution_count": 9,
   "metadata": {},
   "outputs": [
    {
     "data": {
      "text/html": [
       "<table>\n",
       "<thead><tr><th scope=col>EmploymentSector</th><th scope=col>N</th></tr></thead>\n",
       "<tbody>\n",
       "\t<tr><td>Education (K-12, college, university)</td><td> 151                                 </td></tr>\n",
       "\t<tr><td>Federal government                   </td><td> 181                                 </td></tr>\n",
       "\t<tr><td>Local government                     </td><td> 276                                 </td></tr>\n",
       "\t<tr><td>Non-profit                           </td><td> 217                                 </td></tr>\n",
       "\t<tr><td>Private business                     </td><td>5734                                 </td></tr>\n",
       "\t<tr><td>State/province government            </td><td> 325                                 </td></tr>\n",
       "\t<tr><td>Student                              </td><td>   9                                 </td></tr>\n",
       "</tbody>\n",
       "</table>\n"
      ],
      "text/latex": [
       "\\begin{tabular}{r|ll}\n",
       " EmploymentSector & N\\\\\n",
       "\\hline\n",
       "\t Education (K-12, college, university) &  151                                 \\\\\n",
       "\t Federal government                    &  181                                 \\\\\n",
       "\t Local government                      &  276                                 \\\\\n",
       "\t Non-profit                            &  217                                 \\\\\n",
       "\t Private business                      & 5734                                 \\\\\n",
       "\t State/province government             &  325                                 \\\\\n",
       "\t Student                               &    9                                 \\\\\n",
       "\\end{tabular}\n"
      ],
      "text/markdown": [
       "\n",
       "EmploymentSector | N | \n",
       "|---|---|---|---|---|---|---|\n",
       "| Education (K-12, college, university) |  151                                  | \n",
       "| Federal government                    |  181                                  | \n",
       "| Local government                      |  276                                  | \n",
       "| Non-profit                            |  217                                  | \n",
       "| Private business                      | 5734                                  | \n",
       "| State/province government             |  325                                  | \n",
       "| Student                               |    9                                  | \n",
       "\n",
       "\n"
      ],
      "text/plain": [
       "  EmploymentSector                      N   \n",
       "1 Education (K-12, college, university)  151\n",
       "2 Federal government                     181\n",
       "3 Local government                       276\n",
       "4 Non-profit                             217\n",
       "5 Private business                      5734\n",
       "6 State/province government              325\n",
       "7 Student                                  9"
      ]
     },
     "metadata": {},
     "output_type": "display_data"
    }
   ],
   "source": [
    "data.table::setDT(survey_data)[, .N, keyby=EmploymentSector]"
   ]
  },
  {
   "cell_type": "markdown",
   "metadata": {},
   "source": [
    "Most of these columns came from dropdown lists, so they're already fairly clean.  But there are some exceptions to the rule.  They are:\n",
    "* SalaryUSD\n",
    "* YearsWithThisDatabase\n",
    "* YearsWithThisTypeOfJob\n",
    "* DatabaseServers\n",
    "* HoursWorkedPerWeek\n",
    "\n",
    "All of these were text fields, and whenever a user gets to enter text, you can assume that something will go wrong.  For example:"
   ]
  },
  {
   "cell_type": "code",
   "execution_count": 10,
   "metadata": {},
   "outputs": [
    {
     "data": {
      "text/html": [
       "<table>\n",
       "<thead><tr><th scope=col>YearsWithThisDatabase</th></tr></thead>\n",
       "<tbody>\n",
       "\t<tr><td>53716</td></tr>\n",
       "\t<tr><td>30331</td></tr>\n",
       "\t<tr><td> 2011</td></tr>\n",
       "\t<tr><td> 2008</td></tr>\n",
       "\t<tr><td> 2004</td></tr>\n",
       "\t<tr><td> 2003</td></tr>\n",
       "\t<tr><td> 2000</td></tr>\n",
       "\t<tr><td> 1050</td></tr>\n",
       "\t<tr><td>   38</td></tr>\n",
       "\t<tr><td>   32</td></tr>\n",
       "</tbody>\n",
       "</table>\n"
      ],
      "text/latex": [
       "\\begin{tabular}{r|l}\n",
       " YearsWithThisDatabase\\\\\n",
       "\\hline\n",
       "\t 53716\\\\\n",
       "\t 30331\\\\\n",
       "\t  2011\\\\\n",
       "\t  2008\\\\\n",
       "\t  2004\\\\\n",
       "\t  2003\\\\\n",
       "\t  2000\\\\\n",
       "\t  1050\\\\\n",
       "\t    38\\\\\n",
       "\t    32\\\\\n",
       "\\end{tabular}\n"
      ],
      "text/markdown": [
       "\n",
       "YearsWithThisDatabase | \n",
       "|---|---|---|---|---|---|---|---|---|---|\n",
       "| 53716 | \n",
       "| 30331 | \n",
       "|  2011 | \n",
       "|  2008 | \n",
       "|  2004 | \n",
       "|  2003 | \n",
       "|  2000 | \n",
       "|  1050 | \n",
       "|    38 | \n",
       "|    32 | \n",
       "\n",
       "\n"
      ],
      "text/plain": [
       "   YearsWithThisDatabase\n",
       "1  53716                \n",
       "2  30331                \n",
       "3   2011                \n",
       "4   2008                \n",
       "5   2004                \n",
       "6   2003                \n",
       "7   2000                \n",
       "8   1050                \n",
       "9     38                \n",
       "10    32                "
      ]
     },
     "metadata": {},
     "output_type": "display_data"
    }
   ],
   "source": [
    "survey_data %>%\n",
    "  distinct(YearsWithThisDatabase) %>%\n",
    "  arrange(desc(YearsWithThisDatabase)) %>%\n",
    "  top_n(10, YearsWithThisDatabase)"
   ]
  },
  {
   "cell_type": "markdown",
   "metadata": {},
   "source": [
    "Someone with 53,716 years working with their primary database of choice?  That's commitment!  You can also see a couple of people who clearly put in the year they started rather than the number of years working with it, and someone who maybe meant 10 years?  But who knows, people type in weird stuff.\n",
    "\n",
    "Anyhow, let's see how much those people with at least 10 thousand years of experience make:"
   ]
  },
  {
   "cell_type": "code",
   "execution_count": 11,
   "metadata": {},
   "outputs": [
    {
     "data": {
      "text/html": [
       "<table>\n",
       "<thead><tr><th scope=col>Survey.Year</th><th scope=col>Timestamp</th><th scope=col>SalaryUSD</th><th scope=col>Country</th><th scope=col>PostalCode</th><th scope=col>PrimaryDatabase</th><th scope=col>YearsWithThisDatabase</th><th scope=col>OtherDatabases</th><th scope=col>EmploymentStatus</th><th scope=col>JobTitle</th><th scope=col>...</th><th scope=col>HoursWorkedPerWeek</th><th scope=col>TelecommuteDaysPerWeek</th><th scope=col>PopulationOfLargestCityWithin20Miles</th><th scope=col>EmploymentSector</th><th scope=col>LookingForAnotherJob</th><th scope=col>CareerPlansThisYear</th><th scope=col>Gender</th><th scope=col>OtherJobDuties</th><th scope=col>KindsOfTasksPerformed</th><th scope=col>Counter</th></tr></thead>\n",
       "<tbody>\n",
       "\t<tr><td>2018                                                            </td><td>2017-12-12 19:07:35                                             </td><td>95000                                                           </td><td>United States                                                   </td><td><span style=white-space:pre-wrap>NA   </span>                   </td><td>Microsoft SQL Server                                            </td><td>53716                                                           </td><td>Microsoft SQL Server                                            </td><td>Full time employee of a consulting/contracting company          </td><td><span style=white-space:pre-wrap>Engineer        </span>        </td><td>...                                                             </td><td>45                                                              </td><td>None, or less than 1 day per week                               </td><td>Not Asked                                                       </td><td>Private business                                                </td><td>Yes, but only passively (just curious)                          </td><td>Stay with the same employer, same role                          </td><td>Female                                                          </td><td>DBA (Production Focus - build &amp; troubleshoot servers, HA/DR)</td><td>Manual tasks, On-call as part of a rotation, Projects           </td><td>1                                                               </td></tr>\n",
       "\t<tr><td>2018                                                                                                 </td><td>2017-12-18 20:41:48                                                                                  </td><td>98,000                                                                                               </td><td>United States                                                                                        </td><td>30071                                                                                                </td><td>Microsoft SQL Server                                                                                 </td><td>30331                                                                                                </td><td>Microsoft SQL Server                                                                                 </td><td><span style=white-space:pre-wrap>Full time employee                                    </span>       </td><td>Developer: T-SQL                                                                                     </td><td>...                                                                                                  </td><td>50                                                                                                   </td><td><span style=white-space:pre-wrap>1                                </span>                            </td><td>Not Asked                                                                                            </td><td>Private business                                                                                     </td><td>Yes, but only passively (just curious)                                                               </td><td>Stay with the same employer, same role                                                               </td><td>Female                                                                                               </td><td><span style=white-space:pre-wrap>NA                                                          </span> </td><td><span style=white-space:pre-wrap>Build scripts &amp; automation tools, Projects, R&amp;D      </span></td><td>1                                                                                                    </td></tr>\n",
       "</tbody>\n",
       "</table>\n"
      ],
      "text/latex": [
       "\\begin{tabular}{r|lllllllllllllllllllllllllllll}\n",
       " Survey.Year & Timestamp & SalaryUSD & Country & PostalCode & PrimaryDatabase & YearsWithThisDatabase & OtherDatabases & EmploymentStatus & JobTitle & ... & HoursWorkedPerWeek & TelecommuteDaysPerWeek & PopulationOfLargestCityWithin20Miles & EmploymentSector & LookingForAnotherJob & CareerPlansThisYear & Gender & OtherJobDuties & KindsOfTasksPerformed & Counter\\\\\n",
       "\\hline\n",
       "\t 2018                                                           & 2017-12-12 19:07:35                                            & 95000                                                          & United States                                                  & NA                                                             & Microsoft SQL Server                                           & 53716                                                          & Microsoft SQL Server                                           & Full time employee of a consulting/contracting company         & Engineer                                                       & ...                                                            & 45                                                             & None, or less than 1 day per week                              & Not Asked                                                      & Private business                                               & Yes, but only passively (just curious)                         & Stay with the same employer, same role                         & Female                                                         & DBA (Production Focus - build \\& troubleshoot servers, HA/DR) & Manual tasks, On-call as part of a rotation, Projects          & 1                                                             \\\\\n",
       "\t 2018                                                         & 2017-12-18 20:41:48                                          & 98,000                                                       & United States                                                & 30071                                                        & Microsoft SQL Server                                         & 30331                                                        & Microsoft SQL Server                                         & Full time employee                                           & Developer: T-SQL                                             & ...                                                          & 50                                                           & 1                                                            & Not Asked                                                    & Private business                                             & Yes, but only passively (just curious)                       & Stay with the same employer, same role                       & Female                                                       & NA                                                           & Build scripts \\& automation tools, Projects, R\\&D          & 1                                                           \\\\\n",
       "\\end{tabular}\n"
      ],
      "text/markdown": [
       "\n",
       "Survey.Year | Timestamp | SalaryUSD | Country | PostalCode | PrimaryDatabase | YearsWithThisDatabase | OtherDatabases | EmploymentStatus | JobTitle | ... | HoursWorkedPerWeek | TelecommuteDaysPerWeek | PopulationOfLargestCityWithin20Miles | EmploymentSector | LookingForAnotherJob | CareerPlansThisYear | Gender | OtherJobDuties | KindsOfTasksPerformed | Counter | \n",
       "|---|---|\n",
       "| 2018                                                         | 2017-12-12 19:07:35                                          | 95000                                                        | United States                                                | NA                                                           | Microsoft SQL Server                                         | 53716                                                        | Microsoft SQL Server                                         | Full time employee of a consulting/contracting company       | Engineer                                                     | ...                                                          | 45                                                           | None, or less than 1 day per week                            | Not Asked                                                    | Private business                                             | Yes, but only passively (just curious)                       | Stay with the same employer, same role                       | Female                                                       | DBA (Production Focus - build & troubleshoot servers, HA/DR) | Manual tasks, On-call as part of a rotation, Projects        | 1                                                            | \n",
       "| 2018                                                         | 2017-12-18 20:41:48                                          | 98,000                                                       | United States                                                | 30071                                                        | Microsoft SQL Server                                         | 30331                                                        | Microsoft SQL Server                                         | Full time employee                                           | Developer: T-SQL                                             | ...                                                          | 50                                                           | 1                                                            | Not Asked                                                    | Private business                                             | Yes, but only passively (just curious)                       | Stay with the same employer, same role                       | Female                                                       | NA                                                           | Build scripts & automation tools, Projects, R&D              | 1                                                            | \n",
       "\n",
       "\n"
      ],
      "text/plain": [
       "  Survey.Year Timestamp           SalaryUSD Country       PostalCode\n",
       "1 2018        2017-12-12 19:07:35 95000     United States NA        \n",
       "2 2018        2017-12-18 20:41:48 98,000    United States 30071     \n",
       "  PrimaryDatabase      YearsWithThisDatabase OtherDatabases      \n",
       "1 Microsoft SQL Server 53716                 Microsoft SQL Server\n",
       "2 Microsoft SQL Server 30331                 Microsoft SQL Server\n",
       "  EmploymentStatus                                       JobTitle         ...\n",
       "1 Full time employee of a consulting/contracting company Engineer         ...\n",
       "2 Full time employee                                     Developer: T-SQL ...\n",
       "  HoursWorkedPerWeek TelecommuteDaysPerWeek           \n",
       "1 45                 None, or less than 1 day per week\n",
       "2 50                 1                                \n",
       "  PopulationOfLargestCityWithin20Miles EmploymentSector\n",
       "1 Not Asked                            Private business\n",
       "2 Not Asked                            Private business\n",
       "  LookingForAnotherJob                   CareerPlansThisYear                   \n",
       "1 Yes, but only passively (just curious) Stay with the same employer, same role\n",
       "2 Yes, but only passively (just curious) Stay with the same employer, same role\n",
       "  Gender OtherJobDuties                                              \n",
       "1 Female DBA (Production Focus - build & troubleshoot servers, HA/DR)\n",
       "2 Female NA                                                          \n",
       "  KindsOfTasksPerformed                                 Counter\n",
       "1 Manual tasks, On-call as part of a rotation, Projects 1      \n",
       "2 Build scripts & automation tools, Projects, R&D       1      "
      ]
     },
     "metadata": {},
     "output_type": "display_data"
    }
   ],
   "source": [
    "survey_data %>%\n",
    "  filter(YearsWithThisDatabase > 10000)"
   ]
  },
  {
   "cell_type": "markdown",
   "metadata": {},
   "source": [
    "That's pretty sad, considering their millennia of work experience.  $95-98K isn't even that great a number.\n",
    "\n",
    "Looking at years of experience with their current job roles, people tend to be more reasonable:"
   ]
  },
  {
   "cell_type": "code",
   "execution_count": 12,
   "metadata": {},
   "outputs": [
    {
     "data": {
      "text/html": [
       "<table>\n",
       "<thead><tr><th scope=col>YearsWithThisTypeOfJob</th></tr></thead>\n",
       "<tbody>\n",
       "\t<tr><td>40</td></tr>\n",
       "\t<tr><td>39</td></tr>\n",
       "\t<tr><td>38</td></tr>\n",
       "\t<tr><td>37</td></tr>\n",
       "\t<tr><td>36</td></tr>\n",
       "\t<tr><td>35</td></tr>\n",
       "\t<tr><td>34</td></tr>\n",
       "\t<tr><td>33</td></tr>\n",
       "\t<tr><td>32</td></tr>\n",
       "\t<tr><td>31</td></tr>\n",
       "</tbody>\n",
       "</table>\n"
      ],
      "text/latex": [
       "\\begin{tabular}{r|l}\n",
       " YearsWithThisTypeOfJob\\\\\n",
       "\\hline\n",
       "\t 40\\\\\n",
       "\t 39\\\\\n",
       "\t 38\\\\\n",
       "\t 37\\\\\n",
       "\t 36\\\\\n",
       "\t 35\\\\\n",
       "\t 34\\\\\n",
       "\t 33\\\\\n",
       "\t 32\\\\\n",
       "\t 31\\\\\n",
       "\\end{tabular}\n"
      ],
      "text/markdown": [
       "\n",
       "YearsWithThisTypeOfJob | \n",
       "|---|---|---|---|---|---|---|---|---|---|\n",
       "| 40 | \n",
       "| 39 | \n",
       "| 38 | \n",
       "| 37 | \n",
       "| 36 | \n",
       "| 35 | \n",
       "| 34 | \n",
       "| 33 | \n",
       "| 32 | \n",
       "| 31 | \n",
       "\n",
       "\n"
      ],
      "text/plain": [
       "   YearsWithThisTypeOfJob\n",
       "1  40                    \n",
       "2  39                    \n",
       "3  38                    \n",
       "4  37                    \n",
       "5  36                    \n",
       "6  35                    \n",
       "7  34                    \n",
       "8  33                    \n",
       "9  32                    \n",
       "10 31                    "
      ]
     },
     "metadata": {},
     "output_type": "display_data"
    }
   ],
   "source": [
    "survey_data %>%\n",
    "  distinct(YearsWithThisTypeOfJob) %>%\n",
    "  arrange(desc(YearsWithThisTypeOfJob)) %>%\n",
    "  top_n(10, YearsWithThisTypeOfJob)"
   ]
  },
  {
   "cell_type": "markdown",
   "metadata": {},
   "source": [
    "Now let's look at hours per week:"
   ]
  },
  {
   "cell_type": "code",
   "execution_count": 13,
   "metadata": {},
   "outputs": [
    {
     "data": {
      "text/html": [
       "<table>\n",
       "<thead><tr><th scope=col>HoursWorkedPerWeek</th></tr></thead>\n",
       "<tbody>\n",
       "\t<tr><td>200</td></tr>\n",
       "\t<tr><td>160</td></tr>\n",
       "\t<tr><td>150</td></tr>\n",
       "\t<tr><td>100</td></tr>\n",
       "\t<tr><td> 93</td></tr>\n",
       "\t<tr><td> 90</td></tr>\n",
       "\t<tr><td> 85</td></tr>\n",
       "\t<tr><td> 82</td></tr>\n",
       "\t<tr><td> 80</td></tr>\n",
       "\t<tr><td> 78</td></tr>\n",
       "</tbody>\n",
       "</table>\n"
      ],
      "text/latex": [
       "\\begin{tabular}{r|l}\n",
       " HoursWorkedPerWeek\\\\\n",
       "\\hline\n",
       "\t 200\\\\\n",
       "\t 160\\\\\n",
       "\t 150\\\\\n",
       "\t 100\\\\\n",
       "\t  93\\\\\n",
       "\t  90\\\\\n",
       "\t  85\\\\\n",
       "\t  82\\\\\n",
       "\t  80\\\\\n",
       "\t  78\\\\\n",
       "\\end{tabular}\n"
      ],
      "text/markdown": [
       "\n",
       "HoursWorkedPerWeek | \n",
       "|---|---|---|---|---|---|---|---|---|---|\n",
       "| 200 | \n",
       "| 160 | \n",
       "| 150 | \n",
       "| 100 | \n",
       "|  93 | \n",
       "|  90 | \n",
       "|  85 | \n",
       "|  82 | \n",
       "|  80 | \n",
       "|  78 | \n",
       "\n",
       "\n"
      ],
      "text/plain": [
       "   HoursWorkedPerWeek\n",
       "1  200               \n",
       "2  160               \n",
       "3  150               \n",
       "4  100               \n",
       "5   93               \n",
       "6   90               \n",
       "7   85               \n",
       "8   82               \n",
       "9   80               \n",
       "10  78               "
      ]
     },
     "metadata": {},
     "output_type": "display_data"
    }
   ],
   "source": [
    "survey_data %>%\n",
    "  distinct(HoursWorkedPerWeek) %>%\n",
    "  arrange(desc(HoursWorkedPerWeek)) %>%\n",
    "  top_n(10, HoursWorkedPerWeek)"
   ]
  },
  {
   "cell_type": "markdown",
   "metadata": {},
   "source": [
    "To the person who works 200 hours per week:  find a new job.  Your ability to pack more than 7\\*24 hours of work into 7 days is too good to waste on a job making just $120K per year."
   ]
  },
  {
   "cell_type": "code",
   "execution_count": 14,
   "metadata": {},
   "outputs": [
    {
     "data": {
      "text/html": [
       "<table>\n",
       "<thead><tr><th scope=col>Survey.Year</th><th scope=col>Timestamp</th><th scope=col>SalaryUSD</th><th scope=col>Country</th><th scope=col>PostalCode</th><th scope=col>PrimaryDatabase</th><th scope=col>YearsWithThisDatabase</th><th scope=col>OtherDatabases</th><th scope=col>EmploymentStatus</th><th scope=col>JobTitle</th><th scope=col>...</th><th scope=col>HoursWorkedPerWeek</th><th scope=col>TelecommuteDaysPerWeek</th><th scope=col>PopulationOfLargestCityWithin20Miles</th><th scope=col>EmploymentSector</th><th scope=col>LookingForAnotherJob</th><th scope=col>CareerPlansThisYear</th><th scope=col>Gender</th><th scope=col>OtherJobDuties</th><th scope=col>KindsOfTasksPerformed</th><th scope=col>Counter</th></tr></thead>\n",
       "<tbody>\n",
       "\t<tr><td>2018                                                                                                                                                                                                                                                                             </td><td>2018-01-03 10:28:45                                                                                                                                                                                                                                                              </td><td>120,000                                                                                                                                                                                                                                                                          </td><td>Israel                                                                                                                                                                                                                                                                           </td><td>NA                                                                                                                                                                                                                                                                               </td><td>Microsoft SQL Server                                                                                                                                                                                                                                                             </td><td>5                                                                                                                                                                                                                                                                                </td><td>Microsoft SQL Server                                                                                                                                                                                                                                                             </td><td>Full time employee                                                                                                                                                                                                                                                               </td><td>Manager                                                                                                                                                                                                                                                                          </td><td>...                                                                                                                                                                                                                                                                              </td><td>200                                                                                                                                                                                                                                                                              </td><td>None, or less than 1 day per week                                                                                                                                                                                                                                                </td><td>Not Asked                                                                                                                                                                                                                                                                        </td><td>Private business                                                                                                                                                                                                                                                                 </td><td>No                                                                                                                                                                                                                                                                               </td><td>Stay with the same employer, same role                                                                                                                                                                                                                                           </td><td>Male                                                                                                                                                                                                                                                                             </td><td>Architect, DBA (Production Focus - build &amp; troubleshoot servers, HA/DR), DBA (General - splits time evenly between writing &amp; tuning queries AND building &amp; troubleshooting servers), Developer: Business Intelligence (SSRS, PowerBI, etc), Developer: T-SQL, Manager</td><td>Build scripts &amp; automation tools, Meetings &amp; management, On-call 24/7/365, Projects, R&amp;D                                                                                                                                                                             </td><td>1                                                                                                                                                                                                                                                                                </td></tr>\n",
       "</tbody>\n",
       "</table>\n"
      ],
      "text/latex": [
       "\\begin{tabular}{r|lllllllllllllllllllllllllllll}\n",
       " Survey.Year & Timestamp & SalaryUSD & Country & PostalCode & PrimaryDatabase & YearsWithThisDatabase & OtherDatabases & EmploymentStatus & JobTitle & ... & HoursWorkedPerWeek & TelecommuteDaysPerWeek & PopulationOfLargestCityWithin20Miles & EmploymentSector & LookingForAnotherJob & CareerPlansThisYear & Gender & OtherJobDuties & KindsOfTasksPerformed & Counter\\\\\n",
       "\\hline\n",
       "\t 2018                                                                                                                                                                                                                                                                        & 2018-01-03 10:28:45                                                                                                                                                                                                                                                         & 120,000                                                                                                                                                                                                                                                                     & Israel                                                                                                                                                                                                                                                                      & NA                                                                                                                                                                                                                                                                          & Microsoft SQL Server                                                                                                                                                                                                                                                        & 5                                                                                                                                                                                                                                                                           & Microsoft SQL Server                                                                                                                                                                                                                                                        & Full time employee                                                                                                                                                                                                                                                          & Manager                                                                                                                                                                                                                                                                     & ...                                                                                                                                                                                                                                                                         & 200                                                                                                                                                                                                                                                                         & None, or less than 1 day per week                                                                                                                                                                                                                                           & Not Asked                                                                                                                                                                                                                                                                   & Private business                                                                                                                                                                                                                                                            & No                                                                                                                                                                                                                                                                          & Stay with the same employer, same role                                                                                                                                                                                                                                      & Male                                                                                                                                                                                                                                                                        & Architect, DBA (Production Focus - build \\& troubleshoot servers, HA/DR), DBA (General - splits time evenly between writing \\& tuning queries AND building \\& troubleshooting servers), Developer: Business Intelligence (SSRS, PowerBI, etc), Developer: T-SQL, Manager & Build scripts \\& automation tools, Meetings \\& management, On-call 24/7/365, Projects, R\\&D                                                                                                                                                                              & 1                                                                                                                                                                                                                                                                          \\\\\n",
       "\\end{tabular}\n"
      ],
      "text/markdown": [
       "\n",
       "Survey.Year | Timestamp | SalaryUSD | Country | PostalCode | PrimaryDatabase | YearsWithThisDatabase | OtherDatabases | EmploymentStatus | JobTitle | ... | HoursWorkedPerWeek | TelecommuteDaysPerWeek | PopulationOfLargestCityWithin20Miles | EmploymentSector | LookingForAnotherJob | CareerPlansThisYear | Gender | OtherJobDuties | KindsOfTasksPerformed | Counter | \n",
       "|---|\n",
       "| 2018                                                                                                                                                                                                                                                                  | 2018-01-03 10:28:45                                                                                                                                                                                                                                                   | 120,000                                                                                                                                                                                                                                                               | Israel                                                                                                                                                                                                                                                                | NA                                                                                                                                                                                                                                                                    | Microsoft SQL Server                                                                                                                                                                                                                                                  | 5                                                                                                                                                                                                                                                                     | Microsoft SQL Server                                                                                                                                                                                                                                                  | Full time employee                                                                                                                                                                                                                                                    | Manager                                                                                                                                                                                                                                                               | ...                                                                                                                                                                                                                                                                   | 200                                                                                                                                                                                                                                                                   | None, or less than 1 day per week                                                                                                                                                                                                                                     | Not Asked                                                                                                                                                                                                                                                             | Private business                                                                                                                                                                                                                                                      | No                                                                                                                                                                                                                                                                    | Stay with the same employer, same role                                                                                                                                                                                                                                | Male                                                                                                                                                                                                                                                                  | Architect, DBA (Production Focus - build & troubleshoot servers, HA/DR), DBA (General - splits time evenly between writing & tuning queries AND building & troubleshooting servers), Developer: Business Intelligence (SSRS, PowerBI, etc), Developer: T-SQL, Manager | Build scripts & automation tools, Meetings & management, On-call 24/7/365, Projects, R&D                                                                                                                                                                              | 1                                                                                                                                                                                                                                                                     | \n",
       "\n",
       "\n"
      ],
      "text/plain": [
       "  Survey.Year Timestamp           SalaryUSD Country PostalCode\n",
       "1 2018        2018-01-03 10:28:45 120,000   Israel  NA        \n",
       "  PrimaryDatabase      YearsWithThisDatabase OtherDatabases      \n",
       "1 Microsoft SQL Server 5                     Microsoft SQL Server\n",
       "  EmploymentStatus   JobTitle ... HoursWorkedPerWeek\n",
       "1 Full time employee Manager  ... 200               \n",
       "  TelecommuteDaysPerWeek            PopulationOfLargestCityWithin20Miles\n",
       "1 None, or less than 1 day per week Not Asked                           \n",
       "  EmploymentSector LookingForAnotherJob CareerPlansThisYear                   \n",
       "1 Private business No                   Stay with the same employer, same role\n",
       "  Gender\n",
       "1 Male  \n",
       "  OtherJobDuties                                                                                                                                                                                                                                                       \n",
       "1 Architect, DBA (Production Focus - build & troubleshoot servers, HA/DR), DBA (General - splits time evenly between writing & tuning queries AND building & troubleshooting servers), Developer: Business Intelligence (SSRS, PowerBI, etc), Developer: T-SQL, Manager\n",
       "  KindsOfTasksPerformed                                                                   \n",
       "1 Build scripts & automation tools, Meetings & management, On-call 24/7/365, Projects, R&D\n",
       "  Counter\n",
       "1 1      "
      ]
     },
     "metadata": {},
     "output_type": "display_data"
    }
   ],
   "source": [
    "survey_data %>%\n",
    "  filter(HoursWorkedPerWeek >= 168) %>%\n",
    "  arrange(desc(HoursWorkedPerWeek))"
   ]
  },
  {
   "cell_type": "markdown",
   "metadata": {},
   "source": [
    "There are only twenty countries with at least 30 data points.  This means that we won't get a great amount of information from cross-country comparisons outside of the sample.  Frankly, I might want to limit this to just the US, UK, Canada, and maybe Australia and India, as the rest are marginal, but for this survey analysis, I'll keep the remainder."
   ]
  },
  {
   "cell_type": "code",
   "execution_count": 15,
   "metadata": {},
   "outputs": [
    {
     "data": {
      "text/html": [
       "<table>\n",
       "<thead><tr><th scope=col>Country</th><th scope=col>n</th></tr></thead>\n",
       "<tbody>\n",
       "\t<tr><td>Australia     </td><td> 185          </td></tr>\n",
       "\t<tr><td>Belgium       </td><td>  30          </td></tr>\n",
       "\t<tr><td>Canada        </td><td> 244          </td></tr>\n",
       "\t<tr><td>Denmark       </td><td>  52          </td></tr>\n",
       "\t<tr><td>France        </td><td>  34          </td></tr>\n",
       "\t<tr><td>Germany       </td><td>  97          </td></tr>\n",
       "\t<tr><td>India         </td><td> 112          </td></tr>\n",
       "\t<tr><td>Ireland       </td><td>  37          </td></tr>\n",
       "\t<tr><td>Italy         </td><td>  32          </td></tr>\n",
       "\t<tr><td>Netherlands   </td><td>  82          </td></tr>\n",
       "\t<tr><td>New Zealand   </td><td>  58          </td></tr>\n",
       "\t<tr><td>Poland        </td><td>  50          </td></tr>\n",
       "\t<tr><td>Romania       </td><td>  44          </td></tr>\n",
       "\t<tr><td>Russia        </td><td>  37          </td></tr>\n",
       "\t<tr><td>South Africa  </td><td>  57          </td></tr>\n",
       "\t<tr><td>Spain         </td><td>  34          </td></tr>\n",
       "\t<tr><td>Sweden        </td><td>  87          </td></tr>\n",
       "\t<tr><td>Switzerland   </td><td>  44          </td></tr>\n",
       "\t<tr><td>United Kingdom</td><td> 667          </td></tr>\n",
       "\t<tr><td>United States </td><td>4509          </td></tr>\n",
       "</tbody>\n",
       "</table>\n"
      ],
      "text/latex": [
       "\\begin{tabular}{r|ll}\n",
       " Country & n\\\\\n",
       "\\hline\n",
       "\t Australia      &  185          \\\\\n",
       "\t Belgium        &   30          \\\\\n",
       "\t Canada         &  244          \\\\\n",
       "\t Denmark        &   52          \\\\\n",
       "\t France         &   34          \\\\\n",
       "\t Germany        &   97          \\\\\n",
       "\t India          &  112          \\\\\n",
       "\t Ireland        &   37          \\\\\n",
       "\t Italy          &   32          \\\\\n",
       "\t Netherlands    &   82          \\\\\n",
       "\t New Zealand    &   58          \\\\\n",
       "\t Poland         &   50          \\\\\n",
       "\t Romania        &   44          \\\\\n",
       "\t Russia         &   37          \\\\\n",
       "\t South Africa   &   57          \\\\\n",
       "\t Spain          &   34          \\\\\n",
       "\t Sweden         &   87          \\\\\n",
       "\t Switzerland    &   44          \\\\\n",
       "\t United Kingdom &  667          \\\\\n",
       "\t United States  & 4509          \\\\\n",
       "\\end{tabular}\n"
      ],
      "text/markdown": [
       "\n",
       "Country | n | \n",
       "|---|---|---|---|---|---|---|---|---|---|---|---|---|---|---|---|---|---|---|---|\n",
       "| Australia      |  185           | \n",
       "| Belgium        |   30           | \n",
       "| Canada         |  244           | \n",
       "| Denmark        |   52           | \n",
       "| France         |   34           | \n",
       "| Germany        |   97           | \n",
       "| India          |  112           | \n",
       "| Ireland        |   37           | \n",
       "| Italy          |   32           | \n",
       "| Netherlands    |   82           | \n",
       "| New Zealand    |   58           | \n",
       "| Poland         |   50           | \n",
       "| Romania        |   44           | \n",
       "| Russia         |   37           | \n",
       "| South Africa   |   57           | \n",
       "| Spain          |   34           | \n",
       "| Sweden         |   87           | \n",
       "| Switzerland    |   44           | \n",
       "| United Kingdom |  667           | \n",
       "| United States  | 4509           | \n",
       "\n",
       "\n"
      ],
      "text/plain": [
       "   Country        n   \n",
       "1  Australia       185\n",
       "2  Belgium          30\n",
       "3  Canada          244\n",
       "4  Denmark          52\n",
       "5  France           34\n",
       "6  Germany          97\n",
       "7  India           112\n",
       "8  Ireland          37\n",
       "9  Italy            32\n",
       "10 Netherlands      82\n",
       "11 New Zealand      58\n",
       "12 Poland           50\n",
       "13 Romania          44\n",
       "14 Russia           37\n",
       "15 South Africa     57\n",
       "16 Spain            34\n",
       "17 Sweden           87\n",
       "18 Switzerland      44\n",
       "19 United Kingdom  667\n",
       "20 United States  4509"
      ]
     },
     "metadata": {},
     "output_type": "display_data"
    }
   ],
   "source": [
    "survey_data %>%\n",
    "  group_by(Country) %>%\n",
    "  summarize(n = n()) %>%\n",
    "  filter(n >= 30)"
   ]
  },
  {
   "cell_type": "markdown",
   "metadata": {},
   "source": [
    "#### Building Our Cleaned-Up Data Set\n",
    "\n",
    "Now that we've performed some basic analysis, we will clean up the data set.  I'm doing most of the cleanup in a single operation, but I do have some comment notes here, particularly around the oddities with SalaryUSD.  The SalaryUSD column has a few problems:\n",
    "* Some people put in pennies, which aren't really that important at the level we're discussing.  I want to strip them out.\n",
    "* Some people put in delimiters like commas or decimal points (which act as commas in countries like Germany).  I want to strip them out, particularly because the decimal point might interfere with my analysis, turning 100.000 to \\\\$100 instead of \\\\$100K.\n",
    "* Some people included the dollar sign, so remove that, as well as any spaces.\n",
    "\n",
    "It's not a perfect regex, but it did seem to fix the problems in this data set at least."
   ]
  },
  {
   "cell_type": "code",
   "execution_count": 16,
   "metadata": {},
   "outputs": [],
   "source": [
    "valid_countries <- survey_data %>%\n",
    "                    group_by(Country) %>%\n",
    "                    summarize(n = n()) %>%\n",
    "                    filter(n >= 30)\n",
    "\n",
    "# Data cleanup\n",
    "survey_data <- salary_data %>%\n",
    "  filter(HoursWorkedPerWeek < 200) %>%\n",
    "  # There were only nine students in the survey, so we will exclude them here.\n",
    "  filter(EmploymentSector != \"Student\") %>%\n",
    "  inner_join(valid_countries, by=\"Country\") %>%\n",
    "  mutate(\n",
    "    SalaryUSD = stringr::str_replace_all(SalaryUSD, \"\\\\$\", \"\") %>%\n",
    "      stringr::str_replace_all(., \",\", \"\") %>%\n",
    "      stringr::str_replace_all(., \" \", \"\") %>%\n",
    "      # Some people put in pennies.  Let's remove anything with a decimal point and then two numbers.\n",
    "      stringr::str_replace_all(., stringr::regex(\"\\\\.[0-9]{2}$\"), \"\") %>%\n",
    "      # Now any decimal points remaining are formatting characters.\n",
    "      stringr::str_replace_all(., \"\\\\.\", \"\") %>%\n",
    "      as.numeric(.),\n",
    "    # Some people have entered bad values here, so set them to the median.\n",
    "    YearsWithThisDatabase = case_when(\n",
    "      (YearsWithThisDatabase > 32) ~ median(YearsWithThisDatabase),\n",
    "      TRUE ~ YearsWithThisDatabase\n",
    "    ),\n",
    "    # Some people apparently entered number of databases rather than number of servers.\n",
    "    DatabaseServers = case_when(\n",
    "      (DatabaseServers >= 5000) ~ median(DatabaseServers),\n",
    "      TRUE ~ DatabaseServers\n",
    "    ),\n",
    "    EmploymentStatus = as.factor(EmploymentStatus),\n",
    "    JobTitle = as.factor(JobTitle),\n",
    "    ManageStaff = as.factor(ManageStaff),\n",
    "    OtherPeopleOnYourTeam = as.factor(OtherPeopleOnYourTeam),\n",
    "    Education = as.factor(Education),\n",
    "    EducationIsComputerRelated = as.factor(EducationIsComputerRelated),\n",
    "    Certifications = as.factor(Certifications),\n",
    "    TelecommuteDaysPerWeek = as.factor(TelecommuteDaysPerWeek),\n",
    "    EmploymentSector = as.factor(EmploymentSector),\n",
    "    LookingForAnotherJob = as.factor(LookingForAnotherJob)\n",
    "  ) "
   ]
  },
  {
   "cell_type": "markdown",
   "metadata": {},
   "source": [
    "Now we can pare out variables we don't need.  In many cases, this is information which was not asked in 2017, so we choose to elimintate them to keep the ~3000 survey responses in place.\n",
    "\n",
    "Some of these eliminated columns, like postal code, are interesting but we just don't have enough data for it to make sense.  Others, like Kinds of Tasks Performed or Other Job Duties, have too many varieties for us to make much sense with a first pass.  They might be interesting in a subsequent analysis, though."
   ]
  },
  {
   "cell_type": "code",
   "execution_count": 17,
   "metadata": {},
   "outputs": [],
   "source": [
    "survey_data <- survey_data %>%\n",
    "  # One person had a salary of zero.  That's just not right.\n",
    "  filter(SalaryUSD > 0) %>%\n",
    "  select(-Survey.Year, -Timestamp, -PostalCode, -PrimaryDatabase, -OtherDatabases, -HowManyCompanies,\n",
    "         -CompanyEmployeesOverall, -PopulationOfLargestCityWithin20Miles, -CareerPlansThisYear, -Gender,\n",
    "         -OtherJobDuties, -KindsOfTasksPerformed, -Counter, -n)"
   ]
  },
  {
   "cell_type": "markdown",
   "metadata": {},
   "source": [
    "Now that we have our salary data fixed, we can finally look at outliers.  I'd consider a salary of \\\\$500K a year to be a bit weird for this field.  It's not impossible, but I am a little suspicious.  I am very suspicious of the part-timer making \\\\$1.375 million, the federal employee making \\\\$1 million, or the New Zealander making \\\\$630K at a non-profit.\n",
    "\n",
    "I'm kind of taking a risk by removing these, "
   ]
  },
  {
   "cell_type": "code",
   "execution_count": 18,
   "metadata": {},
   "outputs": [
    {
     "data": {
      "text/html": [
       "<table>\n",
       "<thead><tr><th scope=col>SalaryUSD</th><th scope=col>Country</th><th scope=col>YearsWithThisDatabase</th><th scope=col>EmploymentStatus</th><th scope=col>JobTitle</th><th scope=col>ManageStaff</th><th scope=col>YearsWithThisTypeOfJob</th><th scope=col>OtherPeopleOnYourTeam</th><th scope=col>DatabaseServers</th><th scope=col>Education</th><th scope=col>EducationIsComputerRelated</th><th scope=col>Certifications</th><th scope=col>HoursWorkedPerWeek</th><th scope=col>TelecommuteDaysPerWeek</th><th scope=col>EmploymentSector</th><th scope=col>LookingForAnotherJob</th></tr></thead>\n",
       "<tbody>\n",
       "\t<tr><td>1450000                                                                                                   </td><td>United States                                                                                             </td><td>12                                                                                                        </td><td>Full time employee                                                                                        </td><td>Analyst                                                                                                   </td><td>No                                                                                                        </td><td>12                                                                                                        </td><td>3                                                                                                         </td><td> 120                                                                                                      </td><td>Bachelors (4 years)                                                                                       </td><td>Yes                                                                                                       </td><td>Yes, and they're currently valid                                                                          </td><td>42                                                                                                        </td><td>None, or less than 1 day per week                                                                         </td><td>Private business                                                                                          </td><td>No                                                                                                        </td></tr>\n",
       "\t<tr><td>1450000                                                                                                           </td><td>United States                                                                                                     </td><td>20                                                                                                                </td><td><span style=white-space:pre-wrap>Full time employee                                               </span>         </td><td>DBA (General - splits time evenly between writing &amp; tuning queries AND building &amp; troubleshooting servers)</td><td>Yes                                                                                                               </td><td>10                                                                                                                </td><td><span style=white-space:pre-wrap>None       </span>                                                               </td><td><span style=white-space:pre-wrap>  10</span>                                                                      </td><td><span style=white-space:pre-wrap>Bachelors (4 years)       </span>                                                </td><td>Yes                                                                                                               </td><td><span style=white-space:pre-wrap>Yes, but they expired           </span>                                          </td><td>45                                                                                                                </td><td><span style=white-space:pre-wrap>5 or more                        </span>                                         </td><td><span style=white-space:pre-wrap>Private business  </span>                                                        </td><td>Yes, but only passively (just curious)                                                                            </td></tr>\n",
       "\t<tr><td>1375000                                                                                                   </td><td>United States                                                                                             </td><td> 8                                                                                                        </td><td>Part time                                                                                                 </td><td>Developer: Business Intelligence (SSRS, PowerBI, etc)                                                     </td><td>Yes                                                                                                       </td><td>18                                                                                                        </td><td>None                                                                                                      </td><td>   1                                                                                                      </td><td>Masters                                                                                                   </td><td>No                                                                                                        </td><td>No, I never have                                                                                          </td><td>32                                                                                                        </td><td>1                                                                                                         </td><td>Private business                                                                                          </td><td>No                                                                                                        </td></tr>\n",
       "\t<tr><td>1000000                                                                                                   </td><td>United States                                                                                             </td><td>15                                                                                                        </td><td>Full time employee                                                                                        </td><td>Manager                                                                                                   </td><td>Yes                                                                                                       </td><td>20                                                                                                        </td><td>None                                                                                                      </td><td>  15                                                                                                      </td><td>None (no degree completed)                                                                                </td><td>No                                                                                                        </td><td>No, I never have                                                                                          </td><td>60                                                                                                        </td><td>None, or less than 1 day per week                                                                         </td><td>Private business                                                                                          </td><td>Yes, but only passively (just curious)                                                                    </td></tr>\n",
       "\t<tr><td>1000000                                                                                                                                               </td><td>United States                                                                                                                                         </td><td>10                                                                                                                                                    </td><td><span style=white-space:pre-wrap>Independent consultant, contractor, freelancer,  or company owner</span>                                             </td><td><span style=white-space:pre-wrap>DBA (Production Focus - build &amp; troubleshoot servers, HA/DR)                                              </span></td><td>Yes                                                                                                                                                   </td><td> 3                                                                                                                                                    </td><td><span style=white-space:pre-wrap>None       </span>                                                                                                   </td><td>1000                                                                                                                                                  </td><td><span style=white-space:pre-wrap>Doctorate/PhD             </span>                                                                                    </td><td>Yes                                                                                                                                                   </td><td>Yes, and they're currently valid                                                                                                                      </td><td>80                                                                                                                                                    </td><td><span style=white-space:pre-wrap>5 or more                        </span>                                                                             </td><td>Federal government                                                                                                                                    </td><td><span style=white-space:pre-wrap>No                                    </span>                                                                        </td></tr>\n",
       "\t<tr><td> 960000                                                                                                           </td><td>United States                                                                                                     </td><td>10                                                                                                                </td><td><span style=white-space:pre-wrap>Full time employee                                               </span>         </td><td>DBA (General - splits time evenly between writing &amp; tuning queries AND building &amp; troubleshooting servers)</td><td>Yes                                                                                                               </td><td> 8                                                                                                                </td><td><span style=white-space:pre-wrap>1          </span>                                                               </td><td><span style=white-space:pre-wrap>   6</span>                                                                      </td><td><span style=white-space:pre-wrap>Associates (2 years)      </span>                                                </td><td>No                                                                                                                </td><td><span style=white-space:pre-wrap>Yes, but they expired           </span>                                          </td><td>40                                                                                                                </td><td><span style=white-space:pre-wrap>5 or more                        </span>                                         </td><td><span style=white-space:pre-wrap>Private business  </span>                                                        </td><td><span style=white-space:pre-wrap>No                                    </span>                                    </td></tr>\n",
       "\t<tr><td> 832031                                                                                                                                               </td><td>United Kingdom                                                                                                                                        </td><td>11                                                                                                                                                    </td><td><span style=white-space:pre-wrap>Full time employee                                               </span>                                             </td><td><span style=white-space:pre-wrap>DBA (Production Focus - build &amp; troubleshoot servers, HA/DR)                                              </span></td><td>No                                                                                                                                                    </td><td> 5                                                                                                                                                    </td><td><span style=white-space:pre-wrap>3          </span>                                                                                                   </td><td><span style=white-space:pre-wrap>  30</span>                                                                                                          </td><td>None (no degree completed)                                                                                                                            </td><td>N/A                                                                                                                                                   </td><td><span style=white-space:pre-wrap>Yes, but they expired           </span>                                                                              </td><td>40                                                                                                                                                    </td><td><span style=white-space:pre-wrap>1                                </span>                                                                             </td><td><span style=white-space:pre-wrap>Private business  </span>                                                                                            </td><td>Yes, but only passively (just curious)                                                                                                                </td></tr>\n",
       "\t<tr><td> 800000                                                                                                                                               </td><td><span style=white-space:pre-wrap>Germany       </span>                                                                                                </td><td>15                                                                                                                                                    </td><td><span style=white-space:pre-wrap>Full time employee of a consulting/contracting company           </span>                                             </td><td><span style=white-space:pre-wrap>DBA (Production Focus - build &amp; troubleshoot servers, HA/DR)                                              </span></td><td>Yes                                                                                                                                                   </td><td>17                                                                                                                                                    </td><td><span style=white-space:pre-wrap>2          </span>                                                                                                   </td><td><span style=white-space:pre-wrap>  80</span>                                                                                                          </td><td>None (no degree completed)                                                                                                                            </td><td>N/A                                                                                                                                                   </td><td><span style=white-space:pre-wrap>Yes, but they expired           </span>                                                                              </td><td>40                                                                                                                                                    </td><td><span style=white-space:pre-wrap>3                                </span>                                                                             </td><td><span style=white-space:pre-wrap>Private business  </span>                                                                                            </td><td>Yes, but only passively (just curious)                                                                                                                </td></tr>\n",
       "\t<tr><td> 785000                                                                                                   </td><td>United States                                                                                             </td><td>20                                                                                                        </td><td>Full time employee                                                                                        </td><td>DBA                                                                                                       </td><td>No                                                                                                        </td><td> 8                                                                                                        </td><td>None                                                                                                      </td><td>  25                                                                                                      </td><td>Bachelors (4 years)                                                                                       </td><td>Yes                                                                                                       </td><td>No, I never have                                                                                          </td><td>35                                                                                                        </td><td>None, or less than 1 day per week                                                                         </td><td>Local government                                                                                          </td><td>Yes, but only passively (just curious)                                                                    </td></tr>\n",
       "\t<tr><td> 750000                                                                                                           </td><td>United States                                                                                                     </td><td> 3                                                                                                                </td><td><span style=white-space:pre-wrap>Full time employee                                               </span>         </td><td>DBA (General - splits time evenly between writing &amp; tuning queries AND building &amp; troubleshooting servers)</td><td>No                                                                                                                </td><td> 3                                                                                                                </td><td><span style=white-space:pre-wrap>None       </span>                                                               </td><td><span style=white-space:pre-wrap>  90</span>                                                                      </td><td><span style=white-space:pre-wrap>Associates (2 years)      </span>                                                </td><td>No                                                                                                                </td><td><span style=white-space:pre-wrap>No, I never have                </span>                                          </td><td>45                                                                                                                </td><td>None, or less than 1 day per week                                                                                 </td><td><span style=white-space:pre-wrap>Private business  </span>                                                        </td><td>Yes, but only passively (just curious)                                                                            </td></tr>\n",
       "\t<tr><td> 705000                                                                                                   </td><td>United States                                                                                             </td><td> 4                                                                                                        </td><td>Full time employee                                                                                        </td><td>Developer: T-SQL                                                                                          </td><td>No                                                                                                        </td><td> 4                                                                                                        </td><td>1                                                                                                         </td><td>   4                                                                                                      </td><td>Bachelors (4 years)                                                                                       </td><td>No                                                                                                        </td><td>No, I never have                                                                                          </td><td>45                                                                                                        </td><td>None, or less than 1 day per week                                                                         </td><td>Private business                                                                                          </td><td>No                                                                                                        </td></tr>\n",
       "\t<tr><td> 684000                                                                                                           </td><td><span style=white-space:pre-wrap>India         </span>                                                            </td><td> 5                                                                                                                </td><td><span style=white-space:pre-wrap>Full time employee                                               </span>         </td><td>DBA (General - splits time evenly between writing &amp; tuning queries AND building &amp; troubleshooting servers)</td><td>No                                                                                                                </td><td> 2                                                                                                                </td><td><span style=white-space:pre-wrap>1          </span>                                                               </td><td><span style=white-space:pre-wrap>  15</span>                                                                      </td><td><span style=white-space:pre-wrap>Bachelors (4 years)       </span>                                                </td><td>Yes                                                                                                               </td><td>Yes, and they're currently valid                                                                                  </td><td>45                                                                                                                </td><td>None, or less than 1 day per week                                                                                 </td><td><span style=white-space:pre-wrap>Private business  </span>                                                        </td><td>Yes, but only passively (just curious)                                                                            </td></tr>\n",
       "\t<tr><td> 669615                                                                                                   </td><td>United Kingdom                                                                                            </td><td> 6                                                                                                        </td><td>Full time employee                                                                                        </td><td>Manager                                                                                                   </td><td>Yes                                                                                                       </td><td> 6                                                                                                        </td><td>None                                                                                                      </td><td>   1                                                                                                      </td><td>None (no degree completed)                                                                                </td><td>N/A                                                                                                       </td><td>No, I never have                                                                                          </td><td>55                                                                                                        </td><td>4                                                                                                         </td><td>Private business                                                                                          </td><td>No                                                                                                        </td></tr>\n",
       "\t<tr><td> 660844                                                                                                   </td><td>Canada                                                                                                    </td><td>13                                                                                                        </td><td>Full time employee                                                                                        </td><td>DBA (Development Focus - tunes queries, indexes, does deployments)                                        </td><td>Yes                                                                                                       </td><td> 8                                                                                                        </td><td>1                                                                                                         </td><td>  10                                                                                                      </td><td>Bachelors (4 years)                                                                                       </td><td>Yes                                                                                                       </td><td>Yes, and they're currently valid                                                                          </td><td>40                                                                                                        </td><td>None, or less than 1 day per week                                                                         </td><td>Private business                                                                                          </td><td>Yes, but only passively (just curious)                                                                    </td></tr>\n",
       "\t<tr><td> 650000                                                                                                   </td><td>United States                                                                                             </td><td>10                                                                                                        </td><td>Full time employee                                                                                        </td><td>Engineer                                                                                                  </td><td>No                                                                                                        </td><td> 3                                                                                                        </td><td>None                                                                                                      </td><td>  20                                                                                                      </td><td>Bachelors (4 years)                                                                                       </td><td>No                                                                                                        </td><td>Yes, but they expired                                                                                     </td><td>50                                                                                                        </td><td>None, or less than 1 day per week                                                                         </td><td>Private business                                                                                          </td><td>No                                                                                                        </td></tr>\n",
       "\t<tr><td> 628857                                                                                                   </td><td>New Zealand                                                                                               </td><td>12                                                                                                        </td><td>Full time employee                                                                                        </td><td>Manager                                                                                                   </td><td>Yes                                                                                                       </td><td> 5                                                                                                        </td><td>None                                                                                                      </td><td>   6                                                                                                      </td><td>Bachelors (4 years)                                                                                       </td><td>Yes                                                                                                       </td><td>No, I never have                                                                                          </td><td>40                                                                                                        </td><td>None, or less than 1 day per week                                                                         </td><td>Non-profit                                                                                                </td><td>Yes, but only passively (just curious)                                                                    </td></tr>\n",
       "\t<tr><td> 575000                                                                                                   </td><td>United States                                                                                             </td><td> 5                                                                                                        </td><td>Full time employee                                                                                        </td><td>Engineer                                                                                                  </td><td>No                                                                                                        </td><td> 2                                                                                                        </td><td>More than 5                                                                                               </td><td>  20                                                                                                      </td><td>Bachelors (4 years)                                                                                       </td><td>No                                                                                                        </td><td>Yes, but they expired                                                                                     </td><td>50                                                                                                        </td><td>None, or less than 1 day per week                                                                         </td><td>Private business                                                                                          </td><td>No                                                                                                        </td></tr>\n",
       "</tbody>\n",
       "</table>\n"
      ],
      "text/latex": [
       "\\begin{tabular}{r|llllllllllllllll}\n",
       " SalaryUSD & Country & YearsWithThisDatabase & EmploymentStatus & JobTitle & ManageStaff & YearsWithThisTypeOfJob & OtherPeopleOnYourTeam & DatabaseServers & Education & EducationIsComputerRelated & Certifications & HoursWorkedPerWeek & TelecommuteDaysPerWeek & EmploymentSector & LookingForAnotherJob\\\\\n",
       "\\hline\n",
       "\t 1450000                                                                                                    & United States                                                                                              & 12                                                                                                         & Full time employee                                                                                         & Analyst                                                                                                    & No                                                                                                         & 12                                                                                                         & 3                                                                                                          &  120                                                                                                       & Bachelors (4 years)                                                                                        & Yes                                                                                                        & Yes, and they're currently valid                                                                           & 42                                                                                                         & None, or less than 1 day per week                                                                          & Private business                                                                                           & No                                                                                                        \\\\\n",
       "\t 1450000                                                                                                        & United States                                                                                                  & 20                                                                                                             & Full time employee                                                                                             & DBA (General - splits time evenly between writing \\& tuning queries AND building \\& troubleshooting servers) & Yes                                                                                                            & 10                                                                                                             & None                                                                                                           &   10                                                                                                           & Bachelors (4 years)                                                                                            & Yes                                                                                                            & Yes, but they expired                                                                                          & 45                                                                                                             & 5 or more                                                                                                      & Private business                                                                                               & Yes, but only passively (just curious)                                                                        \\\\\n",
       "\t 1375000                                                                                                    & United States                                                                                              &  8                                                                                                         & Part time                                                                                                  & Developer: Business Intelligence (SSRS, PowerBI, etc)                                                      & Yes                                                                                                        & 18                                                                                                         & None                                                                                                       &    1                                                                                                       & Masters                                                                                                    & No                                                                                                         & No, I never have                                                                                           & 32                                                                                                         & 1                                                                                                          & Private business                                                                                           & No                                                                                                        \\\\\n",
       "\t 1000000                                                                                                    & United States                                                                                              & 15                                                                                                         & Full time employee                                                                                         & Manager                                                                                                    & Yes                                                                                                        & 20                                                                                                         & None                                                                                                       &   15                                                                                                       & None (no degree completed)                                                                                 & No                                                                                                         & No, I never have                                                                                           & 60                                                                                                         & None, or less than 1 day per week                                                                          & Private business                                                                                           & Yes, but only passively (just curious)                                                                    \\\\\n",
       "\t 1000000                                                                                                      & United States                                                                                                & 10                                                                                                           & Independent consultant, contractor, freelancer,  or company owner                                            & DBA (Production Focus - build \\& troubleshoot servers, HA/DR)                                               & Yes                                                                                                          &  3                                                                                                           & None                                                                                                         & 1000                                                                                                         & Doctorate/PhD                                                                                                & Yes                                                                                                          & Yes, and they're currently valid                                                                             & 80                                                                                                           & 5 or more                                                                                                    & Federal government                                                                                           & No                                                                                                          \\\\\n",
       "\t  960000                                                                                                        & United States                                                                                                  & 10                                                                                                             & Full time employee                                                                                             & DBA (General - splits time evenly between writing \\& tuning queries AND building \\& troubleshooting servers) & Yes                                                                                                            &  8                                                                                                             & 1                                                                                                              &    6                                                                                                           & Associates (2 years)                                                                                           & No                                                                                                             & Yes, but they expired                                                                                          & 40                                                                                                             & 5 or more                                                                                                      & Private business                                                                                               & No                                                                                                            \\\\\n",
       "\t  832031                                                                                                      & United Kingdom                                                                                               & 11                                                                                                           & Full time employee                                                                                           & DBA (Production Focus - build \\& troubleshoot servers, HA/DR)                                               & No                                                                                                           &  5                                                                                                           & 3                                                                                                            &   30                                                                                                         & None (no degree completed)                                                                                   & N/A                                                                                                          & Yes, but they expired                                                                                        & 40                                                                                                           & 1                                                                                                            & Private business                                                                                             & Yes, but only passively (just curious)                                                                      \\\\\n",
       "\t  800000                                                                                                      & Germany                                                                                                      & 15                                                                                                           & Full time employee of a consulting/contracting company                                                       & DBA (Production Focus - build \\& troubleshoot servers, HA/DR)                                               & Yes                                                                                                          & 17                                                                                                           & 2                                                                                                            &   80                                                                                                         & None (no degree completed)                                                                                   & N/A                                                                                                          & Yes, but they expired                                                                                        & 40                                                                                                           & 3                                                                                                            & Private business                                                                                             & Yes, but only passively (just curious)                                                                      \\\\\n",
       "\t  785000                                                                                                    & United States                                                                                              & 20                                                                                                         & Full time employee                                                                                         & DBA                                                                                                        & No                                                                                                         &  8                                                                                                         & None                                                                                                       &   25                                                                                                       & Bachelors (4 years)                                                                                        & Yes                                                                                                        & No, I never have                                                                                           & 35                                                                                                         & None, or less than 1 day per week                                                                          & Local government                                                                                           & Yes, but only passively (just curious)                                                                    \\\\\n",
       "\t  750000                                                                                                        & United States                                                                                                  &  3                                                                                                             & Full time employee                                                                                             & DBA (General - splits time evenly between writing \\& tuning queries AND building \\& troubleshooting servers) & No                                                                                                             &  3                                                                                                             & None                                                                                                           &   90                                                                                                           & Associates (2 years)                                                                                           & No                                                                                                             & No, I never have                                                                                               & 45                                                                                                             & None, or less than 1 day per week                                                                              & Private business                                                                                               & Yes, but only passively (just curious)                                                                        \\\\\n",
       "\t  705000                                                                                                    & United States                                                                                              &  4                                                                                                         & Full time employee                                                                                         & Developer: T-SQL                                                                                           & No                                                                                                         &  4                                                                                                         & 1                                                                                                          &    4                                                                                                       & Bachelors (4 years)                                                                                        & No                                                                                                         & No, I never have                                                                                           & 45                                                                                                         & None, or less than 1 day per week                                                                          & Private business                                                                                           & No                                                                                                        \\\\\n",
       "\t  684000                                                                                                        & India                                                                                                          &  5                                                                                                             & Full time employee                                                                                             & DBA (General - splits time evenly between writing \\& tuning queries AND building \\& troubleshooting servers) & No                                                                                                             &  2                                                                                                             & 1                                                                                                              &   15                                                                                                           & Bachelors (4 years)                                                                                            & Yes                                                                                                            & Yes, and they're currently valid                                                                               & 45                                                                                                             & None, or less than 1 day per week                                                                              & Private business                                                                                               & Yes, but only passively (just curious)                                                                        \\\\\n",
       "\t  669615                                                                                                    & United Kingdom                                                                                             &  6                                                                                                         & Full time employee                                                                                         & Manager                                                                                                    & Yes                                                                                                        &  6                                                                                                         & None                                                                                                       &    1                                                                                                       & None (no degree completed)                                                                                 & N/A                                                                                                        & No, I never have                                                                                           & 55                                                                                                         & 4                                                                                                          & Private business                                                                                           & No                                                                                                        \\\\\n",
       "\t  660844                                                                                                    & Canada                                                                                                     & 13                                                                                                         & Full time employee                                                                                         & DBA (Development Focus - tunes queries, indexes, does deployments)                                         & Yes                                                                                                        &  8                                                                                                         & 1                                                                                                          &   10                                                                                                       & Bachelors (4 years)                                                                                        & Yes                                                                                                        & Yes, and they're currently valid                                                                           & 40                                                                                                         & None, or less than 1 day per week                                                                          & Private business                                                                                           & Yes, but only passively (just curious)                                                                    \\\\\n",
       "\t  650000                                                                                                    & United States                                                                                              & 10                                                                                                         & Full time employee                                                                                         & Engineer                                                                                                   & No                                                                                                         &  3                                                                                                         & None                                                                                                       &   20                                                                                                       & Bachelors (4 years)                                                                                        & No                                                                                                         & Yes, but they expired                                                                                      & 50                                                                                                         & None, or less than 1 day per week                                                                          & Private business                                                                                           & No                                                                                                        \\\\\n",
       "\t  628857                                                                                                    & New Zealand                                                                                                & 12                                                                                                         & Full time employee                                                                                         & Manager                                                                                                    & Yes                                                                                                        &  5                                                                                                         & None                                                                                                       &    6                                                                                                       & Bachelors (4 years)                                                                                        & Yes                                                                                                        & No, I never have                                                                                           & 40                                                                                                         & None, or less than 1 day per week                                                                          & Non-profit                                                                                                 & Yes, but only passively (just curious)                                                                    \\\\\n",
       "\t  575000                                                                                                    & United States                                                                                              &  5                                                                                                         & Full time employee                                                                                         & Engineer                                                                                                   & No                                                                                                         &  2                                                                                                         & More than 5                                                                                                &   20                                                                                                       & Bachelors (4 years)                                                                                        & No                                                                                                         & Yes, but they expired                                                                                      & 50                                                                                                         & None, or less than 1 day per week                                                                          & Private business                                                                                           & No                                                                                                        \\\\\n",
       "\\end{tabular}\n"
      ],
      "text/markdown": [
       "\n",
       "SalaryUSD | Country | YearsWithThisDatabase | EmploymentStatus | JobTitle | ManageStaff | YearsWithThisTypeOfJob | OtherPeopleOnYourTeam | DatabaseServers | Education | EducationIsComputerRelated | Certifications | HoursWorkedPerWeek | TelecommuteDaysPerWeek | EmploymentSector | LookingForAnotherJob | \n",
       "|---|---|---|---|---|---|---|---|---|---|---|---|---|---|---|---|---|\n",
       "| 1450000                                                                                                    | United States                                                                                              | 12                                                                                                         | Full time employee                                                                                         | Analyst                                                                                                    | No                                                                                                         | 12                                                                                                         | 3                                                                                                          |  120                                                                                                       | Bachelors (4 years)                                                                                        | Yes                                                                                                        | Yes, and they're currently valid                                                                           | 42                                                                                                         | None, or less than 1 day per week                                                                          | Private business                                                                                           | No                                                                                                         | \n",
       "| 1450000                                                                                                    | United States                                                                                              | 20                                                                                                         | Full time employee                                                                                         | DBA (General - splits time evenly between writing & tuning queries AND building & troubleshooting servers) | Yes                                                                                                        | 10                                                                                                         | None                                                                                                       |   10                                                                                                       | Bachelors (4 years)                                                                                        | Yes                                                                                                        | Yes, but they expired                                                                                      | 45                                                                                                         | 5 or more                                                                                                  | Private business                                                                                           | Yes, but only passively (just curious)                                                                     | \n",
       "| 1375000                                                                                                    | United States                                                                                              |  8                                                                                                         | Part time                                                                                                  | Developer: Business Intelligence (SSRS, PowerBI, etc)                                                      | Yes                                                                                                        | 18                                                                                                         | None                                                                                                       |    1                                                                                                       | Masters                                                                                                    | No                                                                                                         | No, I never have                                                                                           | 32                                                                                                         | 1                                                                                                          | Private business                                                                                           | No                                                                                                         | \n",
       "| 1000000                                                                                                    | United States                                                                                              | 15                                                                                                         | Full time employee                                                                                         | Manager                                                                                                    | Yes                                                                                                        | 20                                                                                                         | None                                                                                                       |   15                                                                                                       | None (no degree completed)                                                                                 | No                                                                                                         | No, I never have                                                                                           | 60                                                                                                         | None, or less than 1 day per week                                                                          | Private business                                                                                           | Yes, but only passively (just curious)                                                                     | \n",
       "| 1000000                                                                                                    | United States                                                                                              | 10                                                                                                         | Independent consultant, contractor, freelancer,  or company owner                                          | DBA (Production Focus - build & troubleshoot servers, HA/DR)                                               | Yes                                                                                                        |  3                                                                                                         | None                                                                                                       | 1000                                                                                                       | Doctorate/PhD                                                                                              | Yes                                                                                                        | Yes, and they're currently valid                                                                           | 80                                                                                                         | 5 or more                                                                                                  | Federal government                                                                                         | No                                                                                                         | \n",
       "|  960000                                                                                                    | United States                                                                                              | 10                                                                                                         | Full time employee                                                                                         | DBA (General - splits time evenly between writing & tuning queries AND building & troubleshooting servers) | Yes                                                                                                        |  8                                                                                                         | 1                                                                                                          |    6                                                                                                       | Associates (2 years)                                                                                       | No                                                                                                         | Yes, but they expired                                                                                      | 40                                                                                                         | 5 or more                                                                                                  | Private business                                                                                           | No                                                                                                         | \n",
       "|  832031                                                                                                    | United Kingdom                                                                                             | 11                                                                                                         | Full time employee                                                                                         | DBA (Production Focus - build & troubleshoot servers, HA/DR)                                               | No                                                                                                         |  5                                                                                                         | 3                                                                                                          |   30                                                                                                       | None (no degree completed)                                                                                 | N/A                                                                                                        | Yes, but they expired                                                                                      | 40                                                                                                         | 1                                                                                                          | Private business                                                                                           | Yes, but only passively (just curious)                                                                     | \n",
       "|  800000                                                                                                    | Germany                                                                                                    | 15                                                                                                         | Full time employee of a consulting/contracting company                                                     | DBA (Production Focus - build & troubleshoot servers, HA/DR)                                               | Yes                                                                                                        | 17                                                                                                         | 2                                                                                                          |   80                                                                                                       | None (no degree completed)                                                                                 | N/A                                                                                                        | Yes, but they expired                                                                                      | 40                                                                                                         | 3                                                                                                          | Private business                                                                                           | Yes, but only passively (just curious)                                                                     | \n",
       "|  785000                                                                                                    | United States                                                                                              | 20                                                                                                         | Full time employee                                                                                         | DBA                                                                                                        | No                                                                                                         |  8                                                                                                         | None                                                                                                       |   25                                                                                                       | Bachelors (4 years)                                                                                        | Yes                                                                                                        | No, I never have                                                                                           | 35                                                                                                         | None, or less than 1 day per week                                                                          | Local government                                                                                           | Yes, but only passively (just curious)                                                                     | \n",
       "|  750000                                                                                                    | United States                                                                                              |  3                                                                                                         | Full time employee                                                                                         | DBA (General - splits time evenly between writing & tuning queries AND building & troubleshooting servers) | No                                                                                                         |  3                                                                                                         | None                                                                                                       |   90                                                                                                       | Associates (2 years)                                                                                       | No                                                                                                         | No, I never have                                                                                           | 45                                                                                                         | None, or less than 1 day per week                                                                          | Private business                                                                                           | Yes, but only passively (just curious)                                                                     | \n",
       "|  705000                                                                                                    | United States                                                                                              |  4                                                                                                         | Full time employee                                                                                         | Developer: T-SQL                                                                                           | No                                                                                                         |  4                                                                                                         | 1                                                                                                          |    4                                                                                                       | Bachelors (4 years)                                                                                        | No                                                                                                         | No, I never have                                                                                           | 45                                                                                                         | None, or less than 1 day per week                                                                          | Private business                                                                                           | No                                                                                                         | \n",
       "|  684000                                                                                                    | India                                                                                                      |  5                                                                                                         | Full time employee                                                                                         | DBA (General - splits time evenly between writing & tuning queries AND building & troubleshooting servers) | No                                                                                                         |  2                                                                                                         | 1                                                                                                          |   15                                                                                                       | Bachelors (4 years)                                                                                        | Yes                                                                                                        | Yes, and they're currently valid                                                                           | 45                                                                                                         | None, or less than 1 day per week                                                                          | Private business                                                                                           | Yes, but only passively (just curious)                                                                     | \n",
       "|  669615                                                                                                    | United Kingdom                                                                                             |  6                                                                                                         | Full time employee                                                                                         | Manager                                                                                                    | Yes                                                                                                        |  6                                                                                                         | None                                                                                                       |    1                                                                                                       | None (no degree completed)                                                                                 | N/A                                                                                                        | No, I never have                                                                                           | 55                                                                                                         | 4                                                                                                          | Private business                                                                                           | No                                                                                                         | \n",
       "|  660844                                                                                                    | Canada                                                                                                     | 13                                                                                                         | Full time employee                                                                                         | DBA (Development Focus - tunes queries, indexes, does deployments)                                         | Yes                                                                                                        |  8                                                                                                         | 1                                                                                                          |   10                                                                                                       | Bachelors (4 years)                                                                                        | Yes                                                                                                        | Yes, and they're currently valid                                                                           | 40                                                                                                         | None, or less than 1 day per week                                                                          | Private business                                                                                           | Yes, but only passively (just curious)                                                                     | \n",
       "|  650000                                                                                                    | United States                                                                                              | 10                                                                                                         | Full time employee                                                                                         | Engineer                                                                                                   | No                                                                                                         |  3                                                                                                         | None                                                                                                       |   20                                                                                                       | Bachelors (4 years)                                                                                        | No                                                                                                         | Yes, but they expired                                                                                      | 50                                                                                                         | None, or less than 1 day per week                                                                          | Private business                                                                                           | No                                                                                                         | \n",
       "|  628857                                                                                                    | New Zealand                                                                                                | 12                                                                                                         | Full time employee                                                                                         | Manager                                                                                                    | Yes                                                                                                        |  5                                                                                                         | None                                                                                                       |    6                                                                                                       | Bachelors (4 years)                                                                                        | Yes                                                                                                        | No, I never have                                                                                           | 40                                                                                                         | None, or less than 1 day per week                                                                          | Non-profit                                                                                                 | Yes, but only passively (just curious)                                                                     | \n",
       "|  575000                                                                                                    | United States                                                                                              |  5                                                                                                         | Full time employee                                                                                         | Engineer                                                                                                   | No                                                                                                         |  2                                                                                                         | More than 5                                                                                                |   20                                                                                                       | Bachelors (4 years)                                                                                        | No                                                                                                         | Yes, but they expired                                                                                      | 50                                                                                                         | None, or less than 1 day per week                                                                          | Private business                                                                                           | No                                                                                                         | \n",
       "\n",
       "\n"
      ],
      "text/plain": [
       "   SalaryUSD Country        YearsWithThisDatabase\n",
       "1  1450000   United States  12                   \n",
       "2  1450000   United States  20                   \n",
       "3  1375000   United States   8                   \n",
       "4  1000000   United States  15                   \n",
       "5  1000000   United States  10                   \n",
       "6   960000   United States  10                   \n",
       "7   832031   United Kingdom 11                   \n",
       "8   800000   Germany        15                   \n",
       "9   785000   United States  20                   \n",
       "10  750000   United States   3                   \n",
       "11  705000   United States   4                   \n",
       "12  684000   India           5                   \n",
       "13  669615   United Kingdom  6                   \n",
       "14  660844   Canada         13                   \n",
       "15  650000   United States  10                   \n",
       "16  628857   New Zealand    12                   \n",
       "17  575000   United States   5                   \n",
       "   EmploymentStatus                                                 \n",
       "1  Full time employee                                               \n",
       "2  Full time employee                                               \n",
       "3  Part time                                                        \n",
       "4  Full time employee                                               \n",
       "5  Independent consultant, contractor, freelancer,  or company owner\n",
       "6  Full time employee                                               \n",
       "7  Full time employee                                               \n",
       "8  Full time employee of a consulting/contracting company           \n",
       "9  Full time employee                                               \n",
       "10 Full time employee                                               \n",
       "11 Full time employee                                               \n",
       "12 Full time employee                                               \n",
       "13 Full time employee                                               \n",
       "14 Full time employee                                               \n",
       "15 Full time employee                                               \n",
       "16 Full time employee                                               \n",
       "17 Full time employee                                               \n",
       "   JobTitle                                                                                                  \n",
       "1  Analyst                                                                                                   \n",
       "2  DBA (General - splits time evenly between writing & tuning queries AND building & troubleshooting servers)\n",
       "3  Developer: Business Intelligence (SSRS, PowerBI, etc)                                                     \n",
       "4  Manager                                                                                                   \n",
       "5  DBA (Production Focus - build & troubleshoot servers, HA/DR)                                              \n",
       "6  DBA (General - splits time evenly between writing & tuning queries AND building & troubleshooting servers)\n",
       "7  DBA (Production Focus - build & troubleshoot servers, HA/DR)                                              \n",
       "8  DBA (Production Focus - build & troubleshoot servers, HA/DR)                                              \n",
       "9  DBA                                                                                                       \n",
       "10 DBA (General - splits time evenly between writing & tuning queries AND building & troubleshooting servers)\n",
       "11 Developer: T-SQL                                                                                          \n",
       "12 DBA (General - splits time evenly between writing & tuning queries AND building & troubleshooting servers)\n",
       "13 Manager                                                                                                   \n",
       "14 DBA (Development Focus - tunes queries, indexes, does deployments)                                        \n",
       "15 Engineer                                                                                                  \n",
       "16 Manager                                                                                                   \n",
       "17 Engineer                                                                                                  \n",
       "   ManageStaff YearsWithThisTypeOfJob OtherPeopleOnYourTeam DatabaseServers\n",
       "1  No          12                     3                      120           \n",
       "2  Yes         10                     None                    10           \n",
       "3  Yes         18                     None                     1           \n",
       "4  Yes         20                     None                    15           \n",
       "5  Yes          3                     None                  1000           \n",
       "6  Yes          8                     1                        6           \n",
       "7  No           5                     3                       30           \n",
       "8  Yes         17                     2                       80           \n",
       "9  No           8                     None                    25           \n",
       "10 No           3                     None                    90           \n",
       "11 No           4                     1                        4           \n",
       "12 No           2                     1                       15           \n",
       "13 Yes          6                     None                     1           \n",
       "14 Yes          8                     1                       10           \n",
       "15 No           3                     None                    20           \n",
       "16 Yes          5                     None                     6           \n",
       "17 No           2                     More than 5             20           \n",
       "   Education                  EducationIsComputerRelated\n",
       "1  Bachelors (4 years)        Yes                       \n",
       "2  Bachelors (4 years)        Yes                       \n",
       "3  Masters                    No                        \n",
       "4  None (no degree completed) No                        \n",
       "5  Doctorate/PhD              Yes                       \n",
       "6  Associates (2 years)       No                        \n",
       "7  None (no degree completed) N/A                       \n",
       "8  None (no degree completed) N/A                       \n",
       "9  Bachelors (4 years)        Yes                       \n",
       "10 Associates (2 years)       No                        \n",
       "11 Bachelors (4 years)        No                        \n",
       "12 Bachelors (4 years)        Yes                       \n",
       "13 None (no degree completed) N/A                       \n",
       "14 Bachelors (4 years)        Yes                       \n",
       "15 Bachelors (4 years)        No                        \n",
       "16 Bachelors (4 years)        Yes                       \n",
       "17 Bachelors (4 years)        No                        \n",
       "   Certifications                   HoursWorkedPerWeek\n",
       "1  Yes, and they're currently valid 42                \n",
       "2  Yes, but they expired            45                \n",
       "3  No, I never have                 32                \n",
       "4  No, I never have                 60                \n",
       "5  Yes, and they're currently valid 80                \n",
       "6  Yes, but they expired            40                \n",
       "7  Yes, but they expired            40                \n",
       "8  Yes, but they expired            40                \n",
       "9  No, I never have                 35                \n",
       "10 No, I never have                 45                \n",
       "11 No, I never have                 45                \n",
       "12 Yes, and they're currently valid 45                \n",
       "13 No, I never have                 55                \n",
       "14 Yes, and they're currently valid 40                \n",
       "15 Yes, but they expired            50                \n",
       "16 No, I never have                 40                \n",
       "17 Yes, but they expired            50                \n",
       "   TelecommuteDaysPerWeek            EmploymentSector  \n",
       "1  None, or less than 1 day per week Private business  \n",
       "2  5 or more                         Private business  \n",
       "3  1                                 Private business  \n",
       "4  None, or less than 1 day per week Private business  \n",
       "5  5 or more                         Federal government\n",
       "6  5 or more                         Private business  \n",
       "7  1                                 Private business  \n",
       "8  3                                 Private business  \n",
       "9  None, or less than 1 day per week Local government  \n",
       "10 None, or less than 1 day per week Private business  \n",
       "11 None, or less than 1 day per week Private business  \n",
       "12 None, or less than 1 day per week Private business  \n",
       "13 4                                 Private business  \n",
       "14 None, or less than 1 day per week Private business  \n",
       "15 None, or less than 1 day per week Private business  \n",
       "16 None, or less than 1 day per week Non-profit        \n",
       "17 None, or less than 1 day per week Private business  \n",
       "   LookingForAnotherJob                  \n",
       "1  No                                    \n",
       "2  Yes, but only passively (just curious)\n",
       "3  No                                    \n",
       "4  Yes, but only passively (just curious)\n",
       "5  No                                    \n",
       "6  No                                    \n",
       "7  Yes, but only passively (just curious)\n",
       "8  Yes, but only passively (just curious)\n",
       "9  Yes, but only passively (just curious)\n",
       "10 Yes, but only passively (just curious)\n",
       "11 No                                    \n",
       "12 Yes, but only passively (just curious)\n",
       "13 No                                    \n",
       "14 Yes, but only passively (just curious)\n",
       "15 No                                    \n",
       "16 Yes, but only passively (just curious)\n",
       "17 No                                    "
      ]
     },
     "metadata": {},
     "output_type": "display_data"
    }
   ],
   "source": [
    "survey_data %>%\n",
    "  filter(SalaryUSD > 500000) %>%\n",
    "  arrange(desc(SalaryUSD))"
   ]
  },
  {
   "cell_type": "markdown",
   "metadata": {},
   "source": [
    "On the other side, there are 24 people who say they earned less than $5K a year.  Those also seem wrong.  Some of them look like dollars per  hour, and maybe some are monthly salary.  I'm going to strip those out."
   ]
  },
  {
   "cell_type": "code",
   "execution_count": 19,
   "metadata": {},
   "outputs": [
    {
     "data": {
      "text/html": [
       "<table>\n",
       "<thead><tr><th scope=col>SalaryUSD</th><th scope=col>Country</th><th scope=col>YearsWithThisDatabase</th><th scope=col>EmploymentStatus</th><th scope=col>JobTitle</th><th scope=col>ManageStaff</th><th scope=col>YearsWithThisTypeOfJob</th><th scope=col>OtherPeopleOnYourTeam</th><th scope=col>DatabaseServers</th><th scope=col>Education</th><th scope=col>EducationIsComputerRelated</th><th scope=col>Certifications</th><th scope=col>HoursWorkedPerWeek</th><th scope=col>TelecommuteDaysPerWeek</th><th scope=col>EmploymentSector</th><th scope=col>LookingForAnotherJob</th></tr></thead>\n",
       "<tbody>\n",
       "\t<tr><td>4423                                                                                                      </td><td>India                                                                                                     </td><td> 2                                                                                                        </td><td>Full time employee of a consulting/contracting company                                                    </td><td>DBA                                                                                                       </td><td>Yes                                                                                                       </td><td> 2                                                                                                        </td><td>More than 5                                                                                               </td><td> 98                                                                                                       </td><td>Bachelors (4 years)                                                                                       </td><td>Yes                                                                                                       </td><td>No, I never have                                                                                          </td><td>54                                                                                                        </td><td>None, or less than 1 day per week                                                                         </td><td>Private business                                                                                          </td><td>No                                                                                                        </td></tr>\n",
       "\t<tr><td>4420                                                                                                      </td><td>India                                                                                                     </td><td> 1                                                                                                        </td><td>Full time employee                                                                                        </td><td>DBA                                                                                                       </td><td>No                                                                                                        </td><td> 1                                                                                                        </td><td>2                                                                                                         </td><td>700                                                                                                       </td><td>Bachelors (4 years)                                                                                       </td><td>Yes                                                                                                       </td><td>No, I never have                                                                                          </td><td>30                                                                                                        </td><td>None, or less than 1 day per week                                                                         </td><td>Private business                                                                                          </td><td>Yes, actively looking for something else                                                                  </td></tr>\n",
       "\t<tr><td>4118                                                                                                      </td><td>India                                                                                                     </td><td> 3                                                                                                        </td><td>Full time employee                                                                                        </td><td>DBA                                                                                                       </td><td>No                                                                                                        </td><td> 2                                                                                                        </td><td>4                                                                                                         </td><td> 50                                                                                                       </td><td>Bachelors (4 years)                                                                                       </td><td>Yes                                                                                                       </td><td>No, I never have                                                                                          </td><td>48                                                                                                        </td><td>None, or less than 1 day per week                                                                         </td><td>Private business                                                                                          </td><td>Yes, actively looking for something else                                                                  </td></tr>\n",
       "\t<tr><td>4000                                                                                                      </td><td>South Africa                                                                                              </td><td>21                                                                                                        </td><td>Full time employee                                                                                        </td><td>Developer: T-SQL                                                                                          </td><td>No                                                                                                        </td><td> 3                                                                                                        </td><td>1                                                                                                         </td><td>  4                                                                                                       </td><td>None (no degree completed)                                                                                </td><td>N/A                                                                                                       </td><td>No, I never have                                                                                          </td><td>55                                                                                                        </td><td>5 or more                                                                                                 </td><td>Private business                                                                                          </td><td>Yes, actively looking for something else                                                                  </td></tr>\n",
       "\t<tr><td>3900                                                                                                      </td><td>India                                                                                                     </td><td> 2                                                                                                        </td><td>Full time employee                                                                                        </td><td>DBA                                                                                                       </td><td>No                                                                                                        </td><td> 2                                                                                                        </td><td>2                                                                                                         </td><td> 30                                                                                                       </td><td>Bachelors (4 years)                                                                                       </td><td>Yes                                                                                                       </td><td>No, I never have                                                                                          </td><td>45                                                                                                        </td><td>None, or less than 1 day per week                                                                         </td><td>Private business                                                                                          </td><td>Yes, actively looking for something else                                                                  </td></tr>\n",
       "\t<tr><td>3580                                                                                                      </td><td>Romania                                                                                                   </td><td> 6                                                                                                        </td><td>Full time employee                                                                                        </td><td>DBA (Development Focus - tunes queries, indexes, does deployments)                                        </td><td>No                                                                                                        </td><td> 2                                                                                                        </td><td>2                                                                                                         </td><td> 50                                                                                                       </td><td>Masters                                                                                                   </td><td>Yes                                                                                                       </td><td>No, I never have                                                                                          </td><td>40                                                                                                        </td><td>None, or less than 1 day per week                                                                         </td><td>Private business                                                                                          </td><td>Yes, but only passively (just curious)                                                                    </td></tr>\n",
       "\t<tr><td>3000                                                                                                      </td><td>India                                                                                                     </td><td> 3                                                                                                        </td><td>Full time employee                                                                                        </td><td>Developer: T-SQL                                                                                          </td><td>No                                                                                                        </td><td> 5                                                                                                        </td><td>More than 5                                                                                               </td><td>  5                                                                                                       </td><td>None (no degree completed)                                                                                </td><td>No                                                                                                        </td><td>Yes, but they expired                                                                                     </td><td>40                                                                                                        </td><td>None, or less than 1 day per week                                                                         </td><td>Private business                                                                                          </td><td>Yes, but only passively (just curious)                                                                    </td></tr>\n",
       "\t<tr><td>2246                                                                                                      </td><td>India                                                                                                     </td><td> 2                                                                                                        </td><td>Full time employee                                                                                        </td><td>Developer: Business Intelligence (SSRS, PowerBI, etc)                                                     </td><td>Yes                                                                                                       </td><td> 2                                                                                                        </td><td>4                                                                                                         </td><td>  2                                                                                                       </td><td>Masters                                                                                                   </td><td>Yes                                                                                                       </td><td>No, I never have                                                                                          </td><td>40                                                                                                        </td><td>None, or less than 1 day per week                                                                         </td><td>Private business                                                                                          </td><td>Yes, actively looking for something else                                                                  </td></tr>\n",
       "\t<tr><td>2000                                                                                                      </td><td>Poland                                                                                                    </td><td> 7                                                                                                        </td><td>Full time employee                                                                                        </td><td>DBA                                                                                                       </td><td>No                                                                                                        </td><td> 1                                                                                                        </td><td>4                                                                                                         </td><td> 15                                                                                                       </td><td>Masters                                                                                                   </td><td>Yes                                                                                                       </td><td>Yes, but they expired                                                                                     </td><td>40                                                                                                        </td><td>5 or more                                                                                                 </td><td>Private business                                                                                          </td><td>No                                                                                                        </td></tr>\n",
       "\t<tr><td>2000                                                                                                              </td><td>South Africa                                                                                                      </td><td>20                                                                                                                </td><td><span style=white-space:pre-wrap>Full time employee                                    </span>                    </td><td>DBA (General - splits time evenly between writing &amp; tuning queries AND building &amp; troubleshooting servers)</td><td>No                                                                                                                </td><td> 4                                                                                                                </td><td><span style=white-space:pre-wrap>None       </span>                                                               </td><td> 50                                                                                                               </td><td><span style=white-space:pre-wrap>Associates (2 years)      </span>                                                </td><td>Yes                                                                                                               </td><td>Yes, and they're currently valid                                                                                  </td><td>50                                                                                                                </td><td><span style=white-space:pre-wrap>2                                </span>                                         </td><td><span style=white-space:pre-wrap>Private business         </span>                                                 </td><td><span style=white-space:pre-wrap>Yes, but only passively (just curious)  </span>                                  </td></tr>\n",
       "\t<tr><td>1600                                                                                                      </td><td>India                                                                                                     </td><td> 6                                                                                                        </td><td>Full time employee                                                                                        </td><td>DBA                                                                                                       </td><td>Yes                                                                                                       </td><td> 6                                                                                                        </td><td>More than 5                                                                                               </td><td>  4                                                                                                       </td><td>Masters                                                                                                   </td><td>No                                                                                                        </td><td>Yes, and they're currently valid                                                                          </td><td>45                                                                                                        </td><td>None, or less than 1 day per week                                                                         </td><td>Private business                                                                                          </td><td>Yes, but only passively (just curious)                                                                    </td></tr>\n",
       "\t<tr><td>1467                                                                                                      </td><td>South Africa                                                                                              </td><td> 4                                                                                                        </td><td>Full time employee                                                                                        </td><td>Developer: App code (C#, JS, etc)                                                                         </td><td>No                                                                                                        </td><td> 2                                                                                                        </td><td>2                                                                                                         </td><td>  4                                                                                                       </td><td>Associates (2 years)                                                                                      </td><td>Yes                                                                                                       </td><td>Yes, but they expired                                                                                     </td><td>40                                                                                                        </td><td>None, or less than 1 day per week                                                                         </td><td>Private business                                                                                          </td><td>Yes, but only passively (just curious)                                                                    </td></tr>\n",
       "\t<tr><td>1200                                                                                                      </td><td>India                                                                                                     </td><td> 2                                                                                                        </td><td>Full time employee                                                                                        </td><td>DBA                                                                                                       </td><td>No                                                                                                        </td><td> 5                                                                                                        </td><td>2                                                                                                         </td><td>350                                                                                                       </td><td>Associates (2 years)                                                                                      </td><td>No                                                                                                        </td><td>No, I never have                                                                                          </td><td>45                                                                                                        </td><td>None, or less than 1 day per week                                                                         </td><td>Private business                                                                                          </td><td>No                                                                                                        </td></tr>\n",
       "\t<tr><td>1100                                                                                                      </td><td>Russia                                                                                                    </td><td> 2                                                                                                        </td><td>Full time employee                                                                                        </td><td>Developer: App code (C#, JS, etc)                                                                         </td><td>No                                                                                                        </td><td> 0                                                                                                        </td><td>1                                                                                                         </td><td>  1                                                                                                       </td><td>Masters                                                                                                   </td><td>Yes                                                                                                       </td><td>No, I never have                                                                                          </td><td>38                                                                                                        </td><td>None, or less than 1 day per week                                                                         </td><td>Federal government                                                                                        </td><td>No                                                                                                        </td></tr>\n",
       "\t<tr><td>1050                                                                                                      </td><td>Russia                                                                                                    </td><td> 4                                                                                                        </td><td>Full time employee                                                                                        </td><td>Developer: App code (C#, JS, etc)                                                                         </td><td>No                                                                                                        </td><td> 4                                                                                                        </td><td>More than 5                                                                                               </td><td>  4                                                                                                       </td><td>Bachelors (4 years)                                                                                       </td><td>Yes                                                                                                       </td><td>No, I never have                                                                                          </td><td>40                                                                                                        </td><td>None, or less than 1 day per week                                                                         </td><td>Private business                                                                                          </td><td>No                                                                                                        </td></tr>\n",
       "\t<tr><td> 545                                                                                                      </td><td>India                                                                                                     </td><td> 2                                                                                                        </td><td>Full time employee                                                                                        </td><td>DBA                                                                                                       </td><td>No                                                                                                        </td><td> 2                                                                                                        </td><td>3                                                                                                         </td><td>600                                                                                                       </td><td>Bachelors (4 years)                                                                                       </td><td>Yes                                                                                                       </td><td>No, I never have                                                                                          </td><td>40                                                                                                        </td><td>None, or less than 1 day per week                                                                         </td><td>Private business                                                                                          </td><td>Yes, but only passively (just curious)                                                                    </td></tr>\n",
       "\t<tr><td> 430                                                                                                      </td><td>India                                                                                                     </td><td> 3                                                                                                        </td><td>Full time employee                                                                                        </td><td>Developer: T-SQL                                                                                          </td><td>No                                                                                                        </td><td> 3                                                                                                        </td><td>None                                                                                                      </td><td>  5                                                                                                       </td><td>Bachelors (4 years)                                                                                       </td><td>No                                                                                                        </td><td>No, I never have                                                                                          </td><td> 8                                                                                                        </td><td>None, or less than 1 day per week                                                                         </td><td>Private business                                                                                          </td><td>Yes, actively looking for something else                                                                  </td></tr>\n",
       "\t<tr><td> 300                                                                                                      </td><td>Russia                                                                                                    </td><td>12                                                                                                        </td><td>Part time                                                                                                 </td><td>Developer: App code (C#, JS, etc)                                                                         </td><td>No                                                                                                        </td><td>22                                                                                                        </td><td>4                                                                                                         </td><td>  1                                                                                                       </td><td>Doctorate/PhD                                                                                             </td><td>Yes                                                                                                       </td><td>Yes, and they're currently valid                                                                          </td><td>10                                                                                                        </td><td>2                                                                                                         </td><td>State/province government                                                                                 </td><td>Yes, but only passively (just curious)                                                                    </td></tr>\n",
       "\t<tr><td> 130                                                                                                                                                  </td><td>United States                                                                                                                                         </td><td>17                                                                                                                                                    </td><td>Full time employee of a consulting/contracting company                                                                                                </td><td><span style=white-space:pre-wrap>DBA (Production Focus - build &amp; troubleshoot servers, HA/DR)                                              </span></td><td>No                                                                                                                                                    </td><td>17                                                                                                                                                    </td><td>More than 5                                                                                                                                           </td><td>500                                                                                                                                                   </td><td>None (no degree completed)                                                                                                                            </td><td>No                                                                                                                                                    </td><td><span style=white-space:pre-wrap>No, I never have                </span>                                                                              </td><td>50                                                                                                                                                    </td><td><span style=white-space:pre-wrap>3                                </span>                                                                             </td><td><span style=white-space:pre-wrap>Private business         </span>                                                                                     </td><td><span style=white-space:pre-wrap>Yes, but only passively (just curious)  </span>                                                                      </td></tr>\n",
       "\t<tr><td> 112                                                                                                      </td><td>Australia                                                                                                 </td><td>18                                                                                                        </td><td>Full time employee of a consulting/contracting company                                                    </td><td>Developer: App code (C#, JS, etc)                                                                         </td><td>No                                                                                                        </td><td>10                                                                                                        </td><td>None                                                                                                      </td><td> 30                                                                                                       </td><td>Bachelors (4 years)                                                                                       </td><td>Yes                                                                                                       </td><td>Yes, and they're currently valid                                                                          </td><td>40                                                                                                        </td><td>5 or more                                                                                                 </td><td>Private business                                                                                          </td><td>No                                                                                                        </td></tr>\n",
       "\t<tr><td>  92                                                                                                      </td><td>United States                                                                                             </td><td>16                                                                                                        </td><td>Full time employee                                                                                        </td><td>Developer: Business Intelligence (SSRS, PowerBI, etc)                                                     </td><td>Yes                                                                                                       </td><td>16                                                                                                        </td><td>None                                                                                                      </td><td> 20                                                                                                       </td><td>Masters                                                                                                   </td><td>Yes                                                                                                       </td><td>Yes, but they expired                                                                                     </td><td>40                                                                                                        </td><td>None, or less than 1 day per week                                                                         </td><td>Private business                                                                                          </td><td>No                                                                                                        </td></tr>\n",
       "\t<tr><td>  87                                                                                                      </td><td>Denmark                                                                                                   </td><td> 3                                                                                                        </td><td>Full time employee of a consulting/contracting company                                                    </td><td>Developer: Business Intelligence (SSRS, PowerBI, etc)                                                     </td><td>No                                                                                                        </td><td> 3                                                                                                        </td><td>More than 5                                                                                               </td><td>  5                                                                                                       </td><td>Masters                                                                                                   </td><td>No                                                                                                        </td><td>No, I never have                                                                                          </td><td>40                                                                                                        </td><td>3                                                                                                         </td><td>Private business                                                                                          </td><td>Yes, but only passively (just curious)                                                                    </td></tr>\n",
       "\t<tr><td><span style=white-space:pre-wrap>  81</span>                                                                      </td><td><span style=white-space:pre-wrap>Canada       </span>                                                             </td><td>13                                                                                                                </td><td><span style=white-space:pre-wrap>Full time employee                                    </span>                    </td><td>DBA (General - splits time evenly between writing &amp; tuning queries AND building &amp; troubleshooting servers)</td><td>Yes                                                                                                               </td><td>13                                                                                                                </td><td><span style=white-space:pre-wrap>5          </span>                                                               </td><td>100                                                                                                               </td><td>None (no degree completed)                                                                                        </td><td>N/A                                                                                                               </td><td>Yes, and they're currently valid                                                                                  </td><td>40                                                                                                                </td><td>None, or less than 1 day per week                                                                                 </td><td><span style=white-space:pre-wrap>Local government         </span>                                                 </td><td><span style=white-space:pre-wrap>Yes, but only passively (just curious)  </span>                                  </td></tr>\n",
       "\t<tr><td>  58                                                                                                      </td><td>Netherlands                                                                                               </td><td>20                                                                                                        </td><td>Full time employee                                                                                        </td><td>Architect                                                                                                 </td><td>Yes                                                                                                       </td><td>20                                                                                                        </td><td>None                                                                                                      </td><td>  4                                                                                                       </td><td>Bachelors (4 years)                                                                                       </td><td>N/A                                                                                                       </td><td>Yes, but they expired                                                                                     </td><td>40                                                                                                        </td><td>None, or less than 1 day per week                                                                         </td><td>Private business                                                                                          </td><td>Yes, but only passively (just curious)                                                                    </td></tr>\n",
       "</tbody>\n",
       "</table>\n"
      ],
      "text/latex": [
       "\\begin{tabular}{r|llllllllllllllll}\n",
       " SalaryUSD & Country & YearsWithThisDatabase & EmploymentStatus & JobTitle & ManageStaff & YearsWithThisTypeOfJob & OtherPeopleOnYourTeam & DatabaseServers & Education & EducationIsComputerRelated & Certifications & HoursWorkedPerWeek & TelecommuteDaysPerWeek & EmploymentSector & LookingForAnotherJob\\\\\n",
       "\\hline\n",
       "\t 4423                                                                                                       & India                                                                                                      &  2                                                                                                         & Full time employee of a consulting/contracting company                                                     & DBA                                                                                                        & Yes                                                                                                        &  2                                                                                                         & More than 5                                                                                                &  98                                                                                                        & Bachelors (4 years)                                                                                        & Yes                                                                                                        & No, I never have                                                                                           & 54                                                                                                         & None, or less than 1 day per week                                                                          & Private business                                                                                           & No                                                                                                        \\\\\n",
       "\t 4420                                                                                                       & India                                                                                                      &  1                                                                                                         & Full time employee                                                                                         & DBA                                                                                                        & No                                                                                                         &  1                                                                                                         & 2                                                                                                          & 700                                                                                                        & Bachelors (4 years)                                                                                        & Yes                                                                                                        & No, I never have                                                                                           & 30                                                                                                         & None, or less than 1 day per week                                                                          & Private business                                                                                           & Yes, actively looking for something else                                                                  \\\\\n",
       "\t 4118                                                                                                       & India                                                                                                      &  3                                                                                                         & Full time employee                                                                                         & DBA                                                                                                        & No                                                                                                         &  2                                                                                                         & 4                                                                                                          &  50                                                                                                        & Bachelors (4 years)                                                                                        & Yes                                                                                                        & No, I never have                                                                                           & 48                                                                                                         & None, or less than 1 day per week                                                                          & Private business                                                                                           & Yes, actively looking for something else                                                                  \\\\\n",
       "\t 4000                                                                                                       & South Africa                                                                                               & 21                                                                                                         & Full time employee                                                                                         & Developer: T-SQL                                                                                           & No                                                                                                         &  3                                                                                                         & 1                                                                                                          &   4                                                                                                        & None (no degree completed)                                                                                 & N/A                                                                                                        & No, I never have                                                                                           & 55                                                                                                         & 5 or more                                                                                                  & Private business                                                                                           & Yes, actively looking for something else                                                                  \\\\\n",
       "\t 3900                                                                                                       & India                                                                                                      &  2                                                                                                         & Full time employee                                                                                         & DBA                                                                                                        & No                                                                                                         &  2                                                                                                         & 2                                                                                                          &  30                                                                                                        & Bachelors (4 years)                                                                                        & Yes                                                                                                        & No, I never have                                                                                           & 45                                                                                                         & None, or less than 1 day per week                                                                          & Private business                                                                                           & Yes, actively looking for something else                                                                  \\\\\n",
       "\t 3580                                                                                                       & Romania                                                                                                    &  6                                                                                                         & Full time employee                                                                                         & DBA (Development Focus - tunes queries, indexes, does deployments)                                         & No                                                                                                         &  2                                                                                                         & 2                                                                                                          &  50                                                                                                        & Masters                                                                                                    & Yes                                                                                                        & No, I never have                                                                                           & 40                                                                                                         & None, or less than 1 day per week                                                                          & Private business                                                                                           & Yes, but only passively (just curious)                                                                    \\\\\n",
       "\t 3000                                                                                                       & India                                                                                                      &  3                                                                                                         & Full time employee                                                                                         & Developer: T-SQL                                                                                           & No                                                                                                         &  5                                                                                                         & More than 5                                                                                                &   5                                                                                                        & None (no degree completed)                                                                                 & No                                                                                                         & Yes, but they expired                                                                                      & 40                                                                                                         & None, or less than 1 day per week                                                                          & Private business                                                                                           & Yes, but only passively (just curious)                                                                    \\\\\n",
       "\t 2246                                                                                                       & India                                                                                                      &  2                                                                                                         & Full time employee                                                                                         & Developer: Business Intelligence (SSRS, PowerBI, etc)                                                      & Yes                                                                                                        &  2                                                                                                         & 4                                                                                                          &   2                                                                                                        & Masters                                                                                                    & Yes                                                                                                        & No, I never have                                                                                           & 40                                                                                                         & None, or less than 1 day per week                                                                          & Private business                                                                                           & Yes, actively looking for something else                                                                  \\\\\n",
       "\t 2000                                                                                                       & Poland                                                                                                     &  7                                                                                                         & Full time employee                                                                                         & DBA                                                                                                        & No                                                                                                         &  1                                                                                                         & 4                                                                                                          &  15                                                                                                        & Masters                                                                                                    & Yes                                                                                                        & Yes, but they expired                                                                                      & 40                                                                                                         & 5 or more                                                                                                  & Private business                                                                                           & No                                                                                                        \\\\\n",
       "\t 2000                                                                                                           & South Africa                                                                                                   & 20                                                                                                             & Full time employee                                                                                             & DBA (General - splits time evenly between writing \\& tuning queries AND building \\& troubleshooting servers) & No                                                                                                             &  4                                                                                                             & None                                                                                                           &  50                                                                                                            & Associates (2 years)                                                                                           & Yes                                                                                                            & Yes, and they're currently valid                                                                               & 50                                                                                                             & 2                                                                                                              & Private business                                                                                               & Yes, but only passively (just curious)                                                                        \\\\\n",
       "\t 1600                                                                                                       & India                                                                                                      &  6                                                                                                         & Full time employee                                                                                         & DBA                                                                                                        & Yes                                                                                                        &  6                                                                                                         & More than 5                                                                                                &   4                                                                                                        & Masters                                                                                                    & No                                                                                                         & Yes, and they're currently valid                                                                           & 45                                                                                                         & None, or less than 1 day per week                                                                          & Private business                                                                                           & Yes, but only passively (just curious)                                                                    \\\\\n",
       "\t 1467                                                                                                         & South Africa                                                                                                 &  4                                                                                                           & Full time employee                                                                                           & Developer: App code (C\\#, JS, etc)                                                                          & No                                                                                                           &  2                                                                                                           & 2                                                                                                            &   4                                                                                                          & Associates (2 years)                                                                                         & Yes                                                                                                          & Yes, but they expired                                                                                        & 40                                                                                                           & None, or less than 1 day per week                                                                            & Private business                                                                                             & Yes, but only passively (just curious)                                                                      \\\\\n",
       "\t 1200                                                                                                       & India                                                                                                      &  2                                                                                                         & Full time employee                                                                                         & DBA                                                                                                        & No                                                                                                         &  5                                                                                                         & 2                                                                                                          & 350                                                                                                        & Associates (2 years)                                                                                       & No                                                                                                         & No, I never have                                                                                           & 45                                                                                                         & None, or less than 1 day per week                                                                          & Private business                                                                                           & No                                                                                                        \\\\\n",
       "\t 1100                                                                                                         & Russia                                                                                                       &  2                                                                                                           & Full time employee                                                                                           & Developer: App code (C\\#, JS, etc)                                                                          & No                                                                                                           &  0                                                                                                           & 1                                                                                                            &   1                                                                                                          & Masters                                                                                                      & Yes                                                                                                          & No, I never have                                                                                             & 38                                                                                                           & None, or less than 1 day per week                                                                            & Federal government                                                                                           & No                                                                                                          \\\\\n",
       "\t 1050                                                                                                         & Russia                                                                                                       &  4                                                                                                           & Full time employee                                                                                           & Developer: App code (C\\#, JS, etc)                                                                          & No                                                                                                           &  4                                                                                                           & More than 5                                                                                                  &   4                                                                                                          & Bachelors (4 years)                                                                                          & Yes                                                                                                          & No, I never have                                                                                             & 40                                                                                                           & None, or less than 1 day per week                                                                            & Private business                                                                                             & No                                                                                                          \\\\\n",
       "\t  545                                                                                                       & India                                                                                                      &  2                                                                                                         & Full time employee                                                                                         & DBA                                                                                                        & No                                                                                                         &  2                                                                                                         & 3                                                                                                          & 600                                                                                                        & Bachelors (4 years)                                                                                        & Yes                                                                                                        & No, I never have                                                                                           & 40                                                                                                         & None, or less than 1 day per week                                                                          & Private business                                                                                           & Yes, but only passively (just curious)                                                                    \\\\\n",
       "\t  430                                                                                                       & India                                                                                                      &  3                                                                                                         & Full time employee                                                                                         & Developer: T-SQL                                                                                           & No                                                                                                         &  3                                                                                                         & None                                                                                                       &   5                                                                                                        & Bachelors (4 years)                                                                                        & No                                                                                                         & No, I never have                                                                                           &  8                                                                                                         & None, or less than 1 day per week                                                                          & Private business                                                                                           & Yes, actively looking for something else                                                                  \\\\\n",
       "\t  300                                                                                                         & Russia                                                                                                       & 12                                                                                                           & Part time                                                                                                    & Developer: App code (C\\#, JS, etc)                                                                          & No                                                                                                           & 22                                                                                                           & 4                                                                                                            &   1                                                                                                          & Doctorate/PhD                                                                                                & Yes                                                                                                          & Yes, and they're currently valid                                                                             & 10                                                                                                           & 2                                                                                                            & State/province government                                                                                    & Yes, but only passively (just curious)                                                                      \\\\\n",
       "\t  130                                                                                                         & United States                                                                                                & 17                                                                                                           & Full time employee of a consulting/contracting company                                                       & DBA (Production Focus - build \\& troubleshoot servers, HA/DR)                                               & No                                                                                                           & 17                                                                                                           & More than 5                                                                                                  & 500                                                                                                          & None (no degree completed)                                                                                   & No                                                                                                           & No, I never have                                                                                             & 50                                                                                                           & 3                                                                                                            & Private business                                                                                             & Yes, but only passively (just curious)                                                                      \\\\\n",
       "\t  112                                                                                                         & Australia                                                                                                    & 18                                                                                                           & Full time employee of a consulting/contracting company                                                       & Developer: App code (C\\#, JS, etc)                                                                          & No                                                                                                           & 10                                                                                                           & None                                                                                                         &  30                                                                                                          & Bachelors (4 years)                                                                                          & Yes                                                                                                          & Yes, and they're currently valid                                                                             & 40                                                                                                           & 5 or more                                                                                                    & Private business                                                                                             & No                                                                                                          \\\\\n",
       "\t   92                                                                                                       & United States                                                                                              & 16                                                                                                         & Full time employee                                                                                         & Developer: Business Intelligence (SSRS, PowerBI, etc)                                                      & Yes                                                                                                        & 16                                                                                                         & None                                                                                                       &  20                                                                                                        & Masters                                                                                                    & Yes                                                                                                        & Yes, but they expired                                                                                      & 40                                                                                                         & None, or less than 1 day per week                                                                          & Private business                                                                                           & No                                                                                                        \\\\\n",
       "\t   87                                                                                                       & Denmark                                                                                                    &  3                                                                                                         & Full time employee of a consulting/contracting company                                                     & Developer: Business Intelligence (SSRS, PowerBI, etc)                                                      & No                                                                                                         &  3                                                                                                         & More than 5                                                                                                &   5                                                                                                        & Masters                                                                                                    & No                                                                                                         & No, I never have                                                                                           & 40                                                                                                         & 3                                                                                                          & Private business                                                                                           & Yes, but only passively (just curious)                                                                    \\\\\n",
       "\t   81                                                                                                           & Canada                                                                                                         & 13                                                                                                             & Full time employee                                                                                             & DBA (General - splits time evenly between writing \\& tuning queries AND building \\& troubleshooting servers) & Yes                                                                                                            & 13                                                                                                             & 5                                                                                                              & 100                                                                                                            & None (no degree completed)                                                                                     & N/A                                                                                                            & Yes, and they're currently valid                                                                               & 40                                                                                                             & None, or less than 1 day per week                                                                              & Local government                                                                                               & Yes, but only passively (just curious)                                                                        \\\\\n",
       "\t   58                                                                                                       & Netherlands                                                                                                & 20                                                                                                         & Full time employee                                                                                         & Architect                                                                                                  & Yes                                                                                                        & 20                                                                                                         & None                                                                                                       &   4                                                                                                        & Bachelors (4 years)                                                                                        & N/A                                                                                                        & Yes, but they expired                                                                                      & 40                                                                                                         & None, or less than 1 day per week                                                                          & Private business                                                                                           & Yes, but only passively (just curious)                                                                    \\\\\n",
       "\\end{tabular}\n"
      ],
      "text/markdown": [
       "\n",
       "SalaryUSD | Country | YearsWithThisDatabase | EmploymentStatus | JobTitle | ManageStaff | YearsWithThisTypeOfJob | OtherPeopleOnYourTeam | DatabaseServers | Education | EducationIsComputerRelated | Certifications | HoursWorkedPerWeek | TelecommuteDaysPerWeek | EmploymentSector | LookingForAnotherJob | \n",
       "|---|---|---|---|---|---|---|---|---|---|---|---|---|---|---|---|---|---|---|---|---|---|---|---|\n",
       "| 4423                                                                                                       | India                                                                                                      |  2                                                                                                         | Full time employee of a consulting/contracting company                                                     | DBA                                                                                                        | Yes                                                                                                        |  2                                                                                                         | More than 5                                                                                                |  98                                                                                                        | Bachelors (4 years)                                                                                        | Yes                                                                                                        | No, I never have                                                                                           | 54                                                                                                         | None, or less than 1 day per week                                                                          | Private business                                                                                           | No                                                                                                         | \n",
       "| 4420                                                                                                       | India                                                                                                      |  1                                                                                                         | Full time employee                                                                                         | DBA                                                                                                        | No                                                                                                         |  1                                                                                                         | 2                                                                                                          | 700                                                                                                        | Bachelors (4 years)                                                                                        | Yes                                                                                                        | No, I never have                                                                                           | 30                                                                                                         | None, or less than 1 day per week                                                                          | Private business                                                                                           | Yes, actively looking for something else                                                                   | \n",
       "| 4118                                                                                                       | India                                                                                                      |  3                                                                                                         | Full time employee                                                                                         | DBA                                                                                                        | No                                                                                                         |  2                                                                                                         | 4                                                                                                          |  50                                                                                                        | Bachelors (4 years)                                                                                        | Yes                                                                                                        | No, I never have                                                                                           | 48                                                                                                         | None, or less than 1 day per week                                                                          | Private business                                                                                           | Yes, actively looking for something else                                                                   | \n",
       "| 4000                                                                                                       | South Africa                                                                                               | 21                                                                                                         | Full time employee                                                                                         | Developer: T-SQL                                                                                           | No                                                                                                         |  3                                                                                                         | 1                                                                                                          |   4                                                                                                        | None (no degree completed)                                                                                 | N/A                                                                                                        | No, I never have                                                                                           | 55                                                                                                         | 5 or more                                                                                                  | Private business                                                                                           | Yes, actively looking for something else                                                                   | \n",
       "| 3900                                                                                                       | India                                                                                                      |  2                                                                                                         | Full time employee                                                                                         | DBA                                                                                                        | No                                                                                                         |  2                                                                                                         | 2                                                                                                          |  30                                                                                                        | Bachelors (4 years)                                                                                        | Yes                                                                                                        | No, I never have                                                                                           | 45                                                                                                         | None, or less than 1 day per week                                                                          | Private business                                                                                           | Yes, actively looking for something else                                                                   | \n",
       "| 3580                                                                                                       | Romania                                                                                                    |  6                                                                                                         | Full time employee                                                                                         | DBA (Development Focus - tunes queries, indexes, does deployments)                                         | No                                                                                                         |  2                                                                                                         | 2                                                                                                          |  50                                                                                                        | Masters                                                                                                    | Yes                                                                                                        | No, I never have                                                                                           | 40                                                                                                         | None, or less than 1 day per week                                                                          | Private business                                                                                           | Yes, but only passively (just curious)                                                                     | \n",
       "| 3000                                                                                                       | India                                                                                                      |  3                                                                                                         | Full time employee                                                                                         | Developer: T-SQL                                                                                           | No                                                                                                         |  5                                                                                                         | More than 5                                                                                                |   5                                                                                                        | None (no degree completed)                                                                                 | No                                                                                                         | Yes, but they expired                                                                                      | 40                                                                                                         | None, or less than 1 day per week                                                                          | Private business                                                                                           | Yes, but only passively (just curious)                                                                     | \n",
       "| 2246                                                                                                       | India                                                                                                      |  2                                                                                                         | Full time employee                                                                                         | Developer: Business Intelligence (SSRS, PowerBI, etc)                                                      | Yes                                                                                                        |  2                                                                                                         | 4                                                                                                          |   2                                                                                                        | Masters                                                                                                    | Yes                                                                                                        | No, I never have                                                                                           | 40                                                                                                         | None, or less than 1 day per week                                                                          | Private business                                                                                           | Yes, actively looking for something else                                                                   | \n",
       "| 2000                                                                                                       | Poland                                                                                                     |  7                                                                                                         | Full time employee                                                                                         | DBA                                                                                                        | No                                                                                                         |  1                                                                                                         | 4                                                                                                          |  15                                                                                                        | Masters                                                                                                    | Yes                                                                                                        | Yes, but they expired                                                                                      | 40                                                                                                         | 5 or more                                                                                                  | Private business                                                                                           | No                                                                                                         | \n",
       "| 2000                                                                                                       | South Africa                                                                                               | 20                                                                                                         | Full time employee                                                                                         | DBA (General - splits time evenly between writing & tuning queries AND building & troubleshooting servers) | No                                                                                                         |  4                                                                                                         | None                                                                                                       |  50                                                                                                        | Associates (2 years)                                                                                       | Yes                                                                                                        | Yes, and they're currently valid                                                                           | 50                                                                                                         | 2                                                                                                          | Private business                                                                                           | Yes, but only passively (just curious)                                                                     | \n",
       "| 1600                                                                                                       | India                                                                                                      |  6                                                                                                         | Full time employee                                                                                         | DBA                                                                                                        | Yes                                                                                                        |  6                                                                                                         | More than 5                                                                                                |   4                                                                                                        | Masters                                                                                                    | No                                                                                                         | Yes, and they're currently valid                                                                           | 45                                                                                                         | None, or less than 1 day per week                                                                          | Private business                                                                                           | Yes, but only passively (just curious)                                                                     | \n",
       "| 1467                                                                                                       | South Africa                                                                                               |  4                                                                                                         | Full time employee                                                                                         | Developer: App code (C#, JS, etc)                                                                          | No                                                                                                         |  2                                                                                                         | 2                                                                                                          |   4                                                                                                        | Associates (2 years)                                                                                       | Yes                                                                                                        | Yes, but they expired                                                                                      | 40                                                                                                         | None, or less than 1 day per week                                                                          | Private business                                                                                           | Yes, but only passively (just curious)                                                                     | \n",
       "| 1200                                                                                                       | India                                                                                                      |  2                                                                                                         | Full time employee                                                                                         | DBA                                                                                                        | No                                                                                                         |  5                                                                                                         | 2                                                                                                          | 350                                                                                                        | Associates (2 years)                                                                                       | No                                                                                                         | No, I never have                                                                                           | 45                                                                                                         | None, or less than 1 day per week                                                                          | Private business                                                                                           | No                                                                                                         | \n",
       "| 1100                                                                                                       | Russia                                                                                                     |  2                                                                                                         | Full time employee                                                                                         | Developer: App code (C#, JS, etc)                                                                          | No                                                                                                         |  0                                                                                                         | 1                                                                                                          |   1                                                                                                        | Masters                                                                                                    | Yes                                                                                                        | No, I never have                                                                                           | 38                                                                                                         | None, or less than 1 day per week                                                                          | Federal government                                                                                         | No                                                                                                         | \n",
       "| 1050                                                                                                       | Russia                                                                                                     |  4                                                                                                         | Full time employee                                                                                         | Developer: App code (C#, JS, etc)                                                                          | No                                                                                                         |  4                                                                                                         | More than 5                                                                                                |   4                                                                                                        | Bachelors (4 years)                                                                                        | Yes                                                                                                        | No, I never have                                                                                           | 40                                                                                                         | None, or less than 1 day per week                                                                          | Private business                                                                                           | No                                                                                                         | \n",
       "|  545                                                                                                       | India                                                                                                      |  2                                                                                                         | Full time employee                                                                                         | DBA                                                                                                        | No                                                                                                         |  2                                                                                                         | 3                                                                                                          | 600                                                                                                        | Bachelors (4 years)                                                                                        | Yes                                                                                                        | No, I never have                                                                                           | 40                                                                                                         | None, or less than 1 day per week                                                                          | Private business                                                                                           | Yes, but only passively (just curious)                                                                     | \n",
       "|  430                                                                                                       | India                                                                                                      |  3                                                                                                         | Full time employee                                                                                         | Developer: T-SQL                                                                                           | No                                                                                                         |  3                                                                                                         | None                                                                                                       |   5                                                                                                        | Bachelors (4 years)                                                                                        | No                                                                                                         | No, I never have                                                                                           |  8                                                                                                         | None, or less than 1 day per week                                                                          | Private business                                                                                           | Yes, actively looking for something else                                                                   | \n",
       "|  300                                                                                                       | Russia                                                                                                     | 12                                                                                                         | Part time                                                                                                  | Developer: App code (C#, JS, etc)                                                                          | No                                                                                                         | 22                                                                                                         | 4                                                                                                          |   1                                                                                                        | Doctorate/PhD                                                                                              | Yes                                                                                                        | Yes, and they're currently valid                                                                           | 10                                                                                                         | 2                                                                                                          | State/province government                                                                                  | Yes, but only passively (just curious)                                                                     | \n",
       "|  130                                                                                                       | United States                                                                                              | 17                                                                                                         | Full time employee of a consulting/contracting company                                                     | DBA (Production Focus - build & troubleshoot servers, HA/DR)                                               | No                                                                                                         | 17                                                                                                         | More than 5                                                                                                | 500                                                                                                        | None (no degree completed)                                                                                 | No                                                                                                         | No, I never have                                                                                           | 50                                                                                                         | 3                                                                                                          | Private business                                                                                           | Yes, but only passively (just curious)                                                                     | \n",
       "|  112                                                                                                       | Australia                                                                                                  | 18                                                                                                         | Full time employee of a consulting/contracting company                                                     | Developer: App code (C#, JS, etc)                                                                          | No                                                                                                         | 10                                                                                                         | None                                                                                                       |  30                                                                                                        | Bachelors (4 years)                                                                                        | Yes                                                                                                        | Yes, and they're currently valid                                                                           | 40                                                                                                         | 5 or more                                                                                                  | Private business                                                                                           | No                                                                                                         | \n",
       "|   92                                                                                                       | United States                                                                                              | 16                                                                                                         | Full time employee                                                                                         | Developer: Business Intelligence (SSRS, PowerBI, etc)                                                      | Yes                                                                                                        | 16                                                                                                         | None                                                                                                       |  20                                                                                                        | Masters                                                                                                    | Yes                                                                                                        | Yes, but they expired                                                                                      | 40                                                                                                         | None, or less than 1 day per week                                                                          | Private business                                                                                           | No                                                                                                         | \n",
       "|   87                                                                                                       | Denmark                                                                                                    |  3                                                                                                         | Full time employee of a consulting/contracting company                                                     | Developer: Business Intelligence (SSRS, PowerBI, etc)                                                      | No                                                                                                         |  3                                                                                                         | More than 5                                                                                                |   5                                                                                                        | Masters                                                                                                    | No                                                                                                         | No, I never have                                                                                           | 40                                                                                                         | 3                                                                                                          | Private business                                                                                           | Yes, but only passively (just curious)                                                                     | \n",
       "|   81                                                                                                       | Canada                                                                                                     | 13                                                                                                         | Full time employee                                                                                         | DBA (General - splits time evenly between writing & tuning queries AND building & troubleshooting servers) | Yes                                                                                                        | 13                                                                                                         | 5                                                                                                          | 100                                                                                                        | None (no degree completed)                                                                                 | N/A                                                                                                        | Yes, and they're currently valid                                                                           | 40                                                                                                         | None, or less than 1 day per week                                                                          | Local government                                                                                           | Yes, but only passively (just curious)                                                                     | \n",
       "|   58                                                                                                       | Netherlands                                                                                                | 20                                                                                                         | Full time employee                                                                                         | Architect                                                                                                  | Yes                                                                                                        | 20                                                                                                         | None                                                                                                       |   4                                                                                                        | Bachelors (4 years)                                                                                        | N/A                                                                                                        | Yes, but they expired                                                                                      | 40                                                                                                         | None, or less than 1 day per week                                                                          | Private business                                                                                           | Yes, but only passively (just curious)                                                                     | \n",
       "\n",
       "\n"
      ],
      "text/plain": [
       "   SalaryUSD Country       YearsWithThisDatabase\n",
       "1  4423      India          2                   \n",
       "2  4420      India          1                   \n",
       "3  4118      India          3                   \n",
       "4  4000      South Africa  21                   \n",
       "5  3900      India          2                   \n",
       "6  3580      Romania        6                   \n",
       "7  3000      India          3                   \n",
       "8  2246      India          2                   \n",
       "9  2000      Poland         7                   \n",
       "10 2000      South Africa  20                   \n",
       "11 1600      India          6                   \n",
       "12 1467      South Africa   4                   \n",
       "13 1200      India          2                   \n",
       "14 1100      Russia         2                   \n",
       "15 1050      Russia         4                   \n",
       "16  545      India          2                   \n",
       "17  430      India          3                   \n",
       "18  300      Russia        12                   \n",
       "19  130      United States 17                   \n",
       "20  112      Australia     18                   \n",
       "21   92      United States 16                   \n",
       "22   87      Denmark        3                   \n",
       "23   81      Canada        13                   \n",
       "24   58      Netherlands   20                   \n",
       "   EmploymentStatus                                      \n",
       "1  Full time employee of a consulting/contracting company\n",
       "2  Full time employee                                    \n",
       "3  Full time employee                                    \n",
       "4  Full time employee                                    \n",
       "5  Full time employee                                    \n",
       "6  Full time employee                                    \n",
       "7  Full time employee                                    \n",
       "8  Full time employee                                    \n",
       "9  Full time employee                                    \n",
       "10 Full time employee                                    \n",
       "11 Full time employee                                    \n",
       "12 Full time employee                                    \n",
       "13 Full time employee                                    \n",
       "14 Full time employee                                    \n",
       "15 Full time employee                                    \n",
       "16 Full time employee                                    \n",
       "17 Full time employee                                    \n",
       "18 Part time                                             \n",
       "19 Full time employee of a consulting/contracting company\n",
       "20 Full time employee of a consulting/contracting company\n",
       "21 Full time employee                                    \n",
       "22 Full time employee of a consulting/contracting company\n",
       "23 Full time employee                                    \n",
       "24 Full time employee                                    \n",
       "   JobTitle                                                                                                  \n",
       "1  DBA                                                                                                       \n",
       "2  DBA                                                                                                       \n",
       "3  DBA                                                                                                       \n",
       "4  Developer: T-SQL                                                                                          \n",
       "5  DBA                                                                                                       \n",
       "6  DBA (Development Focus - tunes queries, indexes, does deployments)                                        \n",
       "7  Developer: T-SQL                                                                                          \n",
       "8  Developer: Business Intelligence (SSRS, PowerBI, etc)                                                     \n",
       "9  DBA                                                                                                       \n",
       "10 DBA (General - splits time evenly between writing & tuning queries AND building & troubleshooting servers)\n",
       "11 DBA                                                                                                       \n",
       "12 Developer: App code (C#, JS, etc)                                                                         \n",
       "13 DBA                                                                                                       \n",
       "14 Developer: App code (C#, JS, etc)                                                                         \n",
       "15 Developer: App code (C#, JS, etc)                                                                         \n",
       "16 DBA                                                                                                       \n",
       "17 Developer: T-SQL                                                                                          \n",
       "18 Developer: App code (C#, JS, etc)                                                                         \n",
       "19 DBA (Production Focus - build & troubleshoot servers, HA/DR)                                              \n",
       "20 Developer: App code (C#, JS, etc)                                                                         \n",
       "21 Developer: Business Intelligence (SSRS, PowerBI, etc)                                                     \n",
       "22 Developer: Business Intelligence (SSRS, PowerBI, etc)                                                     \n",
       "23 DBA (General - splits time evenly between writing & tuning queries AND building & troubleshooting servers)\n",
       "24 Architect                                                                                                 \n",
       "   ManageStaff YearsWithThisTypeOfJob OtherPeopleOnYourTeam DatabaseServers\n",
       "1  Yes          2                     More than 5            98            \n",
       "2  No           1                     2                     700            \n",
       "3  No           2                     4                      50            \n",
       "4  No           3                     1                       4            \n",
       "5  No           2                     2                      30            \n",
       "6  No           2                     2                      50            \n",
       "7  No           5                     More than 5             5            \n",
       "8  Yes          2                     4                       2            \n",
       "9  No           1                     4                      15            \n",
       "10 No           4                     None                   50            \n",
       "11 Yes          6                     More than 5             4            \n",
       "12 No           2                     2                       4            \n",
       "13 No           5                     2                     350            \n",
       "14 No           0                     1                       1            \n",
       "15 No           4                     More than 5             4            \n",
       "16 No           2                     3                     600            \n",
       "17 No           3                     None                    5            \n",
       "18 No          22                     4                       1            \n",
       "19 No          17                     More than 5           500            \n",
       "20 No          10                     None                   30            \n",
       "21 Yes         16                     None                   20            \n",
       "22 No           3                     More than 5             5            \n",
       "23 Yes         13                     5                     100            \n",
       "24 Yes         20                     None                    4            \n",
       "   Education                  EducationIsComputerRelated\n",
       "1  Bachelors (4 years)        Yes                       \n",
       "2  Bachelors (4 years)        Yes                       \n",
       "3  Bachelors (4 years)        Yes                       \n",
       "4  None (no degree completed) N/A                       \n",
       "5  Bachelors (4 years)        Yes                       \n",
       "6  Masters                    Yes                       \n",
       "7  None (no degree completed) No                        \n",
       "8  Masters                    Yes                       \n",
       "9  Masters                    Yes                       \n",
       "10 Associates (2 years)       Yes                       \n",
       "11 Masters                    No                        \n",
       "12 Associates (2 years)       Yes                       \n",
       "13 Associates (2 years)       No                        \n",
       "14 Masters                    Yes                       \n",
       "15 Bachelors (4 years)        Yes                       \n",
       "16 Bachelors (4 years)        Yes                       \n",
       "17 Bachelors (4 years)        No                        \n",
       "18 Doctorate/PhD              Yes                       \n",
       "19 None (no degree completed) No                        \n",
       "20 Bachelors (4 years)        Yes                       \n",
       "21 Masters                    Yes                       \n",
       "22 Masters                    No                        \n",
       "23 None (no degree completed) N/A                       \n",
       "24 Bachelors (4 years)        N/A                       \n",
       "   Certifications                   HoursWorkedPerWeek\n",
       "1  No, I never have                 54                \n",
       "2  No, I never have                 30                \n",
       "3  No, I never have                 48                \n",
       "4  No, I never have                 55                \n",
       "5  No, I never have                 45                \n",
       "6  No, I never have                 40                \n",
       "7  Yes, but they expired            40                \n",
       "8  No, I never have                 40                \n",
       "9  Yes, but they expired            40                \n",
       "10 Yes, and they're currently valid 50                \n",
       "11 Yes, and they're currently valid 45                \n",
       "12 Yes, but they expired            40                \n",
       "13 No, I never have                 45                \n",
       "14 No, I never have                 38                \n",
       "15 No, I never have                 40                \n",
       "16 No, I never have                 40                \n",
       "17 No, I never have                  8                \n",
       "18 Yes, and they're currently valid 10                \n",
       "19 No, I never have                 50                \n",
       "20 Yes, and they're currently valid 40                \n",
       "21 Yes, but they expired            40                \n",
       "22 No, I never have                 40                \n",
       "23 Yes, and they're currently valid 40                \n",
       "24 Yes, but they expired            40                \n",
       "   TelecommuteDaysPerWeek            EmploymentSector         \n",
       "1  None, or less than 1 day per week Private business         \n",
       "2  None, or less than 1 day per week Private business         \n",
       "3  None, or less than 1 day per week Private business         \n",
       "4  5 or more                         Private business         \n",
       "5  None, or less than 1 day per week Private business         \n",
       "6  None, or less than 1 day per week Private business         \n",
       "7  None, or less than 1 day per week Private business         \n",
       "8  None, or less than 1 day per week Private business         \n",
       "9  5 or more                         Private business         \n",
       "10 2                                 Private business         \n",
       "11 None, or less than 1 day per week Private business         \n",
       "12 None, or less than 1 day per week Private business         \n",
       "13 None, or less than 1 day per week Private business         \n",
       "14 None, or less than 1 day per week Federal government       \n",
       "15 None, or less than 1 day per week Private business         \n",
       "16 None, or less than 1 day per week Private business         \n",
       "17 None, or less than 1 day per week Private business         \n",
       "18 2                                 State/province government\n",
       "19 3                                 Private business         \n",
       "20 5 or more                         Private business         \n",
       "21 None, or less than 1 day per week Private business         \n",
       "22 3                                 Private business         \n",
       "23 None, or less than 1 day per week Local government         \n",
       "24 None, or less than 1 day per week Private business         \n",
       "   LookingForAnotherJob                    \n",
       "1  No                                      \n",
       "2  Yes, actively looking for something else\n",
       "3  Yes, actively looking for something else\n",
       "4  Yes, actively looking for something else\n",
       "5  Yes, actively looking for something else\n",
       "6  Yes, but only passively (just curious)  \n",
       "7  Yes, but only passively (just curious)  \n",
       "8  Yes, actively looking for something else\n",
       "9  No                                      \n",
       "10 Yes, but only passively (just curious)  \n",
       "11 Yes, but only passively (just curious)  \n",
       "12 Yes, but only passively (just curious)  \n",
       "13 No                                      \n",
       "14 No                                      \n",
       "15 No                                      \n",
       "16 Yes, but only passively (just curious)  \n",
       "17 Yes, actively looking for something else\n",
       "18 Yes, but only passively (just curious)  \n",
       "19 Yes, but only passively (just curious)  \n",
       "20 No                                      \n",
       "21 No                                      \n",
       "22 Yes, but only passively (just curious)  \n",
       "23 Yes, but only passively (just curious)  \n",
       "24 Yes, but only passively (just curious)  "
      ]
     },
     "metadata": {},
     "output_type": "display_data"
    }
   ],
   "source": [
    "survey_data %>%\n",
    "  filter(SalaryUSD < 5000) %>%\n",
    "  arrange(desc(SalaryUSD))"
   ]
  },
  {
   "cell_type": "code",
   "execution_count": 20,
   "metadata": {},
   "outputs": [],
   "source": [
    "survey_data <- filter(survey_data, SalaryUSD >= 5000 & SalaryUSD <= 500000)"
   ]
  },
  {
   "cell_type": "markdown",
   "metadata": {},
   "source": [
    "### Data Analysis\n",
    "\n",
    "We did some of the data analysis up above.  We can do additional visualization and correlation studies.  For example, let's look at a quick distribution of salaries after our cleanup work:"
   ]
  },
  {
   "cell_type": "code",
   "execution_count": 21,
   "metadata": {},
   "outputs": [
    {
     "data": {
      "text/plain": [
       "   Min. 1st Qu.  Median    Mean 3rd Qu.    Max. \n",
       "   5000   68000   92000   94198  115000  500000 "
      ]
     },
     "metadata": {},
     "output_type": "display_data"
    }
   ],
   "source": [
    "summary(survey_data$SalaryUSD)"
   ]
  },
  {
   "cell_type": "markdown",
   "metadata": {},
   "source": [
    "We can also build a histogram pretty easily using the `ggplot2` library.  This shows the big clump of database professionals earning beween \\$70K and \\$115K per year.  This salary distribution does skew right a bit, as you can see."
   ]
  },
  {
   "cell_type": "code",
   "execution_count": 22,
   "metadata": {},
   "outputs": [
    {
     "name": "stderr",
     "output_type": "stream",
     "text": [
      "`stat_bin()` using `bins = 30`. Pick better value with `binwidth`.\n"
     ]
    },
    {
     "data": {},
     "metadata": {},
     "output_type": "display_data"
    },
    {
     "data": {
      "image/png": "[encoded data removed]",
      "text/plain": [
       "plot without title"
      ]
     },
     "metadata": {},
     "output_type": "display_data"
    }
   ],
   "source": [
    "options(repr.plot.width=6, repr.plot.height=4)\n",
    "ggplot(data = survey_data, mapping = aes(x = SalaryUSD)) +\n",
    "  geom_histogram() +\n",
    "  theme_minimal() +\n",
    "  scale_x_log10(label = scales::dollar)"
   ]
  },
  {
   "cell_type": "markdown",
   "metadata": {},
   "source": [
    "We can also break this down to look by primary job title, though I'll limit to a couple of summaries instead of showing a full picture."
   ]
  },
  {
   "cell_type": "code",
   "execution_count": 23,
   "metadata": {},
   "outputs": [
    {
     "data": {
      "text/plain": [
       "   SalaryUSD     \n",
       " Min.   : 45000  \n",
       " 1st Qu.: 73000  \n",
       " Median :116000  \n",
       " Mean   :112222  \n",
       " 3rd Qu.:138500  \n",
       " Max.   :225000  "
      ]
     },
     "metadata": {},
     "output_type": "display_data"
    }
   ],
   "source": [
    "survey_data %>% filter(JobTitle == \"Data Scientist\") %>% select(SalaryUSD) %>% summary(.)"
   ]
  },
  {
   "cell_type": "code",
   "execution_count": 24,
   "metadata": {},
   "outputs": [
    {
     "data": {
      "text/plain": [
       "   SalaryUSD     \n",
       " Min.   : 12600  \n",
       " 1st Qu.: 60813  \n",
       " Median : 83000  \n",
       " Mean   : 84158  \n",
       " 3rd Qu.:104000  \n",
       " Max.   :194000  "
      ]
     },
     "metadata": {},
     "output_type": "display_data"
    }
   ],
   "source": [
    "survey_data %>% filter(JobTitle == \"Developer: App code (C#, JS, etc)\") %>% select(SalaryUSD) %>% summary(.)"
   ]
  },
  {
   "cell_type": "code",
   "execution_count": 25,
   "metadata": {},
   "outputs": [
    {
     "data": {
      "text/plain": [
       "   SalaryUSD     \n",
       " Min.   :  6200  \n",
       " 1st Qu.: 65000  \n",
       " Median : 86000  \n",
       " Mean   : 88678  \n",
       " 3rd Qu.:110000  \n",
       " Max.   :500000  "
      ]
     },
     "metadata": {},
     "output_type": "display_data"
    }
   ],
   "source": [
    "survey_data %>% filter(JobTitle == \"Developer: T-SQL\") %>% select(SalaryUSD) %>% summary(.)"
   ]
  },
  {
   "cell_type": "markdown",
   "metadata": {},
   "source": [
    "This fit pretty well to my biases, with Data Scientist salaries perhaps a bit lower than I'd expect."
   ]
  },
  {
   "cell_type": "markdown",
   "metadata": {},
   "source": [
    "## Modeling\n",
    "\n",
    "Because our question is a \"how much?\" question, we want to use regression to solve the problem.  The most common form of regression that you'll see in demonstrations is linear regression, because it is easy to teach and easy to understand.  In today's demo, however, we're going to build a neural network with Keras.  Although our demo is in R, Keras actually uses Python on the back end to run TensorFlow.  There are other libraries out there which can run neural networks strictly within R (for example, Microsoft Machine Learning's R implemenation has the `RxNeuralNet()` function), but we will use Keras in this demo because it is a popular library.\n",
    "\n",
    "Now that we have an algorithm and implementation in mind, let's split the data out into training and test subsets.  I want to use Country as the partition variable because I want to ensure that we retain some data from each country in the test set.  To make this split, I am using the `createDataPartition()` function in `caret`.  I'll then split out the data into training and test data."
   ]
  },
  {
   "cell_type": "code",
   "execution_count": 26,
   "metadata": {},
   "outputs": [
    {
     "data": {
      "text/html": [
       "4515"
      ],
      "text/latex": [
       "4515"
      ],
      "text/markdown": [
       "4515"
      ],
      "text/plain": [
       "[1] 4515"
      ]
     },
     "metadata": {},
     "output_type": "display_data"
    },
    {
     "data": {
      "text/html": [
       "1925"
      ],
      "text/latex": [
       "1925"
      ],
      "text/markdown": [
       "1925"
      ],
      "text/plain": [
       "[1] 1925"
      ]
     },
     "metadata": {},
     "output_type": "display_data"
    }
   ],
   "source": [
    "trainIndex <- caret::createDataPartition(survey_data$Country, p = 0.7, list = FALSE, times = 1)\n",
    "train_data <- survey_data[trainIndex,]\n",
    "test_data <- survey_data[-trainIndex,]\n",
    "nrow(train_data)\n",
    "nrow(test_data)"
   ]
  },
  {
   "cell_type": "markdown",
   "metadata": {},
   "source": [
    "Once I have this data split, I want to perform some operations on the training data.  Specifically, I want to do the following:\n",
    "* One-Hot Encode the categorical data\n",
    "* Mean-center the data, so that the mean of each numeric value is 0\n",
    "* Scale the data, so that the standard deviation of each value is 1\n",
    "\n",
    "The bottom two are called **normalizing** the data.  This is a valuable technique when dealing with many algorithms, including neural networks, as it helps with optimizing gradient descent problems.\n",
    "\n",
    "In order to perform all of these operations, I will create a `recipe`, using the `recipes` package.\n",
    "\n",
    "**NOTE:**  It turns out that normalizing the features results in a slightly worse outcome in this case, so I'm actually going to avoid that.  You can uncomment the two sections and run it yourself if you want to try.  In some problems, normalization is the right answer; in others, it's better without normalization."
   ]
  },
  {
   "cell_type": "code",
   "execution_count": 27,
   "metadata": {},
   "outputs": [
    {
     "data": {
      "text/plain": [
       "Data Recipe\n",
       "\n",
       "Inputs:\n",
       "\n",
       "      role #variables\n",
       "   outcome          1\n",
       " predictor         15\n",
       "\n",
       "Training data contained 4515 data points and no missing data.\n",
       "\n",
       "Operations:\n",
       "\n",
       "Dummy variables from Country, EmploymentStatus, JobTitle, ... [trained]"
      ]
     },
     "metadata": {},
     "output_type": "display_data"
    }
   ],
   "source": [
    "rec_obj <- recipes::recipe(SalaryUSD ~ ., data = train_data) %>%       # Build out a set of rules we want to follow (a recipe)\n",
    "  step_dummy(all_nominal(), -all_outcomes()) %>%              # One-hot encode categorical data\n",
    "  #step_center(all_predictors(), -all_outcomes()) %>%          # Mean-center the data\n",
    "  #step_scale(all_predictors(), -all_outcomes()) %>%           # Scale the data\n",
    "  prep(data = train_data)\n",
    "\n",
    "rec_obj"
   ]
  },
  {
   "cell_type": "markdown",
   "metadata": {},
   "source": [
    "Now we can `bake` our data based on the recipe above.  Note that I performed all of these operations only on the **training** data.  If we normalize the training + test data, our optimization function can get a sneak peek at the distribution of the test data based on what is in the training set, and that will bias our result.\n",
    "\n",
    "After building up the `x_` series of data sets, I'll build vectors which contain the salaries for the training and test data.  I need to make sure to remove the SalaryUSD variable; we don't want to make that available to the trainer as an independent variable!"
   ]
  },
  {
   "cell_type": "code",
   "execution_count": 28,
   "metadata": {},
   "outputs": [],
   "source": [
    "x_train_data <- recipes::bake(rec_obj, new_data = train_data)\n",
    "x_test_data <- recipes::bake(rec_obj, new_data = test_data)\n",
    "y_train_vec <- pull(x_train_data, SalaryUSD)\n",
    "y_test_vec  <- pull(x_test_data, SalaryUSD)\n",
    "# Remove the SalaryUSD variable.\n",
    "x_train_data <- x_train_data[,-1]\n",
    "x_test_data <- x_test_data[,-1]"
   ]
  },
  {
   "cell_type": "markdown",
   "metadata": {},
   "source": [
    "At this point, I want to build the Keras model.  I'm creating a `build_model` function in case I want to run this over and over. In a real-life scenario, I would perform various optimizations, do cross-validation, etc.  In this scenario, however, I am just going to run one time against the full training data set, and then evaluate it against the test data set.\n",
    "\n",
    "Inside the function, we start by declaring a Keras model.  Then, I add three layers to the model.  The first layer is a dense (fully-connected) layer which accepts the training data as inputs and uses the Rectified Linear Unit (ReLU) activation mechanism.  This is a decent first guess for activation mechanisms.  We then have a dropout layer, which reduces the risk of overfitting on the training data.  Finally, I have a dense layer for my output, which will give me the salary.\n",
    "\n",
    "I compile the model using the `RMSProp` optimizer.  This is a good default optimizer for neural networks, although you might try `Adagrad`, `Adam`, or `AdaMax` as well.  Our loss function is Mean Squared Error, which is good for dealing with finding the error in a regression.  Finally, I'm interested in the Mean Absolute Error--that is, the dollar amount difference between our function's prediction and the actual salary.  The closer to \\$0 this is, the better."
   ]
  },
  {
   "cell_type": "code",
   "execution_count": 29,
   "metadata": {},
   "outputs": [],
   "source": [
    "build_model <- function() {\n",
    "  model <- keras_model_sequential() %>%\n",
    "    layer_dense(units = 256, input_shape = c(ncol(x_train_data)), activation = \"relu\") %>%\n",
    "    layer_dropout(rate = 0.2) %>%\n",
    "    layer_dense(units = 512, activation = \"relu\") %>%\n",
    "    layer_dropout(rate = 0.2) %>%\n",
    "    layer_dense(units = 1, activation = \"linear\") # No activation --> linear layer\n",
    "\n",
    "  # RMSProp is a nice default optimizer for a neural network.\n",
    "  # Mean Squared Error is a classic loss function for dealing with regression-style problems, whether with a neural network or otherwise.\n",
    "  # Mean Average Error gives us a metric which directly translates to the number of dollars we are off with our predictions.\n",
    "  model %>% compile(\n",
    "    optimizer = \"rmsprop\",\n",
    "    loss = \"mse\",\n",
    "    metrics = c(\"mae\")\n",
    "  )\n",
    "}"
   ]
  },
  {
   "cell_type": "markdown",
   "metadata": {},
   "source": [
    "Building out this model can take some time, so be patient."
   ]
  },
  {
   "cell_type": "code",
   "execution_count": 30,
   "metadata": {},
   "outputs": [
    {
     "data": {
      "text/html": [
       "<dl>\n",
       "\t<dt>$loss</dt>\n",
       "\t\t<dd>768600971.736104</dd>\n",
       "\t<dt>$mean_absolute_error</dt>\n",
       "\t\t<dd>17999.3228713474</dd>\n",
       "</dl>\n"
      ],
      "text/latex": [
       "\\begin{description}\n",
       "\\item[\\$loss] 768600971.736104\n",
       "\\item[\\$mean\\_absolute\\_error] 17999.3228713474\n",
       "\\end{description}\n"
      ],
      "text/markdown": [
       "$loss\n",
       ":   768600971.736104\n",
       "$mean_absolute_error\n",
       ":   17999.3228713474\n",
       "\n",
       "\n"
      ],
      "text/plain": [
       "$loss\n",
       "[1] 768600972\n",
       "\n",
       "$mean_absolute_error\n",
       "[1] 17999.32\n"
      ]
     },
     "metadata": {},
     "output_type": "display_data"
    }
   ],
   "source": [
    "model <- build_model()\n",
    "model %>% fit(as.matrix(x_train_data), y_train_vec, epochs = 100, batch_size = 16, verbose = 0)\n",
    "result <- model %>% evaluate(as.matrix(x_test_data), y_test_vec)\n",
    "result"
   ]
  },
  {
   "cell_type": "markdown",
   "metadata": {},
   "source": [
    "What this tells us is that, after generating our model, we are an average of \\\\$mean_absolute_error dollars off from reality.  In my case, that was just under \\\\$19K.  That's not an awful amount off.  In fact, it's an alright start, though I wouldn't trust this model as-is for for my negotiations.  With a few other enhancements, we might see that number drop a bit and start getting into the trustworthy territory.\n",
    "\n",
    "With a real data science project, I would dig further, seeing if there were better algorithms available, cross-validating the training set, etc.  As-is, this result isn't good enough for a production scenario, but we can pretend that it is.\n",
    "\n",
    "## Quick Validation And Testing\n",
    "\n",
    "Now let's test scenarios.  I will use three actual times in my career:  when I started as a SQL Server developer, when I was ready to move on from a job in 2013, and when I became a manager of a predictive analytics team.  As a twist, we'll also include the third scenario, but in a hypothetical world where I moved to Canada."
   ]
  },
  {
   "cell_type": "code",
   "execution_count": 31,
   "metadata": {},
   "outputs": [],
   "source": [
    "test_cases <- test_data[1:4, ]\n",
    "\n",
    "test_cases$SalaryUSD = c(1,2,3,4)\n",
    "test_cases$Country = c(\"United States\", \"United States\", \"United States\", \"Canada\")\n",
    "test_cases$YearsWithThisDatabase = c(0, 5, 11, 11)\n",
    "test_cases$EmploymentStatus = c(\"Full time employee\", \"Full time employee\", \"Full time employee\", \"Full time employee\")\n",
    "test_cases$JobTitle = c(\"Developer: App code (C#, JS, etc)\", \"DBA (General - splits time evenly between writing & tuning queries AND building & troubleshooting servers)\", \"Manager\", \"Manager\")\n",
    "test_cases$ManageStaff = c(\"No\", \"No\", \"Yes\", \"Yes\")\n",
    "test_cases$YearsWithThisTypeOfJob = c(0, 5, 0, 0)\n",
    "test_cases$OtherPeopleOnYourTeam = c(\"5\", \"None\", \"2\", \"2\")\n",
    "test_cases$DatabaseServers = c(8, 12, 150, 150)\n",
    "test_cases$Education = c(\"Bachelors (4 years)\", \"Masters\", \"Masters\", \"Masters\")\n",
    "test_cases$EducationIsComputerRelated = c(\"Yes\", \"Yes\", \"Yes\", \"Yes\")\n",
    "test_cases$Certifications = c(\"No, I never have\", \"Yes, and they're currently valid\", \"Yes, but they expired\", \"Yes, but they expired\")\n",
    "test_cases$HoursWorkedPerWeek = c(40, 40, 40, 40)\n",
    "test_cases$TelecommuteDaysPerWeek = c(\"None, or less than 1 day per week\", \"None, or less than 1 day per week\", \"None, or less than 1 day per week\", \"None, or less than 1 day per week\")\n",
    "test_cases$EmploymentSector = c(\"State/province government\", \"State/province government\", \"Private business\", \"Private business\")\n",
    "test_cases$LookingForAnotherJob = c(\"No\", \"Yes, actively looking for something else\", \"No\", \"No\")"
   ]
  },
  {
   "cell_type": "code",
   "execution_count": 32,
   "metadata": {},
   "outputs": [
    {
     "name": "stderr",
     "output_type": "stream",
     "text": [
      "Warning message:\n",
      "\" There were 10 columns that were factors when the recipe was prepped:\n",
      " 'EmploymentStatus', 'JobTitle', 'ManageStaff', 'OtherPeopleOnYourTeam', 'Education', 'EducationIsComputerRelated', 'Certifications', 'TelecommuteDaysPerWeek', 'EmploymentSector', 'LookingForAnotherJob'.\n",
      " This may cause errors when processing new data.\""
     ]
    }
   ],
   "source": [
    "x_test_cases <- recipes::bake(rec_obj, new_data = test_cases)\n",
    "x_test_cases <- x_test_cases %>% select(-SalaryUSD)"
   ]
  },
  {
   "cell_type": "code",
   "execution_count": 33,
   "metadata": {},
   "outputs": [
    {
     "data": {
      "text/html": [
       "<table>\n",
       "<tbody>\n",
       "\t<tr><td> 57922.67</td></tr>\n",
       "\t<tr><td> 71380.12</td></tr>\n",
       "\t<tr><td>122336.76</td></tr>\n",
       "\t<tr><td> 90345.52</td></tr>\n",
       "</tbody>\n",
       "</table>\n"
      ],
      "text/latex": [
       "\\begin{tabular}{l}\n",
       "\t  57922.67\\\\\n",
       "\t  71380.12\\\\\n",
       "\t 122336.76\\\\\n",
       "\t  90345.52\\\\\n",
       "\\end{tabular}\n"
      ],
      "text/markdown": [
       "\n",
       "|  57922.67 | \n",
       "|  71380.12 | \n",
       "| 122336.76 | \n",
       "|  90345.52 | \n",
       "\n",
       "\n"
      ],
      "text/plain": [
       "     [,1]     \n",
       "[1,]  57922.67\n",
       "[2,]  71380.12\n",
       "[3,] 122336.76\n",
       "[4,]  90345.52"
      ]
     },
     "metadata": {},
     "output_type": "display_data"
    }
   ],
   "source": [
    "model %>% predict(as.matrix(x_test_cases))"
   ]
  },
  {
   "cell_type": "markdown",
   "metadata": {},
   "source": [
    "The first and third predictions were somewhere in the ballpark, though none was spot on.  The second prediction was quite a bit off.  The Canadian rate is interesting considering the exchange rate for this time span was about 75-78 US cents per Canadian dollar, and the Canadian rate is about 75%."
   ]
  },
  {
   "cell_type": "markdown",
   "metadata": {},
   "source": [
    "## Deployment\n",
    "\n",
    "During the deployment phase, we will need to take our web service's inputs and transform them into the same shape as our training and test data.  We would then run the set and output our SalaryUSD prediction as the result.\n",
    "\n",
    "I'm leaving the details of that as an exercise (because there are so many variables around deployment, including how you will fit it into your normal infrastructure), but a few thoughts:\n",
    "\n",
    "1. As mentioned in the scenario, we're going to run a lot of one-off predictions rather than taking a batch of inputs, we want to optimize this for speed.  We could probably make this an asynchronous call so that when one of our users changes a detail like number of years working at the job, we can update our salary estimate.\n",
    "2. This would probably be a good use case for SQL Server Machine Learning Services:  if we save all of the profile data in the database, we can pass those results straight to ML Services and perform the transformation and prediction in R.  If we go this route, we'd return the results as a SQL Server result set, which is easy for most developers to handle.\n",
    "3. Another option would be to rewrite this in Python, as we're using Python under the covers anyhow.  Then we could use a web service framework like Flask to build a simple API.  If you go that route, you might want to stand up a production-grade service like Gunicorn and use Nginx as the front door to handle traffic and load balancing.\n",
    "\n",
    "## Repeat The Process\n",
    "\n",
    "From here, we would collect data on actual predictions.  We saw the test set's Mean Absolute Error, but an even more valuable measure is the Mean Absolute Error of actual data.  We'd need to ask people what their actual salaries are to know for sure, but we could feed these back into the training data and keep training our model.  One of the nice things about using a neural network like this is that we can continuously train the model based on our newly-gathered data.\n",
    "\n",
    "Next, we would want to follow up with our stakeholders.  If they're happy with this result, we could probably look at other uses for the data source, such as cleaning up and including postal code, or integrating with a service to get more granular information on salary in certain parts of larger countries like the US and Canada."
   ]
  },
  {
   "cell_type": "code",
   "execution_count": null,
   "metadata": {},
   "outputs": [],
   "source": []
  }
 ],
 "metadata": {
  "kernelspec": {
   "display_name": "R",
   "language": "R",
   "name": "ir"
  },
  "language_info": {
   "codemirror_mode": "r",
   "file_extension": ".r",
   "mimetype": "text/x-r-source",
   "name": "R",
   "pygments_lexer": "r",
   "version": "3.5.1"
  }
 },
 "nbformat": 4,
 "nbformat_minor": 2
}
